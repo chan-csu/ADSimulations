{
  "cells": [
    {
      "cell_type": "markdown",
      "metadata": {
        "id": "x5GUV0HT5nKT"
      },
      "source": [
        "install all the packages:"
      ]
    },
    {
      "cell_type": "code",
      "execution_count": 1,
      "metadata": {
        "colab": {
          "base_uri": "https://localhost:8080/",
          "height": 66
        },
        "id": "VVkB5NPu5ttD",
        "outputId": "ba0bef76-5324-462e-f2b3-5f69b8e614d6"
      },
      "outputs": [],
      "source": [
        "import pandas as pd\n",
        "import numpy as np\n",
        "from adtoolbox import core,configs,utils,adm\n",
        "import plotly.express as px"
      ]
    },
    {
      "cell_type": "code",
      "execution_count": 2,
      "metadata": {
        "id": "uGrcfXGZo_wE"
      },
      "outputs": [],
      "source": [
        "acids=pd.read_table('../raw_data/DeLong_beto/acids_cleaned.csv',delimiter=',')\n",
        "metadata=pd.read_table(\"../raw_data/DeLong_beto/DeLong_metadata_final[72].txt\", delimiter=\"\\t\")"
      ]
    },
    {
      "cell_type": "markdown",
      "metadata": {
        "id": "_PQhOl3gDwob"
      },
      "source": [
        "Filter/delete duplicates on the acid column"
      ]
    },
    {
      "cell_type": "code",
      "execution_count": 3,
      "metadata": {
        "id": "NFoHVFLQWFTS"
      },
      "outputs": [],
      "source": [
        "acids2adm={\n",
        "    \"C4\":\"S_bu\",\n",
        "    \"C3\":\"S_pro\",\n",
        "    \"C5\":\"S_va\",\n",
        "    \"ISOC5\":\"S_va\",\n",
        "    \"ISOC4\":\"S_bu\",\n",
        "    \"C2\":\"S_ac\",\n",
        "    \"C6\":\"S_cap\",\n",
        "    \"ISOC6\":\"S_cap\"\n",
        "\n",
        "}"
      ]
    },
    {
      "cell_type": "code",
      "execution_count": 4,
      "metadata": {
        "id": "ujg9Nx75W8dP"
      },
      "outputs": [],
      "source": [
        "def identifier(items):\n",
        "    if items in acids2adm:\n",
        "        return acids2adm[items]\n",
        "\n",
        "acids[\"admids\"]=acids[\"acid\"].apply(identifier)"
      ]
    },
    {
      "cell_type": "code",
      "execution_count": 5,
      "metadata": {
        "id": "uNXO-bxQik3d"
      },
      "outputs": [],
      "source": [
        "acids2seed={\n",
        "    \"C4\":\"cpd00211\",\n",
        "    \"C3\":\"cpd00141\",\n",
        "    \"C5\":\"cpd00597\",\n",
        "    \"ISOC5\":\"cpd00597\",\n",
        "    \"ISOC4\":\"cpd00211\",\n",
        "    \"C2\":\"cpd00029\",\n",
        "    \"C6\":\"cpd01113\",\n",
        "    \"ISOC6\":\"cpd01113\"\n",
        "\n",
        "}"
      ]
    },
    {
      "cell_type": "code",
      "execution_count": 6,
      "metadata": {
        "id": "foDmIeVWiuXA"
      },
      "outputs": [],
      "source": [
        "def identity(items):\n",
        "    if items in acids2seed:\n",
        "        return acids2seed[items]\n",
        "\n",
        "acids[\"seedids\"]=acids[\"acid\"].apply(identity)"
      ]
    },
    {
      "cell_type": "markdown",
      "metadata": {},
      "source": [
        "We have to make sure we have Seed databases downloaded for COD calculations"
      ]
    },
    {
      "cell_type": "code",
      "execution_count": 7,
      "metadata": {
        "colab": {
          "base_uri": "https://localhost:8080/",
          "height": 49
        },
        "id": "ZeJ-K5_MuDU4",
        "outputId": "e02a8534-ea63-43e4-b0e1-836d8f3e86d4"
      },
      "outputs": [],
      "source": [
        "from adtoolbox import core,configs\n",
        "seed_db=core.SeedDB(configs.Database())\n",
        "db=core.Database(configs.Database())\n",
        "# db.download_seed_databases()"
      ]
    },
    {
      "cell_type": "code",
      "execution_count": 8,
      "metadata": {
        "id": "V6xjJ3wRxgUS"
      },
      "outputs": [],
      "source": [
        "acids=acids.dropna()"
      ]
    },
    {
      "cell_type": "code",
      "execution_count": 9,
      "metadata": {
        "id": "dxKevXJ2ynRf"
      },
      "outputs": [],
      "source": [
        "codmap={ i:seed_db.instantiate_metabs(i).cod_calc(add_h=1) for i in acids[\"seedids\"].unique()}"
      ]
    },
    {
      "cell_type": "code",
      "execution_count": 10,
      "metadata": {
        "colab": {
          "base_uri": "https://localhost:8080/"
        },
        "id": "xN1nh4No0FKa",
        "outputId": "dae54cd8-9364-403e-a5b0-4405363f0626"
      },
      "outputs": [],
      "source": [
        "acids[\"cod_map\"]=acids[\"seedids\"].apply(lambda x:codmap[x])"
      ]
    },
    {
      "cell_type": "code",
      "execution_count": 11,
      "metadata": {
        "colab": {
          "base_uri": "https://localhost:8080/"
        },
        "id": "HsHhFhQ_1Wkp",
        "outputId": "3fb89a2f-a489-4120-f10a-0b4c077917e2"
      },
      "outputs": [],
      "source": [
        "acids['cod_conc']=acids['conc_gL']*acids['cod_map']"
      ]
    },
    {
      "cell_type": "code",
      "execution_count": 12,
      "metadata": {
        "colab": {
          "base_uri": "https://localhost:8080/"
        },
        "id": "dRFl8aqo36AK",
        "outputId": "24eaa54e-5ca4-4859-939a-2d7b31019ab7"
      },
      "outputs": [],
      "source": [
        "acids[\"shortsampleid\"]=(acids.sample_id.str.split('_').apply(lambda x:\"_\".join(x[:5])))\n"
      ]
    },
    {
      "cell_type": "markdown",
      "metadata": {},
      "source": [
        "We don't want to simulate for Control and inoculum only samples"
      ]
    },
    {
      "cell_type": "code",
      "execution_count": 13,
      "metadata": {
        "id": "uBAUmeh88BQJ"
      },
      "outputs": [],
      "source": [
        "pivot_df = acids.pivot_table(index=[\"shortsampleid\", \"day\"], columns=\"acid\", values=\"cod_conc\", fill_value=0)\n",
        "pivot_df[\"C4\"]=pivot_df[\"C4\"]+pivot_df[\"ISOC4\"]\n",
        "pivot_df[\"C5\"]=pivot_df[\"C5\"]+pivot_df[\"ISOC5\"]\n",
        "pivot_df[\"C6\"]=pivot_df[\"C6\"]+pivot_df[\"ISOC6\"]\n",
        "pivot_df=pivot_df.drop(columns=[\"ISOC4\",\"ISOC5\",\"ISOC6\"])\n",
        "pivot_df.rename(columns={\"C4\":\"S_bu\",\"C3\":\"S_pro\",\"C5\":\"S_va\",\"C2\":\"S_ac\",\"C6\":\"S_cap\"},inplace=True)\n",
        "data_dict = {}\n",
        "for reactor in pivot_df.index.levels[0]:\n",
        "  data_dict[reactor] = {}\n",
        "  data_dict[reactor][\"time\"]=pivot_df.loc[reactor].index.tolist()\n",
        "  data_dict[reactor][\"data\"]=pivot_df.loc[reactor].to_dict(orient=\"list\")\n"
      ]
    },
    {
      "cell_type": "code",
      "execution_count": 14,
      "metadata": {
        "id": "4yUdOtRdjObf"
      },
      "outputs": [],
      "source": [
        "cod_counts=pd.read_csv('./COD_counts.csv')"
      ]
    },
    {
      "cell_type": "code",
      "execution_count": 15,
      "metadata": {
        "id": "L9eb5x_elxkX"
      },
      "outputs": [],
      "source": [
        "data_i={}\n",
        "for i in cod_counts.columns[cod_counts.columns.str.endswith(\"_D0\")]:\n",
        "  data_i[i]=cod_counts.set_index(\"Unnamed: 0\")[i].to_dict()\n",
        "\n"
      ]
    },
    {
      "cell_type": "code",
      "execution_count": 16,
      "metadata": {
        "id": "YIQ8f7UcqU2B"
      },
      "outputs": [
        {
          "name": "stdout",
          "output_type": "stream",
          "text": [
            "Failure:  1 : A_35_F_5_B\n",
            "Failure:  2 : A_35_F_5_D\n",
            "Failure:  3 : A_35_F_5_INOC\n",
            "Failure:  4 : A_35_F_7_D\n",
            "Failure:  5 : A_35_F_7_INOC\n",
            "Failure:  6 : A_35_F_9_D\n",
            "Failure:  7 : A_35_F_9_INOC\n",
            "Failure:  8 : A_35_M_5_A\n",
            "Failure:  9 : A_35_M_5_D\n",
            "Failure:  10 : A_35_M_5_INOC\n",
            "Failure:  11 : A_35_M_7_B\n",
            "Failure:  12 : A_35_M_7_C\n",
            "Failure:  13 : A_35_M_7_D\n",
            "Failure:  14 : A_35_M_9_D\n",
            "Failure:  15 : A_35_M_9_INOC\n",
            "Failure:  16 : A_45_F_5_A\n",
            "Failure:  17 : A_45_F_5_B\n",
            "Failure:  18 : A_45_F_5_C\n",
            "Failure:  19 : A_45_F_5_D\n",
            "Failure:  20 : A_45_F_5_INOC\n",
            "Failure:  21 : A_45_F_7_D\n",
            "Failure:  22 : A_45_F_7_INOC\n",
            "Failure:  23 : A_45_F_9_D\n",
            "Failure:  24 : A_45_F_9_INOC\n",
            "Failure:  25 : A_45_M_5_A\n",
            "Failure:  26 : A_45_M_5_B\n",
            "Failure:  27 : A_45_M_5_D\n",
            "Failure:  28 : A_45_M_5_INOC\n",
            "Failure:  29 : A_45_M_7_D\n",
            "Failure:  30 : A_45_M_9_A\n",
            "Failure:  31 : A_45_M_9_B\n",
            "Failure:  32 : A_45_M_9_C\n",
            "Failure:  33 : A_45_M_9_D\n",
            "Failure:  34 : B_35_F_5_D\n",
            "Failure:  35 : B_35_F_9_D\n",
            "Failure:  36 : B_35_M_5_D\n",
            "Failure:  37 : B_35_M_7_D\n",
            "Failure:  38 : B_35_M_9_B\n",
            "Failure:  39 : B_35_M_9_D\n",
            "Failure:  40 : B_45_F_5_B\n",
            "Failure:  41 : B_45_F_5_C\n",
            "Failure:  42 : B_45_F_5_D\n",
            "Failure:  43 : B_45_F_7_A\n",
            "Failure:  44 : B_45_F_7_C\n",
            "Failure:  45 : B_45_F_9_A\n",
            "Failure:  46 : B_45_F_9_C\n",
            "Failure:  47 : B_45_F_9_D\n",
            "Failure:  48 : B_45_M_5_D\n",
            "Failure:  49 : B_45_M_7_B\n",
            "Failure:  50 : B_45_M_7_C\n",
            "Failure:  51 : B_45_M_7_D\n",
            "Failure:  52 : B_45_M_9_B\n",
            "Failure:  53 : B_45_M_9_C\n",
            "Failure:  54 : B_45_M_9_D\n",
            "Failure:  55 : T_55_F_7_C\n",
            "Failure:  56 : T_55_F_9_C\n",
            "Failure:  57 : T_55_M_9_A\n"
          ]
        }
      ],
      "source": [
        "num_failed=0\n",
        "pivot_df = acids.pivot_table(index=[\"shortsampleid\", \"day\"], columns=\"acid\", values=\"cod_conc\", fill_value=0)\n",
        "pivot_df[\"C4\"]=pivot_df[\"C4\"]+pivot_df[\"ISOC4\"]\n",
        "pivot_df[\"C5\"]=pivot_df[\"C5\"]+pivot_df[\"ISOC5\"]\n",
        "pivot_df[\"C6\"]=pivot_df[\"C6\"]+pivot_df[\"ISOC6\"]\n",
        "pivot_df=pivot_df.drop(columns=[\"ISOC4\",\"ISOC5\",\"ISOC6\"])\n",
        "pivot_df.rename(columns={\"C4\":\"S_bu\",\"C3\":\"S_pro\",\"C5\":\"S_va\",\"C2\":\"S_ac\",\"C6\":\"S_cap\"},inplace=True)\n",
        "data_dict = {}\n",
        "for reactor in pivot_df.index.levels[0]:\n",
        "  data_dict[reactor] = {}\n",
        "  data_dict[reactor][\"time\"]=pivot_df.loc[reactor].index.tolist()\n",
        "  data_dict[reactor][\"data\"]=pivot_df.loc[reactor].to_dict(orient=\"list\")\n",
        "\n",
        "  try:\n",
        "    data_dict[reactor][\"Initial conditions\"]=cod_counts.set_index(\"Unnamed: 0\")[reactor+\"_D0\"].to_dict()\n",
        "  except:\n",
        "    num_failed+=1\n",
        "    print(\"Failure: \",num_failed,\":\",reactor)\n",
        "      "
      ]
    },
    {
      "cell_type": "code",
      "execution_count": 17,
      "metadata": {
        "id": "UlrjiYqu23gg"
      },
      "outputs": [],
      "source": [
        "feed_manure = metadata[metadata['feedstock']==('M')]"
      ]
    },
    {
      "cell_type": "code",
      "execution_count": 18,
      "metadata": {
        "id": "xAJmfk0M-cbc"
      },
      "outputs": [],
      "source": [
        "feed_manure=feed_manure['feedstock']"
      ]
    },
    {
      "cell_type": "code",
      "execution_count": 19,
      "metadata": {
        "id": "oFDtzyJ140Nr"
      },
      "outputs": [],
      "source": [
        "feed_waste = metadata[metadata['feedstock']==('F')]"
      ]
    },
    {
      "cell_type": "code",
      "execution_count": 20,
      "metadata": {
        "id": "93CzB18K449B"
      },
      "outputs": [],
      "source": [
        "feed_waste=feed_waste['feedstock']"
      ]
    },
    {
      "cell_type": "code",
      "execution_count": 21,
      "metadata": {
        "id": "CB43gnM95toa"
      },
      "outputs": [],
      "source": [
        "manure = core.Feed(\n",
        "        name=\"Manure\",\n",
        "        lipids=10.7,\n",
        "        proteins=17.3,\n",
        "        carbohydrates=70,\n",
        "        xi= 60,\n",
        "        si=50,\n",
        "        tss=80,\n",
        ")"
      ]
    },
    {
      "cell_type": "code",
      "execution_count": 22,
      "metadata": {
        "id": "a0VSAliEBH6g"
      },
      "outputs": [],
      "source": [
        "foodwaste = core.Feed(\n",
        "        name=\"foodwaste\",\n",
        "        lipids=21,\n",
        "        proteins=20.5,\n",
        "        carbohydrates=50.1,\n",
        "        xi=60,\n",
        "        si=50,\n",
        "        tss=65\n",
        ")"
      ]
    },
    {
      "cell_type": "code",
      "execution_count": 23,
      "metadata": {
        "colab": {
          "base_uri": "https://localhost:8080/",
          "height": 113
        },
        "id": "Nvt8k8LXW2BV",
        "outputId": "fdcc54b7-1a32-479d-bb2b-032e61529d6e"
      },
      "outputs": [
        {
          "data": {
            "text/html": [
              "<pre style=\"white-space:pre;overflow-x:auto;line-height:normal;font-family:Menlo,'DejaVu Sans Mono',consolas,'Courier New',monospace\"><span style=\"color: #008000; text-decoration-color: #008000\">model_parameters downloaded to /Users/parsaghadermarzi/Desktop/ADToolbox/Database/ADM_Paramet</span>\n",
              "<span style=\"color: #008000; text-decoration-color: #008000\">ers/e_adm_2_model_parameters.json</span>\n",
              "</pre>\n"
            ],
            "text/plain": [
              "\u001b[32mmodel_parameters downloaded to \u001b[0m\u001b[32m/Users/parsaghadermarzi/Desktop/ADToolbox/Database/ADM_Paramet\u001b[0m\n",
              "\u001b[32mers/\u001b[0m\u001b[32me_adm_2_model_parameters.json\u001b[0m\n"
            ]
          },
          "metadata": {},
          "output_type": "display_data"
        },
        {
          "data": {
            "text/html": [
              "<pre style=\"white-space:pre;overflow-x:auto;line-height:normal;font-family:Menlo,'DejaVu Sans Mono',consolas,'Courier New',monospace\"><span style=\"color: #008000; text-decoration-color: #008000\">base_parameters downloaded to /Users/parsaghadermarzi/Desktop/ADToolbox/Database/ADM_Paramete</span>\n",
              "<span style=\"color: #008000; text-decoration-color: #008000\">rs/e_adm_2_base_parameters.json</span>\n",
              "</pre>\n"
            ],
            "text/plain": [
              "\u001b[32mbase_parameters downloaded to \u001b[0m\u001b[32m/Users/parsaghadermarzi/Desktop/ADToolbox/Database/ADM_Paramete\u001b[0m\n",
              "\u001b[32mrs/\u001b[0m\u001b[32me_adm_2_base_parameters.json\u001b[0m\n"
            ]
          },
          "metadata": {},
          "output_type": "display_data"
        },
        {
          "data": {
            "text/html": [
              "<pre style=\"white-space:pre;overflow-x:auto;line-height:normal;font-family:Menlo,'DejaVu Sans Mono',consolas,'Courier New',monospace\"><span style=\"color: #008000; text-decoration-color: #008000\">initial_conditions downloaded to /Users/parsaghadermarzi/Desktop/ADToolbox/Database/ADM_Param</span>\n",
              "<span style=\"color: #008000; text-decoration-color: #008000\">eters/e_adm_2_initial_conditions.json</span>\n",
              "</pre>\n"
            ],
            "text/plain": [
              "\u001b[32minitial_conditions downloaded to \u001b[0m\u001b[32m/Users/parsaghadermarzi/Desktop/ADToolbox/Database/ADM_Param\u001b[0m\n",
              "\u001b[32meters/\u001b[0m\u001b[32me_adm_2_initial_conditions.json\u001b[0m\n"
            ]
          },
          "metadata": {},
          "output_type": "display_data"
        },
        {
          "data": {
            "text/html": [
              "<pre style=\"white-space:pre;overflow-x:auto;line-height:normal;font-family:Menlo,'DejaVu Sans Mono',consolas,'Courier New',monospace\"><span style=\"color: #008000; text-decoration-color: #008000\">inlet_conditions downloaded to /Users/parsaghadermarzi/Desktop/ADToolbox/Database/ADM_Paramet</span>\n",
              "<span style=\"color: #008000; text-decoration-color: #008000\">ers/e_adm_2_inlet_conditions.json</span>\n",
              "</pre>\n"
            ],
            "text/plain": [
              "\u001b[32minlet_conditions downloaded to \u001b[0m\u001b[32m/Users/parsaghadermarzi/Desktop/ADToolbox/Database/ADM_Paramet\u001b[0m\n",
              "\u001b[32mers/\u001b[0m\u001b[32me_adm_2_inlet_conditions.json\u001b[0m\n"
            ]
          },
          "metadata": {},
          "output_type": "display_data"
        },
        {
          "data": {
            "text/html": [
              "<pre style=\"white-space:pre;overflow-x:auto;line-height:normal;font-family:Menlo,'DejaVu Sans Mono',consolas,'Courier New',monospace\"><span style=\"color: #008000; text-decoration-color: #008000\">reactions downloaded to </span>\n",
              "<span style=\"color: #008000; text-decoration-color: #008000\">/Users/parsaghadermarzi/Desktop/ADToolbox/Database/ADM_Parameters/e_adm_2_reactions.json</span>\n",
              "</pre>\n"
            ],
            "text/plain": [
              "\u001b[32mreactions downloaded to \u001b[0m\n",
              "\u001b[32m/Users/parsaghadermarzi/Desktop/ADToolbox/Database/ADM_Parameters/\u001b[0m\u001b[32me_adm_2_reactions.json\u001b[0m\n"
            ]
          },
          "metadata": {},
          "output_type": "display_data"
        },
        {
          "data": {
            "text/html": [
              "<pre style=\"white-space:pre;overflow-x:auto;line-height:normal;font-family:Menlo,'DejaVu Sans Mono',consolas,'Courier New',monospace\"><span style=\"color: #008000; text-decoration-color: #008000\">species downloaded to </span>\n",
              "<span style=\"color: #008000; text-decoration-color: #008000\">/Users/parsaghadermarzi/Desktop/ADToolbox/Database/ADM_Parameters/e_adm_2_species.json</span>\n",
              "</pre>\n"
            ],
            "text/plain": [
              "\u001b[32mspecies downloaded to \u001b[0m\n",
              "\u001b[32m/Users/parsaghadermarzi/Desktop/ADToolbox/Database/ADM_Parameters/\u001b[0m\u001b[32me_adm_2_species.json\u001b[0m\n"
            ]
          },
          "metadata": {},
          "output_type": "display_data"
        }
      ],
      "source": [
        "core.Database(configs.Database(\n",
        "    adm_parameters_urls=configs.E_ADM_2_REMOTE,\n",
        "    adm_parameters=configs.E_ADM_2_LOCAL\n",
        ")).download_adm_parameters()\n"
      ]
    },
    {
      "cell_type": "code",
      "execution_count": 24,
      "metadata": {
        "id": "F0F3uCAoXVVn"
      },
      "outputs": [],
      "source": [
        "params=utils.load_multiple_json_files(configs.E_ADM_2_LOCAL)"
      ]
    },
    {
      "cell_type": "markdown",
      "metadata": {},
      "source": [
        "We need a definition of the feedstock"
      ]
    },
    {
      "cell_type": "code",
      "execution_count": 26,
      "metadata": {
        "id": "_93Nl89DC4Ia"
      },
      "outputs": [],
      "source": [
        "Manure = core.Feed(\n",
        "        name=\"Manure\",\n",
        "        lipids=10.7,\n",
        "        proteins=30,\n",
        "        carbohydrates=59.3,\n",
        "        xi= 80,\n",
        "        si=50,\n",
        "        tss=95,\n",
        " )\n",
        "foodwaste = core.Feed(\n",
        "        name=\"foodwaste\",\n",
        "        lipids=21,\n",
        "        proteins=20.5,\n",
        "        carbohydrates=50.1,\n",
        "        xi=60,\n",
        "        si=50,\n",
        "        tss=65\n",
        ")"
      ]
    },
    {
      "cell_type": "code",
      "execution_count": 29,
      "metadata": {
        "colab": {
          "base_uri": "https://localhost:8080/"
        },
        "id": "P-y4gtSgiGLo",
        "outputId": "563e533a-5492-4deb-fc46-4fc5e4e688a9"
      },
      "outputs": [
        {
          "name": "stdout",
          "output_type": "stream",
          "text": [
            "35.0 F 5.0\r"
          ]
        },
        {
          "ename": "KeyError",
          "evalue": "'feed'",
          "output_type": "error",
          "traceback": [
            "\u001b[0;31m---------------------------------------------------------------------------\u001b[0m",
            "\u001b[0;31mKeyError\u001b[0m                                  Traceback (most recent call last)",
            "Cell \u001b[0;32mIn [29], line 52\u001b[0m\n\u001b[1;32m     36\u001b[0m params\u001b[38;5;241m.\u001b[39mbase_parameters\u001b[38;5;241m.\u001b[39mupdate({\u001b[38;5;124m\"\u001b[39m\u001b[38;5;124mq_in\u001b[39m\u001b[38;5;124m\"\u001b[39m:\u001b[38;5;241m0\u001b[39m,\u001b[38;5;124m\"\u001b[39m\u001b[38;5;124mT_op\u001b[39m\u001b[38;5;124m\"\u001b[39m:\u001b[38;5;241m273.15\u001b[39m\u001b[38;5;241m+\u001b[39m\u001b[38;5;28mfloat\u001b[39m(t),\u001b[38;5;124m\"\u001b[39m\u001b[38;5;124mV_gas\u001b[39m\u001b[38;5;124m\"\u001b[39m:\u001b[38;5;241m0.0001\u001b[39m,\u001b[38;5;124m\"\u001b[39m\u001b[38;5;124mV_liq\u001b[39m\u001b[38;5;124m\"\u001b[39m:\u001b[38;5;241m0.00025\u001b[39m}),\n\u001b[1;32m     39\u001b[0m temp_exp_obj\u001b[38;5;241m=\u001b[39mcore\u001b[38;5;241m.\u001b[39mExperiment(\n\u001b[1;32m     40\u001b[0m     name\u001b[38;5;241m=\u001b[39mreactor_name\u001b[38;5;241m+\u001b[39m\u001b[38;5;124m\"\u001b[39m\u001b[38;5;124m_Delong_BETO\u001b[39m\u001b[38;5;124m\"\u001b[39m,\n\u001b[1;32m     41\u001b[0m     time\u001b[38;5;241m=\u001b[39mreactor_data[\u001b[38;5;124m\"\u001b[39m\u001b[38;5;124mtime\u001b[39m\u001b[38;5;124m\"\u001b[39m],\n\u001b[0;32m   (...)\u001b[0m\n\u001b[1;32m     49\u001b[0m     model_name\u001b[38;5;241m=\u001b[39m\u001b[38;5;124m\"\u001b[39m\u001b[38;5;124me_adm_2\u001b[39m\u001b[38;5;124m\"\u001b[39m\n\u001b[1;32m     50\u001b[0m )\n\u001b[0;32m---> 52\u001b[0m mgo\u001b[38;5;241m.\u001b[39madd_experiment_to_experiments_db(temp_exp_obj,force\u001b[38;5;241m=\u001b[39m\u001b[38;5;28;01mTrue\u001b[39;00m)\n\u001b[1;32m     54\u001b[0m model \u001b[38;5;241m=\u001b[39m adm\u001b[38;5;241m.\u001b[39mModel(\n\u001b[1;32m     55\u001b[0m     model_parameters\u001b[38;5;241m=\u001b[39mparams\u001b[38;5;241m.\u001b[39mmodel_parameters,\n\u001b[1;32m     56\u001b[0m     base_parameters\u001b[38;5;241m=\u001b[39mparams\u001b[38;5;241m.\u001b[39mbase_parameters,\n\u001b[0;32m   (...)\u001b[0m\n\u001b[1;32m     64\u001b[0m     time_limit\u001b[38;5;241m=\u001b[39m\u001b[38;5;241m100000\u001b[39m,\n\u001b[1;32m     65\u001b[0m     control_state\u001b[38;5;241m=\u001b[39m{\u001b[38;5;124m'\u001b[39m\u001b[38;5;124mS_H_ion\u001b[39m\u001b[38;5;124m'\u001b[39m: \u001b[38;5;241m10\u001b[39m \u001b[38;5;241m*\u001b[39m\u001b[38;5;241m*\u001b[39m \u001b[38;5;241m-\u001b[39m(\u001b[38;5;28mfloat\u001b[39m(ph))})\n\u001b[1;32m     67\u001b[0m sol \u001b[38;5;241m=\u001b[39m model\u001b[38;5;241m.\u001b[39msolve_model(np\u001b[38;5;241m.\u001b[39mlinspace(\u001b[38;5;241m0\u001b[39m, \u001b[38;5;241m20\u001b[39m, \u001b[38;5;241m10\u001b[39m))\n",
            "File \u001b[0;32m~/Desktop/Academics/Projects/ADToolbox/adtoolbox/core.py:1013\u001b[0m, in \u001b[0;36mDatabase.add_experiment_to_experiments_db\u001b[0;34m(self, experiment, force)\u001b[0m\n\u001b[1;32m   1011\u001b[0m     \u001b[38;5;28mself\u001b[39m\u001b[38;5;241m.\u001b[39minitialize_experimental_data_db()\n\u001b[1;32m   1012\u001b[0m \u001b[38;5;28;01mif\u001b[39;00m force:\n\u001b[0;32m-> 1013\u001b[0m     \u001b[38;5;28;01mfor\u001b[39;00m exp \u001b[38;5;129;01min\u001b[39;00m \u001b[38;5;28;43mself\u001b[39;49m\u001b[38;5;241;43m.\u001b[39;49m\u001b[43mget_experiment_from_experiments_db\u001b[49m\u001b[43m(\u001b[49m\u001b[38;5;124;43m\"\u001b[39;49m\u001b[38;5;124;43mname\u001b[39;49m\u001b[38;5;124;43m\"\u001b[39;49m\u001b[43m,\u001b[49m\u001b[43mexperiment\u001b[49m\u001b[38;5;241;43m.\u001b[39;49m\u001b[43mname\u001b[49m\u001b[43m)\u001b[49m:\n\u001b[1;32m   1014\u001b[0m         \u001b[38;5;28mself\u001b[39m\u001b[38;5;241m.\u001b[39mremove_experiment_from_experiments_db(\u001b[38;5;124m\"\u001b[39m\u001b[38;5;124mname\u001b[39m\u001b[38;5;124m\"\u001b[39m,exp\u001b[38;5;241m.\u001b[39mname)\n\u001b[1;32m   1016\u001b[0m \u001b[38;5;28;01melse\u001b[39;00m:\n",
            "File \u001b[0;32m~/Desktop/Academics/Projects/ADToolbox/adtoolbox/core.py:1096\u001b[0m, in \u001b[0;36mDatabase.get_experiment_from_experiments_db\u001b[0;34m(self, field_name, query)\u001b[0m\n\u001b[1;32m   1094\u001b[0m experiments_db\u001b[38;5;241m=\u001b[39m[experiment \u001b[38;5;28;01mfor\u001b[39;00m experiment \u001b[38;5;129;01min\u001b[39;00m experiments_db \u001b[38;5;28;01mif\u001b[39;00m query \u001b[38;5;129;01min\u001b[39;00m experiment[field_name]]\n\u001b[1;32m   1095\u001b[0m \u001b[38;5;28;01mfor\u001b[39;00m experiment \u001b[38;5;129;01min\u001b[39;00m experiments_db:\n\u001b[0;32m-> 1096\u001b[0m     experiment[\u001b[38;5;124m\"\u001b[39m\u001b[38;5;124mfeed\u001b[39m\u001b[38;5;124m\"\u001b[39m]\u001b[38;5;241m=\u001b[39mFeed(\u001b[38;5;241m*\u001b[39m\u001b[38;5;241m*\u001b[39m\u001b[43mexperiment\u001b[49m\u001b[43m[\u001b[49m\u001b[38;5;124;43m\"\u001b[39;49m\u001b[38;5;124;43mfeed\u001b[39;49m\u001b[38;5;124;43m\"\u001b[39;49m\u001b[43m]\u001b[49m)\n\u001b[1;32m   1097\u001b[0m \u001b[38;5;28;01mreturn\u001b[39;00m [Experiment(\u001b[38;5;241m*\u001b[39m\u001b[38;5;241m*\u001b[39mexperiment) \u001b[38;5;28;01mfor\u001b[39;00m experiment \u001b[38;5;129;01min\u001b[39;00m experiments_db]\n",
            "\u001b[0;31mKeyError\u001b[0m: 'feed'"
          ]
        }
      ],
      "source": [
        "results_dict = {}\n",
        "# dash_apps = {}\n",
        "inoculum_cod=10\n",
        "total_feed_cod=15\n",
        "params.base_parameters['q_in'] = 0\n",
        "mgo=core.Database(config=configs.Database())\n",
        "for reactor_name, reactor_data in data_dict.items():\n",
        "    if \"Initial conditions\" in reactor_data:\n",
        "        initial_conditions = {key:value*inoculum_cod for key,value in reactor_data[\"Initial conditions\"].items()}\n",
        "        initial_conditions[\"X_VFA_deg\"]=0.1*inoculum_cod\n",
        "        _, t, f, ph, _ = reactor_name.split(\"_\")\n",
        "        print(float(t), f, float(ph),end=\"\\r\")\n",
        "        if f == \"F\":\n",
        "            feed = foodwaste\n",
        "        else:\n",
        "            feed = Manure\n",
        "        initial_conditions[\"TSS\"]=total_feed_cod*feed.tss/100\n",
        "        initial_conditions[\"TDS\"]=total_feed_cod-initial_conditions[\"TSS\"]\n",
        "        initial_conditions[\"S_su\"]=0\n",
        "        initial_conditions[\"S_aa\"]=0\n",
        "        initial_conditions[\"S_va\"]=0\n",
        "        initial_conditions[\"S_fa\"]=0\n",
        "        initial_conditions[\"S_ac\"]=0\n",
        "        initial_conditions[\"S_cap\"]=0\n",
        "        if reactor_data[\"time\"][0] != 0:\n",
        "            reactor_data[\"time\"].insert(0,0)\n",
        "            for key in reactor_data[\"data\"]:\n",
        "                reactor_data[\"data\"][key].insert(0,0)\n",
        "        \n",
        "        for key,value in reactor_data[\"data\"].items():\n",
        "            initial_conditions[key]=value[0]\n",
        "        \n",
        "\n",
        "        params.initial_conditions.update(initial_conditions)\n",
        "        params.initial_conditions.update({\"S_H_ion\":10**-(float(ph))})\n",
        "        params.base_parameters.update({\"q_in\":0,\"T_op\":273.15+float(t),\"V_gas\":0.0001,\"V_liq\":0.00025}),\n",
        "        \n",
        "        \n",
        "        temp_exp_obj=core.Experiment(\n",
        "            name=reactor_name+\"_Delong_BETO\",\n",
        "            time=reactor_data[\"time\"],\n",
        "            variables=list(reactor_data[\"data\"].keys()),\n",
        "            feed=feed,\n",
        "            data=list(reactor_data[\"data\"].values()),\n",
        "            initial_concentrations=params.initial_conditions,\n",
        "            base_parameters=params.base_parameters,\n",
        "            constants=[\"S_H_ion\"],\n",
        "            reference=\"Delong_Lab_BETO_Experiment\",\n",
        "            model_name=\"e_adm_2\"\n",
        "        )\n",
        "        \n",
        "        mgo.add_experiment_to_experiments_db(temp_exp_obj,force=True)\n",
        "\n",
        "        model = adm.Model(\n",
        "            model_parameters=params.model_parameters,\n",
        "            base_parameters=params.base_parameters,\n",
        "            initial_conditions=params.initial_conditions,\n",
        "            inlet_conditions=params.inlet_conditions,\n",
        "            species=params.species,\n",
        "            reactions=params.reactions,\n",
        "            feed=feed,\n",
        "            ode_system=adm.e_adm_2_ode_sys,\n",
        "            build_stoichiometric_matrix=adm.build_e_adm_2_stoichiometric_matrix,\n",
        "            time_limit=100000,\n",
        "            control_state={'S_H_ion': 10 ** -(float(ph))})\n",
        "\n",
        "        sol = model.solve_model(np.linspace(0, 20, 10))\n",
        "        results_dict[reactor_name] = pd.DataFrame(sol.y.T,columns=params.species)\n",
        "\n"
      ]
    },
    {
      "cell_type": "code",
      "execution_count": 27,
      "metadata": {
        "id": "SwXiWjXZdiZD"
      },
      "outputs": [],
      "source": [
        "only_initial_conditions = {}\n",
        "for data, initial in data_dict.items():\n",
        "    if \"Initial conditions\" in initial:\n",
        "        only_initial_conditions[data] = pd.DataFrame(initial[\"data\"]).max()"
      ]
    },
    {
      "cell_type": "code",
      "execution_count": 28,
      "metadata": {
        "id": "hTXH_ldSh61a"
      },
      "outputs": [],
      "source": [
        "exp_data_sim=pd.DataFrame(only_initial_conditions).T"
      ]
    },
    {
      "cell_type": "code",
      "execution_count": 29,
      "metadata": {
        "id": "avJhj2h4kZU-"
      },
      "outputs": [],
      "source": [
        "exp_data_sim[\"Feed\"]=exp_data_sim.index.map(lambda x:x.split(\"_\")[2])"
      ]
    },
    {
      "cell_type": "code",
      "execution_count": 30,
      "metadata": {
        "id": "NaLXJ1F52WzN"
      },
      "outputs": [],
      "source": [
        "exp_data_sim[\"PH\"]=exp_data_sim.index.map(lambda x:x.split(\"_\")[3])"
      ]
    },
    {
      "cell_type": "code",
      "execution_count": 31,
      "metadata": {
        "colab": {
          "base_uri": "https://localhost:8080/",
          "height": 542
        },
        "id": "tQScwRQ6lLij",
        "outputId": "ffb6d575-e34d-4cf9-8d46-79ac23811924"
      },
      "outputs": [
        {
          "data": {
            "application/vnd.plotly.v1+json": {
              "config": {
                "plotlyServerURL": "https://plot.ly"
              },
              "data": [
                {
                  "alignmentgroup": "True",
                  "boxpoints": "all",
                  "hovertemplate": "Feed=%{x}<br>PH=5<br>S_bu=%{y}<extra></extra>",
                  "legendgroup": "F",
                  "marker": {
                    "color": "#636efa"
                  },
                  "name": "F",
                  "notched": false,
                  "offsetgroup": "F",
                  "orientation": "v",
                  "showlegend": true,
                  "type": "box",
                  "x": [
                    "F",
                    "F",
                    "F",
                    "F",
                    "F",
                    "F",
                    "F",
                    "F",
                    "F"
                  ],
                  "x0": " ",
                  "xaxis": "x",
                  "y": [
                    2.240047520909091,
                    2.6098008100000007,
                    2.605883305454546,
                    2.8177364327272727,
                    1.581195052727273,
                    0.7026143927272728,
                    1.8714991581818181,
                    1.7203393727272729,
                    1.7922206581818185
                  ],
                  "y0": " ",
                  "yaxis": "y"
                },
                {
                  "alignmentgroup": "True",
                  "boxpoints": "all",
                  "hovertemplate": "Feed=%{x}<br>PH=7<br>S_bu=%{y}<extra></extra>",
                  "legendgroup": "F",
                  "marker": {
                    "color": "#636efa"
                  },
                  "name": "F",
                  "notched": false,
                  "offsetgroup": "F",
                  "orientation": "v",
                  "showlegend": false,
                  "type": "box",
                  "x": [
                    "F",
                    "F",
                    "F",
                    "F",
                    "F",
                    "F",
                    "F",
                    "F",
                    "F",
                    "F",
                    "F",
                    "F"
                  ],
                  "x0": " ",
                  "xaxis": "x2",
                  "y": [
                    2.056227327272728,
                    2.1143913199999997,
                    1.9225356472727273,
                    1.621298692727273,
                    1.9369819600000002,
                    1.67803645,
                    1.7540218600000002,
                    1.8289347963636367,
                    1.9345909981818183,
                    0.8572070054545455,
                    1.2441600490909093,
                    1.1207661563636364
                  ],
                  "y0": " ",
                  "yaxis": "y2"
                },
                {
                  "alignmentgroup": "True",
                  "boxpoints": "all",
                  "hovertemplate": "Feed=%{x}<br>PH=9<br>S_bu=%{y}<extra></extra>",
                  "legendgroup": "F",
                  "marker": {
                    "color": "#636efa"
                  },
                  "name": "F",
                  "notched": false,
                  "offsetgroup": "F",
                  "orientation": "v",
                  "showlegend": false,
                  "type": "box",
                  "x": [
                    "F",
                    "F",
                    "F",
                    "F",
                    "F",
                    "F",
                    "F",
                    "F",
                    "F",
                    "F",
                    "F",
                    "F"
                  ],
                  "x0": " ",
                  "xaxis": "x3",
                  "y": [
                    0.19800377090909094,
                    0.11323652000000001,
                    0.6947658036363636,
                    0.16397756363636365,
                    0,
                    0.19705435272727276,
                    0.4744703054545455,
                    0.6387919454545455,
                    0.5384866654545455,
                    0.6170961563636364,
                    0,
                    0.27331663272727275
                  ],
                  "y0": " ",
                  "yaxis": "y3"
                },
                {
                  "alignmentgroup": "True",
                  "boxpoints": "all",
                  "hovertemplate": "Feed=%{x}<br>PH=5<br>S_bu=%{y}<extra></extra>",
                  "legendgroup": "M",
                  "marker": {
                    "color": "#EF553B"
                  },
                  "name": "M",
                  "notched": false,
                  "offsetgroup": "M",
                  "orientation": "v",
                  "showlegend": true,
                  "type": "box",
                  "x": [
                    "M",
                    "M",
                    "M",
                    "M",
                    "M",
                    "M",
                    "M",
                    "M",
                    "M",
                    "M",
                    "M",
                    "M"
                  ],
                  "x0": " ",
                  "xaxis": "x",
                  "y": [
                    0,
                    0.38173473090909094,
                    0.11672602,
                    0.09090909090909093,
                    0,
                    0,
                    0.18181818181818185,
                    0.5454545454545455,
                    0.18181818181818185,
                    0,
                    0.2887300963636364,
                    0
                  ],
                  "y0": " ",
                  "yaxis": "y"
                },
                {
                  "alignmentgroup": "True",
                  "boxpoints": "all",
                  "hovertemplate": "Feed=%{x}<br>PH=7<br>S_bu=%{y}<extra></extra>",
                  "legendgroup": "M",
                  "marker": {
                    "color": "#EF553B"
                  },
                  "name": "M",
                  "notched": false,
                  "offsetgroup": "M",
                  "orientation": "v",
                  "showlegend": false,
                  "type": "box",
                  "x": [
                    "M",
                    "M",
                    "M",
                    "M",
                    "M",
                    "M",
                    "M",
                    "M",
                    "M",
                    "M",
                    "M"
                  ],
                  "x0": " ",
                  "xaxis": "x2",
                  "y": [
                    0.15029333090909092,
                    0,
                    0.17175673636363636,
                    0,
                    0.3636363636363637,
                    0.18181818181818185,
                    0,
                    0.18181818181818185,
                    0,
                    0,
                    0
                  ],
                  "y0": " ",
                  "yaxis": "y2"
                },
                {
                  "alignmentgroup": "True",
                  "boxpoints": "all",
                  "hovertemplate": "Feed=%{x}<br>PH=9<br>S_bu=%{y}<extra></extra>",
                  "legendgroup": "M",
                  "marker": {
                    "color": "#EF553B"
                  },
                  "name": "M",
                  "notched": false,
                  "offsetgroup": "M",
                  "orientation": "v",
                  "showlegend": false,
                  "type": "box",
                  "x": [
                    "M",
                    "M",
                    "M",
                    "M",
                    "M",
                    "M",
                    "M",
                    "M"
                  ],
                  "x0": " ",
                  "xaxis": "x3",
                  "y": [
                    0,
                    0.06790306545454546,
                    0.5046846581818183,
                    0,
                    0.7272727272727274,
                    0.18181818181818185,
                    0.32030442727272734,
                    0
                  ],
                  "y0": " ",
                  "yaxis": "y3"
                }
              ],
              "layout": {
                "annotations": [
                  {
                    "font": {},
                    "showarrow": false,
                    "text": "PH=5",
                    "x": 0.15999999999999998,
                    "xanchor": "center",
                    "xref": "paper",
                    "y": 1,
                    "yanchor": "bottom",
                    "yref": "paper"
                  },
                  {
                    "font": {},
                    "showarrow": false,
                    "text": "PH=7",
                    "x": 0.49999999999999994,
                    "xanchor": "center",
                    "xref": "paper",
                    "y": 1,
                    "yanchor": "bottom",
                    "yref": "paper"
                  },
                  {
                    "font": {},
                    "showarrow": false,
                    "text": "PH=9",
                    "x": 0.8399999999999999,
                    "xanchor": "center",
                    "xref": "paper",
                    "y": 1,
                    "yanchor": "bottom",
                    "yref": "paper"
                  }
                ],
                "boxmode": "overlay",
                "legend": {
                  "title": {
                    "text": "Feed"
                  },
                  "tracegroupgap": 0
                },
                "margin": {
                  "t": 60
                },
                "template": {
                  "data": {
                    "bar": [
                      {
                        "error_x": {
                          "color": "#2a3f5f"
                        },
                        "error_y": {
                          "color": "#2a3f5f"
                        },
                        "marker": {
                          "line": {
                            "color": "#E5ECF6",
                            "width": 0.5
                          },
                          "pattern": {
                            "fillmode": "overlay",
                            "size": 10,
                            "solidity": 0.2
                          }
                        },
                        "type": "bar"
                      }
                    ],
                    "barpolar": [
                      {
                        "marker": {
                          "line": {
                            "color": "#E5ECF6",
                            "width": 0.5
                          },
                          "pattern": {
                            "fillmode": "overlay",
                            "size": 10,
                            "solidity": 0.2
                          }
                        },
                        "type": "barpolar"
                      }
                    ],
                    "carpet": [
                      {
                        "aaxis": {
                          "endlinecolor": "#2a3f5f",
                          "gridcolor": "white",
                          "linecolor": "white",
                          "minorgridcolor": "white",
                          "startlinecolor": "#2a3f5f"
                        },
                        "baxis": {
                          "endlinecolor": "#2a3f5f",
                          "gridcolor": "white",
                          "linecolor": "white",
                          "minorgridcolor": "white",
                          "startlinecolor": "#2a3f5f"
                        },
                        "type": "carpet"
                      }
                    ],
                    "choropleth": [
                      {
                        "colorbar": {
                          "outlinewidth": 0,
                          "ticks": ""
                        },
                        "type": "choropleth"
                      }
                    ],
                    "contour": [
                      {
                        "colorbar": {
                          "outlinewidth": 0,
                          "ticks": ""
                        },
                        "colorscale": [
                          [
                            0,
                            "#0d0887"
                          ],
                          [
                            0.1111111111111111,
                            "#46039f"
                          ],
                          [
                            0.2222222222222222,
                            "#7201a8"
                          ],
                          [
                            0.3333333333333333,
                            "#9c179e"
                          ],
                          [
                            0.4444444444444444,
                            "#bd3786"
                          ],
                          [
                            0.5555555555555556,
                            "#d8576b"
                          ],
                          [
                            0.6666666666666666,
                            "#ed7953"
                          ],
                          [
                            0.7777777777777778,
                            "#fb9f3a"
                          ],
                          [
                            0.8888888888888888,
                            "#fdca26"
                          ],
                          [
                            1,
                            "#f0f921"
                          ]
                        ],
                        "type": "contour"
                      }
                    ],
                    "contourcarpet": [
                      {
                        "colorbar": {
                          "outlinewidth": 0,
                          "ticks": ""
                        },
                        "type": "contourcarpet"
                      }
                    ],
                    "heatmap": [
                      {
                        "colorbar": {
                          "outlinewidth": 0,
                          "ticks": ""
                        },
                        "colorscale": [
                          [
                            0,
                            "#0d0887"
                          ],
                          [
                            0.1111111111111111,
                            "#46039f"
                          ],
                          [
                            0.2222222222222222,
                            "#7201a8"
                          ],
                          [
                            0.3333333333333333,
                            "#9c179e"
                          ],
                          [
                            0.4444444444444444,
                            "#bd3786"
                          ],
                          [
                            0.5555555555555556,
                            "#d8576b"
                          ],
                          [
                            0.6666666666666666,
                            "#ed7953"
                          ],
                          [
                            0.7777777777777778,
                            "#fb9f3a"
                          ],
                          [
                            0.8888888888888888,
                            "#fdca26"
                          ],
                          [
                            1,
                            "#f0f921"
                          ]
                        ],
                        "type": "heatmap"
                      }
                    ],
                    "heatmapgl": [
                      {
                        "colorbar": {
                          "outlinewidth": 0,
                          "ticks": ""
                        },
                        "colorscale": [
                          [
                            0,
                            "#0d0887"
                          ],
                          [
                            0.1111111111111111,
                            "#46039f"
                          ],
                          [
                            0.2222222222222222,
                            "#7201a8"
                          ],
                          [
                            0.3333333333333333,
                            "#9c179e"
                          ],
                          [
                            0.4444444444444444,
                            "#bd3786"
                          ],
                          [
                            0.5555555555555556,
                            "#d8576b"
                          ],
                          [
                            0.6666666666666666,
                            "#ed7953"
                          ],
                          [
                            0.7777777777777778,
                            "#fb9f3a"
                          ],
                          [
                            0.8888888888888888,
                            "#fdca26"
                          ],
                          [
                            1,
                            "#f0f921"
                          ]
                        ],
                        "type": "heatmapgl"
                      }
                    ],
                    "histogram": [
                      {
                        "marker": {
                          "pattern": {
                            "fillmode": "overlay",
                            "size": 10,
                            "solidity": 0.2
                          }
                        },
                        "type": "histogram"
                      }
                    ],
                    "histogram2d": [
                      {
                        "colorbar": {
                          "outlinewidth": 0,
                          "ticks": ""
                        },
                        "colorscale": [
                          [
                            0,
                            "#0d0887"
                          ],
                          [
                            0.1111111111111111,
                            "#46039f"
                          ],
                          [
                            0.2222222222222222,
                            "#7201a8"
                          ],
                          [
                            0.3333333333333333,
                            "#9c179e"
                          ],
                          [
                            0.4444444444444444,
                            "#bd3786"
                          ],
                          [
                            0.5555555555555556,
                            "#d8576b"
                          ],
                          [
                            0.6666666666666666,
                            "#ed7953"
                          ],
                          [
                            0.7777777777777778,
                            "#fb9f3a"
                          ],
                          [
                            0.8888888888888888,
                            "#fdca26"
                          ],
                          [
                            1,
                            "#f0f921"
                          ]
                        ],
                        "type": "histogram2d"
                      }
                    ],
                    "histogram2dcontour": [
                      {
                        "colorbar": {
                          "outlinewidth": 0,
                          "ticks": ""
                        },
                        "colorscale": [
                          [
                            0,
                            "#0d0887"
                          ],
                          [
                            0.1111111111111111,
                            "#46039f"
                          ],
                          [
                            0.2222222222222222,
                            "#7201a8"
                          ],
                          [
                            0.3333333333333333,
                            "#9c179e"
                          ],
                          [
                            0.4444444444444444,
                            "#bd3786"
                          ],
                          [
                            0.5555555555555556,
                            "#d8576b"
                          ],
                          [
                            0.6666666666666666,
                            "#ed7953"
                          ],
                          [
                            0.7777777777777778,
                            "#fb9f3a"
                          ],
                          [
                            0.8888888888888888,
                            "#fdca26"
                          ],
                          [
                            1,
                            "#f0f921"
                          ]
                        ],
                        "type": "histogram2dcontour"
                      }
                    ],
                    "mesh3d": [
                      {
                        "colorbar": {
                          "outlinewidth": 0,
                          "ticks": ""
                        },
                        "type": "mesh3d"
                      }
                    ],
                    "parcoords": [
                      {
                        "line": {
                          "colorbar": {
                            "outlinewidth": 0,
                            "ticks": ""
                          }
                        },
                        "type": "parcoords"
                      }
                    ],
                    "pie": [
                      {
                        "automargin": true,
                        "type": "pie"
                      }
                    ],
                    "scatter": [
                      {
                        "fillpattern": {
                          "fillmode": "overlay",
                          "size": 10,
                          "solidity": 0.2
                        },
                        "type": "scatter"
                      }
                    ],
                    "scatter3d": [
                      {
                        "line": {
                          "colorbar": {
                            "outlinewidth": 0,
                            "ticks": ""
                          }
                        },
                        "marker": {
                          "colorbar": {
                            "outlinewidth": 0,
                            "ticks": ""
                          }
                        },
                        "type": "scatter3d"
                      }
                    ],
                    "scattercarpet": [
                      {
                        "marker": {
                          "colorbar": {
                            "outlinewidth": 0,
                            "ticks": ""
                          }
                        },
                        "type": "scattercarpet"
                      }
                    ],
                    "scattergeo": [
                      {
                        "marker": {
                          "colorbar": {
                            "outlinewidth": 0,
                            "ticks": ""
                          }
                        },
                        "type": "scattergeo"
                      }
                    ],
                    "scattergl": [
                      {
                        "marker": {
                          "colorbar": {
                            "outlinewidth": 0,
                            "ticks": ""
                          }
                        },
                        "type": "scattergl"
                      }
                    ],
                    "scattermapbox": [
                      {
                        "marker": {
                          "colorbar": {
                            "outlinewidth": 0,
                            "ticks": ""
                          }
                        },
                        "type": "scattermapbox"
                      }
                    ],
                    "scatterpolar": [
                      {
                        "marker": {
                          "colorbar": {
                            "outlinewidth": 0,
                            "ticks": ""
                          }
                        },
                        "type": "scatterpolar"
                      }
                    ],
                    "scatterpolargl": [
                      {
                        "marker": {
                          "colorbar": {
                            "outlinewidth": 0,
                            "ticks": ""
                          }
                        },
                        "type": "scatterpolargl"
                      }
                    ],
                    "scatterternary": [
                      {
                        "marker": {
                          "colorbar": {
                            "outlinewidth": 0,
                            "ticks": ""
                          }
                        },
                        "type": "scatterternary"
                      }
                    ],
                    "surface": [
                      {
                        "colorbar": {
                          "outlinewidth": 0,
                          "ticks": ""
                        },
                        "colorscale": [
                          [
                            0,
                            "#0d0887"
                          ],
                          [
                            0.1111111111111111,
                            "#46039f"
                          ],
                          [
                            0.2222222222222222,
                            "#7201a8"
                          ],
                          [
                            0.3333333333333333,
                            "#9c179e"
                          ],
                          [
                            0.4444444444444444,
                            "#bd3786"
                          ],
                          [
                            0.5555555555555556,
                            "#d8576b"
                          ],
                          [
                            0.6666666666666666,
                            "#ed7953"
                          ],
                          [
                            0.7777777777777778,
                            "#fb9f3a"
                          ],
                          [
                            0.8888888888888888,
                            "#fdca26"
                          ],
                          [
                            1,
                            "#f0f921"
                          ]
                        ],
                        "type": "surface"
                      }
                    ],
                    "table": [
                      {
                        "cells": {
                          "fill": {
                            "color": "#EBF0F8"
                          },
                          "line": {
                            "color": "white"
                          }
                        },
                        "header": {
                          "fill": {
                            "color": "#C8D4E3"
                          },
                          "line": {
                            "color": "white"
                          }
                        },
                        "type": "table"
                      }
                    ]
                  },
                  "layout": {
                    "annotationdefaults": {
                      "arrowcolor": "#2a3f5f",
                      "arrowhead": 0,
                      "arrowwidth": 1
                    },
                    "autotypenumbers": "strict",
                    "coloraxis": {
                      "colorbar": {
                        "outlinewidth": 0,
                        "ticks": ""
                      }
                    },
                    "colorscale": {
                      "diverging": [
                        [
                          0,
                          "#8e0152"
                        ],
                        [
                          0.1,
                          "#c51b7d"
                        ],
                        [
                          0.2,
                          "#de77ae"
                        ],
                        [
                          0.3,
                          "#f1b6da"
                        ],
                        [
                          0.4,
                          "#fde0ef"
                        ],
                        [
                          0.5,
                          "#f7f7f7"
                        ],
                        [
                          0.6,
                          "#e6f5d0"
                        ],
                        [
                          0.7,
                          "#b8e186"
                        ],
                        [
                          0.8,
                          "#7fbc41"
                        ],
                        [
                          0.9,
                          "#4d9221"
                        ],
                        [
                          1,
                          "#276419"
                        ]
                      ],
                      "sequential": [
                        [
                          0,
                          "#0d0887"
                        ],
                        [
                          0.1111111111111111,
                          "#46039f"
                        ],
                        [
                          0.2222222222222222,
                          "#7201a8"
                        ],
                        [
                          0.3333333333333333,
                          "#9c179e"
                        ],
                        [
                          0.4444444444444444,
                          "#bd3786"
                        ],
                        [
                          0.5555555555555556,
                          "#d8576b"
                        ],
                        [
                          0.6666666666666666,
                          "#ed7953"
                        ],
                        [
                          0.7777777777777778,
                          "#fb9f3a"
                        ],
                        [
                          0.8888888888888888,
                          "#fdca26"
                        ],
                        [
                          1,
                          "#f0f921"
                        ]
                      ],
                      "sequentialminus": [
                        [
                          0,
                          "#0d0887"
                        ],
                        [
                          0.1111111111111111,
                          "#46039f"
                        ],
                        [
                          0.2222222222222222,
                          "#7201a8"
                        ],
                        [
                          0.3333333333333333,
                          "#9c179e"
                        ],
                        [
                          0.4444444444444444,
                          "#bd3786"
                        ],
                        [
                          0.5555555555555556,
                          "#d8576b"
                        ],
                        [
                          0.6666666666666666,
                          "#ed7953"
                        ],
                        [
                          0.7777777777777778,
                          "#fb9f3a"
                        ],
                        [
                          0.8888888888888888,
                          "#fdca26"
                        ],
                        [
                          1,
                          "#f0f921"
                        ]
                      ]
                    },
                    "colorway": [
                      "#636efa",
                      "#EF553B",
                      "#00cc96",
                      "#ab63fa",
                      "#FFA15A",
                      "#19d3f3",
                      "#FF6692",
                      "#B6E880",
                      "#FF97FF",
                      "#FECB52"
                    ],
                    "font": {
                      "color": "#2a3f5f"
                    },
                    "geo": {
                      "bgcolor": "white",
                      "lakecolor": "white",
                      "landcolor": "#E5ECF6",
                      "showlakes": true,
                      "showland": true,
                      "subunitcolor": "white"
                    },
                    "hoverlabel": {
                      "align": "left"
                    },
                    "hovermode": "closest",
                    "mapbox": {
                      "style": "light"
                    },
                    "paper_bgcolor": "white",
                    "plot_bgcolor": "#E5ECF6",
                    "polar": {
                      "angularaxis": {
                        "gridcolor": "white",
                        "linecolor": "white",
                        "ticks": ""
                      },
                      "bgcolor": "#E5ECF6",
                      "radialaxis": {
                        "gridcolor": "white",
                        "linecolor": "white",
                        "ticks": ""
                      }
                    },
                    "scene": {
                      "xaxis": {
                        "backgroundcolor": "#E5ECF6",
                        "gridcolor": "white",
                        "gridwidth": 2,
                        "linecolor": "white",
                        "showbackground": true,
                        "ticks": "",
                        "zerolinecolor": "white"
                      },
                      "yaxis": {
                        "backgroundcolor": "#E5ECF6",
                        "gridcolor": "white",
                        "gridwidth": 2,
                        "linecolor": "white",
                        "showbackground": true,
                        "ticks": "",
                        "zerolinecolor": "white"
                      },
                      "zaxis": {
                        "backgroundcolor": "#E5ECF6",
                        "gridcolor": "white",
                        "gridwidth": 2,
                        "linecolor": "white",
                        "showbackground": true,
                        "ticks": "",
                        "zerolinecolor": "white"
                      }
                    },
                    "shapedefaults": {
                      "line": {
                        "color": "#2a3f5f"
                      }
                    },
                    "ternary": {
                      "aaxis": {
                        "gridcolor": "white",
                        "linecolor": "white",
                        "ticks": ""
                      },
                      "baxis": {
                        "gridcolor": "white",
                        "linecolor": "white",
                        "ticks": ""
                      },
                      "bgcolor": "#E5ECF6",
                      "caxis": {
                        "gridcolor": "white",
                        "linecolor": "white",
                        "ticks": ""
                      }
                    },
                    "title": {
                      "x": 0.05
                    },
                    "xaxis": {
                      "automargin": true,
                      "gridcolor": "white",
                      "linecolor": "white",
                      "ticks": "",
                      "title": {
                        "standoff": 15
                      },
                      "zerolinecolor": "white",
                      "zerolinewidth": 2
                    },
                    "yaxis": {
                      "automargin": true,
                      "gridcolor": "white",
                      "linecolor": "white",
                      "ticks": "",
                      "title": {
                        "standoff": 15
                      },
                      "zerolinecolor": "white",
                      "zerolinewidth": 2
                    }
                  }
                },
                "title": {
                  "text": "Butyric Acid Concentration Experimental Data"
                },
                "xaxis": {
                  "anchor": "y",
                  "categoryarray": [
                    "F",
                    "M"
                  ],
                  "categoryorder": "array",
                  "domain": [
                    0,
                    0.31999999999999995
                  ],
                  "title": {
                    "text": "Feed"
                  }
                },
                "xaxis2": {
                  "anchor": "y2",
                  "categoryarray": [
                    "F",
                    "M"
                  ],
                  "categoryorder": "array",
                  "domain": [
                    0.33999999999999997,
                    0.6599999999999999
                  ],
                  "matches": "x",
                  "title": {
                    "text": "Feed"
                  }
                },
                "xaxis3": {
                  "anchor": "y3",
                  "categoryarray": [
                    "F",
                    "M"
                  ],
                  "categoryorder": "array",
                  "domain": [
                    0.6799999999999999,
                    0.9999999999999999
                  ],
                  "matches": "x",
                  "title": {
                    "text": "Feed"
                  }
                },
                "yaxis": {
                  "anchor": "x",
                  "domain": [
                    0,
                    1
                  ],
                  "title": {
                    "text": "S_bu"
                  }
                },
                "yaxis2": {
                  "anchor": "x2",
                  "domain": [
                    0,
                    1
                  ],
                  "matches": "y",
                  "showticklabels": false
                },
                "yaxis3": {
                  "anchor": "x3",
                  "domain": [
                    0,
                    1
                  ],
                  "matches": "y",
                  "showticklabels": false
                }
              }
            }
          },
          "metadata": {},
          "output_type": "display_data"
        }
      ],
      "source": [
        "fig=px.box(exp_data_sim,x=\"Feed\",y=\"S_bu\",facet_col=\"PH\",color=\"Feed\",points=\"all\")\n",
        "fig.update_layout(title=\"Butyric Acid Concentration Experimental Data\")\n",
        "fig.write_html(\"Butyric Acid Concentratio Experimental Data.html\")\n",
        "fig.show()"
      ]
    },
    {
      "cell_type": "code",
      "execution_count": 32,
      "metadata": {
        "id": "9c3FCFbal1uM"
      },
      "outputs": [],
      "source": [
        "observed_acids=exp_data_sim.columns[:-2].to_list()\n",
        "for reactor in results_dict:\n",
        "  results_dict[reactor]=results_dict[reactor][observed_acids].max()\n"
      ]
    },
    {
      "cell_type": "code",
      "execution_count": 33,
      "metadata": {
        "id": "pR_y1Azkmx_p"
      },
      "outputs": [],
      "source": [
        "simulations_vfa_results=pd.DataFrame(results_dict).T"
      ]
    },
    {
      "cell_type": "code",
      "execution_count": 34,
      "metadata": {
        "id": "UVby0_Tkoim1"
      },
      "outputs": [],
      "source": [
        "simulations_vfa_results[\"Feed\"]=simulations_vfa_results.index.map(lambda x:x.split(\"_\")[2])"
      ]
    },
    {
      "cell_type": "code",
      "execution_count": 35,
      "metadata": {
        "id": "W9W4l4yZ1aRD"
      },
      "outputs": [],
      "source": [
        "simulations_vfa_results[\"PH\"]=simulations_vfa_results.index.map(lambda x:x.split(\"_\")[3])"
      ]
    },
    {
      "cell_type": "code",
      "execution_count": 36,
      "metadata": {
        "colab": {
          "base_uri": "https://localhost:8080/",
          "height": 1000
        },
        "id": "TQ2NZqjP1mIx",
        "outputId": "24151470-6bb2-403a-c92f-59fad0a917ad"
      },
      "outputs": [
        {
          "data": {
            "text/html": [
              "<div>\n",
              "<style scoped>\n",
              "    .dataframe tbody tr th:only-of-type {\n",
              "        vertical-align: middle;\n",
              "    }\n",
              "\n",
              "    .dataframe tbody tr th {\n",
              "        vertical-align: top;\n",
              "    }\n",
              "\n",
              "    .dataframe thead th {\n",
              "        text-align: right;\n",
              "    }\n",
              "</style>\n",
              "<table border=\"1\" class=\"dataframe\">\n",
              "  <thead>\n",
              "    <tr style=\"text-align: right;\">\n",
              "      <th></th>\n",
              "      <th>S_ac</th>\n",
              "      <th>S_pro</th>\n",
              "      <th>S_bu</th>\n",
              "      <th>S_va</th>\n",
              "      <th>S_cap</th>\n",
              "      <th>Feed</th>\n",
              "      <th>PH</th>\n",
              "    </tr>\n",
              "  </thead>\n",
              "  <tbody>\n",
              "    <tr>\n",
              "      <th>A_35_F_5_A</th>\n",
              "      <td>1.330069</td>\n",
              "      <td>2.745784</td>\n",
              "      <td>1.143925</td>\n",
              "      <td>2.397723</td>\n",
              "      <td>0.188390</td>\n",
              "      <td>F</td>\n",
              "      <td>5</td>\n",
              "    </tr>\n",
              "    <tr>\n",
              "      <th>A_35_F_5_C</th>\n",
              "      <td>1.344988</td>\n",
              "      <td>2.750399</td>\n",
              "      <td>1.157110</td>\n",
              "      <td>2.407190</td>\n",
              "      <td>0.189162</td>\n",
              "      <td>F</td>\n",
              "      <td>5</td>\n",
              "    </tr>\n",
              "    <tr>\n",
              "      <th>A_35_F_7_A</th>\n",
              "      <td>1.417663</td>\n",
              "      <td>2.726856</td>\n",
              "      <td>1.063152</td>\n",
              "      <td>2.441005</td>\n",
              "      <td>0.179991</td>\n",
              "      <td>F</td>\n",
              "      <td>7</td>\n",
              "    </tr>\n",
              "    <tr>\n",
              "      <th>A_35_F_7_B</th>\n",
              "      <td>1.500008</td>\n",
              "      <td>2.721807</td>\n",
              "      <td>1.139305</td>\n",
              "      <td>2.568534</td>\n",
              "      <td>0.189580</td>\n",
              "      <td>F</td>\n",
              "      <td>7</td>\n",
              "    </tr>\n",
              "    <tr>\n",
              "      <th>A_35_F_7_C</th>\n",
              "      <td>1.496114</td>\n",
              "      <td>2.714351</td>\n",
              "      <td>1.141380</td>\n",
              "      <td>2.608507</td>\n",
              "      <td>0.192300</td>\n",
              "      <td>F</td>\n",
              "      <td>7</td>\n",
              "    </tr>\n",
              "    <tr>\n",
              "      <th>...</th>\n",
              "      <td>...</td>\n",
              "      <td>...</td>\n",
              "      <td>...</td>\n",
              "      <td>...</td>\n",
              "      <td>...</td>\n",
              "      <td>...</td>\n",
              "      <td>...</td>\n",
              "    </tr>\n",
              "    <tr>\n",
              "      <th>T_55_M_7_A</th>\n",
              "      <td>0.869652</td>\n",
              "      <td>1.391867</td>\n",
              "      <td>0.598064</td>\n",
              "      <td>1.387335</td>\n",
              "      <td>0.099254</td>\n",
              "      <td>M</td>\n",
              "      <td>7</td>\n",
              "    </tr>\n",
              "    <tr>\n",
              "      <th>T_55_M_7_B</th>\n",
              "      <td>0.789804</td>\n",
              "      <td>1.371446</td>\n",
              "      <td>0.549078</td>\n",
              "      <td>1.394117</td>\n",
              "      <td>0.099403</td>\n",
              "      <td>M</td>\n",
              "      <td>7</td>\n",
              "    </tr>\n",
              "    <tr>\n",
              "      <th>T_55_M_7_C</th>\n",
              "      <td>0.737195</td>\n",
              "      <td>1.371587</td>\n",
              "      <td>0.515765</td>\n",
              "      <td>1.414762</td>\n",
              "      <td>0.100985</td>\n",
              "      <td>M</td>\n",
              "      <td>7</td>\n",
              "    </tr>\n",
              "    <tr>\n",
              "      <th>T_55_M_9_B</th>\n",
              "      <td>1.530275</td>\n",
              "      <td>0.873428</td>\n",
              "      <td>0.197922</td>\n",
              "      <td>1.961310</td>\n",
              "      <td>0.122907</td>\n",
              "      <td>M</td>\n",
              "      <td>9</td>\n",
              "    </tr>\n",
              "    <tr>\n",
              "      <th>T_55_M_9_C</th>\n",
              "      <td>1.613361</td>\n",
              "      <td>0.877060</td>\n",
              "      <td>0.204342</td>\n",
              "      <td>1.934459</td>\n",
              "      <td>0.121367</td>\n",
              "      <td>M</td>\n",
              "      <td>9</td>\n",
              "    </tr>\n",
              "  </tbody>\n",
              "</table>\n",
              "<p>64 rows × 7 columns</p>\n",
              "</div>"
            ],
            "text/plain": [
              "                S_ac     S_pro      S_bu      S_va     S_cap Feed PH\n",
              "A_35_F_5_A  1.330069  2.745784  1.143925  2.397723  0.188390    F  5\n",
              "A_35_F_5_C  1.344988  2.750399  1.157110  2.407190  0.189162    F  5\n",
              "A_35_F_7_A  1.417663  2.726856  1.063152  2.441005  0.179991    F  7\n",
              "A_35_F_7_B  1.500008  2.721807  1.139305  2.568534  0.189580    F  7\n",
              "A_35_F_7_C  1.496114  2.714351  1.141380  2.608507  0.192300    F  7\n",
              "...              ...       ...       ...       ...       ...  ... ..\n",
              "T_55_M_7_A  0.869652  1.391867  0.598064  1.387335  0.099254    M  7\n",
              "T_55_M_7_B  0.789804  1.371446  0.549078  1.394117  0.099403    M  7\n",
              "T_55_M_7_C  0.737195  1.371587  0.515765  1.414762  0.100985    M  7\n",
              "T_55_M_9_B  1.530275  0.873428  0.197922  1.961310  0.122907    M  9\n",
              "T_55_M_9_C  1.613361  0.877060  0.204342  1.934459  0.121367    M  9\n",
              "\n",
              "[64 rows x 7 columns]"
            ]
          },
          "execution_count": 36,
          "metadata": {},
          "output_type": "execute_result"
        }
      ],
      "source": [
        "simulations_vfa_results"
      ]
    },
    {
      "cell_type": "code",
      "execution_count": 37,
      "metadata": {
        "colab": {
          "base_uri": "https://localhost:8080/",
          "height": 542
        },
        "id": "DGXCDxl3o9Nc",
        "outputId": "570b9590-9e0b-4c06-9722-ee3a73e4c56a"
      },
      "outputs": [
        {
          "data": {
            "application/vnd.plotly.v1+json": {
              "config": {
                "plotlyServerURL": "https://plot.ly"
              },
              "data": [
                {
                  "alignmentgroup": "True",
                  "boxpoints": "all",
                  "hovertemplate": "Feed=%{x}<br>PH=5<br>S_bu=%{y}<extra></extra>",
                  "legendgroup": "F",
                  "marker": {
                    "color": "#636efa"
                  },
                  "name": "F",
                  "notched": false,
                  "offsetgroup": "F",
                  "orientation": "v",
                  "showlegend": true,
                  "type": "box",
                  "x": [
                    "F",
                    "F",
                    "F",
                    "F",
                    "F",
                    "F",
                    "F",
                    "F",
                    "F"
                  ],
                  "x0": " ",
                  "xaxis": "x",
                  "y": [
                    1.1439245352326222,
                    1.157109833191455,
                    1.2776033725221976,
                    1.1819124321763788,
                    1.2966682062421402,
                    1.1498617419703172,
                    1.0961243688028468,
                    1.3167431669257819,
                    1.0973864353976404
                  ],
                  "y0": " ",
                  "yaxis": "y"
                },
                {
                  "alignmentgroup": "True",
                  "boxpoints": "all",
                  "hovertemplate": "Feed=%{x}<br>PH=7<br>S_bu=%{y}<extra></extra>",
                  "legendgroup": "F",
                  "marker": {
                    "color": "#636efa"
                  },
                  "name": "F",
                  "notched": false,
                  "offsetgroup": "F",
                  "orientation": "v",
                  "showlegend": false,
                  "type": "box",
                  "x": [
                    "F",
                    "F",
                    "F",
                    "F",
                    "F",
                    "F",
                    "F",
                    "F",
                    "F",
                    "F",
                    "F",
                    "F"
                  ],
                  "x0": " ",
                  "xaxis": "x2",
                  "y": [
                    1.063152107106136,
                    1.1393050903754556,
                    1.1413795147439054,
                    1.1329323612114168,
                    1.0268622518791009,
                    1.0114846154358101,
                    1.052411844605566,
                    1.0583770418820386,
                    1.0352518402157687,
                    1.020180382980736,
                    0.9814069183143349,
                    0.9849320862399016
                  ],
                  "y0": " ",
                  "yaxis": "y2"
                },
                {
                  "alignmentgroup": "True",
                  "boxpoints": "all",
                  "hovertemplate": "Feed=%{x}<br>PH=9<br>S_bu=%{y}<extra></extra>",
                  "legendgroup": "F",
                  "marker": {
                    "color": "#636efa"
                  },
                  "name": "F",
                  "notched": false,
                  "offsetgroup": "F",
                  "orientation": "v",
                  "showlegend": false,
                  "type": "box",
                  "x": [
                    "F",
                    "F",
                    "F",
                    "F",
                    "F",
                    "F",
                    "F",
                    "F",
                    "F",
                    "F",
                    "F",
                    "F"
                  ],
                  "x0": " ",
                  "xaxis": "x3",
                  "y": [
                    0.3402869125784728,
                    0.34362590479295685,
                    0.5800583732599708,
                    0.34791724623091136,
                    0.3526184293030152,
                    0.3510823256006566,
                    0.34184223238361355,
                    0.3548765945407459,
                    0.3360663080512983,
                    0.36348536340685766,
                    0.32751493591599007,
                    0.3391163492666446
                  ],
                  "y0": " ",
                  "yaxis": "y3"
                },
                {
                  "alignmentgroup": "True",
                  "boxpoints": "all",
                  "hovertemplate": "Feed=%{x}<br>PH=5<br>S_bu=%{y}<extra></extra>",
                  "legendgroup": "M",
                  "marker": {
                    "color": "#EF553B"
                  },
                  "name": "M",
                  "notched": false,
                  "offsetgroup": "M",
                  "orientation": "v",
                  "showlegend": true,
                  "type": "box",
                  "x": [
                    "M",
                    "M",
                    "M",
                    "M",
                    "M",
                    "M",
                    "M",
                    "M",
                    "M",
                    "M",
                    "M",
                    "M"
                  ],
                  "x0": " ",
                  "xaxis": "x",
                  "y": [
                    0.6625816829544824,
                    0.8334335919643998,
                    0.7465202673253631,
                    0.6739104651014182,
                    0.5698873792633318,
                    0.5722228961675078,
                    0.6761332072624474,
                    0.5701313439351978,
                    0.712549272083625,
                    0.5719799544034831,
                    0.638561581160958,
                    0.5958164526588484
                  ],
                  "y0": " ",
                  "yaxis": "y"
                },
                {
                  "alignmentgroup": "True",
                  "boxpoints": "all",
                  "hovertemplate": "Feed=%{x}<br>PH=7<br>S_bu=%{y}<extra></extra>",
                  "legendgroup": "M",
                  "marker": {
                    "color": "#EF553B"
                  },
                  "name": "M",
                  "notched": false,
                  "offsetgroup": "M",
                  "orientation": "v",
                  "showlegend": false,
                  "type": "box",
                  "x": [
                    "M",
                    "M",
                    "M",
                    "M",
                    "M",
                    "M",
                    "M",
                    "M",
                    "M",
                    "M",
                    "M"
                  ],
                  "x0": " ",
                  "xaxis": "x2",
                  "y": [
                    0.5602336026441366,
                    0.5880073795591495,
                    0.5777841965628061,
                    0.5467735339593158,
                    0.5423518228654649,
                    0.5845153735273788,
                    0.5925238345109307,
                    0.6253137728581672,
                    0.5980637009809379,
                    0.5490778913370153,
                    0.515764864899684
                  ],
                  "y0": " ",
                  "yaxis": "y2"
                },
                {
                  "alignmentgroup": "True",
                  "boxpoints": "all",
                  "hovertemplate": "Feed=%{x}<br>PH=9<br>S_bu=%{y}<extra></extra>",
                  "legendgroup": "M",
                  "marker": {
                    "color": "#EF553B"
                  },
                  "name": "M",
                  "notched": false,
                  "offsetgroup": "M",
                  "orientation": "v",
                  "showlegend": false,
                  "type": "box",
                  "x": [
                    "M",
                    "M",
                    "M",
                    "M",
                    "M",
                    "M",
                    "M",
                    "M"
                  ],
                  "x0": " ",
                  "xaxis": "x3",
                  "y": [
                    0.23341993712952516,
                    0.24069075994113712,
                    0.21932504056042917,
                    0.2463643329444672,
                    0.25789001008804446,
                    0.269333508954053,
                    0.1979217870686963,
                    0.20434240842347923
                  ],
                  "y0": " ",
                  "yaxis": "y3"
                }
              ],
              "layout": {
                "annotations": [
                  {
                    "font": {},
                    "showarrow": false,
                    "text": "PH=5",
                    "x": 0.15999999999999998,
                    "xanchor": "center",
                    "xref": "paper",
                    "y": 1,
                    "yanchor": "bottom",
                    "yref": "paper"
                  },
                  {
                    "font": {},
                    "showarrow": false,
                    "text": "PH=7",
                    "x": 0.49999999999999994,
                    "xanchor": "center",
                    "xref": "paper",
                    "y": 1,
                    "yanchor": "bottom",
                    "yref": "paper"
                  },
                  {
                    "font": {},
                    "showarrow": false,
                    "text": "PH=9",
                    "x": 0.8399999999999999,
                    "xanchor": "center",
                    "xref": "paper",
                    "y": 1,
                    "yanchor": "bottom",
                    "yref": "paper"
                  }
                ],
                "boxmode": "overlay",
                "legend": {
                  "title": {
                    "text": "Feed"
                  },
                  "tracegroupgap": 0
                },
                "margin": {
                  "t": 60
                },
                "template": {
                  "data": {
                    "bar": [
                      {
                        "error_x": {
                          "color": "#2a3f5f"
                        },
                        "error_y": {
                          "color": "#2a3f5f"
                        },
                        "marker": {
                          "line": {
                            "color": "#E5ECF6",
                            "width": 0.5
                          },
                          "pattern": {
                            "fillmode": "overlay",
                            "size": 10,
                            "solidity": 0.2
                          }
                        },
                        "type": "bar"
                      }
                    ],
                    "barpolar": [
                      {
                        "marker": {
                          "line": {
                            "color": "#E5ECF6",
                            "width": 0.5
                          },
                          "pattern": {
                            "fillmode": "overlay",
                            "size": 10,
                            "solidity": 0.2
                          }
                        },
                        "type": "barpolar"
                      }
                    ],
                    "carpet": [
                      {
                        "aaxis": {
                          "endlinecolor": "#2a3f5f",
                          "gridcolor": "white",
                          "linecolor": "white",
                          "minorgridcolor": "white",
                          "startlinecolor": "#2a3f5f"
                        },
                        "baxis": {
                          "endlinecolor": "#2a3f5f",
                          "gridcolor": "white",
                          "linecolor": "white",
                          "minorgridcolor": "white",
                          "startlinecolor": "#2a3f5f"
                        },
                        "type": "carpet"
                      }
                    ],
                    "choropleth": [
                      {
                        "colorbar": {
                          "outlinewidth": 0,
                          "ticks": ""
                        },
                        "type": "choropleth"
                      }
                    ],
                    "contour": [
                      {
                        "colorbar": {
                          "outlinewidth": 0,
                          "ticks": ""
                        },
                        "colorscale": [
                          [
                            0,
                            "#0d0887"
                          ],
                          [
                            0.1111111111111111,
                            "#46039f"
                          ],
                          [
                            0.2222222222222222,
                            "#7201a8"
                          ],
                          [
                            0.3333333333333333,
                            "#9c179e"
                          ],
                          [
                            0.4444444444444444,
                            "#bd3786"
                          ],
                          [
                            0.5555555555555556,
                            "#d8576b"
                          ],
                          [
                            0.6666666666666666,
                            "#ed7953"
                          ],
                          [
                            0.7777777777777778,
                            "#fb9f3a"
                          ],
                          [
                            0.8888888888888888,
                            "#fdca26"
                          ],
                          [
                            1,
                            "#f0f921"
                          ]
                        ],
                        "type": "contour"
                      }
                    ],
                    "contourcarpet": [
                      {
                        "colorbar": {
                          "outlinewidth": 0,
                          "ticks": ""
                        },
                        "type": "contourcarpet"
                      }
                    ],
                    "heatmap": [
                      {
                        "colorbar": {
                          "outlinewidth": 0,
                          "ticks": ""
                        },
                        "colorscale": [
                          [
                            0,
                            "#0d0887"
                          ],
                          [
                            0.1111111111111111,
                            "#46039f"
                          ],
                          [
                            0.2222222222222222,
                            "#7201a8"
                          ],
                          [
                            0.3333333333333333,
                            "#9c179e"
                          ],
                          [
                            0.4444444444444444,
                            "#bd3786"
                          ],
                          [
                            0.5555555555555556,
                            "#d8576b"
                          ],
                          [
                            0.6666666666666666,
                            "#ed7953"
                          ],
                          [
                            0.7777777777777778,
                            "#fb9f3a"
                          ],
                          [
                            0.8888888888888888,
                            "#fdca26"
                          ],
                          [
                            1,
                            "#f0f921"
                          ]
                        ],
                        "type": "heatmap"
                      }
                    ],
                    "heatmapgl": [
                      {
                        "colorbar": {
                          "outlinewidth": 0,
                          "ticks": ""
                        },
                        "colorscale": [
                          [
                            0,
                            "#0d0887"
                          ],
                          [
                            0.1111111111111111,
                            "#46039f"
                          ],
                          [
                            0.2222222222222222,
                            "#7201a8"
                          ],
                          [
                            0.3333333333333333,
                            "#9c179e"
                          ],
                          [
                            0.4444444444444444,
                            "#bd3786"
                          ],
                          [
                            0.5555555555555556,
                            "#d8576b"
                          ],
                          [
                            0.6666666666666666,
                            "#ed7953"
                          ],
                          [
                            0.7777777777777778,
                            "#fb9f3a"
                          ],
                          [
                            0.8888888888888888,
                            "#fdca26"
                          ],
                          [
                            1,
                            "#f0f921"
                          ]
                        ],
                        "type": "heatmapgl"
                      }
                    ],
                    "histogram": [
                      {
                        "marker": {
                          "pattern": {
                            "fillmode": "overlay",
                            "size": 10,
                            "solidity": 0.2
                          }
                        },
                        "type": "histogram"
                      }
                    ],
                    "histogram2d": [
                      {
                        "colorbar": {
                          "outlinewidth": 0,
                          "ticks": ""
                        },
                        "colorscale": [
                          [
                            0,
                            "#0d0887"
                          ],
                          [
                            0.1111111111111111,
                            "#46039f"
                          ],
                          [
                            0.2222222222222222,
                            "#7201a8"
                          ],
                          [
                            0.3333333333333333,
                            "#9c179e"
                          ],
                          [
                            0.4444444444444444,
                            "#bd3786"
                          ],
                          [
                            0.5555555555555556,
                            "#d8576b"
                          ],
                          [
                            0.6666666666666666,
                            "#ed7953"
                          ],
                          [
                            0.7777777777777778,
                            "#fb9f3a"
                          ],
                          [
                            0.8888888888888888,
                            "#fdca26"
                          ],
                          [
                            1,
                            "#f0f921"
                          ]
                        ],
                        "type": "histogram2d"
                      }
                    ],
                    "histogram2dcontour": [
                      {
                        "colorbar": {
                          "outlinewidth": 0,
                          "ticks": ""
                        },
                        "colorscale": [
                          [
                            0,
                            "#0d0887"
                          ],
                          [
                            0.1111111111111111,
                            "#46039f"
                          ],
                          [
                            0.2222222222222222,
                            "#7201a8"
                          ],
                          [
                            0.3333333333333333,
                            "#9c179e"
                          ],
                          [
                            0.4444444444444444,
                            "#bd3786"
                          ],
                          [
                            0.5555555555555556,
                            "#d8576b"
                          ],
                          [
                            0.6666666666666666,
                            "#ed7953"
                          ],
                          [
                            0.7777777777777778,
                            "#fb9f3a"
                          ],
                          [
                            0.8888888888888888,
                            "#fdca26"
                          ],
                          [
                            1,
                            "#f0f921"
                          ]
                        ],
                        "type": "histogram2dcontour"
                      }
                    ],
                    "mesh3d": [
                      {
                        "colorbar": {
                          "outlinewidth": 0,
                          "ticks": ""
                        },
                        "type": "mesh3d"
                      }
                    ],
                    "parcoords": [
                      {
                        "line": {
                          "colorbar": {
                            "outlinewidth": 0,
                            "ticks": ""
                          }
                        },
                        "type": "parcoords"
                      }
                    ],
                    "pie": [
                      {
                        "automargin": true,
                        "type": "pie"
                      }
                    ],
                    "scatter": [
                      {
                        "fillpattern": {
                          "fillmode": "overlay",
                          "size": 10,
                          "solidity": 0.2
                        },
                        "type": "scatter"
                      }
                    ],
                    "scatter3d": [
                      {
                        "line": {
                          "colorbar": {
                            "outlinewidth": 0,
                            "ticks": ""
                          }
                        },
                        "marker": {
                          "colorbar": {
                            "outlinewidth": 0,
                            "ticks": ""
                          }
                        },
                        "type": "scatter3d"
                      }
                    ],
                    "scattercarpet": [
                      {
                        "marker": {
                          "colorbar": {
                            "outlinewidth": 0,
                            "ticks": ""
                          }
                        },
                        "type": "scattercarpet"
                      }
                    ],
                    "scattergeo": [
                      {
                        "marker": {
                          "colorbar": {
                            "outlinewidth": 0,
                            "ticks": ""
                          }
                        },
                        "type": "scattergeo"
                      }
                    ],
                    "scattergl": [
                      {
                        "marker": {
                          "colorbar": {
                            "outlinewidth": 0,
                            "ticks": ""
                          }
                        },
                        "type": "scattergl"
                      }
                    ],
                    "scattermapbox": [
                      {
                        "marker": {
                          "colorbar": {
                            "outlinewidth": 0,
                            "ticks": ""
                          }
                        },
                        "type": "scattermapbox"
                      }
                    ],
                    "scatterpolar": [
                      {
                        "marker": {
                          "colorbar": {
                            "outlinewidth": 0,
                            "ticks": ""
                          }
                        },
                        "type": "scatterpolar"
                      }
                    ],
                    "scatterpolargl": [
                      {
                        "marker": {
                          "colorbar": {
                            "outlinewidth": 0,
                            "ticks": ""
                          }
                        },
                        "type": "scatterpolargl"
                      }
                    ],
                    "scatterternary": [
                      {
                        "marker": {
                          "colorbar": {
                            "outlinewidth": 0,
                            "ticks": ""
                          }
                        },
                        "type": "scatterternary"
                      }
                    ],
                    "surface": [
                      {
                        "colorbar": {
                          "outlinewidth": 0,
                          "ticks": ""
                        },
                        "colorscale": [
                          [
                            0,
                            "#0d0887"
                          ],
                          [
                            0.1111111111111111,
                            "#46039f"
                          ],
                          [
                            0.2222222222222222,
                            "#7201a8"
                          ],
                          [
                            0.3333333333333333,
                            "#9c179e"
                          ],
                          [
                            0.4444444444444444,
                            "#bd3786"
                          ],
                          [
                            0.5555555555555556,
                            "#d8576b"
                          ],
                          [
                            0.6666666666666666,
                            "#ed7953"
                          ],
                          [
                            0.7777777777777778,
                            "#fb9f3a"
                          ],
                          [
                            0.8888888888888888,
                            "#fdca26"
                          ],
                          [
                            1,
                            "#f0f921"
                          ]
                        ],
                        "type": "surface"
                      }
                    ],
                    "table": [
                      {
                        "cells": {
                          "fill": {
                            "color": "#EBF0F8"
                          },
                          "line": {
                            "color": "white"
                          }
                        },
                        "header": {
                          "fill": {
                            "color": "#C8D4E3"
                          },
                          "line": {
                            "color": "white"
                          }
                        },
                        "type": "table"
                      }
                    ]
                  },
                  "layout": {
                    "annotationdefaults": {
                      "arrowcolor": "#2a3f5f",
                      "arrowhead": 0,
                      "arrowwidth": 1
                    },
                    "autotypenumbers": "strict",
                    "coloraxis": {
                      "colorbar": {
                        "outlinewidth": 0,
                        "ticks": ""
                      }
                    },
                    "colorscale": {
                      "diverging": [
                        [
                          0,
                          "#8e0152"
                        ],
                        [
                          0.1,
                          "#c51b7d"
                        ],
                        [
                          0.2,
                          "#de77ae"
                        ],
                        [
                          0.3,
                          "#f1b6da"
                        ],
                        [
                          0.4,
                          "#fde0ef"
                        ],
                        [
                          0.5,
                          "#f7f7f7"
                        ],
                        [
                          0.6,
                          "#e6f5d0"
                        ],
                        [
                          0.7,
                          "#b8e186"
                        ],
                        [
                          0.8,
                          "#7fbc41"
                        ],
                        [
                          0.9,
                          "#4d9221"
                        ],
                        [
                          1,
                          "#276419"
                        ]
                      ],
                      "sequential": [
                        [
                          0,
                          "#0d0887"
                        ],
                        [
                          0.1111111111111111,
                          "#46039f"
                        ],
                        [
                          0.2222222222222222,
                          "#7201a8"
                        ],
                        [
                          0.3333333333333333,
                          "#9c179e"
                        ],
                        [
                          0.4444444444444444,
                          "#bd3786"
                        ],
                        [
                          0.5555555555555556,
                          "#d8576b"
                        ],
                        [
                          0.6666666666666666,
                          "#ed7953"
                        ],
                        [
                          0.7777777777777778,
                          "#fb9f3a"
                        ],
                        [
                          0.8888888888888888,
                          "#fdca26"
                        ],
                        [
                          1,
                          "#f0f921"
                        ]
                      ],
                      "sequentialminus": [
                        [
                          0,
                          "#0d0887"
                        ],
                        [
                          0.1111111111111111,
                          "#46039f"
                        ],
                        [
                          0.2222222222222222,
                          "#7201a8"
                        ],
                        [
                          0.3333333333333333,
                          "#9c179e"
                        ],
                        [
                          0.4444444444444444,
                          "#bd3786"
                        ],
                        [
                          0.5555555555555556,
                          "#d8576b"
                        ],
                        [
                          0.6666666666666666,
                          "#ed7953"
                        ],
                        [
                          0.7777777777777778,
                          "#fb9f3a"
                        ],
                        [
                          0.8888888888888888,
                          "#fdca26"
                        ],
                        [
                          1,
                          "#f0f921"
                        ]
                      ]
                    },
                    "colorway": [
                      "#636efa",
                      "#EF553B",
                      "#00cc96",
                      "#ab63fa",
                      "#FFA15A",
                      "#19d3f3",
                      "#FF6692",
                      "#B6E880",
                      "#FF97FF",
                      "#FECB52"
                    ],
                    "font": {
                      "color": "#2a3f5f"
                    },
                    "geo": {
                      "bgcolor": "white",
                      "lakecolor": "white",
                      "landcolor": "#E5ECF6",
                      "showlakes": true,
                      "showland": true,
                      "subunitcolor": "white"
                    },
                    "hoverlabel": {
                      "align": "left"
                    },
                    "hovermode": "closest",
                    "mapbox": {
                      "style": "light"
                    },
                    "paper_bgcolor": "white",
                    "plot_bgcolor": "#E5ECF6",
                    "polar": {
                      "angularaxis": {
                        "gridcolor": "white",
                        "linecolor": "white",
                        "ticks": ""
                      },
                      "bgcolor": "#E5ECF6",
                      "radialaxis": {
                        "gridcolor": "white",
                        "linecolor": "white",
                        "ticks": ""
                      }
                    },
                    "scene": {
                      "xaxis": {
                        "backgroundcolor": "#E5ECF6",
                        "gridcolor": "white",
                        "gridwidth": 2,
                        "linecolor": "white",
                        "showbackground": true,
                        "ticks": "",
                        "zerolinecolor": "white"
                      },
                      "yaxis": {
                        "backgroundcolor": "#E5ECF6",
                        "gridcolor": "white",
                        "gridwidth": 2,
                        "linecolor": "white",
                        "showbackground": true,
                        "ticks": "",
                        "zerolinecolor": "white"
                      },
                      "zaxis": {
                        "backgroundcolor": "#E5ECF6",
                        "gridcolor": "white",
                        "gridwidth": 2,
                        "linecolor": "white",
                        "showbackground": true,
                        "ticks": "",
                        "zerolinecolor": "white"
                      }
                    },
                    "shapedefaults": {
                      "line": {
                        "color": "#2a3f5f"
                      }
                    },
                    "ternary": {
                      "aaxis": {
                        "gridcolor": "white",
                        "linecolor": "white",
                        "ticks": ""
                      },
                      "baxis": {
                        "gridcolor": "white",
                        "linecolor": "white",
                        "ticks": ""
                      },
                      "bgcolor": "#E5ECF6",
                      "caxis": {
                        "gridcolor": "white",
                        "linecolor": "white",
                        "ticks": ""
                      }
                    },
                    "title": {
                      "x": 0.05
                    },
                    "xaxis": {
                      "automargin": true,
                      "gridcolor": "white",
                      "linecolor": "white",
                      "ticks": "",
                      "title": {
                        "standoff": 15
                      },
                      "zerolinecolor": "white",
                      "zerolinewidth": 2
                    },
                    "yaxis": {
                      "automargin": true,
                      "gridcolor": "white",
                      "linecolor": "white",
                      "ticks": "",
                      "title": {
                        "standoff": 15
                      },
                      "zerolinecolor": "white",
                      "zerolinewidth": 2
                    }
                  }
                },
                "title": {
                  "text": "Simulated Butyric Acid concentrations"
                },
                "xaxis": {
                  "anchor": "y",
                  "categoryarray": [
                    "F",
                    "M"
                  ],
                  "categoryorder": "array",
                  "domain": [
                    0,
                    0.31999999999999995
                  ],
                  "title": {
                    "text": "Feed"
                  }
                },
                "xaxis2": {
                  "anchor": "y2",
                  "categoryarray": [
                    "F",
                    "M"
                  ],
                  "categoryorder": "array",
                  "domain": [
                    0.33999999999999997,
                    0.6599999999999999
                  ],
                  "matches": "x",
                  "title": {
                    "text": "Feed"
                  }
                },
                "xaxis3": {
                  "anchor": "y3",
                  "categoryarray": [
                    "F",
                    "M"
                  ],
                  "categoryorder": "array",
                  "domain": [
                    0.6799999999999999,
                    0.9999999999999999
                  ],
                  "matches": "x",
                  "title": {
                    "text": "Feed"
                  }
                },
                "yaxis": {
                  "anchor": "x",
                  "domain": [
                    0,
                    1
                  ],
                  "title": {
                    "text": "S_bu"
                  }
                },
                "yaxis2": {
                  "anchor": "x2",
                  "domain": [
                    0,
                    1
                  ],
                  "matches": "y",
                  "showticklabels": false
                },
                "yaxis3": {
                  "anchor": "x3",
                  "domain": [
                    0,
                    1
                  ],
                  "matches": "y",
                  "showticklabels": false
                }
              }
            }
          },
          "metadata": {},
          "output_type": "display_data"
        }
      ],
      "source": [
        "fig=px.box(simulations_vfa_results,x=\"Feed\",y=\"S_bu\",facet_col=\"PH\",color=\"Feed\",points=\"all\")\n",
        "fig.update_layout(title=\"Simulated Butyric Acid concentrations\")\n",
        "fig.write_html(\"simulated_vfa_concentrations.html\")\n",
        "fig.show()"
      ]
    },
    {
      "cell_type": "code",
      "execution_count": 38,
      "metadata": {},
      "outputs": [],
      "source": [
        "from adtoolbox import optimize\n",
        "\n",
        "from importlib import reload"
      ]
    },
    {
      "cell_type": "code",
      "execution_count": 39,
      "metadata": {},
      "outputs": [],
      "source": [
        "exp=core.Database(configs.Database()).get_experiment_from_experiments_db(field_name=\"name\",query=\"\")"
      ]
    },
    {
      "cell_type": "code",
      "execution_count": 77,
      "metadata": {},
      "outputs": [],
      "source": [
        "tunables={\n",
        "          \"f_pro_su\": (0.2,0.45), \n",
        "          \"f_et_su\": (0.01,0.3), \n",
        "          \"f_lac_su\": (0.1,0.3), \n",
        "          \"K_pH_ac\":(0.001,0.1),\n",
        "          \"Y_su\": (0.01,0.3), \n",
        "          \"K_S_su\": (1,10),\n",
        "          \"K_S_ac\": (1,10),\n",
        "          \"K_S_pro\": (1,10),\n",
        "          \"K_I_h2_ox\": (1e-8,1000),\n",
        "          \"K_I_h2_c4\": (1e-8,10),\n",
        "          \"K_I_h2_pro\": (1e-8,100),\n",
        "          \"K_I_h2_fa\":(1e-8,10),\n",
        "          \"f_co2_ch4\":(-1,-0.000001),\n",
        "          \"K_S_IN\": (1e-5,10),\n",
        "          \"f_pro_aa\": (0.1,0.7),\n",
        "          \"f_et_aa\": (0.0001,0.2),\n",
        "          \"f_lac_aa\": (0.01,0.3),\n",
        "          \"Y_ac_et\": (0.01,0.2),  \n",
        "          \"f_et_ac\": (-0.3,-0.15),\n",
        "          \"f_bu_ac\": (0.6,1), \n",
        "          \"Y_ac_lac\": (0.1,0.4), \n",
        "          \"f_lac_ac\": (-0.3,-0.01),\n",
        "          \"f_h2_ac\": (0.1,0.2),\n",
        "          \"Y_ac_et_ox\":(0.1,0.3), \n",
        "          \"Y_pro_lac_ox\": (0.01,0.3), \n",
        "          \"Y_pro_et\": (0.01,0.3),  \n",
        "          \"f_et_pro\": (-1,-0.15), \n",
        "          \"f_va_pro\": (0.8,1), \n",
        "          \"Y_pro_lac\": (0.01,0.3),\n",
        "          \"f_lac_pro\": (-0.5,-0.15),\n",
        "          \"f_h2_pro\": (0.01,0.2), \n",
        "          \"Y_chain_et_pro\": (0.01,0.3),  \n",
        "          \"Y_chain_lac_pro\": (0.01,0.3),  \n",
        "          \"Y_bu_et\": (0.01,0.3),  \n",
        "          \"f_et_bu\": (-1,-0.1), \n",
        "          \"f_cap_bu\": (0.6,1),\n",
        "          \"Y_bu_lac\": (0.1,0.8), \n",
        "          \"f_lac_bu\": (-1,-0.1), \n",
        "          \"f_h2_bu\": (0.01,0.2), \n",
        "          \"Y_va\": (0.1,0.3), \n",
        "          \"Y_cap\": (0.2,0.6),\n",
        "          \"Y_h2_ac\": (0.1,0.3),\n",
        "          \"Y_h2_CO2\": (0.1,0.3), \n",
        "          \"f_ac_h2\": (-1,-0.5),\n",
        "          \"Y_Me_ac\": (0.1,0.3), \n",
        "          \"Y_Me_CO2\": (0.1,0.3), \n",
        "          \"Y_Me_h2\": (0.1,0.3), \n",
        "          \"Y_aa\": (0.01,0.3),\n",
        "          \"Y_fa\": (0.01,0.3),\n",
        "          \"Y_ac\": (0.01,0.5), \n",
        "          \"k_dis_TSS\": (0.01,0.5), \n",
        "          \"k_dis_TDS\": (0.1,10), \n",
        "          \"k_hyd_ch\": (0.01,15), \n",
        "          \"k_hyd_pr\": (0.01,15), \n",
        "          \"k_hyd_li\": (0.11,15), \n",
        "          \"k_m_su\": (1,50), \n",
        "          \"K_S_su\": (1,40), \n",
        "          \"k_m_aa\": (1,35), \n",
        "          \"K_S_aa\": (0.1,40), \n",
        "          \"k_m_fa\": (0.1,30), \n",
        "          \"K_S_fa\": (0.1,20), \n",
        "          \"k_m_bu\": (0.5,20), \n",
        "          \"K_S_bu\": (0.05,50), \n",
        "          \"k_m_va\": (0.1,2),  \n",
        "          \"K_S_va\": (0.01,20),\n",
        "          \"k_m_cap\": (0.01,5),\n",
        "          \"K_S_cap\": (0.01,50),\n",
        "          \"k_m_pro\": (1,40), \n",
        "          \"K_S_pro\": (0.01,20),\n",
        "          \"k_m_et\": (1,50),\n",
        "          \"K_S_et\": (1,150), \n",
        "          \"k_m_lac\": (0.1,30), \n",
        "          \"K_S_lac\": (0.01,100),\n",
        "          \"k_m_ac\": (10,50), \n",
        "          \"K_S_ac\": (0.01,15),  \n",
        "          \"k_m_h2_Me_ac\": (1,100), \n",
        "          \"K_S_h2_Me_ac\": (1e-06,1e-02),\n",
        "          \"K_S_ac_Me\": (0.001,20),\n",
        "          \"k_m_h2_Me_CO2\": (0.1,50), \n",
        "          \"K_S_h2_Me_CO2\": (1e-06,1e-02),\n",
        "          \"K_S_CO2_Me\": (0.01,5),  \n",
        "          \"f_pro_fa\": (0.2,0.6),\n",
        "          \"f_et_fa\": (0,0.1),\n",
        "          \"f_lac_fa\":(0,0.1),\n",
        "          \"k_L_a\":(10,100),\n",
        "          \"K_S_ac_lac\":(0.01,50),\n",
        "          \"K_S_ac_et\":(0.01,10),\n",
        "          \"K_S_pro_et\":(0.01,0.6),\n",
        "          \"K_S_bu_et\":(0.01,0.6),\n",
        "          \"K_S_bu_lac\":(0.01,0.6),\n",
        "          \"K_S_pro_lac\": (0.01,0.6),\n",
        "          'f_ac_h2':(-0.2,-0.01),\n",
        "          \"k_m_bu_deg\":(0.1,10),\n",
        "          \"Y_bu\":(0.01,10),\n",
        "          \"K_pH_aa\":(0.0000001,10),\n",
        "          \"nn_aa\":(0.1,10),\n",
        "          'K_pH_ac':(0.0000001,10),\n",
        "          'n_ac':(0.1,10),\n",
        "          'K_pH_pro':(0.000001,10),\n",
        "          'n_pro':(0.1,10),\n",
        "          \"K_pH_bu\":(0.0000001,10),\n",
        "          'n_bu':(0.1,50),    \n",
        "          \"K_pH_va\":(0.0000001,10),\n",
        "          'n_va':(0.1,10),    \n",
        "          \"K_pH_cap\":(0.000001,10),\n",
        "          'n_cap':(0.1,10),                 \n",
        " }"
      ]
    },
    {
      "cell_type": "code",
      "execution_count": 90,
      "metadata": {},
      "outputs": [],
      "source": [
        "model.time_limit=100\n",
        "optimizer = optimize.NNSurrogateTuner(\n",
        "    base_model=model,\n",
        "    train_data=exp,\n",
        "    tuneables=tunables,\n",
        "    initial_points=50,\n",
        "    n_steps=5000)"
      ]
    },
    {
      "cell_type": "code",
      "execution_count": 88,
      "metadata": {},
      "outputs": [],
      "source": [
        "# optimizer.load_history_file(\"./history.pkl\")"
      ]
    },
    {
      "cell_type": "code",
      "execution_count": 91,
      "metadata": {},
      "outputs": [
        {
          "name": "stdout",
          "output_type": "stream",
          "text": [
            "Could not solve model, setting C to a very large value\n"
          ]
        },
        {
          "name": "stderr",
          "output_type": "stream",
          "text": [
            "/home/parsa/ADToolbox/adtoolbox/adm.py:1714: RuntimeWarning:\n",
            "\n",
            "overflow encountered in scalar multiply\n",
            "\n",
            "/home/parsa/ADToolbox/adtoolbox/adm.py:1758: RuntimeWarning:\n",
            "\n",
            "invalid value encountered in matmul\n",
            "\n",
            "/home/parsa/ADToolbox/adtoolbox/adm.py:1717: RuntimeWarning:\n",
            "\n",
            "overflow encountered in scalar multiply\n",
            "\n",
            "/home/parsa/ADToolbox/adtoolbox/adm.py:1723: RuntimeWarning:\n",
            "\n",
            "overflow encountered in scalar multiply\n",
            "\n",
            "/home/parsa/ADToolbox/adtoolbox/adm.py:1726: RuntimeWarning:\n",
            "\n",
            "overflow encountered in scalar multiply\n",
            "\n"
          ]
        },
        {
          "name": "stdout",
          "output_type": "stream",
          "text": [
            "Could not solve model, setting C to a very large value\n",
            "Could not solve model, setting C to a very large value\n"
          ]
        },
        {
          "name": "stderr",
          "output_type": "stream",
          "text": [
            "/home/parsa/ADToolbox/adtoolbox/adm.py:1720: RuntimeWarning:\n",
            "\n",
            "overflow encountered in scalar multiply\n",
            "\n",
            "/home/parsa/ADToolbox/adtoolbox/adm.py:1729: RuntimeWarning:\n",
            "\n",
            "overflow encountered in scalar multiply\n",
            "\n"
          ]
        },
        {
          "name": "stdout",
          "output_type": "stream",
          "text": [
            "Could not solve model, setting C to a very large value\n",
            "Could not solve model, setting C to a very large value\n",
            "Could not solve model, setting C to a very large value\n",
            "Could not solve model, setting C to a very large value\n",
            "Could not solve model, setting C to a very large value\n",
            "Could not solve model, setting C to a very large value\n",
            "Could not solve model, setting C to a very large value\n",
            "Could not solve model, setting C to a very large value\n",
            "Could not solve model, setting C to a very large value\n",
            "Could not solve model, setting C to a very large value\n",
            "Could not solve model, setting C to a very large value\n",
            "Could not solve model, setting C to a very large value\n",
            "Could not solve model, setting C to a very large value\n",
            "Could not solve model, setting C to a very large value\n",
            "Could not solve model, setting C to a very large value\n",
            "Could not solve model, setting C to a very large value\n",
            "Could not solve model, setting C to a very large value\n",
            "Could not solve model, setting C to a very large value\n",
            "Could not solve model, setting C to a very large value\n",
            "Could not solve model, setting C to a very large value\n",
            "Could not solve model, setting C to a very large value\n",
            "Could not solve model, setting C to a very large value\n",
            "Could not solve model, setting C to a very large value\n",
            "Could not solve model, setting C to a very large value\n",
            "Could not solve model, setting C to a very large value\n",
            "Could not solve model, setting C to a very large value\n",
            "Could not solve model, setting C to a very large value\n",
            "Could not solve model, setting C to a very large value\n",
            "Could not solve model, setting C to a very large value\n",
            "Could not solve model, setting C to a very large value\n",
            "Could not solve model, setting C to a very large value\n",
            "Could not solve model, setting C to a very large value\n",
            "Could not solve model, setting C to a very large value\n",
            "Could not solve model, setting C to a very large value\n",
            "Could not solve model, setting C to a very large value\n",
            "Could not solve model, setting C to a very large value\n",
            "Could not solve model, setting C to a very large value\n",
            "Could not solve model, setting C to a very large value\n",
            "Could not solve model, setting C to a very large value\n",
            "Could not solve model, setting C to a very large value\n",
            "Could not solve model, setting C to a very large value\n",
            "Could not solve model, setting C to a very large value\n",
            "Could not solve model, setting C to a very large value\n",
            "Could not solve model, setting C to a very large value\n",
            "Could not solve model, setting C to a very large value\n",
            "Could not solve model, setting C to a very large value\n",
            "Could not solve model, setting C to a very large value\n",
            "Could not solve model, setting C to a very large value\n",
            "Could not solve model, setting C to a very large value\n",
            "Could not solve model, setting C to a very large value\n",
            "Could not solve model, setting C to a very large value\n",
            "Could not solve model, setting C to a very large value\n",
            "Could not solve model, setting C to a very large value\n",
            "Could not solve model, setting C to a very large value\n",
            "Could not solve model, setting C to a very large value\n",
            "Could not solve model, setting C to a very large value\n",
            "Could not solve model, setting C to a very large value\n",
            "Could not solve model, setting C to a very large value\n",
            "Could not solve model, setting C to a very large value\n",
            "Could not solve model, setting C to a very large value\n",
            "Could not solve model, setting C to a very large value\n",
            "Could not solve model, setting C to a very large value\n",
            "Could not solve model, setting C to a very large value\n",
            "Could not solve model, setting C to a very large value\n",
            "Could not solve model, setting C to a very large value\n",
            "Could not solve model, setting C to a very large value\n",
            "Could not solve model, setting C to a very large value\n",
            "Could not solve model, setting C to a very large value\n",
            "Could not solve model, setting C to a very large value\n",
            "Could not solve model, setting C to a very large value\n",
            "Could not solve model, setting C to a very large value\n",
            "Could not solve model, setting C to a very large value\n",
            "Could not solve model, setting C to a very large value\n",
            "Could not solve model, setting C to a very large value\n",
            "Could not solve model, setting C to a very large value\n",
            "Could not solve model, setting C to a very large value\n",
            "Could not solve model, setting C to a very large value\n",
            "Could not solve model, setting C to a very large value\n",
            "Could not solve model, setting C to a very large value\n",
            "Could not solve model, setting C to a very large value\n",
            "Could not solve model, setting C to a very large value\n",
            "Could not solve model, setting C to a very large value\n",
            "Could not solve model, setting C to a very large value\n",
            "Could not solve model, setting C to a very large value\n",
            "Could not solve model, setting C to a very large value\n",
            "Could not solve model, setting C to a very large value\n",
            "Could not solve model, setting C to a very large value\n",
            "Could not solve model, setting C to a very large value\n",
            "Could not solve model, setting C to a very large value\n",
            "Could not solve model, setting C to a very large value\n",
            "Could not solve model, setting C to a very large value\n",
            "Could not solve model, setting C to a very large value\n",
            "Could not solve model, setting C to a very large value\n",
            "Could not solve model, setting C to a very large value\n",
            "Could not solve model, setting C to a very large value\n",
            "Could not solve model, setting C to a very large value\n",
            "Could not solve model, setting C to a very large value\n",
            "Could not solve model, setting C to a very large value\n",
            "Could not solve model, setting C to a very large value\n",
            "Could not solve model, setting C to a very large value\n",
            "Could not solve model, setting C to a very large value\n",
            "Could not solve model, setting C to a very large value\n",
            "Could not solve model, setting C to a very large value\n",
            "Could not solve model, setting C to a very large value\n",
            "Could not solve model, setting C to a very large value\n",
            "Could not solve model, setting C to a very large value\n",
            "Could not solve model, setting C to a very large value\n",
            "Could not solve model, setting C to a very large value\n",
            "Could not solve model, setting C to a very large value\n",
            "Could not solve model, setting C to a very large value\n",
            "Could not solve model, setting C to a very large value\n",
            "Could not solve model, setting C to a very large value\n",
            "Could not solve model, setting C to a very large value\n",
            "Could not solve model, setting C to a very large value\n",
            "Could not solve model, setting C to a very large value\n",
            "Could not solve model, setting C to a very large value\n",
            "Could not solve model, setting C to a very large value\n",
            "Could not solve model, setting C to a very large value\n",
            "Could not solve model, setting C to a very large value\n",
            "Could not solve model, setting C to a very large value\n",
            "Could not solve model, setting C to a very large value\n",
            "Could not solve model, setting C to a very large value\n",
            "Could not solve model, setting C to a very large value\n",
            "Could not solve model, setting C to a very large value\n",
            "Could not solve model, setting C to a very large value\n",
            "Could not solve model, setting C to a very large value\n",
            "Could not solve model, setting C to a very large value\n",
            "Could not solve model, setting C to a very large value\n",
            "Could not solve model, setting C to a very large value\n",
            "Could not solve model, setting C to a very large value\n",
            "Could not solve model, setting C to a very large value\n",
            "Could not solve model, setting C to a very large value\n",
            "Could not solve model, setting C to a very large value\n",
            "Could not solve model, setting C to a very large value\n",
            "Could not solve model, setting C to a very large value\n",
            "Could not solve model, setting C to a very large value\n",
            "Could not solve model, setting C to a very large value\n",
            "Could not solve model, setting C to a very large value\n",
            "Could not solve model, setting C to a very large value\n",
            "Could not solve model, setting C to a very large value\n",
            "Could not solve model, setting C to a very large value\n",
            "Could not solve model, setting C to a very large value\n",
            "Could not solve model, setting C to a very large value\n",
            "Could not solve model, setting C to a very large value\n",
            "Could not solve model, setting C to a very large value\n",
            "Could not solve model, setting C to a very large value\n",
            "Could not solve model, setting C to a very large value\n",
            "Could not solve model, setting C to a very large value\n",
            "Could not solve model, setting C to a very large value\n",
            "Could not solve model, setting C to a very large value\n",
            "Could not solve model, setting C to a very large value\n",
            "Could not solve model, setting C to a very large value\n",
            "Could not solve model, setting C to a very large value\n",
            "Could not solve model, setting C to a very large value\n",
            "Could not solve model, setting C to a very large value\n",
            "Could not solve model, setting C to a very large value\n",
            "Could not solve model, setting C to a very large value\n",
            "Could not solve model, setting C to a very large value\n",
            "Could not solve model, setting C to a very large value\n",
            "Could not solve model, setting C to a very large value\n",
            "Could not solve model, setting C to a very large value\n",
            "Could not solve model, setting C to a very large value\n",
            "Could not solve model, setting C to a very large value\n",
            "Could not solve model, setting C to a very large value\n",
            "Could not solve model, setting C to a very large value\n",
            "Could not solve model, setting C to a very large value\n",
            "Could not solve model, setting C to a very large value\n",
            "Could not solve model, setting C to a very large value\n",
            "Could not solve model, setting C to a very large value\n",
            "Could not solve model, setting C to a very large value\n",
            "Could not solve model, setting C to a very large value\n",
            "Could not solve model, setting C to a very large value\n",
            "Could not solve model, setting C to a very large value\n",
            "Could not solve model, setting C to a very large value\n",
            "Could not solve model, setting C to a very large value\n",
            "Could not solve model, setting C to a very large value\n",
            "Could not solve model, setting C to a very large value\n",
            "Could not solve model, setting C to a very large value\n",
            "Could not solve model, setting C to a very large value\n",
            "Could not solve model, setting C to a very large value\n",
            "Could not solve model, setting C to a very large value\n",
            "Could not solve model, setting C to a very large value\n",
            "Could not solve model, setting C to a very large value\n",
            "Could not solve model, setting C to a very large value\n",
            "Could not solve model, setting C to a very large value\n",
            "Could not solve model, setting C to a very large value\n",
            "Could not solve model, setting C to a very large value\n",
            "Could not solve model, setting C to a very large value\n",
            "Could not solve model, setting C to a very large value\n",
            "Could not solve model, setting C to a very large value\n",
            "Could not solve model, setting C to a very large value\n",
            "Could not solve model, setting C to a very large value\n",
            "Could not solve model, setting C to a very large value\n",
            "Could not solve model, setting C to a very large value\n",
            "Could not solve model, setting C to a very large value\n",
            "Could not solve model, setting C to a very large value\n",
            "Could not solve model, setting C to a very large value\n",
            "Could not solve model, setting C to a very large value\n",
            "Could not solve model, setting C to a very large value\n",
            "Could not solve model, setting C to a very large value\n",
            "Could not solve model, setting C to a very large value\n",
            "Could not solve model, setting C to a very large value\n",
            "Could not solve model, setting C to a very large value\n",
            "Could not solve model, setting C to a very large value\n",
            "Could not solve model, setting C to a very large value\n",
            "Could not solve model, setting C to a very large value\n",
            "Could not solve model, setting C to a very large value\n",
            "Could not solve model, setting C to a very large value\n",
            "Could not solve model, setting C to a very large value\n",
            "Could not solve model, setting C to a very large value\n",
            "Could not solve model, setting C to a very large value\n",
            "Could not solve model, setting C to a very large value\n",
            "Could not solve model, setting C to a very large value\n",
            "Could not solve model, setting C to a very large value\n",
            "Could not solve model, setting C to a very large value\n",
            "Could not solve model, setting C to a very large value\n",
            "Could not solve model, setting C to a very large value\n",
            "Could not solve model, setting C to a very large value\n",
            "Could not solve model, setting C to a very large value\n",
            "Could not solve model, setting C to a very large value\n",
            "Could not solve model, setting C to a very large value\n",
            "Could not solve model, setting C to a very large value\n",
            "Could not solve model, setting C to a very large value\n",
            "Could not solve model, setting C to a very large value\n",
            "Could not solve model, setting C to a very large value\n",
            "Could not solve model, setting C to a very large value\n",
            "Could not solve model, setting C to a very large value\n",
            "Could not solve model, setting C to a very large value\n",
            "Could not solve model, setting C to a very large value\n",
            "Could not solve model, setting C to a very large value\n",
            "Could not solve model, setting C to a very large value\n",
            "Could not solve model, setting C to a very large value\n",
            "Could not solve model, setting C to a very large value\n",
            "Could not solve model, setting C to a very large value\n",
            "Could not solve model, setting C to a very large value\n",
            "Could not solve model, setting C to a very large value\n",
            "Could not solve model, setting C to a very large value\n",
            "Could not solve model, setting C to a very large value\n",
            "Could not solve model, setting C to a very large value\n",
            "Could not solve model, setting C to a very large value\n",
            "Could not solve model, setting C to a very large value\n",
            "Could not solve model, setting C to a very large value\n",
            "Could not solve model, setting C to a very large value\n",
            "Could not solve model, setting C to a very large value\n",
            "Could not solve model, setting C to a very large value\n",
            "Could not solve model, setting C to a very large value\n",
            "Could not solve model, setting C to a very large value\n",
            "Could not solve model, setting C to a very large value\n",
            "Could not solve model, setting C to a very large value\n",
            "Could not solve model, setting C to a very large value\n",
            "Could not solve model, setting C to a very large value\n",
            "Could not solve model, setting C to a very large value\n",
            "Could not solve model, setting C to a very large value\n",
            "Could not solve model, setting C to a very large value\n",
            "Could not solve model, setting C to a very large value\n",
            "Could not solve model, setting C to a very large value\n",
            "Could not solve model, setting C to a very large value\n",
            "Could not solve model, setting C to a very large value\n",
            "Could not solve model, setting C to a very large value\n",
            "Could not solve model, setting C to a very large value\n",
            "Training Loss: 2891095.25\n",
            "Step 1/5000 completed.Current cost:570.0076816916657 Best cost: 570.0076816916657\n",
            "Training Loss: 2764726.25\n",
            "Step 2/5000 completed.Current cost:570.0076816916657 Best cost: 570.0076816916657\n",
            "Training Loss: 2643908.0\n",
            "Local optima reached: Perturbing the best solution and continuing.\n",
            "Step 3/5000 completed.Current cost:624.2692156379798 Best cost: 570.0076816916657\n",
            "Training Loss: 2529388.75\n",
            "Step 4/5000 completed.Current cost:570.0076816916657 Best cost: 570.0076816916657\n",
            "Training Loss: 2418974.0\n",
            "Step 5/5000 completed.Current cost:570.0076816916657 Best cost: 570.0076816916657\n",
            "Training Loss: 2313531.25\n",
            "Local optima reached: Perturbing the best solution and continuing.\n",
            "Step 6/5000 completed.Current cost:603.9474156438824 Best cost: 570.0076816916657\n",
            "Training Loss: 2213340.75\n",
            "Step 7/5000 completed.Current cost:570.0076816916657 Best cost: 570.0076816916657\n",
            "Training Loss: 2117315.5\n",
            "Step 8/5000 completed.Current cost:570.0076816916657 Best cost: 570.0076816916657\n",
            "Training Loss: 2025802.25\n",
            "Local optima reached: Perturbing the best solution and continuing.\n",
            "Step 9/5000 completed.Current cost:579.6433936426221 Best cost: 570.0076816916657\n",
            "Training Loss: 1938755.125\n",
            "Step 10/5000 completed.Current cost:570.0076816916657 Best cost: 570.0076816916657\n",
            "Training Loss: 1855866.75\n",
            "Step 11/5000 completed.Current cost:570.0076816916657 Best cost: 570.0076816916657\n",
            "Training Loss: 1777118.0\n",
            "Local optima reached: Perturbing the best solution and continuing.\n",
            "Step 12/5000 completed.Current cost:594.9808336313064 Best cost: 570.0076816916657\n",
            "Training Loss: 1702543.125\n",
            "Step 13/5000 completed.Current cost:570.0076816916657 Best cost: 570.0076816916657\n",
            "Training Loss: 1631726.375\n",
            "Step 14/5000 completed.Current cost:570.0076816916657 Best cost: 570.0076816916657\n",
            "Training Loss: 1564742.75\n",
            "Local optima reached: Perturbing the best solution and continuing.\n",
            "Step 15/5000 completed.Current cost:576.5081736560206 Best cost: 570.0076816916657\n",
            "Training Loss: 1501517.625\n",
            "Step 16/5000 completed.Current cost:570.0076816916657 Best cost: 570.0076816916657\n",
            "Training Loss: 1441928.75\n",
            "Step 17/5000 completed.Current cost:570.0076816916657 Best cost: 570.0076816916657\n",
            "Training Loss: 1385917.625\n",
            "Local optima reached: Perturbing the best solution and continuing.\n",
            "Step 18/5000 completed.Current cost:615.4702390728161 Best cost: 570.0076816916657\n",
            "Training Loss: 1333414.0\n",
            "Step 19/5000 completed.Current cost:570.0076816916657 Best cost: 570.0076816916657\n",
            "Training Loss: 1284294.125\n",
            "Step 20/5000 completed.Current cost:570.0076816916657 Best cost: 570.0076816916657\n",
            "Training Loss: 1238537.25\n",
            "Local optima reached: Perturbing the best solution and continuing.\n"
          ]
        },
        {
          "ename": "KeyboardInterrupt",
          "evalue": "",
          "output_type": "error",
          "traceback": [
            "\u001b[0;31m---------------------------------------------------------------------------\u001b[0m",
            "\u001b[0;31mKeyboardInterrupt\u001b[0m                         Traceback (most recent call last)",
            "Cell \u001b[0;32mIn[91], line 1\u001b[0m\n\u001b[0;32m----> 1\u001b[0m optimizer\u001b[39m.\u001b[39;49moptimize(ode_method\u001b[39m=\u001b[39;49m\u001b[39m\"\u001b[39;49m\u001b[39mBDF\u001b[39;49m\u001b[39m\"\u001b[39;49m,perturbation_method\u001b[39m=\u001b[39;49m\u001b[39m\"\u001b[39;49m\u001b[39mestimate_gradient_directions\u001b[39;49m\u001b[39m\"\u001b[39;49m)\n",
            "File \u001b[0;32m~/ADToolbox/adtoolbox/optimize.py:324\u001b[0m, in \u001b[0;36mNNSurrogateTuner.optimize\u001b[0;34m(self, perturbation_method, ode_method, **kwargs)\u001b[0m\n\u001b[1;32m    322\u001b[0m new_params[new_params\u001b[39m>\u001b[39m\u001b[39mself\u001b[39m\u001b[39m.\u001b[39m_param_space[:,\u001b[39m1\u001b[39m]]\u001b[39m=\u001b[39m\u001b[39mself\u001b[39m\u001b[39m.\u001b[39m_param_space[:,\u001b[39m1\u001b[39m][new_params\u001b[39m>\u001b[39m\u001b[39mself\u001b[39m\u001b[39m.\u001b[39m_param_space[:,\u001b[39m1\u001b[39m]]\n\u001b[1;32m    323\u001b[0m \u001b[39m## make sure not in the local optima\u001b[39;00m\n\u001b[0;32m--> 324\u001b[0m new_cost\u001b[39m=\u001b[39m\u001b[39mself\u001b[39;49m\u001b[39m.\u001b[39;49m_cost(\u001b[39mdict\u001b[39;49m(\u001b[39mzip\u001b[39;49m(\u001b[39mself\u001b[39;49m\u001b[39m.\u001b[39;49mtunables\u001b[39m.\u001b[39;49mkeys(),new_params)),ode_method\u001b[39m=\u001b[39;49mode_method)\n\u001b[1;32m    325\u001b[0m \u001b[39mself\u001b[39m\u001b[39m.\u001b[39m_aquired[\u001b[39m\"\u001b[39m\u001b[39mparameters\u001b[39m\u001b[39m\"\u001b[39m]\u001b[39m=\u001b[39mnp\u001b[39m.\u001b[39mvstack((\u001b[39mself\u001b[39m\u001b[39m.\u001b[39m_aquired[\u001b[39m\"\u001b[39m\u001b[39mparameters\u001b[39m\u001b[39m\"\u001b[39m],new_params))\n\u001b[1;32m    326\u001b[0m \u001b[39mself\u001b[39m\u001b[39m.\u001b[39m_aquired[\u001b[39m\"\u001b[39m\u001b[39mcost\u001b[39m\u001b[39m\"\u001b[39m]\u001b[39m.\u001b[39mappend(new_cost)\n",
            "File \u001b[0;32m~/ADToolbox/adtoolbox/optimize.py:253\u001b[0m, in \u001b[0;36mNNSurrogateTuner._cost\u001b[0;34m(self, parameters, ode_method)\u001b[0m\n\u001b[1;32m    250\u001b[0m     _model\u001b[39m.\u001b[39mcontrol_state\u001b[39m=\u001b[39m{k:experiment\u001b[39m.\u001b[39minitial_concentrations[k] \u001b[39mfor\u001b[39;00m k \u001b[39min\u001b[39;00m experiment\u001b[39m.\u001b[39mconstants}\n\u001b[1;32m    251\u001b[0m     _model\u001b[39m.\u001b[39mfeed\u001b[39m=\u001b[39mexperiment\u001b[39m.\u001b[39mfeed\n\u001b[0;32m--> 253\u001b[0m     solution\u001b[39m=\u001b[39m_model\u001b[39m.\u001b[39;49msolve_model(np\u001b[39m.\u001b[39;49marray(experiment\u001b[39m.\u001b[39;49mtime),method\u001b[39m=\u001b[39;49mode_method)\u001b[39m.\u001b[39my[[_model\u001b[39m.\u001b[39mspecies\u001b[39m.\u001b[39mindex(i) \u001b[39mfor\u001b[39;00m i \u001b[39min\u001b[39;00m experiment\u001b[39m.\u001b[39mvariables],:]\n\u001b[1;32m    254\u001b[0m     res\u001b[39m+\u001b[39m\u001b[39m=\u001b[39mnp\u001b[39m.\u001b[39msum(np\u001b[39m.\u001b[39msquare(solution\u001b[39m.\u001b[39mT\u001b[39m-\u001b[39mexperiment\u001b[39m.\u001b[39mdata))\n\u001b[1;32m    256\u001b[0m \u001b[39mreturn\u001b[39;00m res\n",
            "File \u001b[0;32m~/ADToolbox/adtoolbox/adm.py:178\u001b[0m, in \u001b[0;36mModel.solve_model\u001b[0;34m(self, t_eval, method)\u001b[0m\n\u001b[1;32m    176\u001b[0m \u001b[39mtry\u001b[39;00m:\n\u001b[1;32m    177\u001b[0m     \u001b[39mself\u001b[39m\u001b[39m.\u001b[39m_be_time\u001b[39m=\u001b[39mtime\u001b[39m.\u001b[39mtime()\n\u001b[0;32m--> 178\u001b[0m     c \u001b[39m=\u001b[39m scipy\u001b[39m.\u001b[39;49mintegrate\u001b[39m.\u001b[39;49msolve_ivp(\u001b[39mself\u001b[39;49m\u001b[39m.\u001b[39;49mode_system, (\u001b[39m0\u001b[39;49m,\u001b[39mself\u001b[39;49m\u001b[39m.\u001b[39;49msim_time), y0, t_eval\u001b[39m=\u001b[39;49mt_eval, method\u001b[39m=\u001b[39;49mmethod, args\u001b[39m=\u001b[39;49m[\u001b[39mself\u001b[39;49m],rtol\u001b[39m=\u001b[39;49m\u001b[39m1e-6\u001b[39;49m)\n\u001b[1;32m    179\u001b[0m     \u001b[39mif\u001b[39;00m \u001b[39mnot\u001b[39;00m c\u001b[39m.\u001b[39msuccess:\n\u001b[1;32m    180\u001b[0m         \u001b[39mraise\u001b[39;00m \u001b[39mException\u001b[39;00m\n",
            "File \u001b[0;32m~/.pyenv/versions/3.10.5/envs/adtoolbox/lib/python3.10/site-packages/scipy/integrate/_ivp/ivp.py:655\u001b[0m, in \u001b[0;36msolve_ivp\u001b[0;34m(fun, t_span, y0, method, t_eval, dense_output, events, vectorized, args, **options)\u001b[0m\n\u001b[1;32m    653\u001b[0m status \u001b[39m=\u001b[39m \u001b[39mNone\u001b[39;00m\n\u001b[1;32m    654\u001b[0m \u001b[39mwhile\u001b[39;00m status \u001b[39mis\u001b[39;00m \u001b[39mNone\u001b[39;00m:\n\u001b[0;32m--> 655\u001b[0m     message \u001b[39m=\u001b[39m solver\u001b[39m.\u001b[39;49mstep()\n\u001b[1;32m    657\u001b[0m     \u001b[39mif\u001b[39;00m solver\u001b[39m.\u001b[39mstatus \u001b[39m==\u001b[39m \u001b[39m'\u001b[39m\u001b[39mfinished\u001b[39m\u001b[39m'\u001b[39m:\n\u001b[1;32m    658\u001b[0m         status \u001b[39m=\u001b[39m \u001b[39m0\u001b[39m\n",
            "File \u001b[0;32m~/.pyenv/versions/3.10.5/envs/adtoolbox/lib/python3.10/site-packages/scipy/integrate/_ivp/base.py:197\u001b[0m, in \u001b[0;36mOdeSolver.step\u001b[0;34m(self)\u001b[0m\n\u001b[1;32m    195\u001b[0m \u001b[39melse\u001b[39;00m:\n\u001b[1;32m    196\u001b[0m     t \u001b[39m=\u001b[39m \u001b[39mself\u001b[39m\u001b[39m.\u001b[39mt\n\u001b[0;32m--> 197\u001b[0m     success, message \u001b[39m=\u001b[39m \u001b[39mself\u001b[39;49m\u001b[39m.\u001b[39;49m_step_impl()\n\u001b[1;32m    199\u001b[0m     \u001b[39mif\u001b[39;00m \u001b[39mnot\u001b[39;00m success:\n\u001b[1;32m    200\u001b[0m         \u001b[39mself\u001b[39m\u001b[39m.\u001b[39mstatus \u001b[39m=\u001b[39m \u001b[39m'\u001b[39m\u001b[39mfailed\u001b[39m\u001b[39m'\u001b[39m\n",
            "File \u001b[0;32m~/.pyenv/versions/3.10.5/envs/adtoolbox/lib/python3.10/site-packages/scipy/integrate/_ivp/bdf.py:373\u001b[0m, in \u001b[0;36mBDF._step_impl\u001b[0;34m(self)\u001b[0m\n\u001b[1;32m    371\u001b[0m \u001b[39mif\u001b[39;00m current_jac:\n\u001b[1;32m    372\u001b[0m     \u001b[39mbreak\u001b[39;00m\n\u001b[0;32m--> 373\u001b[0m J \u001b[39m=\u001b[39m \u001b[39mself\u001b[39;49m\u001b[39m.\u001b[39;49mjac(t_new, y_predict)\n\u001b[1;32m    374\u001b[0m LU \u001b[39m=\u001b[39m \u001b[39mNone\u001b[39;00m\n\u001b[1;32m    375\u001b[0m current_jac \u001b[39m=\u001b[39m \u001b[39mTrue\u001b[39;00m\n",
            "File \u001b[0;32m~/.pyenv/versions/3.10.5/envs/adtoolbox/lib/python3.10/site-packages/scipy/integrate/_ivp/bdf.py:270\u001b[0m, in \u001b[0;36mBDF._validate_jac.<locals>.jac_wrapped\u001b[0;34m(t, y)\u001b[0m\n\u001b[1;32m    268\u001b[0m \u001b[39mself\u001b[39m\u001b[39m.\u001b[39mnjev \u001b[39m+\u001b[39m\u001b[39m=\u001b[39m \u001b[39m1\u001b[39m\n\u001b[1;32m    269\u001b[0m f \u001b[39m=\u001b[39m \u001b[39mself\u001b[39m\u001b[39m.\u001b[39mfun_single(t, y)\n\u001b[0;32m--> 270\u001b[0m J, \u001b[39mself\u001b[39m\u001b[39m.\u001b[39mjac_factor \u001b[39m=\u001b[39m num_jac(\u001b[39mself\u001b[39;49m\u001b[39m.\u001b[39;49mfun_vectorized, t, y, f,\n\u001b[1;32m    271\u001b[0m                              \u001b[39mself\u001b[39;49m\u001b[39m.\u001b[39;49matol, \u001b[39mself\u001b[39;49m\u001b[39m.\u001b[39;49mjac_factor,\n\u001b[1;32m    272\u001b[0m                              sparsity)\n\u001b[1;32m    273\u001b[0m \u001b[39mreturn\u001b[39;00m J\n",
            "File \u001b[0;32m~/.pyenv/versions/3.10.5/envs/adtoolbox/lib/python3.10/site-packages/scipy/integrate/_ivp/common.py:325\u001b[0m, in \u001b[0;36mnum_jac\u001b[0;34m(fun, t, y, f, threshold, factor, sparsity)\u001b[0m\n\u001b[1;32m    322\u001b[0m         h[i] \u001b[39m=\u001b[39m (y[i] \u001b[39m+\u001b[39m factor[i] \u001b[39m*\u001b[39m y_scale[i]) \u001b[39m-\u001b[39m y[i]\n\u001b[1;32m    324\u001b[0m \u001b[39mif\u001b[39;00m sparsity \u001b[39mis\u001b[39;00m \u001b[39mNone\u001b[39;00m:\n\u001b[0;32m--> 325\u001b[0m     \u001b[39mreturn\u001b[39;00m _dense_num_jac(fun, t, y, f, h, factor, y_scale)\n\u001b[1;32m    326\u001b[0m \u001b[39melse\u001b[39;00m:\n\u001b[1;32m    327\u001b[0m     structure, groups \u001b[39m=\u001b[39m sparsity\n",
            "File \u001b[0;32m~/.pyenv/versions/3.10.5/envs/adtoolbox/lib/python3.10/site-packages/scipy/integrate/_ivp/common.py:335\u001b[0m, in \u001b[0;36m_dense_num_jac\u001b[0;34m(fun, t, y, f, h, factor, y_scale)\u001b[0m\n\u001b[1;32m    333\u001b[0m n \u001b[39m=\u001b[39m y\u001b[39m.\u001b[39mshape[\u001b[39m0\u001b[39m]\n\u001b[1;32m    334\u001b[0m h_vecs \u001b[39m=\u001b[39m np\u001b[39m.\u001b[39mdiag(h)\n\u001b[0;32m--> 335\u001b[0m f_new \u001b[39m=\u001b[39m fun(t, y[:, \u001b[39mNone\u001b[39;49;00m] \u001b[39m+\u001b[39;49m h_vecs)\n\u001b[1;32m    336\u001b[0m diff \u001b[39m=\u001b[39m f_new \u001b[39m-\u001b[39m f[:, \u001b[39mNone\u001b[39;00m]\n\u001b[1;32m    337\u001b[0m max_ind \u001b[39m=\u001b[39m np\u001b[39m.\u001b[39margmax(np\u001b[39m.\u001b[39mabs(diff), axis\u001b[39m=\u001b[39m\u001b[39m0\u001b[39m)\n",
            "File \u001b[0;32m~/.pyenv/versions/3.10.5/envs/adtoolbox/lib/python3.10/site-packages/scipy/integrate/_ivp/base.py:149\u001b[0m, in \u001b[0;36mOdeSolver.__init__.<locals>.fun_vectorized\u001b[0;34m(t, y)\u001b[0m\n\u001b[1;32m    147\u001b[0m f \u001b[39m=\u001b[39m np\u001b[39m.\u001b[39mempty_like(y)\n\u001b[1;32m    148\u001b[0m \u001b[39mfor\u001b[39;00m i, yi \u001b[39min\u001b[39;00m \u001b[39menumerate\u001b[39m(y\u001b[39m.\u001b[39mT):\n\u001b[0;32m--> 149\u001b[0m     f[:, i] \u001b[39m=\u001b[39m \u001b[39mself\u001b[39;49m\u001b[39m.\u001b[39;49m_fun(t, yi)\n\u001b[1;32m    150\u001b[0m \u001b[39mreturn\u001b[39;00m f\n",
            "File \u001b[0;32m~/.pyenv/versions/3.10.5/envs/adtoolbox/lib/python3.10/site-packages/scipy/integrate/_ivp/base.py:23\u001b[0m, in \u001b[0;36mcheck_arguments.<locals>.fun_wrapped\u001b[0;34m(t, y)\u001b[0m\n\u001b[1;32m     22\u001b[0m \u001b[39mdef\u001b[39;00m \u001b[39mfun_wrapped\u001b[39m(t, y):\n\u001b[0;32m---> 23\u001b[0m     \u001b[39mreturn\u001b[39;00m np\u001b[39m.\u001b[39masarray(fun(t, y), dtype\u001b[39m=\u001b[39mdtype)\n",
            "File \u001b[0;32m~/.pyenv/versions/3.10.5/envs/adtoolbox/lib/python3.10/site-packages/scipy/integrate/_ivp/ivp.py:593\u001b[0m, in \u001b[0;36msolve_ivp.<locals>.fun\u001b[0;34m(t, x, fun)\u001b[0m\n\u001b[1;32m    592\u001b[0m \u001b[39mdef\u001b[39;00m \u001b[39mfun\u001b[39m(t, x, fun\u001b[39m=\u001b[39mfun):\n\u001b[0;32m--> 593\u001b[0m     \u001b[39mreturn\u001b[39;00m fun(t, x, \u001b[39m*\u001b[39;49margs)\n",
            "File \u001b[0;32m~/ADToolbox/adtoolbox/adm.py:1758\u001b[0m, in \u001b[0;36me_adm_2_ode_sys\u001b[0;34m(t, c, model)\u001b[0m\n\u001b[1;32m   1755\u001b[0m \u001b[39melse\u001b[39;00m:\n\u001b[1;32m   1756\u001b[0m     model\u001b[39m.\u001b[39mnitrogen_limited\u001b[39m=\u001b[39m\u001b[39mFalse\u001b[39;00m\n\u001b[0;32m-> 1758\u001b[0m dCdt \u001b[39m=\u001b[39m np\u001b[39m.\u001b[39mmatmul(model\u001b[39m.\u001b[39;49ms, v)\n\u001b[1;32m   1759\u001b[0m phi \u001b[39m=\u001b[39m c[model\u001b[39m.\u001b[39mspecies\u001b[39m.\u001b[39mindex(\u001b[39m'\u001b[39m\u001b[39mS_cation\u001b[39m\u001b[39m'\u001b[39m)]\u001b[39m+\u001b[39mc[model\u001b[39m.\u001b[39mspecies\u001b[39m.\u001b[39mindex(\u001b[39m'\u001b[39m\u001b[39mS_nh4_ion\u001b[39m\u001b[39m'\u001b[39m)]\u001b[39m-\u001b[39mc[model\u001b[39m.\u001b[39mspecies\u001b[39m.\u001b[39mindex(\u001b[39m'\u001b[39m\u001b[39mS_hco3_ion\u001b[39m\u001b[39m'\u001b[39m)]\u001b[39m-\u001b[39m(c[model\u001b[39m.\u001b[39mspecies\u001b[39m.\u001b[39mindex(\u001b[39m'\u001b[39m\u001b[39mS_lac_ion\u001b[39m\u001b[39m'\u001b[39m)] \u001b[39m/\u001b[39m \u001b[39m88\u001b[39m) \u001b[39m-\u001b[39m \\\n\u001b[1;32m   1760\u001b[0m (c[model\u001b[39m.\u001b[39mspecies\u001b[39m.\u001b[39mindex(\u001b[39m'\u001b[39m\u001b[39mS_ac_ion\u001b[39m\u001b[39m'\u001b[39m)] \u001b[39m/\u001b[39m \u001b[39m64\u001b[39m) \u001b[39m-\u001b[39m (c[model\u001b[39m.\u001b[39mspecies\u001b[39m.\u001b[39mindex(\u001b[39m'\u001b[39m\u001b[39mS_pro_ion\u001b[39m\u001b[39m'\u001b[39m)] \u001b[39m/\u001b[39m \u001b[39m112\u001b[39m) \u001b[39m-\u001b[39m (c[model\u001b[39m.\u001b[39mspecies\u001b[39m.\u001b[39mindex(\u001b[39m'\u001b[39m\u001b[39mS_bu_ion\u001b[39m\u001b[39m'\u001b[39m)] \u001b[39m/\u001b[39m \u001b[39m160\u001b[39m)\u001b[39m-\u001b[39m(c[model\u001b[39m.\u001b[39mspecies\u001b[39m.\u001b[39mindex(\u001b[39m'\u001b[39m\u001b[39mS_cap_ion\u001b[39m\u001b[39m'\u001b[39m)] \u001b[39m/\u001b[39m \u001b[39m230\u001b[39m) \u001b[39m-\u001b[39m (c[model\u001b[39m.\u001b[39mspecies\u001b[39m.\u001b[39mindex(\u001b[39m'\u001b[39m\u001b[39mS_va_ion\u001b[39m\u001b[39m'\u001b[39m)] \u001b[39m/\u001b[39m \u001b[39m208\u001b[39m) \u001b[39m-\u001b[39m c[model\u001b[39m.\u001b[39mspecies\u001b[39m.\u001b[39mindex(\u001b[39m'\u001b[39m\u001b[39mS_anion\u001b[39m\u001b[39m'\u001b[39m)]\n\u001b[1;32m   1762\u001b[0m \u001b[39mif\u001b[39;00m \u001b[39m'\u001b[39m\u001b[39mS_H_ion\u001b[39m\u001b[39m'\u001b[39m \u001b[39min\u001b[39;00m model\u001b[39m.\u001b[39mcontrol_state\u001b[39m.\u001b[39mkeys():\n",
            "File \u001b[0;32m~/ADToolbox/adtoolbox/adm.py:106\u001b[0m, in \u001b[0;36mModel.s\u001b[0;34m(self)\u001b[0m\n\u001b[1;32m    103\u001b[0m \u001b[39m@property\u001b[39m\n\u001b[1;32m    104\u001b[0m \u001b[39mdef\u001b[39;00m \u001b[39ms\u001b[39m(\u001b[39mself\u001b[39m):\n\u001b[1;32m    105\u001b[0m \u001b[39m    \u001b[39m\u001b[39m\"\"\"Returns the stoichiometric matrix of a model\"\"\"\u001b[39;00m\n\u001b[0;32m--> 106\u001b[0m     \u001b[39mreturn\u001b[39;00m \u001b[39mself\u001b[39;49m\u001b[39m.\u001b[39;49mbuild_stoichiometric_matrix(\n\u001b[1;32m    107\u001b[0m         base_parameters\u001b[39m=\u001b[39;49m\u001b[39mself\u001b[39;49m\u001b[39m.\u001b[39;49mbase_parameters,model_parameters\u001b[39m=\u001b[39;49m \u001b[39mself\u001b[39;49m\u001b[39m.\u001b[39;49mmodel_parameters,reactions\u001b[39m=\u001b[39;49m \u001b[39mself\u001b[39;49m\u001b[39m.\u001b[39;49mreactions,species\u001b[39m=\u001b[39;49m \u001b[39mself\u001b[39;49m\u001b[39m.\u001b[39;49mspecies,feed\u001b[39m=\u001b[39;49m\u001b[39mself\u001b[39;49m\u001b[39m.\u001b[39;49mfeed, nitrogen_limited\u001b[39m=\u001b[39;49m\u001b[39mself\u001b[39;49m\u001b[39m.\u001b[39;49mnitrogen_limited)\n",
            "File \u001b[0;32m~/ADToolbox/adtoolbox/adm.py:1153\u001b[0m, in \u001b[0;36mbuild_e_adm_2_stoichiometric_matrix\u001b[0;34m(base_parameters, model_parameters, reactions, species, feed, nitrogen_limited)\u001b[0m\n\u001b[1;32m   1147\u001b[0m S[\u001b[39mlist\u001b[39m(\u001b[39mmap\u001b[39m(species\u001b[39m.\u001b[39mindex, [\u001b[39m\"\u001b[39m\u001b[39mX_aa\u001b[39m\u001b[39m\"\u001b[39m, \u001b[39m\"\u001b[39m\u001b[39mTSS\u001b[39m\u001b[39m\"\u001b[39m,\u001b[39m\"\u001b[39m\u001b[39mS_IN\u001b[39m\u001b[39m\"\u001b[39m,\u001b[39m\"\u001b[39m\u001b[39mS_IC\u001b[39m\u001b[39m\"\u001b[39m])),\n\u001b[1;32m   1148\u001b[0m     reactions\u001b[39m.\u001b[39mindex(\u001b[39m'\u001b[39m\u001b[39mDecay of Xaa\u001b[39m\u001b[39m'\u001b[39m)] \u001b[39m=\u001b[39m [\u001b[39m-\u001b[39m\u001b[39m1\u001b[39m, \u001b[39m1\u001b[39m,model_parameters[\u001b[39m'\u001b[39m\u001b[39mN_bac\u001b[39m\u001b[39m'\u001b[39m],model_parameters[\u001b[39m'\u001b[39m\u001b[39mC_bac\u001b[39m\u001b[39m'\u001b[39m]]\n\u001b[1;32m   1150\u001b[0m S[\u001b[39mlist\u001b[39m(\u001b[39mmap\u001b[39m(species\u001b[39m.\u001b[39mindex, [\u001b[39m\"\u001b[39m\u001b[39mX_fa\u001b[39m\u001b[39m\"\u001b[39m, \u001b[39m\"\u001b[39m\u001b[39mTSS\u001b[39m\u001b[39m\"\u001b[39m,\u001b[39m\"\u001b[39m\u001b[39mS_IN\u001b[39m\u001b[39m\"\u001b[39m,\u001b[39m\"\u001b[39m\u001b[39mS_IC\u001b[39m\u001b[39m\"\u001b[39m])),\n\u001b[1;32m   1151\u001b[0m     reactions\u001b[39m.\u001b[39mindex(\u001b[39m'\u001b[39m\u001b[39mDecay of Xfa\u001b[39m\u001b[39m'\u001b[39m)] \u001b[39m=\u001b[39m [\u001b[39m-\u001b[39m\u001b[39m1\u001b[39m, \u001b[39m1\u001b[39m,model_parameters[\u001b[39m'\u001b[39m\u001b[39mN_bac\u001b[39m\u001b[39m'\u001b[39m],model_parameters[\u001b[39m'\u001b[39m\u001b[39mC_bac\u001b[39m\u001b[39m'\u001b[39m]]\n\u001b[0;32m-> 1153\u001b[0m S[\u001b[39mlist\u001b[39m(\u001b[39mmap\u001b[39;49m(species\u001b[39m.\u001b[39;49mindex, [\u001b[39m\"\u001b[39;49m\u001b[39mX_ac_et\u001b[39;49m\u001b[39m\"\u001b[39;49m, \u001b[39m\"\u001b[39;49m\u001b[39mTSS\u001b[39;49m\u001b[39m\"\u001b[39;49m,\u001b[39m\"\u001b[39;49m\u001b[39mS_IN\u001b[39;49m\u001b[39m\"\u001b[39;49m,\u001b[39m\"\u001b[39;49m\u001b[39mS_IC\u001b[39;49m\u001b[39m\"\u001b[39;49m])),\n\u001b[1;32m   1154\u001b[0m     reactions\u001b[39m.\u001b[39mindex(\u001b[39m'\u001b[39m\u001b[39mDecay of X_ac_et\u001b[39m\u001b[39m'\u001b[39m)] \u001b[39m=\u001b[39m [\u001b[39m-\u001b[39m\u001b[39m1\u001b[39m, \u001b[39m1\u001b[39m,model_parameters[\u001b[39m'\u001b[39m\u001b[39mN_bac\u001b[39m\u001b[39m'\u001b[39m],model_parameters[\u001b[39m'\u001b[39m\u001b[39mC_bac\u001b[39m\u001b[39m'\u001b[39m]]\n\u001b[1;32m   1156\u001b[0m S[\u001b[39mlist\u001b[39m(\u001b[39mmap\u001b[39m(species\u001b[39m.\u001b[39mindex, [\u001b[39m\"\u001b[39m\u001b[39mX_ac_lac\u001b[39m\u001b[39m\"\u001b[39m, \u001b[39m\"\u001b[39m\u001b[39mTSS\u001b[39m\u001b[39m\"\u001b[39m,\u001b[39m\"\u001b[39m\u001b[39mS_IN\u001b[39m\u001b[39m\"\u001b[39m,\u001b[39m\"\u001b[39m\u001b[39mS_IC\u001b[39m\u001b[39m\"\u001b[39m])),\n\u001b[1;32m   1157\u001b[0m     reactions\u001b[39m.\u001b[39mindex(\u001b[39m'\u001b[39m\u001b[39mDecay of X_ac_lac\u001b[39m\u001b[39m'\u001b[39m)] \u001b[39m=\u001b[39m [\u001b[39m-\u001b[39m\u001b[39m1\u001b[39m, \u001b[39m1\u001b[39m,model_parameters[\u001b[39m'\u001b[39m\u001b[39mN_bac\u001b[39m\u001b[39m'\u001b[39m],model_parameters[\u001b[39m'\u001b[39m\u001b[39mC_bac\u001b[39m\u001b[39m'\u001b[39m]]\n\u001b[1;32m   1159\u001b[0m S[\u001b[39mlist\u001b[39m(\u001b[39mmap\u001b[39m(species\u001b[39m.\u001b[39mindex, [\u001b[39m\"\u001b[39m\u001b[39mX_chain_et\u001b[39m\u001b[39m\"\u001b[39m, \u001b[39m\"\u001b[39m\u001b[39mTSS\u001b[39m\u001b[39m\"\u001b[39m, \u001b[39m\"\u001b[39m\u001b[39mS_IN\u001b[39m\u001b[39m\"\u001b[39m,\u001b[39m\"\u001b[39m\u001b[39mS_IC\u001b[39m\u001b[39m\"\u001b[39m])),\n\u001b[1;32m   1160\u001b[0m     reactions\u001b[39m.\u001b[39mindex(\u001b[39m'\u001b[39m\u001b[39mDecay of X_chain_et\u001b[39m\u001b[39m'\u001b[39m)] \u001b[39m=\u001b[39m [\u001b[39m-\u001b[39m\u001b[39m1\u001b[39m, \u001b[39m1\u001b[39m,model_parameters[\u001b[39m'\u001b[39m\u001b[39mN_bac\u001b[39m\u001b[39m'\u001b[39m],model_parameters[\u001b[39m'\u001b[39m\u001b[39mC_bac\u001b[39m\u001b[39m'\u001b[39m]]\n",
            "\u001b[0;31mKeyboardInterrupt\u001b[0m: "
          ]
        }
      ],
      "source": [
        "optimizer.optimize(ode_method=\"BDF\",perturbation_method=\"estimate_gradient_directions\")"
      ]
    },
    {
      "cell_type": "code",
      "execution_count": 81,
      "metadata": {},
      "outputs": [],
      "source": [
        "import pickle"
      ]
    },
    {
      "cell_type": "code",
      "execution_count": 82,
      "metadata": {},
      "outputs": [],
      "source": [
        "with open(\"./history.pkl\",\"rb\") as f:\n",
        "    params=pickle.load(f)"
      ]
    },
    {
      "cell_type": "code",
      "execution_count": 83,
      "metadata": {},
      "outputs": [],
      "source": [
        "min_index=params[\"cost\"].index(min(params[\"cost\"]))\n",
        "model.update_parameters(model_parameters=dict(zip(tunables.keys(),params[\"parameters\"][min_index])))"
      ]
    },
    {
      "cell_type": "code",
      "execution_count": 86,
      "metadata": {},
      "outputs": [
        {
          "data": {
            "image/svg+xml": [
              "<svg class=\"main-svg\" xmlns=\"http://www.w3.org/2000/svg\" xmlns:xlink=\"http://www.w3.org/1999/xlink\" width=\"700\" height=\"500\" style=\"\" viewBox=\"0 0 700 500\"><rect x=\"0\" y=\"0\" width=\"700\" height=\"500\" style=\"fill: rgb(255, 255, 255); fill-opacity: 1;\"/><defs id=\"defs-a102a8\"><g class=\"clips\"><clipPath id=\"clipa102a8xyplot\" class=\"plotclip\"><rect width=\"464\" height=\"320\"/></clipPath><clipPath class=\"axesclip\" id=\"clipa102a8x\"><rect x=\"80\" y=\"0\" width=\"464\" height=\"500\"/></clipPath><clipPath class=\"axesclip\" id=\"clipa102a8y\"><rect x=\"0\" y=\"100\" width=\"700\" height=\"320\"/></clipPath><clipPath class=\"axesclip\" id=\"clipa102a8xy\"><rect x=\"80\" y=\"100\" width=\"464\" height=\"320\"/></clipPath></g><g class=\"gradients\"/><g class=\"patterns\"/></defs><g class=\"bglayer\"><rect class=\"bg\" x=\"80\" y=\"100\" width=\"464\" height=\"320\" style=\"fill: rgb(229, 236, 246); fill-opacity: 1; stroke-width: 0;\"/></g><g class=\"layer-below\"><g class=\"imagelayer\"/><g class=\"shapelayer\"/></g><g class=\"cartesianlayer\"><g class=\"subplot xy\"><g class=\"layer-subplot\"><g class=\"shapelayer\"/><g class=\"imagelayer\"/></g><g class=\"minor-gridlayer\"><g class=\"x\"/><g class=\"y\"/></g><g class=\"gridlayer\"><g class=\"x\"><path class=\"xgrid crisp\" transform=\"translate(179.53,0)\" d=\"M0,100v320\" style=\"stroke: rgb(255, 255, 255); stroke-opacity: 1; stroke-width: 1px;\"/><path class=\"xgrid crisp\" transform=\"translate(252.12,0)\" d=\"M0,100v320\" style=\"stroke: rgb(255, 255, 255); stroke-opacity: 1; stroke-width: 1px;\"/><path class=\"xgrid crisp\" transform=\"translate(324.7,0)\" d=\"M0,100v320\" style=\"stroke: rgb(255, 255, 255); stroke-opacity: 1; stroke-width: 1px;\"/><path class=\"xgrid crisp\" transform=\"translate(397.29,0)\" d=\"M0,100v320\" style=\"stroke: rgb(255, 255, 255); stroke-opacity: 1; stroke-width: 1px;\"/><path class=\"xgrid crisp\" transform=\"translate(469.87,0)\" d=\"M0,100v320\" style=\"stroke: rgb(255, 255, 255); stroke-opacity: 1; stroke-width: 1px;\"/><path class=\"xgrid crisp\" transform=\"translate(542.45,0)\" d=\"M0,100v320\" style=\"stroke: rgb(255, 255, 255); stroke-opacity: 1; stroke-width: 1px;\"/></g><g class=\"y\"><path class=\"ygrid crisp\" transform=\"translate(0,346.87)\" d=\"M80,0h464\" style=\"stroke: rgb(255, 255, 255); stroke-opacity: 1; stroke-width: 1px;\"/><path class=\"ygrid crisp\" transform=\"translate(0,293.49)\" d=\"M80,0h464\" style=\"stroke: rgb(255, 255, 255); stroke-opacity: 1; stroke-width: 1px;\"/><path class=\"ygrid crisp\" transform=\"translate(0,240.11)\" d=\"M80,0h464\" style=\"stroke: rgb(255, 255, 255); stroke-opacity: 1; stroke-width: 1px;\"/><path class=\"ygrid crisp\" transform=\"translate(0,186.74)\" d=\"M80,0h464\" style=\"stroke: rgb(255, 255, 255); stroke-opacity: 1; stroke-width: 1px;\"/><path class=\"ygrid crisp\" transform=\"translate(0,133.36)\" d=\"M80,0h464\" style=\"stroke: rgb(255, 255, 255); stroke-opacity: 1; stroke-width: 1px;\"/></g></g><g class=\"zerolinelayer\"><path class=\"xzl zl crisp\" transform=\"translate(106.95,0)\" d=\"M0,100v320\" style=\"stroke: rgb(255, 255, 255); stroke-opacity: 1; stroke-width: 2px;\"/><path class=\"yzl zl crisp\" transform=\"translate(0,400.25)\" d=\"M80,0h464\" style=\"stroke: rgb(255, 255, 255); stroke-opacity: 1; stroke-width: 2px;\"/></g><g class=\"layer-between\"><g class=\"shapelayer\"/><g class=\"imagelayer\"/></g><path class=\"xlines-below\"/><path class=\"ylines-below\"/><g class=\"overlines-below\"/><g class=\"xaxislayer-below\"/><g class=\"yaxislayer-below\"/><g class=\"overaxes-below\"/><g class=\"plot\" transform=\"translate(80,100)\" clip-path=\"url(#clipa102a8xyplot)\"><g class=\"scatterlayer mlayer\"><g class=\"trace scatter trace0f2551\" style=\"stroke-miterlimit: 2; opacity: 1;\"><g class=\"fills\"/><g class=\"errorbars\"/><g class=\"lines\"><path class=\"js-line\" d=\"M26.95,274.57L70.5,180.21L146.71,192.6L288.25,240.11L437.05,234.6\" style=\"vector-effect: none; fill: none; stroke: rgb(99, 110, 250); stroke-opacity: 1; stroke-width: 2px; opacity: 1;\"/></g><g class=\"points\"/><g class=\"text\"/></g><g class=\"trace scatter tracefbe37b\" style=\"stroke-miterlimit: 2; opacity: 1;\"><g class=\"fills\"/><g class=\"errorbars\"/><g class=\"lines\"><path class=\"js-line\" d=\"M26.95,300.25L70.5,258.83L146.71,260.81L437.05,234.88\" style=\"vector-effect: none; fill: none; stroke: rgb(239, 85, 59); stroke-opacity: 1; stroke-width: 2px; opacity: 1;\"/></g><g class=\"points\"/><g class=\"text\"/></g><g class=\"trace scatter trace199e7c\" style=\"stroke-miterlimit: 2; opacity: 1;\"><g class=\"fills\"/><g class=\"errorbars\"/><g class=\"lines\"><path class=\"js-line\" d=\"M26.95,300.25L70.5,274.66L146.71,212.44L288.25,179.45L437.05,205.44\" style=\"vector-effect: none; fill: none; stroke: rgb(0, 204, 150); stroke-opacity: 1; stroke-width: 2px; opacity: 1;\"/></g><g class=\"points\"/><g class=\"text\"/></g><g class=\"trace scatter tracee832d6\" style=\"stroke-miterlimit: 2; opacity: 1;\"><g class=\"fills\"/><g class=\"errorbars\"/><g class=\"lines\"><path class=\"js-line\" d=\"M26.95,300.25L70.5,286.84L146.71,265.94L288.25,282.26L437.05,296.5\" style=\"vector-effect: none; fill: none; stroke: rgb(171, 99, 250); stroke-opacity: 1; stroke-width: 2px; opacity: 1;\"/></g><g class=\"points\"/><g class=\"text\"/></g><g class=\"trace scatter trace8ecf7b\" style=\"stroke-miterlimit: 2; opacity: 1;\"><g class=\"fills\"/><g class=\"errorbars\"/><g class=\"lines\"><path class=\"js-line\" d=\"M26.95,300.25L437.05,299.82\" style=\"vector-effect: none; fill: none; stroke: rgb(255, 161, 90); stroke-opacity: 1; stroke-width: 2px; opacity: 1;\"/></g><g class=\"points\"/><g class=\"text\"/></g><g class=\"trace scatter trace1bcf0f\" style=\"stroke-miterlimit: 2; opacity: 1;\"><g class=\"fills\"/><g class=\"errorbars\"><g class=\"errorbar\"><path class=\"yerror\" d=\"M22.95,276.59h8m-4,0V283.28m-4,0h8\" style=\"vector-effect: none; stroke-width: 2px; stroke: rgb(99, 110, 250); stroke-opacity: 1;\"/></g><g class=\"errorbar\"><path class=\"yerror\" d=\"M66.5,77.5h8m-4,0V187.22m-4,0h8\" style=\"vector-effect: none; stroke-width: 2px; stroke: rgb(99, 110, 250); stroke-opacity: 1;\"/></g><g class=\"errorbar\"><path class=\"yerror\" d=\"M142.71,18.58h8m-4,0V94.75m-4,0h8\" style=\"vector-effect: none; stroke-width: 2px; stroke: rgb(99, 110, 250); stroke-opacity: 1;\"/></g><g class=\"errorbar\"><path class=\"yerror\" d=\"M284.25,36.86h8m-4,0V203.4m-4,0h8\" style=\"vector-effect: none; stroke-width: 2px; stroke: rgb(99, 110, 250); stroke-opacity: 1;\"/></g><g class=\"errorbar\"><path class=\"yerror\" d=\"M433.05,16h8m-4,0V212.72m-4,0h8\" style=\"vector-effect: none; stroke-width: 2px; stroke: rgb(99, 110, 250); stroke-opacity: 1;\"/></g></g><g class=\"lines\"/><g class=\"points\"><path class=\"point\" transform=\"translate(26.95,279.93)\" d=\"M3,0A3,3 0 1,1 0,-3A3,3 0 0,1 3,0Z\" style=\"opacity: 1; stroke-width: 0px; fill: rgb(99, 110, 250); fill-opacity: 1;\"/><path class=\"point\" transform=\"translate(70.5,132.36)\" d=\"M3,0A3,3 0 1,1 0,-3A3,3 0 0,1 3,0Z\" style=\"opacity: 1; stroke-width: 0px; fill: rgb(99, 110, 250); fill-opacity: 1;\"/><path class=\"point\" transform=\"translate(146.71,56.67)\" d=\"M3,0A3,3 0 1,1 0,-3A3,3 0 0,1 3,0Z\" style=\"opacity: 1; stroke-width: 0px; fill: rgb(99, 110, 250); fill-opacity: 1;\"/><path class=\"point\" transform=\"translate(288.25,120.13)\" d=\"M3,0A3,3 0 1,1 0,-3A3,3 0 0,1 3,0Z\" style=\"opacity: 1; stroke-width: 0px; fill: rgb(99, 110, 250); fill-opacity: 1;\"/><path class=\"point\" transform=\"translate(437.05,114.36)\" d=\"M3,0A3,3 0 1,1 0,-3A3,3 0 0,1 3,0Z\" style=\"opacity: 1; stroke-width: 0px; fill: rgb(99, 110, 250); fill-opacity: 1;\"/></g><g class=\"text\"/></g><g class=\"trace scatter trace836128\" style=\"stroke-miterlimit: 2; opacity: 1;\"><g class=\"fills\"/><g class=\"errorbars\"><g class=\"errorbar\"><path class=\"yerror\" d=\"M22.95,300.25h8m-4,0V300.25m-4,0h8\" style=\"vector-effect: none; stroke-width: 2px; stroke: rgb(239, 85, 59); stroke-opacity: 1;\"/></g><g class=\"errorbar\"><path class=\"yerror\" d=\"M66.5,278.34h8m-4,0V292.17m-4,0h8\" style=\"vector-effect: none; stroke-width: 2px; stroke: rgb(239, 85, 59); stroke-opacity: 1;\"/></g><g class=\"errorbar\"><path class=\"yerror\" d=\"M142.71,232.19h8m-4,0V263.35m-4,0h8\" style=\"vector-effect: none; stroke-width: 2px; stroke: rgb(239, 85, 59); stroke-opacity: 1;\"/></g><g class=\"errorbar\"><path class=\"yerror\" d=\"M284.25,213.61h8m-4,0V251.38m-4,0h8\" style=\"vector-effect: none; stroke-width: 2px; stroke: rgb(239, 85, 59); stroke-opacity: 1;\"/></g><g class=\"errorbar\"><path class=\"yerror\" d=\"M433.05,208.49h8m-4,0V236.93m-4,0h8\" style=\"vector-effect: none; stroke-width: 2px; stroke: rgb(239, 85, 59); stroke-opacity: 1;\"/></g></g><g class=\"lines\"/><g class=\"points\"><path class=\"point\" transform=\"translate(26.95,300.25)\" d=\"M3,0A3,3 0 1,1 0,-3A3,3 0 0,1 3,0Z\" style=\"opacity: 1; stroke-width: 0px; fill: rgb(239, 85, 59); fill-opacity: 1;\"/><path class=\"point\" transform=\"translate(70.5,285.25)\" d=\"M3,0A3,3 0 1,1 0,-3A3,3 0 0,1 3,0Z\" style=\"opacity: 1; stroke-width: 0px; fill: rgb(239, 85, 59); fill-opacity: 1;\"/><path class=\"point\" transform=\"translate(146.71,247.77)\" d=\"M3,0A3,3 0 1,1 0,-3A3,3 0 0,1 3,0Z\" style=\"opacity: 1; stroke-width: 0px; fill: rgb(239, 85, 59); fill-opacity: 1;\"/><path class=\"point\" transform=\"translate(288.25,232.5)\" d=\"M3,0A3,3 0 1,1 0,-3A3,3 0 0,1 3,0Z\" style=\"opacity: 1; stroke-width: 0px; fill: rgb(239, 85, 59); fill-opacity: 1;\"/><path class=\"point\" transform=\"translate(437.05,222.71)\" d=\"M3,0A3,3 0 1,1 0,-3A3,3 0 0,1 3,0Z\" style=\"opacity: 1; stroke-width: 0px; fill: rgb(239, 85, 59); fill-opacity: 1;\"/></g><g class=\"text\"/></g><g class=\"trace scatter traceaab3ce\" style=\"stroke-miterlimit: 2; opacity: 1;\"><g class=\"fills\"/><g class=\"errorbars\"><g class=\"errorbar\"><path class=\"yerror\" d=\"M22.95,300.25h8m-4,0V300.25m-4,0h8\" style=\"vector-effect: none; stroke-width: 2px; stroke: rgb(0, 204, 150); stroke-opacity: 1;\"/></g><g class=\"errorbar\"><path class=\"yerror\" d=\"M66.5,89.5h8m-4,0V230.77m-4,0h8\" style=\"vector-effect: none; stroke-width: 2px; stroke: rgb(0, 204, 150); stroke-opacity: 1;\"/></g><g class=\"errorbar\"><path class=\"yerror\" d=\"M142.71,100.46h8m-4,0V221.48m-4,0h8\" style=\"vector-effect: none; stroke-width: 2px; stroke: rgb(0, 204, 150); stroke-opacity: 1;\"/></g><g class=\"errorbar\"><path class=\"yerror\" d=\"M284.25,139.75h8m-4,0V243.85m-4,0h8\" style=\"vector-effect: none; stroke-width: 2px; stroke: rgb(0, 204, 150); stroke-opacity: 1;\"/></g><g class=\"errorbar\"><path class=\"yerror\" d=\"M433.05,157.87h8m-4,0V289.96m-4,0h8\" style=\"vector-effect: none; stroke-width: 2px; stroke: rgb(0, 204, 150); stroke-opacity: 1;\"/></g></g><g class=\"lines\"/><g class=\"points\"><path class=\"point\" transform=\"translate(26.95,300.25)\" d=\"M3,0A3,3 0 1,1 0,-3A3,3 0 0,1 3,0Z\" style=\"opacity: 1; stroke-width: 0px; fill: rgb(0, 204, 150); fill-opacity: 1;\"/><path class=\"point\" transform=\"translate(70.5,160.13)\" d=\"M3,0A3,3 0 1,1 0,-3A3,3 0 0,1 3,0Z\" style=\"opacity: 1; stroke-width: 0px; fill: rgb(0, 204, 150); fill-opacity: 1;\"/><path class=\"point\" transform=\"translate(146.71,160.97)\" d=\"M3,0A3,3 0 1,1 0,-3A3,3 0 0,1 3,0Z\" style=\"opacity: 1; stroke-width: 0px; fill: rgb(0, 204, 150); fill-opacity: 1;\"/><path class=\"point\" transform=\"translate(288.25,191.8)\" d=\"M3,0A3,3 0 1,1 0,-3A3,3 0 0,1 3,0Z\" style=\"opacity: 1; stroke-width: 0px; fill: rgb(0, 204, 150); fill-opacity: 1;\"/><path class=\"point\" transform=\"translate(437.05,223.92)\" d=\"M3,0A3,3 0 1,1 0,-3A3,3 0 0,1 3,0Z\" style=\"opacity: 1; stroke-width: 0px; fill: rgb(0, 204, 150); fill-opacity: 1;\"/></g><g class=\"text\"/></g><g class=\"trace scatter traceaaba9a\" style=\"stroke-miterlimit: 2; opacity: 1;\"><g class=\"fills\"/><g class=\"errorbars\"><g class=\"errorbar\"><path class=\"yerror\" d=\"M22.95,300.25h8m-4,0V300.25m-4,0h8\" style=\"vector-effect: none; stroke-width: 2px; stroke: rgb(171, 99, 250); stroke-opacity: 1;\"/></g><g class=\"errorbar\"><path class=\"yerror\" d=\"M66.5,278.91h8m-4,0V288.89m-4,0h8\" style=\"vector-effect: none; stroke-width: 2px; stroke: rgb(171, 99, 250); stroke-opacity: 1;\"/></g><g class=\"errorbar\"><path class=\"yerror\" d=\"M142.71,246.82h8m-4,0V267.33m-4,0h8\" style=\"vector-effect: none; stroke-width: 2px; stroke: rgb(171, 99, 250); stroke-opacity: 1;\"/></g><g class=\"errorbar\"><path class=\"yerror\" d=\"M284.25,258.81h8m-4,0V269.58m-4,0h8\" style=\"vector-effect: none; stroke-width: 2px; stroke: rgb(171, 99, 250); stroke-opacity: 1;\"/></g><g class=\"errorbar\"><path class=\"yerror\" d=\"M433.05,258.1h8m-4,0V275.97m-4,0h8\" style=\"vector-effect: none; stroke-width: 2px; stroke: rgb(171, 99, 250); stroke-opacity: 1;\"/></g></g><g class=\"lines\"/><g class=\"points\"><path class=\"point\" transform=\"translate(26.95,300.25)\" d=\"M3,0A3,3 0 1,1 0,-3A3,3 0 0,1 3,0Z\" style=\"opacity: 1; stroke-width: 0px; fill: rgb(171, 99, 250); fill-opacity: 1;\"/><path class=\"point\" transform=\"translate(70.5,283.9)\" d=\"M3,0A3,3 0 1,1 0,-3A3,3 0 0,1 3,0Z\" style=\"opacity: 1; stroke-width: 0px; fill: rgb(171, 99, 250); fill-opacity: 1;\"/><path class=\"point\" transform=\"translate(146.71,257.07)\" d=\"M3,0A3,3 0 1,1 0,-3A3,3 0 0,1 3,0Z\" style=\"opacity: 1; stroke-width: 0px; fill: rgb(171, 99, 250); fill-opacity: 1;\"/><path class=\"point\" transform=\"translate(288.25,264.19)\" d=\"M3,0A3,3 0 1,1 0,-3A3,3 0 0,1 3,0Z\" style=\"opacity: 1; stroke-width: 0px; fill: rgb(171, 99, 250); fill-opacity: 1;\"/><path class=\"point\" transform=\"translate(437.05,267.03)\" d=\"M3,0A3,3 0 1,1 0,-3A3,3 0 0,1 3,0Z\" style=\"opacity: 1; stroke-width: 0px; fill: rgb(171, 99, 250); fill-opacity: 1;\"/></g><g class=\"text\"/></g><g class=\"trace scatter trace431d5e\" style=\"stroke-miterlimit: 2; opacity: 1;\"><g class=\"fills\"/><g class=\"errorbars\"><g class=\"errorbar\"><path class=\"yerror\" d=\"M22.95,300.25h8m-4,0V300.25m-4,0h8\" style=\"vector-effect: none; stroke-width: 2px; stroke: rgb(255, 161, 90); stroke-opacity: 1;\"/></g><g class=\"errorbar\"><path class=\"yerror\" d=\"M66.5,300.25h8m-4,0V300.25m-4,0h8\" style=\"vector-effect: none; stroke-width: 2px; stroke: rgb(255, 161, 90); stroke-opacity: 1;\"/></g><g class=\"errorbar\"><path class=\"yerror\" d=\"M142.71,300.25h8m-4,0V300.25m-4,0h8\" style=\"vector-effect: none; stroke-width: 2px; stroke: rgb(255, 161, 90); stroke-opacity: 1;\"/></g><g class=\"errorbar\"><path class=\"yerror\" d=\"M284.25,278.6h8m-4,0V298.71m-4,0h8\" style=\"vector-effect: none; stroke-width: 2px; stroke: rgb(255, 161, 90); stroke-opacity: 1;\"/></g><g class=\"errorbar\"><path class=\"yerror\" d=\"M433.05,297.4h8m-4,0V300.25m-4,0h8\" style=\"vector-effect: none; stroke-width: 2px; stroke: rgb(255, 161, 90); stroke-opacity: 1;\"/></g></g><g class=\"lines\"/><g class=\"points\"><path class=\"point\" transform=\"translate(26.95,300.25)\" d=\"M3,0A3,3 0 1,1 0,-3A3,3 0 0,1 3,0Z\" style=\"opacity: 1; stroke-width: 0px; fill: rgb(255, 161, 90); fill-opacity: 1;\"/><path class=\"point\" transform=\"translate(70.5,300.25)\" d=\"M3,0A3,3 0 1,1 0,-3A3,3 0 0,1 3,0Z\" style=\"opacity: 1; stroke-width: 0px; fill: rgb(255, 161, 90); fill-opacity: 1;\"/><path class=\"point\" transform=\"translate(146.71,300.25)\" d=\"M3,0A3,3 0 1,1 0,-3A3,3 0 0,1 3,0Z\" style=\"opacity: 1; stroke-width: 0px; fill: rgb(255, 161, 90); fill-opacity: 1;\"/><path class=\"point\" transform=\"translate(288.25,288.66)\" d=\"M3,0A3,3 0 1,1 0,-3A3,3 0 0,1 3,0Z\" style=\"opacity: 1; stroke-width: 0px; fill: rgb(255, 161, 90); fill-opacity: 1;\"/><path class=\"point\" transform=\"translate(437.05,298.82)\" d=\"M3,0A3,3 0 1,1 0,-3A3,3 0 0,1 3,0Z\" style=\"opacity: 1; stroke-width: 0px; fill: rgb(255, 161, 90); fill-opacity: 1;\"/></g><g class=\"text\"/></g></g></g><g class=\"overplot\"/><path class=\"xlines-above crisp\" d=\"M0,0\" style=\"fill: none;\"/><path class=\"ylines-above crisp\" d=\"M0,0\" style=\"fill: none;\"/><g class=\"overlines-above\"/><g class=\"xaxislayer-above\"><g class=\"xtick\"><text text-anchor=\"middle\" x=\"0\" y=\"433\" transform=\"translate(106.95,0)\" style=\"font-family: 'Open Sans', verdana, arial, sans-serif; font-size: 12px; fill: rgb(42, 63, 95); fill-opacity: 1; white-space: pre; opacity: 1;\">0</text></g><g class=\"xtick\"><text text-anchor=\"middle\" x=\"0\" y=\"433\" style=\"font-family: 'Open Sans', verdana, arial, sans-serif; font-size: 12px; fill: rgb(42, 63, 95); fill-opacity: 1; white-space: pre; opacity: 1;\" transform=\"translate(179.53,0)\">2</text></g><g class=\"xtick\"><text text-anchor=\"middle\" x=\"0\" y=\"433\" style=\"font-family: 'Open Sans', verdana, arial, sans-serif; font-size: 12px; fill: rgb(42, 63, 95); fill-opacity: 1; white-space: pre; opacity: 1;\" transform=\"translate(252.12,0)\">4</text></g><g class=\"xtick\"><text text-anchor=\"middle\" x=\"0\" y=\"433\" style=\"font-family: 'Open Sans', verdana, arial, sans-serif; font-size: 12px; fill: rgb(42, 63, 95); fill-opacity: 1; white-space: pre; opacity: 1;\" transform=\"translate(324.7,0)\">6</text></g><g class=\"xtick\"><text text-anchor=\"middle\" x=\"0\" y=\"433\" style=\"font-family: 'Open Sans', verdana, arial, sans-serif; font-size: 12px; fill: rgb(42, 63, 95); fill-opacity: 1; white-space: pre; opacity: 1;\" transform=\"translate(397.29,0)\">8</text></g><g class=\"xtick\"><text text-anchor=\"middle\" x=\"0\" y=\"433\" style=\"font-family: 'Open Sans', verdana, arial, sans-serif; font-size: 12px; fill: rgb(42, 63, 95); fill-opacity: 1; white-space: pre; opacity: 1;\" transform=\"translate(469.87,0)\">10</text></g><g class=\"xtick\"><text text-anchor=\"middle\" x=\"0\" y=\"433\" style=\"font-family: 'Open Sans', verdana, arial, sans-serif; font-size: 12px; fill: rgb(42, 63, 95); fill-opacity: 1; white-space: pre; opacity: 1;\" transform=\"translate(542.45,0)\">12</text></g></g><g class=\"yaxislayer-above\"><g class=\"ytick\"><text text-anchor=\"end\" x=\"79\" y=\"4.199999999999999\" transform=\"translate(0,400.25)\" style=\"font-family: 'Open Sans', verdana, arial, sans-serif; font-size: 12px; fill: rgb(42, 63, 95); fill-opacity: 1; white-space: pre; opacity: 1;\">0</text></g><g class=\"ytick\"><text text-anchor=\"end\" x=\"79\" y=\"4.199999999999999\" style=\"font-family: 'Open Sans', verdana, arial, sans-serif; font-size: 12px; fill: rgb(42, 63, 95); fill-opacity: 1; white-space: pre; opacity: 1;\" transform=\"translate(0,346.87)\">0.5</text></g><g class=\"ytick\"><text text-anchor=\"end\" x=\"79\" y=\"4.199999999999999\" style=\"font-family: 'Open Sans', verdana, arial, sans-serif; font-size: 12px; fill: rgb(42, 63, 95); fill-opacity: 1; white-space: pre; opacity: 1;\" transform=\"translate(0,293.49)\">1</text></g><g class=\"ytick\"><text text-anchor=\"end\" x=\"79\" y=\"4.199999999999999\" style=\"font-family: 'Open Sans', verdana, arial, sans-serif; font-size: 12px; fill: rgb(42, 63, 95); fill-opacity: 1; white-space: pre; opacity: 1;\" transform=\"translate(0,240.11)\">1.5</text></g><g class=\"ytick\"><text text-anchor=\"end\" x=\"79\" y=\"4.199999999999999\" style=\"font-family: 'Open Sans', verdana, arial, sans-serif; font-size: 12px; fill: rgb(42, 63, 95); fill-opacity: 1; white-space: pre; opacity: 1;\" transform=\"translate(0,186.74)\">2</text></g><g class=\"ytick\"><text text-anchor=\"end\" x=\"79\" y=\"4.199999999999999\" style=\"font-family: 'Open Sans', verdana, arial, sans-serif; font-size: 12px; fill: rgb(42, 63, 95); fill-opacity: 1; white-space: pre; opacity: 1;\" transform=\"translate(0,133.36)\">2.5</text></g></g><g class=\"overaxes-above\"/></g></g><g class=\"polarlayer\"/><g class=\"smithlayer\"/><g class=\"ternarylayer\"/><g class=\"geolayer\"/><g class=\"funnelarealayer\"/><g class=\"pielayer\"/><g class=\"iciclelayer\"/><g class=\"treemaplayer\"/><g class=\"sunburstlayer\"/><g class=\"glimages\"/><defs id=\"topdefs-a102a8\"><g class=\"clips\"/><clipPath id=\"legenda102a8\"><rect width=\"135\" height=\"200\" x=\"0\" y=\"0\"/></clipPath></defs><g class=\"layer-above\"><g class=\"imagelayer\"/><g class=\"shapelayer\"/></g><g class=\"infolayer\"><g class=\"legend\" pointer-events=\"all\" transform=\"translate(553.28,100)\"><rect class=\"bg\" shape-rendering=\"crispEdges\" width=\"135\" height=\"200\" x=\"0\" y=\"0\" style=\"stroke: rgb(68, 68, 68); stroke-opacity: 1; fill: rgb(255, 255, 255); fill-opacity: 1; stroke-width: 0px;\"/><g class=\"scrollbox\" transform=\"\" clip-path=\"url(#legenda102a8)\"><g class=\"groups\"><g class=\"traces\" transform=\"translate(0,14.5)\" style=\"opacity: 1;\"><text class=\"legendtext\" text-anchor=\"start\" x=\"40\" y=\"4.680000000000001\" style=\"font-family: 'Open Sans', verdana, arial, sans-serif; font-size: 12px; fill: rgb(42, 63, 95); fill-opacity: 1; white-space: pre;\">S_ac</text><g class=\"layers\" style=\"opacity: 1;\"><g class=\"legendfill\"/><g class=\"legendlines\"><path class=\"js-line\" d=\"M5,0h30\" style=\"fill: none; stroke: rgb(99, 110, 250); stroke-opacity: 1; stroke-width: 2px;\"/></g><g class=\"legendsymbols\"><g class=\"legendpoints\"/></g></g><rect class=\"legendtoggle\" x=\"0\" y=\"-9.5\" width=\"129.390625\" height=\"19\" style=\"fill: rgb(0, 0, 0); fill-opacity: 0;\"/></g><g class=\"traces\" transform=\"translate(0,33.5)\" style=\"opacity: 1;\"><text class=\"legendtext\" text-anchor=\"start\" x=\"40\" y=\"4.680000000000001\" style=\"font-family: 'Open Sans', verdana, arial, sans-serif; font-size: 12px; fill: rgb(42, 63, 95); fill-opacity: 1; white-space: pre;\">S_pro</text><g class=\"layers\" style=\"opacity: 1;\"><g class=\"legendfill\"/><g class=\"legendlines\"><path class=\"js-line\" d=\"M5,0h30\" style=\"fill: none; stroke: rgb(239, 85, 59); stroke-opacity: 1; stroke-width: 2px;\"/></g><g class=\"legendsymbols\"><g class=\"legendpoints\"/></g></g><rect class=\"legendtoggle\" x=\"0\" y=\"-9.5\" width=\"129.390625\" height=\"19\" style=\"fill: rgb(0, 0, 0); fill-opacity: 0;\"/></g><g class=\"traces\" transform=\"translate(0,52.5)\" style=\"opacity: 1;\"><text class=\"legendtext\" text-anchor=\"start\" x=\"40\" y=\"4.680000000000001\" style=\"font-family: 'Open Sans', verdana, arial, sans-serif; font-size: 12px; fill: rgb(42, 63, 95); fill-opacity: 1; white-space: pre;\">S_bu</text><g class=\"layers\" style=\"opacity: 1;\"><g class=\"legendfill\"/><g class=\"legendlines\"><path class=\"js-line\" d=\"M5,0h30\" style=\"fill: none; stroke: rgb(0, 204, 150); stroke-opacity: 1; stroke-width: 2px;\"/></g><g class=\"legendsymbols\"><g class=\"legendpoints\"/></g></g><rect class=\"legendtoggle\" x=\"0\" y=\"-9.5\" width=\"129.390625\" height=\"19\" style=\"fill: rgb(0, 0, 0); fill-opacity: 0;\"/></g><g class=\"traces\" transform=\"translate(0,71.5)\" style=\"opacity: 1;\"><text class=\"legendtext\" text-anchor=\"start\" x=\"40\" y=\"4.680000000000001\" style=\"font-family: 'Open Sans', verdana, arial, sans-serif; font-size: 12px; fill: rgb(42, 63, 95); fill-opacity: 1; white-space: pre;\">S_va</text><g class=\"layers\" style=\"opacity: 1;\"><g class=\"legendfill\"/><g class=\"legendlines\"><path class=\"js-line\" d=\"M5,0h30\" style=\"fill: none; stroke: rgb(171, 99, 250); stroke-opacity: 1; stroke-width: 2px;\"/></g><g class=\"legendsymbols\"><g class=\"legendpoints\"/></g></g><rect class=\"legendtoggle\" x=\"0\" y=\"-9.5\" width=\"129.390625\" height=\"19\" style=\"fill: rgb(0, 0, 0); fill-opacity: 0;\"/></g><g class=\"traces\" transform=\"translate(0,90.5)\" style=\"opacity: 1;\"><text class=\"legendtext\" text-anchor=\"start\" x=\"40\" y=\"4.680000000000001\" style=\"font-family: 'Open Sans', verdana, arial, sans-serif; font-size: 12px; fill: rgb(42, 63, 95); fill-opacity: 1; white-space: pre;\">S_cap</text><g class=\"layers\" style=\"opacity: 1;\"><g class=\"legendfill\"/><g class=\"legendlines\"><path class=\"js-line\" d=\"M5,0h30\" style=\"fill: none; stroke: rgb(255, 161, 90); stroke-opacity: 1; stroke-width: 2px;\"/></g><g class=\"legendsymbols\"><g class=\"legendpoints\"/></g></g><rect class=\"legendtoggle\" x=\"0\" y=\"-9.5\" width=\"129.390625\" height=\"19\" style=\"fill: rgb(0, 0, 0); fill-opacity: 0;\"/></g><g class=\"traces\" transform=\"translate(0,109.5)\" style=\"opacity: 1;\"><text class=\"legendtext\" text-anchor=\"start\" x=\"40\" y=\"4.680000000000001\" style=\"font-family: 'Open Sans', verdana, arial, sans-serif; font-size: 12px; fill: rgb(42, 63, 95); fill-opacity: 1; white-space: pre;\">S_ac Observed</text><g class=\"layers\" style=\"opacity: 1;\"><g class=\"legendfill\"/><g class=\"legendlines\"/><g class=\"legendsymbols\"><g class=\"legendpoints\"><path class=\"scatterpts\" transform=\"translate(20,0)\" d=\"M3,0A3,3 0 1,1 0,-3A3,3 0 0,1 3,0Z\" style=\"opacity: 1; stroke-width: 0px; fill: rgb(99, 110, 250); fill-opacity: 1;\"/></g></g></g><rect class=\"legendtoggle\" x=\"0\" y=\"-9.5\" width=\"129.390625\" height=\"19\" style=\"fill: rgb(0, 0, 0); fill-opacity: 0;\"/></g><g class=\"traces\" transform=\"translate(0,128.5)\" style=\"opacity: 1;\"><text class=\"legendtext\" text-anchor=\"start\" x=\"40\" y=\"4.680000000000001\" style=\"font-family: 'Open Sans', verdana, arial, sans-serif; font-size: 12px; fill: rgb(42, 63, 95); fill-opacity: 1; white-space: pre;\">S_pro Observed</text><g class=\"layers\" style=\"opacity: 1;\"><g class=\"legendfill\"/><g class=\"legendlines\"/><g class=\"legendsymbols\"><g class=\"legendpoints\"><path class=\"scatterpts\" transform=\"translate(20,0)\" d=\"M3,0A3,3 0 1,1 0,-3A3,3 0 0,1 3,0Z\" style=\"opacity: 1; stroke-width: 0px; fill: rgb(239, 85, 59); fill-opacity: 1;\"/></g></g></g><rect class=\"legendtoggle\" x=\"0\" y=\"-9.5\" width=\"129.390625\" height=\"19\" style=\"fill: rgb(0, 0, 0); fill-opacity: 0;\"/></g><g class=\"traces\" transform=\"translate(0,147.5)\" style=\"opacity: 1;\"><text class=\"legendtext\" text-anchor=\"start\" x=\"40\" y=\"4.680000000000001\" style=\"font-family: 'Open Sans', verdana, arial, sans-serif; font-size: 12px; fill: rgb(42, 63, 95); fill-opacity: 1; white-space: pre;\">S_bu Observed</text><g class=\"layers\" style=\"opacity: 1;\"><g class=\"legendfill\"/><g class=\"legendlines\"/><g class=\"legendsymbols\"><g class=\"legendpoints\"><path class=\"scatterpts\" transform=\"translate(20,0)\" d=\"M3,0A3,3 0 1,1 0,-3A3,3 0 0,1 3,0Z\" style=\"opacity: 1; stroke-width: 0px; fill: rgb(0, 204, 150); fill-opacity: 1;\"/></g></g></g><rect class=\"legendtoggle\" x=\"0\" y=\"-9.5\" width=\"129.390625\" height=\"19\" style=\"fill: rgb(0, 0, 0); fill-opacity: 0;\"/></g><g class=\"traces\" transform=\"translate(0,166.5)\" style=\"opacity: 1;\"><text class=\"legendtext\" text-anchor=\"start\" x=\"40\" y=\"4.680000000000001\" style=\"font-family: 'Open Sans', verdana, arial, sans-serif; font-size: 12px; fill: rgb(42, 63, 95); fill-opacity: 1; white-space: pre;\">S_va Observed</text><g class=\"layers\" style=\"opacity: 1;\"><g class=\"legendfill\"/><g class=\"legendlines\"/><g class=\"legendsymbols\"><g class=\"legendpoints\"><path class=\"scatterpts\" transform=\"translate(20,0)\" d=\"M3,0A3,3 0 1,1 0,-3A3,3 0 0,1 3,0Z\" style=\"opacity: 1; stroke-width: 0px; fill: rgb(171, 99, 250); fill-opacity: 1;\"/></g></g></g><rect class=\"legendtoggle\" x=\"0\" y=\"-9.5\" width=\"129.390625\" height=\"19\" style=\"fill: rgb(0, 0, 0); fill-opacity: 0;\"/></g><g class=\"traces\" transform=\"translate(0,185.5)\" style=\"opacity: 1;\"><text class=\"legendtext\" text-anchor=\"start\" x=\"40\" y=\"4.680000000000001\" style=\"font-family: 'Open Sans', verdana, arial, sans-serif; font-size: 12px; fill: rgb(42, 63, 95); fill-opacity: 1; white-space: pre;\">S_cap Observed</text><g class=\"layers\" style=\"opacity: 1;\"><g class=\"legendfill\"/><g class=\"legendlines\"/><g class=\"legendsymbols\"><g class=\"legendpoints\"><path class=\"scatterpts\" transform=\"translate(20,0)\" d=\"M3,0A3,3 0 1,1 0,-3A3,3 0 0,1 3,0Z\" style=\"opacity: 1; stroke-width: 0px; fill: rgb(255, 161, 90); fill-opacity: 1;\"/></g></g></g><rect class=\"legendtoggle\" x=\"0\" y=\"-9.5\" width=\"129.390625\" height=\"19\" style=\"fill: rgb(0, 0, 0); fill-opacity: 0;\"/></g></g></g><rect class=\"scrollbar\" rx=\"20\" ry=\"3\" width=\"0\" height=\"0\" x=\"0\" y=\"0\" style=\"fill: rgb(128, 139, 164); fill-opacity: 1;\"/></g><g class=\"g-gtitle\"/><g class=\"g-xtitle\"/><g class=\"g-ytitle\"/></g></svg>"
            ]
          },
          "metadata": {},
          "output_type": "display_data"
        },
        {
          "data": {
            "text/plain": [
              "({'model':           S_ac     S_pro      S_bu      S_va     S_cap\n",
              "  0.0   0.240573  0.000000  0.000000  0.000000  0.000000\n",
              "  1.2   1.124414  0.387978  0.239744  0.125658  0.000605\n",
              "  3.3   1.008380  0.369396  0.822556  0.321417  0.002328\n",
              "  7.2   0.563329  0.486501  1.131514  0.168473  0.003775\n",
              "  11.3  0.614957  0.612314  0.888087  0.035137  0.004004},\n",
              " Figure({\n",
              "     'data': [{'line': {'color': '#636EFA'},\n",
              "               'mode': 'lines',\n",
              "               'name': 'S_ac',\n",
              "               'type': 'scatter',\n",
              "               'x': array([ 0. ,  1.2,  3.3,  7.2, 11.3]),\n",
              "               'y': array([0.24057294, 1.12441426, 1.00837988, 0.56332935, 0.61495679])},\n",
              "              {'line': {'color': '#EF553B'},\n",
              "               'mode': 'lines',\n",
              "               'name': 'S_pro',\n",
              "               'type': 'scatter',\n",
              "               'x': array([ 0. ,  1.2,  3.3,  7.2, 11.3]),\n",
              "               'y': array([0.        , 0.38797779, 0.36939571, 0.48650083, 0.61231427])},\n",
              "              {'line': {'color': '#00CC96'},\n",
              "               'mode': 'lines',\n",
              "               'name': 'S_bu',\n",
              "               'type': 'scatter',\n",
              "               'x': array([ 0. ,  1.2,  3.3,  7.2, 11.3]),\n",
              "               'y': array([0.        , 0.2397444 , 0.82255648, 1.13151374, 0.88808684])},\n",
              "              {'line': {'color': '#AB63FA'},\n",
              "               'mode': 'lines',\n",
              "               'name': 'S_va',\n",
              "               'type': 'scatter',\n",
              "               'x': array([ 0. ,  1.2,  3.3,  7.2, 11.3]),\n",
              "               'y': array([0.        , 0.12565776, 0.32141696, 0.16847259, 0.03513749])},\n",
              "              {'line': {'color': '#FFA15A'},\n",
              "               'mode': 'lines',\n",
              "               'name': 'S_cap',\n",
              "               'type': 'scatter',\n",
              "               'x': array([ 0. ,  1.2,  3.3,  7.2, 11.3]),\n",
              "               'y': array([0.        , 0.00060463, 0.00232848, 0.00377503, 0.00400357])},\n",
              "              {'error_y': {'array': [0.031330224545544634, 0.5139217820049206,\n",
              "                                     0.356728487909018, 0.779994031722217,\n",
              "                                     0.9213594579476765],\n",
              "                           'color': '#636EFA',\n",
              "                           'type': 'data',\n",
              "                           'visible': True},\n",
              "               'marker': {'color': '#636EFA'},\n",
              "               'mode': 'markers',\n",
              "               'name': 'S_ac Observed',\n",
              "               'type': 'scatter',\n",
              "               'x': [0.0, 1.2, 3.3, 7.2, 11.3],\n",
              "               'y': [0.1903277624888889, 1.5726326204444445, 2.281650216177778,\n",
              "                     1.6871642332444445, 1.7412235392]},\n",
              "              {'error_y': {'array': [0.0, 0.06478833469716477, 0.14591912222058992,\n",
              "                                     0.1768787904026792, 0.1331774616905904],\n",
              "                           'color': '#EF553B',\n",
              "                           'type': 'data',\n",
              "                           'visible': True},\n",
              "               'marker': {'color': '#EF553B'},\n",
              "               'mode': 'markers',\n",
              "               'name': 'S_pro Observed',\n",
              "               'type': 'scatter',\n",
              "               'x': [0.0, 1.2, 3.3, 7.2, 11.3],\n",
              "               'y': [0.0, 0.14048828115315315, 0.49157158652252253,\n",
              "                     0.6346538204684685, 0.7263333653333333]},\n",
              "              {'error_y': {'array': [0.0, 0.6616035281058603, 0.5668134926149432,\n",
              "                                     0.4875717970040756, 0.6186492643579542],\n",
              "                           'color': '#00CC96',\n",
              "                           'type': 'data',\n",
              "                           'visible': True},\n",
              "               'marker': {'color': '#00CC96'},\n",
              "               'mode': 'markers',\n",
              "               'name': 'S_bu Observed',\n",
              "               'type': 'scatter',\n",
              "               'x': [0.0, 1.2, 3.3, 7.2, 11.3],\n",
              "               'y': [0.0, 1.3124700363636363, 1.304631641818182, 1.015846632121212,\n",
              "                     0.71500496]},\n",
              "              {'error_y': {'array': [0.0, 0.046775231353858866,\n",
              "                                     0.09605544627020884, 0.050456670215410726,\n",
              "                                     0.08369645521514134],\n",
              "                           'color': '#AB63FA',\n",
              "                           'type': 'data',\n",
              "                           'visible': True},\n",
              "               'marker': {'color': '#AB63FA'},\n",
              "               'mode': 'markers',\n",
              "               'name': 'S_va Observed',\n",
              "               'type': 'scatter',\n",
              "               'x': [0.0, 1.2, 3.3, 7.2, 11.3],\n",
              "               'y': [0.0, 0.15316122687581699, 0.4044292903529412,\n",
              "                     0.33774612512418295, 0.31113610530718955]},\n",
              "              {'error_y': {'array': [0.0, 0.0, 0.0, 0.09416446511196365,\n",
              "                                     0.013362517333333334],\n",
              "                           'color': '#FFA15A',\n",
              "                           'type': 'data',\n",
              "                           'visible': True},\n",
              "               'marker': {'color': '#FFA15A'},\n",
              "               'mode': 'markers',\n",
              "               'name': 'S_cap Observed',\n",
              "               'type': 'scatter',\n",
              "               'x': [0.0, 1.2, 3.3, 7.2, 11.3],\n",
              "               'y': [0.0, 0.0, 0.0, 0.10859024478160921, 0.013362517333333332]}],\n",
              "     'layout': {'template': '...'}\n",
              " }))"
            ]
          },
          "execution_count": 86,
          "metadata": {},
          "output_type": "execute_result"
        }
      ],
      "source": [
        "optimize.validate_model(model=model,data=exp[3:6],plot=True)"
      ]
    },
    {
      "cell_type": "code",
      "execution_count": null,
      "metadata": {},
      "outputs": [
        {
          "name": "stderr",
          "output_type": "stream",
          "text": [
            "340118.66s - pydevd: Sending message related to process being replaced timed-out after 5 seconds\n"
          ]
        },
        {
          "name": "stdout",
          "output_type": "stream",
          "text": [
            "Requirement already satisfied: kaleido in /home/parsa/.pyenv/versions/3.10.5/envs/adtoolbox/lib/python3.10/site-packages (0.2.1)\n",
            "\u001b[33mWARNING: You are using pip version 22.0.4; however, version 24.1.2 is available.\n",
            "You should consider upgrading via the '/home/parsa/.pyenv/versions/3.10.5/envs/adtoolbox/bin/python3.10 -m pip install --upgrade pip' command.\u001b[0m\u001b[33m\n",
            "\u001b[0m"
          ]
        }
      ],
      "source": [
        "!pip install -U kaleido"
      ]
    }
  ],
  "metadata": {
    "colab": {
      "provenance": []
    },
    "kernelspec": {
      "display_name": "Python 3.10.5 64-bit ('adtoolbox')",
      "language": "python",
      "name": "python3"
    },
    "language_info": {
      "codemirror_mode": {
        "name": "ipython",
        "version": 3
      },
      "file_extension": ".py",
      "mimetype": "text/x-python",
      "name": "python",
      "nbconvert_exporter": "python",
      "pygments_lexer": "ipython3",
      "version": "3.10.6"
    },
    "vscode": {
      "interpreter": {
        "hash": "b04c14984088453f50a246bdbca9de4fada0a1a7216aa8498ade75c17d25f65a"
      }
    }
  },
  "nbformat": 4,
  "nbformat_minor": 0
}
