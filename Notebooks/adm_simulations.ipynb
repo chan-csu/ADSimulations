{
  "cells": [
    {
      "cell_type": "markdown",
      "metadata": {
        "id": "x5GUV0HT5nKT"
      },
      "source": [
        "install all the packages:"
      ]
    },
    {
      "cell_type": "code",
      "execution_count": 1,
      "metadata": {
        "colab": {
          "base_uri": "https://localhost:8080/",
          "height": 66
        },
        "id": "VVkB5NPu5ttD",
        "outputId": "ba0bef76-5324-462e-f2b3-5f69b8e614d6"
      },
      "outputs": [],
      "source": [
        "import pandas as pd\n",
        "import numpy as np\n",
        "from adtoolbox import core,configs,utils,adm\n",
        "import plotly.express as px"
      ]
    },
    {
      "cell_type": "code",
      "execution_count": 2,
      "metadata": {
        "id": "uGrcfXGZo_wE"
      },
      "outputs": [],
      "source": [
        "acids=pd.read_table('../raw_data/DeLong_beto/acids_cleaned.csv',delimiter=',')\n",
        "metadata=pd.read_table(\"../raw_data/DeLong_beto/DeLong_metadata_final[72].txt\", delimiter=\"\\t\")"
      ]
    },
    {
      "cell_type": "markdown",
      "metadata": {
        "id": "_PQhOl3gDwob"
      },
      "source": [
        "Filter/delete duplicates on the acid column"
      ]
    },
    {
      "cell_type": "code",
      "execution_count": 3,
      "metadata": {
        "id": "NFoHVFLQWFTS"
      },
      "outputs": [],
      "source": [
        "acids2adm={\n",
        "    \"C4\":\"S_bu\",\n",
        "    \"C3\":\"S_pro\",\n",
        "    \"C5\":\"S_va\",\n",
        "    \"ISOC5\":\"S_va\",\n",
        "    \"ISOC4\":\"S_bu\",\n",
        "    \"C2\":\"S_ac\",\n",
        "    \"C6\":\"S_cap\",\n",
        "    \"ISOC6\":\"S_cap\"\n",
        "\n",
        "}"
      ]
    },
    {
      "cell_type": "code",
      "execution_count": 4,
      "metadata": {
        "id": "ujg9Nx75W8dP"
      },
      "outputs": [],
      "source": [
        "def identifier(items):\n",
        "    if items in acids2adm:\n",
        "        return acids2adm[items]\n",
        "\n",
        "acids[\"admids\"]=acids[\"acid\"].apply(identifier)"
      ]
    },
    {
      "cell_type": "code",
      "execution_count": 11,
      "metadata": {
        "id": "uNXO-bxQik3d"
      },
      "outputs": [],
      "source": [
        "acids2seed={\n",
        "    \"C4\":\"cpd00211\",\n",
        "    \"C3\":\"cpd00141\",\n",
        "    \"C5\":\"cpd00597\",\n",
        "    \"ISOC5\":\"cpd00597\",\n",
        "    \"ISOC4\":\"cpd00211\",\n",
        "    \"C2\":\"cpd00029\",\n",
        "    \"C6\":\"cpd01113\",\n",
        "    \"ISOC6\":\"cpd01113\"\n",
        "\n",
        "}"
      ]
    },
    {
      "cell_type": "code",
      "execution_count": 12,
      "metadata": {
        "id": "foDmIeVWiuXA"
      },
      "outputs": [],
      "source": [
        "def identity(items):\n",
        "    if items in acids2seed:\n",
        "        return acids2seed[items]\n",
        "\n",
        "acids[\"seedids\"]=acids[\"acid\"].apply(identity)"
      ]
    },
    {
      "cell_type": "markdown",
      "metadata": {},
      "source": [
        "We have to make sure we have Seed databases downloaded for COD calculations"
      ]
    },
    {
      "cell_type": "code",
      "execution_count": 13,
      "metadata": {
        "colab": {
          "base_uri": "https://localhost:8080/",
          "height": 49
        },
        "id": "ZeJ-K5_MuDU4",
        "outputId": "e02a8534-ea63-43e4-b0e1-836d8f3e86d4"
      },
      "outputs": [],
      "source": [
        "from adtoolbox import core,configs\n",
        "seed_db=core.SeedDB(configs.Database())\n",
        "db=core.Database(configs.Database())\n",
        "# db.download_seed_databases()"
      ]
    },
    {
      "cell_type": "code",
      "execution_count": 14,
      "metadata": {
        "id": "V6xjJ3wRxgUS"
      },
      "outputs": [],
      "source": [
        "acids=acids.dropna()"
      ]
    },
    {
      "cell_type": "code",
      "execution_count": 15,
      "metadata": {
        "id": "dxKevXJ2ynRf"
      },
      "outputs": [],
      "source": [
        "codmap={ i:seed_db.instantiate_metabs(i).cod_calc(add_h=1) for i in acids[\"seedids\"].unique()}"
      ]
    },
    {
      "cell_type": "code",
      "execution_count": 16,
      "metadata": {
        "colab": {
          "base_uri": "https://localhost:8080/"
        },
        "id": "xN1nh4No0FKa",
        "outputId": "dae54cd8-9364-403e-a5b0-4405363f0626"
      },
      "outputs": [],
      "source": [
        "acids[\"cod_map\"]=acids[\"seedids\"].apply(lambda x:codmap[x])"
      ]
    },
    {
      "cell_type": "code",
      "execution_count": 17,
      "metadata": {
        "colab": {
          "base_uri": "https://localhost:8080/"
        },
        "id": "HsHhFhQ_1Wkp",
        "outputId": "3fb89a2f-a489-4120-f10a-0b4c077917e2"
      },
      "outputs": [],
      "source": [
        "acids['cod_conc']=acids['conc_gL']*acids['cod_map']"
      ]
    },
    {
      "cell_type": "code",
      "execution_count": 18,
      "metadata": {
        "colab": {
          "base_uri": "https://localhost:8080/"
        },
        "id": "dRFl8aqo36AK",
        "outputId": "24eaa54e-5ca4-4859-939a-2d7b31019ab7"
      },
      "outputs": [],
      "source": [
        "acids[\"shortsampleid\"]=(acids.sample_id.str.split('_').apply(lambda x:\"_\".join(x[:5])))\n"
      ]
    },
    {
      "cell_type": "markdown",
      "metadata": {},
      "source": [
        "We don't want to simulate for Control and inoculum only samples"
      ]
    },
    {
      "cell_type": "code",
      "execution_count": 20,
      "metadata": {
        "id": "uBAUmeh88BQJ"
      },
      "outputs": [],
      "source": [
        "pivot_df = acids.pivot_table(index=[\"shortsampleid\", \"day\"], columns=\"acid\", values=\"cod_conc\", fill_value=0)\n",
        "pivot_df[\"C4\"]=pivot_df[\"C4\"]+pivot_df[\"ISOC4\"]\n",
        "pivot_df[\"C5\"]=pivot_df[\"C5\"]+pivot_df[\"ISOC5\"]\n",
        "pivot_df[\"C6\"]=pivot_df[\"C6\"]+pivot_df[\"ISOC6\"]\n",
        "pivot_df=pivot_df.drop(columns=[\"ISOC4\",\"ISOC5\",\"ISOC6\"])\n",
        "pivot_df.rename(columns={\"C4\":\"S_bu\",\"C3\":\"S_pro\",\"C5\":\"S_va\",\"C2\":\"S_ac\",\"C6\":\"S_cap\"},inplace=True)\n",
        "data_dict = {}\n",
        "for reactor in pivot_df.index.levels[0]:\n",
        "  data_dict[reactor] = {}\n",
        "  data_dict[reactor][\"time\"]=pivot_df.loc[reactor].index.tolist()\n",
        "  data_dict[reactor][\"data\"]=pivot_df.loc[reactor].to_dict(orient=\"list\")\n"
      ]
    },
    {
      "cell_type": "code",
      "execution_count": 21,
      "metadata": {
        "id": "4yUdOtRdjObf"
      },
      "outputs": [],
      "source": [
        "cod_counts=pd.read_csv('./COD_counts.csv')"
      ]
    },
    {
      "cell_type": "code",
      "execution_count": 22,
      "metadata": {
        "id": "L9eb5x_elxkX"
      },
      "outputs": [],
      "source": [
        "data_i={}\n",
        "for i in cod_counts.columns[cod_counts.columns.str.endswith(\"_D0\")]:\n",
        "  data_i[i]=cod_counts.set_index(\"Unnamed: 0\")[i].to_dict()\n",
        "\n"
      ]
    },
    {
      "cell_type": "code",
      "execution_count": 23,
      "metadata": {
        "id": "YIQ8f7UcqU2B"
      },
      "outputs": [
        {
          "name": "stdout",
          "output_type": "stream",
          "text": [
            "Failure:  1 : A_35_F_5_B\n",
            "Failure:  2 : A_35_F_5_D\n",
            "Failure:  3 : A_35_F_5_INOC\n",
            "Failure:  4 : A_35_F_7_D\n",
            "Failure:  5 : A_35_F_7_INOC\n",
            "Failure:  6 : A_35_F_9_D\n",
            "Failure:  7 : A_35_F_9_INOC\n",
            "Failure:  8 : A_35_M_5_A\n",
            "Failure:  9 : A_35_M_5_D\n",
            "Failure:  10 : A_35_M_5_INOC\n",
            "Failure:  11 : A_35_M_7_B\n",
            "Failure:  12 : A_35_M_7_C\n",
            "Failure:  13 : A_35_M_7_D\n",
            "Failure:  14 : A_35_M_9_D\n",
            "Failure:  15 : A_35_M_9_INOC\n",
            "Failure:  16 : A_45_F_5_A\n",
            "Failure:  17 : A_45_F_5_B\n",
            "Failure:  18 : A_45_F_5_C\n",
            "Failure:  19 : A_45_F_5_D\n",
            "Failure:  20 : A_45_F_5_INOC\n",
            "Failure:  21 : A_45_F_7_D\n",
            "Failure:  22 : A_45_F_7_INOC\n",
            "Failure:  23 : A_45_F_9_D\n",
            "Failure:  24 : A_45_F_9_INOC\n",
            "Failure:  25 : A_45_M_5_A\n",
            "Failure:  26 : A_45_M_5_B\n",
            "Failure:  27 : A_45_M_5_D\n",
            "Failure:  28 : A_45_M_5_INOC\n",
            "Failure:  29 : A_45_M_7_D\n",
            "Failure:  30 : A_45_M_9_A\n",
            "Failure:  31 : A_45_M_9_B\n",
            "Failure:  32 : A_45_M_9_C\n",
            "Failure:  33 : A_45_M_9_D\n",
            "Failure:  34 : B_35_F_5_D\n",
            "Failure:  35 : B_35_F_9_D\n",
            "Failure:  36 : B_35_M_5_D\n",
            "Failure:  37 : B_35_M_7_D\n",
            "Failure:  38 : B_35_M_9_B\n",
            "Failure:  39 : B_35_M_9_D\n",
            "Failure:  40 : B_45_F_5_B\n",
            "Failure:  41 : B_45_F_5_C\n",
            "Failure:  42 : B_45_F_5_D\n",
            "Failure:  43 : B_45_F_7_A\n",
            "Failure:  44 : B_45_F_7_C\n",
            "Failure:  45 : B_45_F_9_A\n",
            "Failure:  46 : B_45_F_9_C\n",
            "Failure:  47 : B_45_F_9_D\n",
            "Failure:  48 : B_45_M_5_D\n",
            "Failure:  49 : B_45_M_7_B\n",
            "Failure:  50 : B_45_M_7_C\n",
            "Failure:  51 : B_45_M_7_D\n",
            "Failure:  52 : B_45_M_9_B\n",
            "Failure:  53 : B_45_M_9_C\n",
            "Failure:  54 : B_45_M_9_D\n",
            "Failure:  55 : T_55_F_7_C\n",
            "Failure:  56 : T_55_F_9_C\n",
            "Failure:  57 : T_55_M_9_A\n"
          ]
        }
      ],
      "source": [
        "num_failed=0\n",
        "pivot_df = acids.pivot_table(index=[\"shortsampleid\", \"day\"], columns=\"acid\", values=\"cod_conc\", fill_value=0)\n",
        "pivot_df[\"C4\"]=pivot_df[\"C4\"]+pivot_df[\"ISOC4\"]\n",
        "pivot_df[\"C5\"]=pivot_df[\"C5\"]+pivot_df[\"ISOC5\"]\n",
        "pivot_df[\"C6\"]=pivot_df[\"C6\"]+pivot_df[\"ISOC6\"]\n",
        "pivot_df=pivot_df.drop(columns=[\"ISOC4\",\"ISOC5\",\"ISOC6\"])\n",
        "pivot_df.rename(columns={\"C4\":\"S_bu\",\"C3\":\"S_pro\",\"C5\":\"S_va\",\"C2\":\"S_ac\",\"C6\":\"S_cap\"},inplace=True)\n",
        "data_dict = {}\n",
        "for reactor in pivot_df.index.levels[0]:\n",
        "  data_dict[reactor] = {}\n",
        "  data_dict[reactor][\"time\"]=pivot_df.loc[reactor].index.tolist()\n",
        "  data_dict[reactor][\"data\"]=pivot_df.loc[reactor].to_dict(orient=\"list\")\n",
        "\n",
        "  try:\n",
        "    data_dict[reactor][\"Initial conditions\"]=cod_counts.set_index(\"Unnamed: 0\")[reactor+\"_D0\"].to_dict()\n",
        "  except:\n",
        "    num_failed+=1\n",
        "    print(\"Failure: \",num_failed,\":\",reactor)\n",
        "      "
      ]
    },
    {
      "cell_type": "code",
      "execution_count": 24,
      "metadata": {
        "id": "UlrjiYqu23gg"
      },
      "outputs": [],
      "source": [
        "feed_manure = metadata[metadata['feedstock']==('M')]"
      ]
    },
    {
      "cell_type": "code",
      "execution_count": 25,
      "metadata": {
        "id": "xAJmfk0M-cbc"
      },
      "outputs": [],
      "source": [
        "feed_manure=feed_manure['feedstock']"
      ]
    },
    {
      "cell_type": "code",
      "execution_count": 26,
      "metadata": {
        "id": "oFDtzyJ140Nr"
      },
      "outputs": [],
      "source": [
        "feed_waste = metadata[metadata['feedstock']==('F')]"
      ]
    },
    {
      "cell_type": "code",
      "execution_count": 27,
      "metadata": {
        "id": "93CzB18K449B"
      },
      "outputs": [],
      "source": [
        "feed_waste=feed_waste['feedstock']"
      ]
    },
    {
      "cell_type": "code",
      "execution_count": 28,
      "metadata": {
        "id": "CB43gnM95toa"
      },
      "outputs": [],
      "source": [
        "manure = core.Feed(\n",
        "        name=\"Manure\",\n",
        "        lipids=10.7,\n",
        "        proteins=17.3,\n",
        "        carbohydrates=70,\n",
        "        xi= 60,\n",
        "        si=50,\n",
        "        tss=80,\n",
        ")"
      ]
    },
    {
      "cell_type": "code",
      "execution_count": 29,
      "metadata": {
        "id": "a0VSAliEBH6g"
      },
      "outputs": [],
      "source": [
        "foodwaste = core.Feed(\n",
        "        name=\"foodwaste\",\n",
        "        lipids=21,\n",
        "        proteins=20.5,\n",
        "        carbohydrates=50.1,\n",
        "        xi=60,\n",
        "        si=50,\n",
        "        tss=65\n",
        ")"
      ]
    },
    {
      "cell_type": "code",
      "execution_count": 30,
      "metadata": {
        "colab": {
          "base_uri": "https://localhost:8080/",
          "height": 113
        },
        "id": "Nvt8k8LXW2BV",
        "outputId": "fdcc54b7-1a32-479d-bb2b-032e61529d6e"
      },
      "outputs": [
        {
          "data": {
            "text/html": [
              "<pre style=\"white-space:pre;overflow-x:auto;line-height:normal;font-family:Menlo,'DejaVu Sans Mono',consolas,'Courier New',monospace\"><span style=\"color: #008000; text-decoration-color: #008000\">model_parameters downloaded to /Users/parsaghadermarzi/Desktop/ADToolbox/Database/ADM_Paramet</span>\n",
              "<span style=\"color: #008000; text-decoration-color: #008000\">ers/e_adm_2_model_parameters.json</span>\n",
              "</pre>\n"
            ],
            "text/plain": [
              "\u001b[32mmodel_parameters downloaded to \u001b[0m\u001b[32m/Users/parsaghadermarzi/Desktop/ADToolbox/Database/ADM_Paramet\u001b[0m\n",
              "\u001b[32mers/\u001b[0m\u001b[32me_adm_2_model_parameters.json\u001b[0m\n"
            ]
          },
          "metadata": {},
          "output_type": "display_data"
        },
        {
          "data": {
            "text/html": [
              "<pre style=\"white-space:pre;overflow-x:auto;line-height:normal;font-family:Menlo,'DejaVu Sans Mono',consolas,'Courier New',monospace\"><span style=\"color: #008000; text-decoration-color: #008000\">base_parameters downloaded to /Users/parsaghadermarzi/Desktop/ADToolbox/Database/ADM_Paramete</span>\n",
              "<span style=\"color: #008000; text-decoration-color: #008000\">rs/e_adm_2_base_parameters.json</span>\n",
              "</pre>\n"
            ],
            "text/plain": [
              "\u001b[32mbase_parameters downloaded to \u001b[0m\u001b[32m/Users/parsaghadermarzi/Desktop/ADToolbox/Database/ADM_Paramete\u001b[0m\n",
              "\u001b[32mrs/\u001b[0m\u001b[32me_adm_2_base_parameters.json\u001b[0m\n"
            ]
          },
          "metadata": {},
          "output_type": "display_data"
        },
        {
          "data": {
            "text/html": [
              "<pre style=\"white-space:pre;overflow-x:auto;line-height:normal;font-family:Menlo,'DejaVu Sans Mono',consolas,'Courier New',monospace\"><span style=\"color: #008000; text-decoration-color: #008000\">initial_conditions downloaded to /Users/parsaghadermarzi/Desktop/ADToolbox/Database/ADM_Param</span>\n",
              "<span style=\"color: #008000; text-decoration-color: #008000\">eters/e_adm_2_initial_conditions.json</span>\n",
              "</pre>\n"
            ],
            "text/plain": [
              "\u001b[32minitial_conditions downloaded to \u001b[0m\u001b[32m/Users/parsaghadermarzi/Desktop/ADToolbox/Database/ADM_Param\u001b[0m\n",
              "\u001b[32meters/\u001b[0m\u001b[32me_adm_2_initial_conditions.json\u001b[0m\n"
            ]
          },
          "metadata": {},
          "output_type": "display_data"
        },
        {
          "data": {
            "text/html": [
              "<pre style=\"white-space:pre;overflow-x:auto;line-height:normal;font-family:Menlo,'DejaVu Sans Mono',consolas,'Courier New',monospace\"><span style=\"color: #008000; text-decoration-color: #008000\">inlet_conditions downloaded to /Users/parsaghadermarzi/Desktop/ADToolbox/Database/ADM_Paramet</span>\n",
              "<span style=\"color: #008000; text-decoration-color: #008000\">ers/e_adm_2_inlet_conditions.json</span>\n",
              "</pre>\n"
            ],
            "text/plain": [
              "\u001b[32minlet_conditions downloaded to \u001b[0m\u001b[32m/Users/parsaghadermarzi/Desktop/ADToolbox/Database/ADM_Paramet\u001b[0m\n",
              "\u001b[32mers/\u001b[0m\u001b[32me_adm_2_inlet_conditions.json\u001b[0m\n"
            ]
          },
          "metadata": {},
          "output_type": "display_data"
        },
        {
          "data": {
            "text/html": [
              "<pre style=\"white-space:pre;overflow-x:auto;line-height:normal;font-family:Menlo,'DejaVu Sans Mono',consolas,'Courier New',monospace\"><span style=\"color: #008000; text-decoration-color: #008000\">reactions downloaded to </span>\n",
              "<span style=\"color: #008000; text-decoration-color: #008000\">/Users/parsaghadermarzi/Desktop/ADToolbox/Database/ADM_Parameters/e_adm_2_reactions.json</span>\n",
              "</pre>\n"
            ],
            "text/plain": [
              "\u001b[32mreactions downloaded to \u001b[0m\n",
              "\u001b[32m/Users/parsaghadermarzi/Desktop/ADToolbox/Database/ADM_Parameters/\u001b[0m\u001b[32me_adm_2_reactions.json\u001b[0m\n"
            ]
          },
          "metadata": {},
          "output_type": "display_data"
        },
        {
          "data": {
            "text/html": [
              "<pre style=\"white-space:pre;overflow-x:auto;line-height:normal;font-family:Menlo,'DejaVu Sans Mono',consolas,'Courier New',monospace\"><span style=\"color: #008000; text-decoration-color: #008000\">species downloaded to </span>\n",
              "<span style=\"color: #008000; text-decoration-color: #008000\">/Users/parsaghadermarzi/Desktop/ADToolbox/Database/ADM_Parameters/e_adm_2_species.json</span>\n",
              "</pre>\n"
            ],
            "text/plain": [
              "\u001b[32mspecies downloaded to \u001b[0m\n",
              "\u001b[32m/Users/parsaghadermarzi/Desktop/ADToolbox/Database/ADM_Parameters/\u001b[0m\u001b[32me_adm_2_species.json\u001b[0m\n"
            ]
          },
          "metadata": {},
          "output_type": "display_data"
        }
      ],
      "source": [
        "core.Database(configs.Database(\n",
        "    adm_parameters_urls=configs.E_ADM_2_REMOTE,\n",
        "    adm_parameters=configs.E_ADM_2_LOCAL\n",
        ")).download_adm_parameters()\n"
      ]
    },
    {
      "cell_type": "code",
      "execution_count": 31,
      "metadata": {
        "id": "F0F3uCAoXVVn"
      },
      "outputs": [],
      "source": [
        "params=utils.load_multiple_json_files(configs.E_ADM_2_LOCAL)"
      ]
    },
    {
      "cell_type": "markdown",
      "metadata": {},
      "source": [
        "We need a definition of the feedstock"
      ]
    },
    {
      "cell_type": "code",
      "execution_count": 32,
      "metadata": {
        "id": "_93Nl89DC4Ia"
      },
      "outputs": [],
      "source": [
        "Manure = core.Feed(\n",
        "        name=\"Manure\",\n",
        "        lipids=10.7,\n",
        "        proteins=30,\n",
        "        carbohydrates=59.3,\n",
        "        xi= 80,\n",
        "        si=50,\n",
        "        tss=95,\n",
        " )\n",
        "foodwaste = core.Feed(\n",
        "        name=\"foodwaste\",\n",
        "        lipids=21,\n",
        "        proteins=20.5,\n",
        "        carbohydrates=50.1,\n",
        "        xi=60,\n",
        "        si=50,\n",
        "        tss=65\n",
        ")"
      ]
    },
    {
      "cell_type": "code",
      "execution_count": 38,
      "metadata": {
        "colab": {
          "base_uri": "https://localhost:8080/"
        },
        "id": "P-y4gtSgiGLo",
        "outputId": "563e533a-5492-4deb-fc46-4fc5e4e688a9"
      },
      "outputs": [
        {
          "name": "stdout",
          "output_type": "stream",
          "text": [
            "55.0 M 9.0\r"
          ]
        }
      ],
      "source": [
        "results_dict = {}\n",
        "# dash_apps = {}\n",
        "inoculum_cod=10\n",
        "total_feed_cod=15\n",
        "params.base_parameters['q_in'] = 0\n",
        "mgo=core.Database(config=configs.Database())\n",
        "for reactor_name, reactor_data in data_dict.items():\n",
        "    if \"Initial conditions\" in reactor_data:\n",
        "        initial_conditions = {key:value*inoculum_cod for key,value in reactor_data[\"Initial conditions\"].items()}\n",
        "        initial_conditions[\"X_VFA_deg\"]=0.1*inoculum_cod\n",
        "        _, t, f, ph, _ = reactor_name.split(\"_\")\n",
        "        print(float(t), f, float(ph),end=\"\\r\")\n",
        "        if f == \"F\":\n",
        "            feed = foodwaste\n",
        "        else:\n",
        "            feed = Manure\n",
        "        initial_conditions[\"TSS\"]=total_feed_cod*feed.tss/100\n",
        "        initial_conditions[\"TDS\"]=total_feed_cod-initial_conditions[\"TSS\"]\n",
        "        initial_conditions[\"S_su\"]=0\n",
        "        initial_conditions[\"S_aa\"]=0\n",
        "        initial_conditions[\"S_va\"]=0\n",
        "        initial_conditions[\"S_fa\"]=0\n",
        "        initial_conditions[\"S_ac\"]=0\n",
        "        initial_conditions[\"S_cap\"]=0\n",
        "        if reactor_data[\"time\"][0] != 0:\n",
        "            reactor_data[\"time\"].insert(0,0)\n",
        "            for key in reactor_data[\"data\"]:\n",
        "                reactor_data[\"data\"][key].insert(0,0)\n",
        "        \n",
        "        for key,value in reactor_data[\"data\"].items():\n",
        "            initial_conditions[key]=value[0]\n",
        "        \n",
        "\n",
        "        params.initial_conditions.update(initial_conditions)\n",
        "        \n",
        "        \n",
        "        \n",
        "        temp_exp_obj=core.Experiment(\n",
        "            name=reactor_name+\"_Delong_BETO\",\n",
        "            time=reactor_data[\"time\"],\n",
        "            variables=list(reactor_data[\"data\"].keys()),\n",
        "            data=list(reactor_data[\"data\"].values()),\n",
        "            initial_concentrations=params.initial_conditions,\n",
        "            reference=\"Delong_Lab_BETO_Experiment\",\n",
        "            model_name=\"e_adm_2\"\n",
        "        )\n",
        "        \n",
        "        mgo.add_experiment_to_experiments_db(temp_exp_obj,force=True)\n",
        "\n",
        "        model = adm.Model(\n",
        "            model_parameters=params.model_parameters,\n",
        "            base_parameters=params.base_parameters,\n",
        "            initial_conditions=params.initial_conditions,\n",
        "            inlet_conditions=params.inlet_conditions,\n",
        "            species=params.species,\n",
        "            reactions=params.reactions,\n",
        "            feed=feed,\n",
        "            ode_system=adm.e_adm_2_ode_sys,\n",
        "            build_stoichiometric_matrix=adm.build_e_adm_2_stoichiometric_matrix,\n",
        "            time_limit=100000,\n",
        "            control_state={'S_H_ion': 10 ** -(float(ph))})\n",
        "\n",
        "        sol = model.solve_model(np.linspace(0, 20, 10))\n",
        "        results_dict[reactor_name] = pd.DataFrame(sol.y.T,columns=params.species)\n",
        "\n"
      ]
    },
    {
      "cell_type": "code",
      "execution_count": 39,
      "metadata": {
        "id": "SwXiWjXZdiZD"
      },
      "outputs": [],
      "source": [
        "only_initial_conditions = {}\n",
        "for data, initial in data_dict.items():\n",
        "    if \"Initial conditions\" in initial:\n",
        "        only_initial_conditions[data] = pd.DataFrame(initial[\"data\"]).max()"
      ]
    },
    {
      "cell_type": "code",
      "execution_count": 40,
      "metadata": {
        "id": "hTXH_ldSh61a"
      },
      "outputs": [],
      "source": [
        "exp_data_sim=pd.DataFrame(only_initial_conditions).T"
      ]
    },
    {
      "cell_type": "code",
      "execution_count": 41,
      "metadata": {
        "id": "avJhj2h4kZU-"
      },
      "outputs": [],
      "source": [
        "exp_data_sim[\"Feed\"]=exp_data_sim.index.map(lambda x:x.split(\"_\")[2])"
      ]
    },
    {
      "cell_type": "code",
      "execution_count": 42,
      "metadata": {
        "id": "NaLXJ1F52WzN"
      },
      "outputs": [],
      "source": [
        "exp_data_sim[\"PH\"]=exp_data_sim.index.map(lambda x:x.split(\"_\")[3])"
      ]
    },
    {
      "cell_type": "code",
      "execution_count": 43,
      "metadata": {
        "colab": {
          "base_uri": "https://localhost:8080/",
          "height": 542
        },
        "id": "tQScwRQ6lLij",
        "outputId": "ffb6d575-e34d-4cf9-8d46-79ac23811924"
      },
      "outputs": [
        {
          "data": {
            "application/vnd.plotly.v1+json": {
              "config": {
                "plotlyServerURL": "https://plot.ly"
              },
              "data": [
                {
                  "alignmentgroup": "True",
                  "boxpoints": "all",
                  "hovertemplate": "Feed=%{x}<br>PH=5<br>S_bu=%{y}<extra></extra>",
                  "legendgroup": "F",
                  "marker": {
                    "color": "#636efa"
                  },
                  "name": "F",
                  "notched": false,
                  "offsetgroup": "F",
                  "orientation": "v",
                  "showlegend": true,
                  "type": "box",
                  "x": [
                    "F",
                    "F",
                    "F",
                    "F",
                    "F",
                    "F",
                    "F",
                    "F",
                    "F"
                  ],
                  "x0": " ",
                  "xaxis": "x",
                  "y": [
                    2.240047520909091,
                    2.6098008100000007,
                    2.605883305454546,
                    2.8177364327272727,
                    1.581195052727273,
                    0.7026143927272728,
                    1.8714991581818181,
                    1.7203393727272729,
                    1.7922206581818185
                  ],
                  "y0": " ",
                  "yaxis": "y"
                },
                {
                  "alignmentgroup": "True",
                  "boxpoints": "all",
                  "hovertemplate": "Feed=%{x}<br>PH=7<br>S_bu=%{y}<extra></extra>",
                  "legendgroup": "F",
                  "marker": {
                    "color": "#636efa"
                  },
                  "name": "F",
                  "notched": false,
                  "offsetgroup": "F",
                  "orientation": "v",
                  "showlegend": false,
                  "type": "box",
                  "x": [
                    "F",
                    "F",
                    "F",
                    "F",
                    "F",
                    "F",
                    "F",
                    "F",
                    "F",
                    "F",
                    "F",
                    "F"
                  ],
                  "x0": " ",
                  "xaxis": "x2",
                  "y": [
                    2.056227327272728,
                    2.1143913199999997,
                    1.9225356472727273,
                    1.621298692727273,
                    1.9369819600000002,
                    1.67803645,
                    1.7540218600000002,
                    1.8289347963636367,
                    1.9345909981818183,
                    0.8572070054545455,
                    1.2441600490909093,
                    1.1207661563636364
                  ],
                  "y0": " ",
                  "yaxis": "y2"
                },
                {
                  "alignmentgroup": "True",
                  "boxpoints": "all",
                  "hovertemplate": "Feed=%{x}<br>PH=9<br>S_bu=%{y}<extra></extra>",
                  "legendgroup": "F",
                  "marker": {
                    "color": "#636efa"
                  },
                  "name": "F",
                  "notched": false,
                  "offsetgroup": "F",
                  "orientation": "v",
                  "showlegend": false,
                  "type": "box",
                  "x": [
                    "F",
                    "F",
                    "F",
                    "F",
                    "F",
                    "F",
                    "F",
                    "F",
                    "F",
                    "F",
                    "F",
                    "F"
                  ],
                  "x0": " ",
                  "xaxis": "x3",
                  "y": [
                    0.19800377090909094,
                    0.11323652000000001,
                    0.6947658036363636,
                    0.16397756363636365,
                    0,
                    0.19705435272727276,
                    0.4744703054545455,
                    0.6387919454545455,
                    0.5384866654545455,
                    0.6170961563636364,
                    0,
                    0.27331663272727275
                  ],
                  "y0": " ",
                  "yaxis": "y3"
                },
                {
                  "alignmentgroup": "True",
                  "boxpoints": "all",
                  "hovertemplate": "Feed=%{x}<br>PH=5<br>S_bu=%{y}<extra></extra>",
                  "legendgroup": "M",
                  "marker": {
                    "color": "#EF553B"
                  },
                  "name": "M",
                  "notched": false,
                  "offsetgroup": "M",
                  "orientation": "v",
                  "showlegend": true,
                  "type": "box",
                  "x": [
                    "M",
                    "M",
                    "M",
                    "M",
                    "M",
                    "M",
                    "M",
                    "M",
                    "M",
                    "M",
                    "M",
                    "M"
                  ],
                  "x0": " ",
                  "xaxis": "x",
                  "y": [
                    0,
                    0.38173473090909094,
                    0.11672602,
                    0.09090909090909093,
                    0,
                    0,
                    0.18181818181818185,
                    0.5454545454545455,
                    0.18181818181818185,
                    0,
                    0.2887300963636364,
                    0
                  ],
                  "y0": " ",
                  "yaxis": "y"
                },
                {
                  "alignmentgroup": "True",
                  "boxpoints": "all",
                  "hovertemplate": "Feed=%{x}<br>PH=7<br>S_bu=%{y}<extra></extra>",
                  "legendgroup": "M",
                  "marker": {
                    "color": "#EF553B"
                  },
                  "name": "M",
                  "notched": false,
                  "offsetgroup": "M",
                  "orientation": "v",
                  "showlegend": false,
                  "type": "box",
                  "x": [
                    "M",
                    "M",
                    "M",
                    "M",
                    "M",
                    "M",
                    "M",
                    "M",
                    "M",
                    "M",
                    "M"
                  ],
                  "x0": " ",
                  "xaxis": "x2",
                  "y": [
                    0.15029333090909092,
                    0,
                    0.17175673636363636,
                    0,
                    0.3636363636363637,
                    0.18181818181818185,
                    0,
                    0.18181818181818185,
                    0,
                    0,
                    0
                  ],
                  "y0": " ",
                  "yaxis": "y2"
                },
                {
                  "alignmentgroup": "True",
                  "boxpoints": "all",
                  "hovertemplate": "Feed=%{x}<br>PH=9<br>S_bu=%{y}<extra></extra>",
                  "legendgroup": "M",
                  "marker": {
                    "color": "#EF553B"
                  },
                  "name": "M",
                  "notched": false,
                  "offsetgroup": "M",
                  "orientation": "v",
                  "showlegend": false,
                  "type": "box",
                  "x": [
                    "M",
                    "M",
                    "M",
                    "M",
                    "M",
                    "M",
                    "M",
                    "M"
                  ],
                  "x0": " ",
                  "xaxis": "x3",
                  "y": [
                    0,
                    0.06790306545454546,
                    0.5046846581818183,
                    0,
                    0.7272727272727274,
                    0.18181818181818185,
                    0.32030442727272734,
                    0
                  ],
                  "y0": " ",
                  "yaxis": "y3"
                }
              ],
              "layout": {
                "annotations": [
                  {
                    "font": {},
                    "showarrow": false,
                    "text": "PH=5",
                    "x": 0.15999999999999998,
                    "xanchor": "center",
                    "xref": "paper",
                    "y": 1,
                    "yanchor": "bottom",
                    "yref": "paper"
                  },
                  {
                    "font": {},
                    "showarrow": false,
                    "text": "PH=7",
                    "x": 0.49999999999999994,
                    "xanchor": "center",
                    "xref": "paper",
                    "y": 1,
                    "yanchor": "bottom",
                    "yref": "paper"
                  },
                  {
                    "font": {},
                    "showarrow": false,
                    "text": "PH=9",
                    "x": 0.8399999999999999,
                    "xanchor": "center",
                    "xref": "paper",
                    "y": 1,
                    "yanchor": "bottom",
                    "yref": "paper"
                  }
                ],
                "boxmode": "overlay",
                "legend": {
                  "title": {
                    "text": "Feed"
                  },
                  "tracegroupgap": 0
                },
                "margin": {
                  "t": 60
                },
                "template": {
                  "data": {
                    "bar": [
                      {
                        "error_x": {
                          "color": "#2a3f5f"
                        },
                        "error_y": {
                          "color": "#2a3f5f"
                        },
                        "marker": {
                          "line": {
                            "color": "#E5ECF6",
                            "width": 0.5
                          },
                          "pattern": {
                            "fillmode": "overlay",
                            "size": 10,
                            "solidity": 0.2
                          }
                        },
                        "type": "bar"
                      }
                    ],
                    "barpolar": [
                      {
                        "marker": {
                          "line": {
                            "color": "#E5ECF6",
                            "width": 0.5
                          },
                          "pattern": {
                            "fillmode": "overlay",
                            "size": 10,
                            "solidity": 0.2
                          }
                        },
                        "type": "barpolar"
                      }
                    ],
                    "carpet": [
                      {
                        "aaxis": {
                          "endlinecolor": "#2a3f5f",
                          "gridcolor": "white",
                          "linecolor": "white",
                          "minorgridcolor": "white",
                          "startlinecolor": "#2a3f5f"
                        },
                        "baxis": {
                          "endlinecolor": "#2a3f5f",
                          "gridcolor": "white",
                          "linecolor": "white",
                          "minorgridcolor": "white",
                          "startlinecolor": "#2a3f5f"
                        },
                        "type": "carpet"
                      }
                    ],
                    "choropleth": [
                      {
                        "colorbar": {
                          "outlinewidth": 0,
                          "ticks": ""
                        },
                        "type": "choropleth"
                      }
                    ],
                    "contour": [
                      {
                        "colorbar": {
                          "outlinewidth": 0,
                          "ticks": ""
                        },
                        "colorscale": [
                          [
                            0,
                            "#0d0887"
                          ],
                          [
                            0.1111111111111111,
                            "#46039f"
                          ],
                          [
                            0.2222222222222222,
                            "#7201a8"
                          ],
                          [
                            0.3333333333333333,
                            "#9c179e"
                          ],
                          [
                            0.4444444444444444,
                            "#bd3786"
                          ],
                          [
                            0.5555555555555556,
                            "#d8576b"
                          ],
                          [
                            0.6666666666666666,
                            "#ed7953"
                          ],
                          [
                            0.7777777777777778,
                            "#fb9f3a"
                          ],
                          [
                            0.8888888888888888,
                            "#fdca26"
                          ],
                          [
                            1,
                            "#f0f921"
                          ]
                        ],
                        "type": "contour"
                      }
                    ],
                    "contourcarpet": [
                      {
                        "colorbar": {
                          "outlinewidth": 0,
                          "ticks": ""
                        },
                        "type": "contourcarpet"
                      }
                    ],
                    "heatmap": [
                      {
                        "colorbar": {
                          "outlinewidth": 0,
                          "ticks": ""
                        },
                        "colorscale": [
                          [
                            0,
                            "#0d0887"
                          ],
                          [
                            0.1111111111111111,
                            "#46039f"
                          ],
                          [
                            0.2222222222222222,
                            "#7201a8"
                          ],
                          [
                            0.3333333333333333,
                            "#9c179e"
                          ],
                          [
                            0.4444444444444444,
                            "#bd3786"
                          ],
                          [
                            0.5555555555555556,
                            "#d8576b"
                          ],
                          [
                            0.6666666666666666,
                            "#ed7953"
                          ],
                          [
                            0.7777777777777778,
                            "#fb9f3a"
                          ],
                          [
                            0.8888888888888888,
                            "#fdca26"
                          ],
                          [
                            1,
                            "#f0f921"
                          ]
                        ],
                        "type": "heatmap"
                      }
                    ],
                    "heatmapgl": [
                      {
                        "colorbar": {
                          "outlinewidth": 0,
                          "ticks": ""
                        },
                        "colorscale": [
                          [
                            0,
                            "#0d0887"
                          ],
                          [
                            0.1111111111111111,
                            "#46039f"
                          ],
                          [
                            0.2222222222222222,
                            "#7201a8"
                          ],
                          [
                            0.3333333333333333,
                            "#9c179e"
                          ],
                          [
                            0.4444444444444444,
                            "#bd3786"
                          ],
                          [
                            0.5555555555555556,
                            "#d8576b"
                          ],
                          [
                            0.6666666666666666,
                            "#ed7953"
                          ],
                          [
                            0.7777777777777778,
                            "#fb9f3a"
                          ],
                          [
                            0.8888888888888888,
                            "#fdca26"
                          ],
                          [
                            1,
                            "#f0f921"
                          ]
                        ],
                        "type": "heatmapgl"
                      }
                    ],
                    "histogram": [
                      {
                        "marker": {
                          "pattern": {
                            "fillmode": "overlay",
                            "size": 10,
                            "solidity": 0.2
                          }
                        },
                        "type": "histogram"
                      }
                    ],
                    "histogram2d": [
                      {
                        "colorbar": {
                          "outlinewidth": 0,
                          "ticks": ""
                        },
                        "colorscale": [
                          [
                            0,
                            "#0d0887"
                          ],
                          [
                            0.1111111111111111,
                            "#46039f"
                          ],
                          [
                            0.2222222222222222,
                            "#7201a8"
                          ],
                          [
                            0.3333333333333333,
                            "#9c179e"
                          ],
                          [
                            0.4444444444444444,
                            "#bd3786"
                          ],
                          [
                            0.5555555555555556,
                            "#d8576b"
                          ],
                          [
                            0.6666666666666666,
                            "#ed7953"
                          ],
                          [
                            0.7777777777777778,
                            "#fb9f3a"
                          ],
                          [
                            0.8888888888888888,
                            "#fdca26"
                          ],
                          [
                            1,
                            "#f0f921"
                          ]
                        ],
                        "type": "histogram2d"
                      }
                    ],
                    "histogram2dcontour": [
                      {
                        "colorbar": {
                          "outlinewidth": 0,
                          "ticks": ""
                        },
                        "colorscale": [
                          [
                            0,
                            "#0d0887"
                          ],
                          [
                            0.1111111111111111,
                            "#46039f"
                          ],
                          [
                            0.2222222222222222,
                            "#7201a8"
                          ],
                          [
                            0.3333333333333333,
                            "#9c179e"
                          ],
                          [
                            0.4444444444444444,
                            "#bd3786"
                          ],
                          [
                            0.5555555555555556,
                            "#d8576b"
                          ],
                          [
                            0.6666666666666666,
                            "#ed7953"
                          ],
                          [
                            0.7777777777777778,
                            "#fb9f3a"
                          ],
                          [
                            0.8888888888888888,
                            "#fdca26"
                          ],
                          [
                            1,
                            "#f0f921"
                          ]
                        ],
                        "type": "histogram2dcontour"
                      }
                    ],
                    "mesh3d": [
                      {
                        "colorbar": {
                          "outlinewidth": 0,
                          "ticks": ""
                        },
                        "type": "mesh3d"
                      }
                    ],
                    "parcoords": [
                      {
                        "line": {
                          "colorbar": {
                            "outlinewidth": 0,
                            "ticks": ""
                          }
                        },
                        "type": "parcoords"
                      }
                    ],
                    "pie": [
                      {
                        "automargin": true,
                        "type": "pie"
                      }
                    ],
                    "scatter": [
                      {
                        "fillpattern": {
                          "fillmode": "overlay",
                          "size": 10,
                          "solidity": 0.2
                        },
                        "type": "scatter"
                      }
                    ],
                    "scatter3d": [
                      {
                        "line": {
                          "colorbar": {
                            "outlinewidth": 0,
                            "ticks": ""
                          }
                        },
                        "marker": {
                          "colorbar": {
                            "outlinewidth": 0,
                            "ticks": ""
                          }
                        },
                        "type": "scatter3d"
                      }
                    ],
                    "scattercarpet": [
                      {
                        "marker": {
                          "colorbar": {
                            "outlinewidth": 0,
                            "ticks": ""
                          }
                        },
                        "type": "scattercarpet"
                      }
                    ],
                    "scattergeo": [
                      {
                        "marker": {
                          "colorbar": {
                            "outlinewidth": 0,
                            "ticks": ""
                          }
                        },
                        "type": "scattergeo"
                      }
                    ],
                    "scattergl": [
                      {
                        "marker": {
                          "colorbar": {
                            "outlinewidth": 0,
                            "ticks": ""
                          }
                        },
                        "type": "scattergl"
                      }
                    ],
                    "scattermapbox": [
                      {
                        "marker": {
                          "colorbar": {
                            "outlinewidth": 0,
                            "ticks": ""
                          }
                        },
                        "type": "scattermapbox"
                      }
                    ],
                    "scatterpolar": [
                      {
                        "marker": {
                          "colorbar": {
                            "outlinewidth": 0,
                            "ticks": ""
                          }
                        },
                        "type": "scatterpolar"
                      }
                    ],
                    "scatterpolargl": [
                      {
                        "marker": {
                          "colorbar": {
                            "outlinewidth": 0,
                            "ticks": ""
                          }
                        },
                        "type": "scatterpolargl"
                      }
                    ],
                    "scatterternary": [
                      {
                        "marker": {
                          "colorbar": {
                            "outlinewidth": 0,
                            "ticks": ""
                          }
                        },
                        "type": "scatterternary"
                      }
                    ],
                    "surface": [
                      {
                        "colorbar": {
                          "outlinewidth": 0,
                          "ticks": ""
                        },
                        "colorscale": [
                          [
                            0,
                            "#0d0887"
                          ],
                          [
                            0.1111111111111111,
                            "#46039f"
                          ],
                          [
                            0.2222222222222222,
                            "#7201a8"
                          ],
                          [
                            0.3333333333333333,
                            "#9c179e"
                          ],
                          [
                            0.4444444444444444,
                            "#bd3786"
                          ],
                          [
                            0.5555555555555556,
                            "#d8576b"
                          ],
                          [
                            0.6666666666666666,
                            "#ed7953"
                          ],
                          [
                            0.7777777777777778,
                            "#fb9f3a"
                          ],
                          [
                            0.8888888888888888,
                            "#fdca26"
                          ],
                          [
                            1,
                            "#f0f921"
                          ]
                        ],
                        "type": "surface"
                      }
                    ],
                    "table": [
                      {
                        "cells": {
                          "fill": {
                            "color": "#EBF0F8"
                          },
                          "line": {
                            "color": "white"
                          }
                        },
                        "header": {
                          "fill": {
                            "color": "#C8D4E3"
                          },
                          "line": {
                            "color": "white"
                          }
                        },
                        "type": "table"
                      }
                    ]
                  },
                  "layout": {
                    "annotationdefaults": {
                      "arrowcolor": "#2a3f5f",
                      "arrowhead": 0,
                      "arrowwidth": 1
                    },
                    "autotypenumbers": "strict",
                    "coloraxis": {
                      "colorbar": {
                        "outlinewidth": 0,
                        "ticks": ""
                      }
                    },
                    "colorscale": {
                      "diverging": [
                        [
                          0,
                          "#8e0152"
                        ],
                        [
                          0.1,
                          "#c51b7d"
                        ],
                        [
                          0.2,
                          "#de77ae"
                        ],
                        [
                          0.3,
                          "#f1b6da"
                        ],
                        [
                          0.4,
                          "#fde0ef"
                        ],
                        [
                          0.5,
                          "#f7f7f7"
                        ],
                        [
                          0.6,
                          "#e6f5d0"
                        ],
                        [
                          0.7,
                          "#b8e186"
                        ],
                        [
                          0.8,
                          "#7fbc41"
                        ],
                        [
                          0.9,
                          "#4d9221"
                        ],
                        [
                          1,
                          "#276419"
                        ]
                      ],
                      "sequential": [
                        [
                          0,
                          "#0d0887"
                        ],
                        [
                          0.1111111111111111,
                          "#46039f"
                        ],
                        [
                          0.2222222222222222,
                          "#7201a8"
                        ],
                        [
                          0.3333333333333333,
                          "#9c179e"
                        ],
                        [
                          0.4444444444444444,
                          "#bd3786"
                        ],
                        [
                          0.5555555555555556,
                          "#d8576b"
                        ],
                        [
                          0.6666666666666666,
                          "#ed7953"
                        ],
                        [
                          0.7777777777777778,
                          "#fb9f3a"
                        ],
                        [
                          0.8888888888888888,
                          "#fdca26"
                        ],
                        [
                          1,
                          "#f0f921"
                        ]
                      ],
                      "sequentialminus": [
                        [
                          0,
                          "#0d0887"
                        ],
                        [
                          0.1111111111111111,
                          "#46039f"
                        ],
                        [
                          0.2222222222222222,
                          "#7201a8"
                        ],
                        [
                          0.3333333333333333,
                          "#9c179e"
                        ],
                        [
                          0.4444444444444444,
                          "#bd3786"
                        ],
                        [
                          0.5555555555555556,
                          "#d8576b"
                        ],
                        [
                          0.6666666666666666,
                          "#ed7953"
                        ],
                        [
                          0.7777777777777778,
                          "#fb9f3a"
                        ],
                        [
                          0.8888888888888888,
                          "#fdca26"
                        ],
                        [
                          1,
                          "#f0f921"
                        ]
                      ]
                    },
                    "colorway": [
                      "#636efa",
                      "#EF553B",
                      "#00cc96",
                      "#ab63fa",
                      "#FFA15A",
                      "#19d3f3",
                      "#FF6692",
                      "#B6E880",
                      "#FF97FF",
                      "#FECB52"
                    ],
                    "font": {
                      "color": "#2a3f5f"
                    },
                    "geo": {
                      "bgcolor": "white",
                      "lakecolor": "white",
                      "landcolor": "#E5ECF6",
                      "showlakes": true,
                      "showland": true,
                      "subunitcolor": "white"
                    },
                    "hoverlabel": {
                      "align": "left"
                    },
                    "hovermode": "closest",
                    "mapbox": {
                      "style": "light"
                    },
                    "paper_bgcolor": "white",
                    "plot_bgcolor": "#E5ECF6",
                    "polar": {
                      "angularaxis": {
                        "gridcolor": "white",
                        "linecolor": "white",
                        "ticks": ""
                      },
                      "bgcolor": "#E5ECF6",
                      "radialaxis": {
                        "gridcolor": "white",
                        "linecolor": "white",
                        "ticks": ""
                      }
                    },
                    "scene": {
                      "xaxis": {
                        "backgroundcolor": "#E5ECF6",
                        "gridcolor": "white",
                        "gridwidth": 2,
                        "linecolor": "white",
                        "showbackground": true,
                        "ticks": "",
                        "zerolinecolor": "white"
                      },
                      "yaxis": {
                        "backgroundcolor": "#E5ECF6",
                        "gridcolor": "white",
                        "gridwidth": 2,
                        "linecolor": "white",
                        "showbackground": true,
                        "ticks": "",
                        "zerolinecolor": "white"
                      },
                      "zaxis": {
                        "backgroundcolor": "#E5ECF6",
                        "gridcolor": "white",
                        "gridwidth": 2,
                        "linecolor": "white",
                        "showbackground": true,
                        "ticks": "",
                        "zerolinecolor": "white"
                      }
                    },
                    "shapedefaults": {
                      "line": {
                        "color": "#2a3f5f"
                      }
                    },
                    "ternary": {
                      "aaxis": {
                        "gridcolor": "white",
                        "linecolor": "white",
                        "ticks": ""
                      },
                      "baxis": {
                        "gridcolor": "white",
                        "linecolor": "white",
                        "ticks": ""
                      },
                      "bgcolor": "#E5ECF6",
                      "caxis": {
                        "gridcolor": "white",
                        "linecolor": "white",
                        "ticks": ""
                      }
                    },
                    "title": {
                      "x": 0.05
                    },
                    "xaxis": {
                      "automargin": true,
                      "gridcolor": "white",
                      "linecolor": "white",
                      "ticks": "",
                      "title": {
                        "standoff": 15
                      },
                      "zerolinecolor": "white",
                      "zerolinewidth": 2
                    },
                    "yaxis": {
                      "automargin": true,
                      "gridcolor": "white",
                      "linecolor": "white",
                      "ticks": "",
                      "title": {
                        "standoff": 15
                      },
                      "zerolinecolor": "white",
                      "zerolinewidth": 2
                    }
                  }
                },
                "title": {
                  "text": "Butyric Acid Concentration Experimental Data"
                },
                "xaxis": {
                  "anchor": "y",
                  "categoryarray": [
                    "F",
                    "M"
                  ],
                  "categoryorder": "array",
                  "domain": [
                    0,
                    0.31999999999999995
                  ],
                  "title": {
                    "text": "Feed"
                  }
                },
                "xaxis2": {
                  "anchor": "y2",
                  "categoryarray": [
                    "F",
                    "M"
                  ],
                  "categoryorder": "array",
                  "domain": [
                    0.33999999999999997,
                    0.6599999999999999
                  ],
                  "matches": "x",
                  "title": {
                    "text": "Feed"
                  }
                },
                "xaxis3": {
                  "anchor": "y3",
                  "categoryarray": [
                    "F",
                    "M"
                  ],
                  "categoryorder": "array",
                  "domain": [
                    0.6799999999999999,
                    0.9999999999999999
                  ],
                  "matches": "x",
                  "title": {
                    "text": "Feed"
                  }
                },
                "yaxis": {
                  "anchor": "x",
                  "domain": [
                    0,
                    1
                  ],
                  "title": {
                    "text": "S_bu"
                  }
                },
                "yaxis2": {
                  "anchor": "x2",
                  "domain": [
                    0,
                    1
                  ],
                  "matches": "y",
                  "showticklabels": false
                },
                "yaxis3": {
                  "anchor": "x3",
                  "domain": [
                    0,
                    1
                  ],
                  "matches": "y",
                  "showticklabels": false
                }
              }
            }
          },
          "metadata": {},
          "output_type": "display_data"
        }
      ],
      "source": [
        "fig=px.box(exp_data_sim,x=\"Feed\",y=\"S_bu\",facet_col=\"PH\",color=\"Feed\",points=\"all\")\n",
        "fig.update_layout(title=\"Butyric Acid Concentration Experimental Data\")\n",
        "fig.write_html(\"Butyric Acid Concentratio Experimental Data.html\")\n",
        "fig.show()"
      ]
    },
    {
      "cell_type": "code",
      "execution_count": 44,
      "metadata": {
        "id": "9c3FCFbal1uM"
      },
      "outputs": [],
      "source": [
        "observed_acids=exp_data_sim.columns[:-2].to_list()\n",
        "for reactor in results_dict:\n",
        "  results_dict[reactor]=results_dict[reactor][observed_acids].max()\n"
      ]
    },
    {
      "cell_type": "code",
      "execution_count": 45,
      "metadata": {
        "id": "pR_y1Azkmx_p"
      },
      "outputs": [],
      "source": [
        "simulations_vfa_results=pd.DataFrame(results_dict).T"
      ]
    },
    {
      "cell_type": "code",
      "execution_count": 46,
      "metadata": {
        "id": "UVby0_Tkoim1"
      },
      "outputs": [],
      "source": [
        "simulations_vfa_results[\"Feed\"]=simulations_vfa_results.index.map(lambda x:x.split(\"_\")[2])"
      ]
    },
    {
      "cell_type": "code",
      "execution_count": 47,
      "metadata": {
        "id": "W9W4l4yZ1aRD"
      },
      "outputs": [],
      "source": [
        "simulations_vfa_results[\"PH\"]=simulations_vfa_results.index.map(lambda x:x.split(\"_\")[3])"
      ]
    },
    {
      "cell_type": "code",
      "execution_count": 48,
      "metadata": {
        "colab": {
          "base_uri": "https://localhost:8080/",
          "height": 1000
        },
        "id": "TQ2NZqjP1mIx",
        "outputId": "24151470-6bb2-403a-c92f-59fad0a917ad"
      },
      "outputs": [
        {
          "data": {
            "text/html": [
              "<div>\n",
              "<style scoped>\n",
              "    .dataframe tbody tr th:only-of-type {\n",
              "        vertical-align: middle;\n",
              "    }\n",
              "\n",
              "    .dataframe tbody tr th {\n",
              "        vertical-align: top;\n",
              "    }\n",
              "\n",
              "    .dataframe thead th {\n",
              "        text-align: right;\n",
              "    }\n",
              "</style>\n",
              "<table border=\"1\" class=\"dataframe\">\n",
              "  <thead>\n",
              "    <tr style=\"text-align: right;\">\n",
              "      <th></th>\n",
              "      <th>S_ac</th>\n",
              "      <th>S_pro</th>\n",
              "      <th>S_bu</th>\n",
              "      <th>S_va</th>\n",
              "      <th>S_cap</th>\n",
              "      <th>Feed</th>\n",
              "      <th>PH</th>\n",
              "    </tr>\n",
              "  </thead>\n",
              "  <tbody>\n",
              "    <tr>\n",
              "      <th>A_35_F_5_A</th>\n",
              "      <td>1.331074</td>\n",
              "      <td>2.746430</td>\n",
              "      <td>1.144367</td>\n",
              "      <td>2.397550</td>\n",
              "      <td>0.188400</td>\n",
              "      <td>F</td>\n",
              "      <td>5</td>\n",
              "    </tr>\n",
              "    <tr>\n",
              "      <th>A_35_F_5_C</th>\n",
              "      <td>1.346024</td>\n",
              "      <td>2.751064</td>\n",
              "      <td>1.157570</td>\n",
              "      <td>2.407013</td>\n",
              "      <td>0.189172</td>\n",
              "      <td>F</td>\n",
              "      <td>5</td>\n",
              "    </tr>\n",
              "    <tr>\n",
              "      <th>A_35_F_7_A</th>\n",
              "      <td>1.433442</td>\n",
              "      <td>2.730340</td>\n",
              "      <td>1.066772</td>\n",
              "      <td>2.439826</td>\n",
              "      <td>0.179981</td>\n",
              "      <td>F</td>\n",
              "      <td>7</td>\n",
              "    </tr>\n",
              "    <tr>\n",
              "      <th>A_35_F_7_B</th>\n",
              "      <td>1.516692</td>\n",
              "      <td>2.725682</td>\n",
              "      <td>1.143025</td>\n",
              "      <td>2.567253</td>\n",
              "      <td>0.189569</td>\n",
              "      <td>F</td>\n",
              "      <td>7</td>\n",
              "    </tr>\n",
              "    <tr>\n",
              "      <th>A_35_F_7_C</th>\n",
              "      <td>1.512740</td>\n",
              "      <td>2.718248</td>\n",
              "      <td>1.145102</td>\n",
              "      <td>2.607239</td>\n",
              "      <td>0.192289</td>\n",
              "      <td>F</td>\n",
              "      <td>7</td>\n",
              "    </tr>\n",
              "    <tr>\n",
              "      <th>...</th>\n",
              "      <td>...</td>\n",
              "      <td>...</td>\n",
              "      <td>...</td>\n",
              "      <td>...</td>\n",
              "      <td>...</td>\n",
              "      <td>...</td>\n",
              "      <td>...</td>\n",
              "    </tr>\n",
              "    <tr>\n",
              "      <th>T_55_M_7_A</th>\n",
              "      <td>0.876251</td>\n",
              "      <td>1.392692</td>\n",
              "      <td>0.600644</td>\n",
              "      <td>1.386945</td>\n",
              "      <td>0.099250</td>\n",
              "      <td>M</td>\n",
              "      <td>7</td>\n",
              "    </tr>\n",
              "    <tr>\n",
              "      <th>T_55_M_7_B</th>\n",
              "      <td>0.795922</td>\n",
              "      <td>1.372214</td>\n",
              "      <td>0.551407</td>\n",
              "      <td>1.393763</td>\n",
              "      <td>0.099400</td>\n",
              "      <td>M</td>\n",
              "      <td>7</td>\n",
              "    </tr>\n",
              "    <tr>\n",
              "      <th>T_55_M_7_C</th>\n",
              "      <td>0.744681</td>\n",
              "      <td>1.372352</td>\n",
              "      <td>0.518069</td>\n",
              "      <td>1.414411</td>\n",
              "      <td>0.100981</td>\n",
              "      <td>M</td>\n",
              "      <td>7</td>\n",
              "    </tr>\n",
              "    <tr>\n",
              "      <th>T_55_M_9_B</th>\n",
              "      <td>1.541226</td>\n",
              "      <td>0.873545</td>\n",
              "      <td>0.198057</td>\n",
              "      <td>1.961246</td>\n",
              "      <td>0.122908</td>\n",
              "      <td>M</td>\n",
              "      <td>9</td>\n",
              "    </tr>\n",
              "    <tr>\n",
              "      <th>T_55_M_9_C</th>\n",
              "      <td>1.624420</td>\n",
              "      <td>0.877172</td>\n",
              "      <td>0.204474</td>\n",
              "      <td>1.934397</td>\n",
              "      <td>0.121367</td>\n",
              "      <td>M</td>\n",
              "      <td>9</td>\n",
              "    </tr>\n",
              "  </tbody>\n",
              "</table>\n",
              "<p>64 rows × 7 columns</p>\n",
              "</div>"
            ],
            "text/plain": [
              "                S_ac     S_pro      S_bu      S_va     S_cap Feed PH\n",
              "A_35_F_5_A  1.331074  2.746430  1.144367  2.397550  0.188400    F  5\n",
              "A_35_F_5_C  1.346024  2.751064  1.157570  2.407013  0.189172    F  5\n",
              "A_35_F_7_A  1.433442  2.730340  1.066772  2.439826  0.179981    F  7\n",
              "A_35_F_7_B  1.516692  2.725682  1.143025  2.567253  0.189569    F  7\n",
              "A_35_F_7_C  1.512740  2.718248  1.145102  2.607239  0.192289    F  7\n",
              "...              ...       ...       ...       ...       ...  ... ..\n",
              "T_55_M_7_A  0.876251  1.392692  0.600644  1.386945  0.099250    M  7\n",
              "T_55_M_7_B  0.795922  1.372214  0.551407  1.393763  0.099400    M  7\n",
              "T_55_M_7_C  0.744681  1.372352  0.518069  1.414411  0.100981    M  7\n",
              "T_55_M_9_B  1.541226  0.873545  0.198057  1.961246  0.122908    M  9\n",
              "T_55_M_9_C  1.624420  0.877172  0.204474  1.934397  0.121367    M  9\n",
              "\n",
              "[64 rows x 7 columns]"
            ]
          },
          "execution_count": 48,
          "metadata": {},
          "output_type": "execute_result"
        }
      ],
      "source": [
        "simulations_vfa_results"
      ]
    },
    {
      "cell_type": "code",
      "execution_count": 49,
      "metadata": {
        "colab": {
          "base_uri": "https://localhost:8080/",
          "height": 542
        },
        "id": "DGXCDxl3o9Nc",
        "outputId": "570b9590-9e0b-4c06-9722-ee3a73e4c56a"
      },
      "outputs": [
        {
          "data": {
            "application/vnd.plotly.v1+json": {
              "config": {
                "plotlyServerURL": "https://plot.ly"
              },
              "data": [
                {
                  "alignmentgroup": "True",
                  "boxpoints": "all",
                  "hovertemplate": "Feed=%{x}<br>PH=5<br>S_bu=%{y}<extra></extra>",
                  "legendgroup": "F",
                  "marker": {
                    "color": "#636efa"
                  },
                  "name": "F",
                  "notched": false,
                  "offsetgroup": "F",
                  "orientation": "v",
                  "showlegend": true,
                  "type": "box",
                  "x": [
                    "F",
                    "F",
                    "F",
                    "F",
                    "F",
                    "F",
                    "F",
                    "F",
                    "F"
                  ],
                  "x0": " ",
                  "xaxis": "x",
                  "y": [
                    1.1443671376850315,
                    1.1575701885951495,
                    1.2779498930414241,
                    1.1822872472330828,
                    1.2975924287095915,
                    1.1500540057412794,
                    1.0964901868316732,
                    1.3168169804963918,
                    1.0977662675771678
                  ],
                  "y0": " ",
                  "yaxis": "y"
                },
                {
                  "alignmentgroup": "True",
                  "boxpoints": "all",
                  "hovertemplate": "Feed=%{x}<br>PH=7<br>S_bu=%{y}<extra></extra>",
                  "legendgroup": "F",
                  "marker": {
                    "color": "#636efa"
                  },
                  "name": "F",
                  "notched": false,
                  "offsetgroup": "F",
                  "orientation": "v",
                  "showlegend": false,
                  "type": "box",
                  "x": [
                    "F",
                    "F",
                    "F",
                    "F",
                    "F",
                    "F",
                    "F",
                    "F",
                    "F",
                    "F",
                    "F",
                    "F"
                  ],
                  "x0": " ",
                  "xaxis": "x2",
                  "y": [
                    1.066772252142744,
                    1.1430250972606077,
                    1.145102427649867,
                    1.1350439230809095,
                    1.0302564511656873,
                    1.0147000324240574,
                    1.0568624054357687,
                    1.062097703533041,
                    1.0390294345272675,
                    1.023728141379371,
                    0.9837111921601026,
                    0.9872982031671935
                  ],
                  "y0": " ",
                  "yaxis": "y2"
                },
                {
                  "alignmentgroup": "True",
                  "boxpoints": "all",
                  "hovertemplate": "Feed=%{x}<br>PH=9<br>S_bu=%{y}<extra></extra>",
                  "legendgroup": "F",
                  "marker": {
                    "color": "#636efa"
                  },
                  "name": "F",
                  "notched": false,
                  "offsetgroup": "F",
                  "orientation": "v",
                  "showlegend": false,
                  "type": "box",
                  "x": [
                    "F",
                    "F",
                    "F",
                    "F",
                    "F",
                    "F",
                    "F",
                    "F",
                    "F",
                    "F",
                    "F",
                    "F"
                  ],
                  "x0": " ",
                  "xaxis": "x3",
                  "y": [
                    0.34051014288770326,
                    0.3438489613323925,
                    0.5800828155490464,
                    0.34813594674862025,
                    0.35283617768425274,
                    0.3512940791974432,
                    0.3420252768848357,
                    0.3550904705236159,
                    0.3362562202040084,
                    0.3636720344016959,
                    0.3276848709698749,
                    0.3393215423099358
                  ],
                  "y0": " ",
                  "yaxis": "y3"
                },
                {
                  "alignmentgroup": "True",
                  "boxpoints": "all",
                  "hovertemplate": "Feed=%{x}<br>PH=5<br>S_bu=%{y}<extra></extra>",
                  "legendgroup": "M",
                  "marker": {
                    "color": "#EF553B"
                  },
                  "name": "M",
                  "notched": false,
                  "offsetgroup": "M",
                  "orientation": "v",
                  "showlegend": true,
                  "type": "box",
                  "x": [
                    "M",
                    "M",
                    "M",
                    "M",
                    "M",
                    "M",
                    "M",
                    "M",
                    "M",
                    "M",
                    "M",
                    "M"
                  ],
                  "x0": " ",
                  "xaxis": "x",
                  "y": [
                    0.662834894831327,
                    0.8335026857048284,
                    0.7467890615688344,
                    0.674163625291214,
                    0.5700976650953602,
                    0.5724400609328562,
                    0.6763830266982159,
                    0.5703489370015468,
                    0.712813690634356,
                    0.5721886801166501,
                    0.6388016279291598,
                    0.5960377292918498
                  ],
                  "y0": " ",
                  "yaxis": "y"
                },
                {
                  "alignmentgroup": "True",
                  "boxpoints": "all",
                  "hovertemplate": "Feed=%{x}<br>PH=7<br>S_bu=%{y}<extra></extra>",
                  "legendgroup": "M",
                  "marker": {
                    "color": "#EF553B"
                  },
                  "name": "M",
                  "notched": false,
                  "offsetgroup": "M",
                  "orientation": "v",
                  "showlegend": false,
                  "type": "box",
                  "x": [
                    "M",
                    "M",
                    "M",
                    "M",
                    "M",
                    "M",
                    "M",
                    "M",
                    "M",
                    "M",
                    "M"
                  ],
                  "x0": " ",
                  "xaxis": "x2",
                  "y": [
                    0.5632383360774746,
                    0.5910425131403355,
                    0.5808974495040824,
                    0.5496339142711991,
                    0.5437894370898438,
                    0.5875542026180385,
                    0.5955334217574372,
                    0.6286287262611974,
                    0.6006436845966215,
                    0.551406513129565,
                    0.5180688133304094
                  ],
                  "y0": " ",
                  "yaxis": "y2"
                },
                {
                  "alignmentgroup": "True",
                  "boxpoints": "all",
                  "hovertemplate": "Feed=%{x}<br>PH=9<br>S_bu=%{y}<extra></extra>",
                  "legendgroup": "M",
                  "marker": {
                    "color": "#EF553B"
                  },
                  "name": "M",
                  "notched": false,
                  "offsetgroup": "M",
                  "orientation": "v",
                  "showlegend": false,
                  "type": "box",
                  "x": [
                    "M",
                    "M",
                    "M",
                    "M",
                    "M",
                    "M",
                    "M",
                    "M"
                  ],
                  "x0": " ",
                  "xaxis": "x3",
                  "y": [
                    0.23356144654838676,
                    0.24083721160337979,
                    0.21946835053050776,
                    0.24652627885223674,
                    0.25804736775240616,
                    0.26946939971312495,
                    0.1980573033395903,
                    0.204473923305129
                  ],
                  "y0": " ",
                  "yaxis": "y3"
                }
              ],
              "layout": {
                "annotations": [
                  {
                    "font": {},
                    "showarrow": false,
                    "text": "PH=5",
                    "x": 0.15999999999999998,
                    "xanchor": "center",
                    "xref": "paper",
                    "y": 1,
                    "yanchor": "bottom",
                    "yref": "paper"
                  },
                  {
                    "font": {},
                    "showarrow": false,
                    "text": "PH=7",
                    "x": 0.49999999999999994,
                    "xanchor": "center",
                    "xref": "paper",
                    "y": 1,
                    "yanchor": "bottom",
                    "yref": "paper"
                  },
                  {
                    "font": {},
                    "showarrow": false,
                    "text": "PH=9",
                    "x": 0.8399999999999999,
                    "xanchor": "center",
                    "xref": "paper",
                    "y": 1,
                    "yanchor": "bottom",
                    "yref": "paper"
                  }
                ],
                "boxmode": "overlay",
                "legend": {
                  "title": {
                    "text": "Feed"
                  },
                  "tracegroupgap": 0
                },
                "margin": {
                  "t": 60
                },
                "template": {
                  "data": {
                    "bar": [
                      {
                        "error_x": {
                          "color": "#2a3f5f"
                        },
                        "error_y": {
                          "color": "#2a3f5f"
                        },
                        "marker": {
                          "line": {
                            "color": "#E5ECF6",
                            "width": 0.5
                          },
                          "pattern": {
                            "fillmode": "overlay",
                            "size": 10,
                            "solidity": 0.2
                          }
                        },
                        "type": "bar"
                      }
                    ],
                    "barpolar": [
                      {
                        "marker": {
                          "line": {
                            "color": "#E5ECF6",
                            "width": 0.5
                          },
                          "pattern": {
                            "fillmode": "overlay",
                            "size": 10,
                            "solidity": 0.2
                          }
                        },
                        "type": "barpolar"
                      }
                    ],
                    "carpet": [
                      {
                        "aaxis": {
                          "endlinecolor": "#2a3f5f",
                          "gridcolor": "white",
                          "linecolor": "white",
                          "minorgridcolor": "white",
                          "startlinecolor": "#2a3f5f"
                        },
                        "baxis": {
                          "endlinecolor": "#2a3f5f",
                          "gridcolor": "white",
                          "linecolor": "white",
                          "minorgridcolor": "white",
                          "startlinecolor": "#2a3f5f"
                        },
                        "type": "carpet"
                      }
                    ],
                    "choropleth": [
                      {
                        "colorbar": {
                          "outlinewidth": 0,
                          "ticks": ""
                        },
                        "type": "choropleth"
                      }
                    ],
                    "contour": [
                      {
                        "colorbar": {
                          "outlinewidth": 0,
                          "ticks": ""
                        },
                        "colorscale": [
                          [
                            0,
                            "#0d0887"
                          ],
                          [
                            0.1111111111111111,
                            "#46039f"
                          ],
                          [
                            0.2222222222222222,
                            "#7201a8"
                          ],
                          [
                            0.3333333333333333,
                            "#9c179e"
                          ],
                          [
                            0.4444444444444444,
                            "#bd3786"
                          ],
                          [
                            0.5555555555555556,
                            "#d8576b"
                          ],
                          [
                            0.6666666666666666,
                            "#ed7953"
                          ],
                          [
                            0.7777777777777778,
                            "#fb9f3a"
                          ],
                          [
                            0.8888888888888888,
                            "#fdca26"
                          ],
                          [
                            1,
                            "#f0f921"
                          ]
                        ],
                        "type": "contour"
                      }
                    ],
                    "contourcarpet": [
                      {
                        "colorbar": {
                          "outlinewidth": 0,
                          "ticks": ""
                        },
                        "type": "contourcarpet"
                      }
                    ],
                    "heatmap": [
                      {
                        "colorbar": {
                          "outlinewidth": 0,
                          "ticks": ""
                        },
                        "colorscale": [
                          [
                            0,
                            "#0d0887"
                          ],
                          [
                            0.1111111111111111,
                            "#46039f"
                          ],
                          [
                            0.2222222222222222,
                            "#7201a8"
                          ],
                          [
                            0.3333333333333333,
                            "#9c179e"
                          ],
                          [
                            0.4444444444444444,
                            "#bd3786"
                          ],
                          [
                            0.5555555555555556,
                            "#d8576b"
                          ],
                          [
                            0.6666666666666666,
                            "#ed7953"
                          ],
                          [
                            0.7777777777777778,
                            "#fb9f3a"
                          ],
                          [
                            0.8888888888888888,
                            "#fdca26"
                          ],
                          [
                            1,
                            "#f0f921"
                          ]
                        ],
                        "type": "heatmap"
                      }
                    ],
                    "heatmapgl": [
                      {
                        "colorbar": {
                          "outlinewidth": 0,
                          "ticks": ""
                        },
                        "colorscale": [
                          [
                            0,
                            "#0d0887"
                          ],
                          [
                            0.1111111111111111,
                            "#46039f"
                          ],
                          [
                            0.2222222222222222,
                            "#7201a8"
                          ],
                          [
                            0.3333333333333333,
                            "#9c179e"
                          ],
                          [
                            0.4444444444444444,
                            "#bd3786"
                          ],
                          [
                            0.5555555555555556,
                            "#d8576b"
                          ],
                          [
                            0.6666666666666666,
                            "#ed7953"
                          ],
                          [
                            0.7777777777777778,
                            "#fb9f3a"
                          ],
                          [
                            0.8888888888888888,
                            "#fdca26"
                          ],
                          [
                            1,
                            "#f0f921"
                          ]
                        ],
                        "type": "heatmapgl"
                      }
                    ],
                    "histogram": [
                      {
                        "marker": {
                          "pattern": {
                            "fillmode": "overlay",
                            "size": 10,
                            "solidity": 0.2
                          }
                        },
                        "type": "histogram"
                      }
                    ],
                    "histogram2d": [
                      {
                        "colorbar": {
                          "outlinewidth": 0,
                          "ticks": ""
                        },
                        "colorscale": [
                          [
                            0,
                            "#0d0887"
                          ],
                          [
                            0.1111111111111111,
                            "#46039f"
                          ],
                          [
                            0.2222222222222222,
                            "#7201a8"
                          ],
                          [
                            0.3333333333333333,
                            "#9c179e"
                          ],
                          [
                            0.4444444444444444,
                            "#bd3786"
                          ],
                          [
                            0.5555555555555556,
                            "#d8576b"
                          ],
                          [
                            0.6666666666666666,
                            "#ed7953"
                          ],
                          [
                            0.7777777777777778,
                            "#fb9f3a"
                          ],
                          [
                            0.8888888888888888,
                            "#fdca26"
                          ],
                          [
                            1,
                            "#f0f921"
                          ]
                        ],
                        "type": "histogram2d"
                      }
                    ],
                    "histogram2dcontour": [
                      {
                        "colorbar": {
                          "outlinewidth": 0,
                          "ticks": ""
                        },
                        "colorscale": [
                          [
                            0,
                            "#0d0887"
                          ],
                          [
                            0.1111111111111111,
                            "#46039f"
                          ],
                          [
                            0.2222222222222222,
                            "#7201a8"
                          ],
                          [
                            0.3333333333333333,
                            "#9c179e"
                          ],
                          [
                            0.4444444444444444,
                            "#bd3786"
                          ],
                          [
                            0.5555555555555556,
                            "#d8576b"
                          ],
                          [
                            0.6666666666666666,
                            "#ed7953"
                          ],
                          [
                            0.7777777777777778,
                            "#fb9f3a"
                          ],
                          [
                            0.8888888888888888,
                            "#fdca26"
                          ],
                          [
                            1,
                            "#f0f921"
                          ]
                        ],
                        "type": "histogram2dcontour"
                      }
                    ],
                    "mesh3d": [
                      {
                        "colorbar": {
                          "outlinewidth": 0,
                          "ticks": ""
                        },
                        "type": "mesh3d"
                      }
                    ],
                    "parcoords": [
                      {
                        "line": {
                          "colorbar": {
                            "outlinewidth": 0,
                            "ticks": ""
                          }
                        },
                        "type": "parcoords"
                      }
                    ],
                    "pie": [
                      {
                        "automargin": true,
                        "type": "pie"
                      }
                    ],
                    "scatter": [
                      {
                        "fillpattern": {
                          "fillmode": "overlay",
                          "size": 10,
                          "solidity": 0.2
                        },
                        "type": "scatter"
                      }
                    ],
                    "scatter3d": [
                      {
                        "line": {
                          "colorbar": {
                            "outlinewidth": 0,
                            "ticks": ""
                          }
                        },
                        "marker": {
                          "colorbar": {
                            "outlinewidth": 0,
                            "ticks": ""
                          }
                        },
                        "type": "scatter3d"
                      }
                    ],
                    "scattercarpet": [
                      {
                        "marker": {
                          "colorbar": {
                            "outlinewidth": 0,
                            "ticks": ""
                          }
                        },
                        "type": "scattercarpet"
                      }
                    ],
                    "scattergeo": [
                      {
                        "marker": {
                          "colorbar": {
                            "outlinewidth": 0,
                            "ticks": ""
                          }
                        },
                        "type": "scattergeo"
                      }
                    ],
                    "scattergl": [
                      {
                        "marker": {
                          "colorbar": {
                            "outlinewidth": 0,
                            "ticks": ""
                          }
                        },
                        "type": "scattergl"
                      }
                    ],
                    "scattermapbox": [
                      {
                        "marker": {
                          "colorbar": {
                            "outlinewidth": 0,
                            "ticks": ""
                          }
                        },
                        "type": "scattermapbox"
                      }
                    ],
                    "scatterpolar": [
                      {
                        "marker": {
                          "colorbar": {
                            "outlinewidth": 0,
                            "ticks": ""
                          }
                        },
                        "type": "scatterpolar"
                      }
                    ],
                    "scatterpolargl": [
                      {
                        "marker": {
                          "colorbar": {
                            "outlinewidth": 0,
                            "ticks": ""
                          }
                        },
                        "type": "scatterpolargl"
                      }
                    ],
                    "scatterternary": [
                      {
                        "marker": {
                          "colorbar": {
                            "outlinewidth": 0,
                            "ticks": ""
                          }
                        },
                        "type": "scatterternary"
                      }
                    ],
                    "surface": [
                      {
                        "colorbar": {
                          "outlinewidth": 0,
                          "ticks": ""
                        },
                        "colorscale": [
                          [
                            0,
                            "#0d0887"
                          ],
                          [
                            0.1111111111111111,
                            "#46039f"
                          ],
                          [
                            0.2222222222222222,
                            "#7201a8"
                          ],
                          [
                            0.3333333333333333,
                            "#9c179e"
                          ],
                          [
                            0.4444444444444444,
                            "#bd3786"
                          ],
                          [
                            0.5555555555555556,
                            "#d8576b"
                          ],
                          [
                            0.6666666666666666,
                            "#ed7953"
                          ],
                          [
                            0.7777777777777778,
                            "#fb9f3a"
                          ],
                          [
                            0.8888888888888888,
                            "#fdca26"
                          ],
                          [
                            1,
                            "#f0f921"
                          ]
                        ],
                        "type": "surface"
                      }
                    ],
                    "table": [
                      {
                        "cells": {
                          "fill": {
                            "color": "#EBF0F8"
                          },
                          "line": {
                            "color": "white"
                          }
                        },
                        "header": {
                          "fill": {
                            "color": "#C8D4E3"
                          },
                          "line": {
                            "color": "white"
                          }
                        },
                        "type": "table"
                      }
                    ]
                  },
                  "layout": {
                    "annotationdefaults": {
                      "arrowcolor": "#2a3f5f",
                      "arrowhead": 0,
                      "arrowwidth": 1
                    },
                    "autotypenumbers": "strict",
                    "coloraxis": {
                      "colorbar": {
                        "outlinewidth": 0,
                        "ticks": ""
                      }
                    },
                    "colorscale": {
                      "diverging": [
                        [
                          0,
                          "#8e0152"
                        ],
                        [
                          0.1,
                          "#c51b7d"
                        ],
                        [
                          0.2,
                          "#de77ae"
                        ],
                        [
                          0.3,
                          "#f1b6da"
                        ],
                        [
                          0.4,
                          "#fde0ef"
                        ],
                        [
                          0.5,
                          "#f7f7f7"
                        ],
                        [
                          0.6,
                          "#e6f5d0"
                        ],
                        [
                          0.7,
                          "#b8e186"
                        ],
                        [
                          0.8,
                          "#7fbc41"
                        ],
                        [
                          0.9,
                          "#4d9221"
                        ],
                        [
                          1,
                          "#276419"
                        ]
                      ],
                      "sequential": [
                        [
                          0,
                          "#0d0887"
                        ],
                        [
                          0.1111111111111111,
                          "#46039f"
                        ],
                        [
                          0.2222222222222222,
                          "#7201a8"
                        ],
                        [
                          0.3333333333333333,
                          "#9c179e"
                        ],
                        [
                          0.4444444444444444,
                          "#bd3786"
                        ],
                        [
                          0.5555555555555556,
                          "#d8576b"
                        ],
                        [
                          0.6666666666666666,
                          "#ed7953"
                        ],
                        [
                          0.7777777777777778,
                          "#fb9f3a"
                        ],
                        [
                          0.8888888888888888,
                          "#fdca26"
                        ],
                        [
                          1,
                          "#f0f921"
                        ]
                      ],
                      "sequentialminus": [
                        [
                          0,
                          "#0d0887"
                        ],
                        [
                          0.1111111111111111,
                          "#46039f"
                        ],
                        [
                          0.2222222222222222,
                          "#7201a8"
                        ],
                        [
                          0.3333333333333333,
                          "#9c179e"
                        ],
                        [
                          0.4444444444444444,
                          "#bd3786"
                        ],
                        [
                          0.5555555555555556,
                          "#d8576b"
                        ],
                        [
                          0.6666666666666666,
                          "#ed7953"
                        ],
                        [
                          0.7777777777777778,
                          "#fb9f3a"
                        ],
                        [
                          0.8888888888888888,
                          "#fdca26"
                        ],
                        [
                          1,
                          "#f0f921"
                        ]
                      ]
                    },
                    "colorway": [
                      "#636efa",
                      "#EF553B",
                      "#00cc96",
                      "#ab63fa",
                      "#FFA15A",
                      "#19d3f3",
                      "#FF6692",
                      "#B6E880",
                      "#FF97FF",
                      "#FECB52"
                    ],
                    "font": {
                      "color": "#2a3f5f"
                    },
                    "geo": {
                      "bgcolor": "white",
                      "lakecolor": "white",
                      "landcolor": "#E5ECF6",
                      "showlakes": true,
                      "showland": true,
                      "subunitcolor": "white"
                    },
                    "hoverlabel": {
                      "align": "left"
                    },
                    "hovermode": "closest",
                    "mapbox": {
                      "style": "light"
                    },
                    "paper_bgcolor": "white",
                    "plot_bgcolor": "#E5ECF6",
                    "polar": {
                      "angularaxis": {
                        "gridcolor": "white",
                        "linecolor": "white",
                        "ticks": ""
                      },
                      "bgcolor": "#E5ECF6",
                      "radialaxis": {
                        "gridcolor": "white",
                        "linecolor": "white",
                        "ticks": ""
                      }
                    },
                    "scene": {
                      "xaxis": {
                        "backgroundcolor": "#E5ECF6",
                        "gridcolor": "white",
                        "gridwidth": 2,
                        "linecolor": "white",
                        "showbackground": true,
                        "ticks": "",
                        "zerolinecolor": "white"
                      },
                      "yaxis": {
                        "backgroundcolor": "#E5ECF6",
                        "gridcolor": "white",
                        "gridwidth": 2,
                        "linecolor": "white",
                        "showbackground": true,
                        "ticks": "",
                        "zerolinecolor": "white"
                      },
                      "zaxis": {
                        "backgroundcolor": "#E5ECF6",
                        "gridcolor": "white",
                        "gridwidth": 2,
                        "linecolor": "white",
                        "showbackground": true,
                        "ticks": "",
                        "zerolinecolor": "white"
                      }
                    },
                    "shapedefaults": {
                      "line": {
                        "color": "#2a3f5f"
                      }
                    },
                    "ternary": {
                      "aaxis": {
                        "gridcolor": "white",
                        "linecolor": "white",
                        "ticks": ""
                      },
                      "baxis": {
                        "gridcolor": "white",
                        "linecolor": "white",
                        "ticks": ""
                      },
                      "bgcolor": "#E5ECF6",
                      "caxis": {
                        "gridcolor": "white",
                        "linecolor": "white",
                        "ticks": ""
                      }
                    },
                    "title": {
                      "x": 0.05
                    },
                    "xaxis": {
                      "automargin": true,
                      "gridcolor": "white",
                      "linecolor": "white",
                      "ticks": "",
                      "title": {
                        "standoff": 15
                      },
                      "zerolinecolor": "white",
                      "zerolinewidth": 2
                    },
                    "yaxis": {
                      "automargin": true,
                      "gridcolor": "white",
                      "linecolor": "white",
                      "ticks": "",
                      "title": {
                        "standoff": 15
                      },
                      "zerolinecolor": "white",
                      "zerolinewidth": 2
                    }
                  }
                },
                "title": {
                  "text": "Simulated Butyric Acid concentrations"
                },
                "xaxis": {
                  "anchor": "y",
                  "categoryarray": [
                    "F",
                    "M"
                  ],
                  "categoryorder": "array",
                  "domain": [
                    0,
                    0.31999999999999995
                  ],
                  "title": {
                    "text": "Feed"
                  }
                },
                "xaxis2": {
                  "anchor": "y2",
                  "categoryarray": [
                    "F",
                    "M"
                  ],
                  "categoryorder": "array",
                  "domain": [
                    0.33999999999999997,
                    0.6599999999999999
                  ],
                  "matches": "x",
                  "title": {
                    "text": "Feed"
                  }
                },
                "xaxis3": {
                  "anchor": "y3",
                  "categoryarray": [
                    "F",
                    "M"
                  ],
                  "categoryorder": "array",
                  "domain": [
                    0.6799999999999999,
                    0.9999999999999999
                  ],
                  "matches": "x",
                  "title": {
                    "text": "Feed"
                  }
                },
                "yaxis": {
                  "anchor": "x",
                  "domain": [
                    0,
                    1
                  ],
                  "title": {
                    "text": "S_bu"
                  }
                },
                "yaxis2": {
                  "anchor": "x2",
                  "domain": [
                    0,
                    1
                  ],
                  "matches": "y",
                  "showticklabels": false
                },
                "yaxis3": {
                  "anchor": "x3",
                  "domain": [
                    0,
                    1
                  ],
                  "matches": "y",
                  "showticklabels": false
                }
              }
            }
          },
          "metadata": {},
          "output_type": "display_data"
        }
      ],
      "source": [
        "fig=px.box(simulations_vfa_results,x=\"Feed\",y=\"S_bu\",facet_col=\"PH\",color=\"Feed\",points=\"all\")\n",
        "fig.update_layout(title=\"Simulated Butyric Acid concentrations\")\n",
        "fig.write_html(\"simulated_vfa_concentrations.html\")\n",
        "fig.show()"
      ]
    },
    {
      "cell_type": "code",
      "execution_count": 56,
      "metadata": {},
      "outputs": [],
      "source": [
        "exp_list=db.get_experiment_from_experiments_db(field_name=\"name\",query=\"B_35_M_7_\")"
      ]
    },
    {
      "cell_type": "code",
      "execution_count": 52,
      "metadata": {},
      "outputs": [
        {
          "data": {
            "text/plain": [
              "<module 'adtoolbox.optimize' from '/Users/parsaghadermarzi/Desktop/Academics/Projects/ADToolbox/adtoolbox/optimize.py'>"
            ]
          },
          "execution_count": 52,
          "metadata": {},
          "output_type": "execute_result"
        }
      ],
      "source": [
        "from adtoolbox import optimize\n",
        "import importlib\n",
        "importlib.reload(optimize)"
      ]
    },
    {
      "cell_type": "code",
      "execution_count": 57,
      "metadata": {},
      "outputs": [
        {
          "ename": "IndexError",
          "evalue": "only integers, slices (`:`), ellipsis (`...`), numpy.newaxis (`None`) and integer or boolean arrays are valid indices",
          "output_type": "error",
          "traceback": [
            "\u001b[0;31m---------------------------------------------------------------------------\u001b[0m",
            "\u001b[0;31mIndexError\u001b[0m                                Traceback (most recent call last)",
            "Cell \u001b[0;32mIn [57], line 1\u001b[0m\n\u001b[0;32m----> 1\u001b[0m optimize\u001b[38;5;241m.\u001b[39mvalidate_model(model,exp_list,plot\u001b[38;5;241m=\u001b[39m\u001b[38;5;28;01mTrue\u001b[39;00m)\n",
            "File \u001b[0;32m~/Desktop/Academics/Projects/ADToolbox/adtoolbox/optimize.py:388\u001b[0m, in \u001b[0;36mvalidate_model\u001b[0;34m(model, data, plot, show_extra_states)\u001b[0m\n\u001b[1;32m    386\u001b[0m model\u001b[38;5;241m.\u001b[39mupdate_parameters(initial_conditions\u001b[38;5;241m=\u001b[39mic)\n\u001b[1;32m    387\u001b[0m solution\u001b[38;5;241m=\u001b[39mmodel\u001b[38;5;241m.\u001b[39msolve_model(np\u001b[38;5;241m.\u001b[39marray(data[\u001b[38;5;241m0\u001b[39m]\u001b[38;5;241m.\u001b[39mtime))\n\u001b[0;32m--> 388\u001b[0m out\u001b[38;5;241m=\u001b[39m{\u001b[38;5;124m\"\u001b[39m\u001b[38;5;124mmodel\u001b[39m\u001b[38;5;124m\"\u001b[39m:pd\u001b[38;5;241m.\u001b[39mDataFrame(\u001b[43msolution\u001b[49m\u001b[38;5;241;43m.\u001b[39;49m\u001b[43my\u001b[49m\u001b[43m[\u001b[49m\u001b[43mdata\u001b[49m\u001b[43m[\u001b[49m\u001b[38;5;241;43m0\u001b[39;49m\u001b[43m]\u001b[49m\u001b[38;5;241;43m.\u001b[39;49m\u001b[43mvariables\u001b[49m\u001b[43m,\u001b[49m\u001b[43m:\u001b[49m\u001b[43m]\u001b[49m\u001b[38;5;241m.\u001b[39mT,index\u001b[38;5;241m=\u001b[39mnp\u001b[38;5;241m.\u001b[39marray(data[\u001b[38;5;241m0\u001b[39m]\u001b[38;5;241m.\u001b[39mtime)\u001b[38;5;241m.\u001b[39mtolist(),columns\u001b[38;5;241m=\u001b[39mdata[\u001b[38;5;241m0\u001b[39m]\u001b[38;5;241m.\u001b[39mvariables)}\n\u001b[1;32m    389\u001b[0m \u001b[38;5;28;01mfor\u001b[39;00m idx,variable \u001b[38;5;129;01min\u001b[39;00m \u001b[38;5;28menumerate\u001b[39m(data[\u001b[38;5;241m0\u001b[39m]\u001b[38;5;241m.\u001b[39mvariables):\n\u001b[1;32m    390\u001b[0m     fig\u001b[38;5;241m.\u001b[39madd_trace(go\u001b[38;5;241m.\u001b[39mScatter(x\u001b[38;5;241m=\u001b[39mout[\u001b[38;5;124m\"\u001b[39m\u001b[38;5;124mmodel\u001b[39m\u001b[38;5;124m\"\u001b[39m]\u001b[38;5;241m.\u001b[39mindex,y\u001b[38;5;241m=\u001b[39mout[\u001b[38;5;124m\"\u001b[39m\u001b[38;5;124mmodel\u001b[39m\u001b[38;5;124m\"\u001b[39m][variable],name\u001b[38;5;241m=\u001b[39mmodel\u001b[38;5;241m.\u001b[39mspecies[variable],mode\u001b[38;5;241m=\u001b[39m\u001b[38;5;124m\"\u001b[39m\u001b[38;5;124mlines\u001b[39m\u001b[38;5;124m\"\u001b[39m,line\u001b[38;5;241m=\u001b[39m\u001b[38;5;28mdict\u001b[39m(\n\u001b[1;32m    391\u001b[0m             color\u001b[38;5;241m=\u001b[39mpallet[idx])))\n",
            "\u001b[0;31mIndexError\u001b[0m: only integers, slices (`:`), ellipsis (`...`), numpy.newaxis (`None`) and integer or boolean arrays are valid indices"
          ]
        }
      ],
      "source": [
        "optimize.validate_model(model,exp_list,plot=True)"
      ]
    },
    {
      "cell_type": "code",
      "execution_count": 36,
      "metadata": {},
      "outputs": [],
      "source": [
        "db=core.Database(configs.Database())"
      ]
    }
  ],
  "metadata": {
    "colab": {
      "provenance": []
    },
    "kernelspec": {
      "display_name": "Python 3",
      "name": "python3"
    },
    "language_info": {
      "codemirror_mode": {
        "name": "ipython",
        "version": 3
      },
      "file_extension": ".py",
      "mimetype": "text/x-python",
      "name": "python",
      "nbconvert_exporter": "python",
      "pygments_lexer": "ipython3",
      "version": "3.10.6"
    }
  },
  "nbformat": 4,
  "nbformat_minor": 0
}
