{
  "cells": [
    {
      "cell_type": "markdown",
      "metadata": {
        "id": "x5GUV0HT5nKT"
      },
      "source": [
        "install all the packages:"
      ]
    },
    {
      "cell_type": "code",
      "execution_count": 1,
      "metadata": {
        "colab": {
          "base_uri": "https://localhost:8080/",
          "height": 66
        },
        "id": "VVkB5NPu5ttD",
        "outputId": "ba0bef76-5324-462e-f2b3-5f69b8e614d6"
      },
      "outputs": [],
      "source": [
        "import pandas as pd\n",
        "import numpy as np\n",
        "from adtoolbox import core,configs,utils,adm\n",
        "import plotly.express as px"
      ]
    },
    {
      "cell_type": "code",
      "execution_count": 24,
      "metadata": {
        "id": "uGrcfXGZo_wE"
      },
      "outputs": [],
      "source": [
        "acids=pd.read_table('../raw_data/DeLong_beto/acids_cleaned.csv',delimiter=',')\n",
        "metadata=pd.read_table(\"../raw_data/DeLong_beto/DeLong_metadata_final[72].txt\", delimiter=\"\\t\")"
      ]
    },
    {
      "cell_type": "markdown",
      "metadata": {
        "id": "_PQhOl3gDwob"
      },
      "source": [
        "Filter/delete duplicates on the acid column"
      ]
    },
    {
      "cell_type": "code",
      "execution_count": 25,
      "metadata": {
        "id": "NFoHVFLQWFTS"
      },
      "outputs": [],
      "source": [
        "acids2adm={\n",
        "    \"C4\":\"S_bu\",\n",
        "    \"C3\":\"S_pro\",\n",
        "    \"C5\":\"S_va\",\n",
        "    \"ISOC5\":\"S_va\",\n",
        "    \"ISOC4\":\"S_bu\",\n",
        "    \"C2\":\"S_ac\",\n",
        "    \"C6\":\"S_cap\",\n",
        "    \"ISOC6\":\"S_cap\"\n",
        "\n",
        "}"
      ]
    },
    {
      "cell_type": "code",
      "execution_count": 26,
      "metadata": {
        "id": "ujg9Nx75W8dP"
      },
      "outputs": [],
      "source": [
        "def identifier(items):\n",
        "    if items in acids2adm:\n",
        "        return acids2adm[items]\n",
        "\n",
        "acids[\"admids\"]=acids[\"acid\"].apply(identifier)"
      ]
    },
    {
      "cell_type": "code",
      "execution_count": 27,
      "metadata": {
        "id": "uNXO-bxQik3d"
      },
      "outputs": [],
      "source": [
        "acids2seed={\n",
        "    \"C4\":\"cpd00211\",\n",
        "    \"C3\":\"cpd00141\",\n",
        "    \"C5\":\"cpd00597\",\n",
        "    \"ISOC5\":\"cpd00597\",\n",
        "    \"ISOC4\":\"cpd00211\",\n",
        "    \"C2\":\"cpd00029\",\n",
        "    \"C6\":\"cpd01113\",\n",
        "    \"ISOC6\":\"cpd01113\"\n",
        "\n",
        "}"
      ]
    },
    {
      "cell_type": "code",
      "execution_count": 28,
      "metadata": {
        "id": "foDmIeVWiuXA"
      },
      "outputs": [],
      "source": [
        "def identity(items):\n",
        "    if items in acids2seed:\n",
        "        return acids2seed[items]\n",
        "\n",
        "acids[\"seedids\"]=acids[\"acid\"].apply(identity)"
      ]
    },
    {
      "cell_type": "markdown",
      "metadata": {},
      "source": [
        "We have to make sure we have Seed databases downloaded for COD calculations"
      ]
    },
    {
      "cell_type": "code",
      "execution_count": 29,
      "metadata": {
        "colab": {
          "base_uri": "https://localhost:8080/",
          "height": 49
        },
        "id": "ZeJ-K5_MuDU4",
        "outputId": "e02a8534-ea63-43e4-b0e1-836d8f3e86d4"
      },
      "outputs": [],
      "source": [
        "from adtoolbox import core,configs\n",
        "seed_db=core.SeedDB(configs.Database())\n",
        "db=core.Database(configs.Database())\n",
        "# db.download_seed_databases()"
      ]
    },
    {
      "cell_type": "code",
      "execution_count": 30,
      "metadata": {
        "id": "V6xjJ3wRxgUS"
      },
      "outputs": [],
      "source": [
        "acids=acids.dropna()"
      ]
    },
    {
      "cell_type": "code",
      "execution_count": 31,
      "metadata": {
        "id": "dxKevXJ2ynRf"
      },
      "outputs": [],
      "source": [
        "codmap={ i:seed_db.instantiate_metabs(i).cod_calc(add_h=1) for i in acids[\"seedids\"].unique()}"
      ]
    },
    {
      "cell_type": "code",
      "execution_count": 32,
      "metadata": {
        "colab": {
          "base_uri": "https://localhost:8080/"
        },
        "id": "xN1nh4No0FKa",
        "outputId": "dae54cd8-9364-403e-a5b0-4405363f0626"
      },
      "outputs": [],
      "source": [
        "acids[\"cod_map\"]=acids[\"seedids\"].apply(lambda x:codmap[x])"
      ]
    },
    {
      "cell_type": "code",
      "execution_count": 33,
      "metadata": {
        "colab": {
          "base_uri": "https://localhost:8080/"
        },
        "id": "HsHhFhQ_1Wkp",
        "outputId": "3fb89a2f-a489-4120-f10a-0b4c077917e2"
      },
      "outputs": [],
      "source": [
        "acids['cod_conc']=acids['conc_gL']*acids['cod_map']"
      ]
    },
    {
      "cell_type": "code",
      "execution_count": 34,
      "metadata": {
        "colab": {
          "base_uri": "https://localhost:8080/"
        },
        "id": "dRFl8aqo36AK",
        "outputId": "24eaa54e-5ca4-4859-939a-2d7b31019ab7"
      },
      "outputs": [],
      "source": [
        "acids[\"shortsampleid\"]=(acids.sample_id.str.split('_').apply(lambda x:\"_\".join(x[:5])))\n"
      ]
    },
    {
      "cell_type": "markdown",
      "metadata": {},
      "source": [
        "We don't want to simulate for Control and inoculum only samples"
      ]
    },
    {
      "cell_type": "code",
      "execution_count": 36,
      "metadata": {},
      "outputs": [
        {
          "data": {
            "text/html": [
              "<div>\n",
              "<style scoped>\n",
              "    .dataframe tbody tr th:only-of-type {\n",
              "        vertical-align: middle;\n",
              "    }\n",
              "\n",
              "    .dataframe tbody tr th {\n",
              "        vertical-align: top;\n",
              "    }\n",
              "\n",
              "    .dataframe thead th {\n",
              "        text-align: right;\n",
              "    }\n",
              "</style>\n",
              "<table border=\"1\" class=\"dataframe\">\n",
              "  <thead>\n",
              "    <tr style=\"text-align: right;\">\n",
              "      <th></th>\n",
              "      <th>sample_id</th>\n",
              "      <th>acid</th>\n",
              "      <th>conc_gL</th>\n",
              "      <th>day</th>\n",
              "      <th>T</th>\n",
              "      <th>pH</th>\n",
              "      <th>admids</th>\n",
              "      <th>seedids</th>\n",
              "      <th>cod_map</th>\n",
              "      <th>cod_conc</th>\n",
              "      <th>shortsampleid</th>\n",
              "    </tr>\n",
              "  </thead>\n",
              "  <tbody>\n",
              "    <tr>\n",
              "      <th>0</th>\n",
              "      <td>A_35_F_5_A_D0</td>\n",
              "      <td>C2</td>\n",
              "      <td>0.106018</td>\n",
              "      <td>0.0</td>\n",
              "      <td>35.0</td>\n",
              "      <td>5.0</td>\n",
              "      <td>S_ac</td>\n",
              "      <td>cpd00029</td>\n",
              "      <td>1.066667</td>\n",
              "      <td>0.113086</td>\n",
              "      <td>A_35_F_5_A</td>\n",
              "    </tr>\n",
              "    <tr>\n",
              "      <th>1</th>\n",
              "      <td>A_35_F_5_A_D1</td>\n",
              "      <td>C2</td>\n",
              "      <td>0.052312</td>\n",
              "      <td>1.2</td>\n",
              "      <td>35.0</td>\n",
              "      <td>5.0</td>\n",
              "      <td>S_ac</td>\n",
              "      <td>cpd00029</td>\n",
              "      <td>1.066667</td>\n",
              "      <td>0.055800</td>\n",
              "      <td>A_35_F_5_A</td>\n",
              "    </tr>\n",
              "    <tr>\n",
              "      <th>2</th>\n",
              "      <td>A_35_F_5_A_D1</td>\n",
              "      <td>C4</td>\n",
              "      <td>0.988501</td>\n",
              "      <td>1.2</td>\n",
              "      <td>35.0</td>\n",
              "      <td>5.0</td>\n",
              "      <td>S_bu</td>\n",
              "      <td>cpd00211</td>\n",
              "      <td>1.818182</td>\n",
              "      <td>1.797275</td>\n",
              "      <td>A_35_F_5_A</td>\n",
              "    </tr>\n",
              "    <tr>\n",
              "      <th>3</th>\n",
              "      <td>A_35_F_5_A_D1</td>\n",
              "      <td>C6</td>\n",
              "      <td>0.129533</td>\n",
              "      <td>1.2</td>\n",
              "      <td>35.0</td>\n",
              "      <td>5.0</td>\n",
              "      <td>S_cap</td>\n",
              "      <td>cpd01113</td>\n",
              "      <td>2.206897</td>\n",
              "      <td>0.285866</td>\n",
              "      <td>A_35_F_5_A</td>\n",
              "    </tr>\n",
              "    <tr>\n",
              "      <th>4</th>\n",
              "      <td>A_35_F_5_A_D2</td>\n",
              "      <td>C2</td>\n",
              "      <td>0.868033</td>\n",
              "      <td>3.3</td>\n",
              "      <td>35.0</td>\n",
              "      <td>5.0</td>\n",
              "      <td>S_ac</td>\n",
              "      <td>cpd00029</td>\n",
              "      <td>1.066667</td>\n",
              "      <td>0.925902</td>\n",
              "      <td>A_35_F_5_A</td>\n",
              "    </tr>\n",
              "    <tr>\n",
              "      <th>...</th>\n",
              "      <td>...</td>\n",
              "      <td>...</td>\n",
              "      <td>...</td>\n",
              "      <td>...</td>\n",
              "      <td>...</td>\n",
              "      <td>...</td>\n",
              "      <td>...</td>\n",
              "      <td>...</td>\n",
              "      <td>...</td>\n",
              "      <td>...</td>\n",
              "      <td>...</td>\n",
              "    </tr>\n",
              "    <tr>\n",
              "      <th>1967</th>\n",
              "      <td>T_55_M_9_C_D4</td>\n",
              "      <td>C3</td>\n",
              "      <td>0.000000</td>\n",
              "      <td>10.5</td>\n",
              "      <td>55.0</td>\n",
              "      <td>9.0</td>\n",
              "      <td>S_pro</td>\n",
              "      <td>cpd00141</td>\n",
              "      <td>1.513514</td>\n",
              "      <td>0.000000</td>\n",
              "      <td>T_55_M_9_C</td>\n",
              "    </tr>\n",
              "    <tr>\n",
              "      <th>1968</th>\n",
              "      <td>T_55_M_9_C_D4</td>\n",
              "      <td>C4</td>\n",
              "      <td>0.000000</td>\n",
              "      <td>10.5</td>\n",
              "      <td>55.0</td>\n",
              "      <td>9.0</td>\n",
              "      <td>S_bu</td>\n",
              "      <td>cpd00211</td>\n",
              "      <td>1.818182</td>\n",
              "      <td>0.000000</td>\n",
              "      <td>T_55_M_9_C</td>\n",
              "    </tr>\n",
              "    <tr>\n",
              "      <th>1970</th>\n",
              "      <td>T_55_M_9_C_D5</td>\n",
              "      <td>C2</td>\n",
              "      <td>0.815572</td>\n",
              "      <td>14.5</td>\n",
              "      <td>55.0</td>\n",
              "      <td>9.0</td>\n",
              "      <td>S_ac</td>\n",
              "      <td>cpd00029</td>\n",
              "      <td>1.066667</td>\n",
              "      <td>0.869943</td>\n",
              "      <td>T_55_M_9_C</td>\n",
              "    </tr>\n",
              "    <tr>\n",
              "      <th>1971</th>\n",
              "      <td>T_55_M_9_C_D5</td>\n",
              "      <td>C3</td>\n",
              "      <td>0.000000</td>\n",
              "      <td>14.5</td>\n",
              "      <td>55.0</td>\n",
              "      <td>9.0</td>\n",
              "      <td>S_pro</td>\n",
              "      <td>cpd00141</td>\n",
              "      <td>1.513514</td>\n",
              "      <td>0.000000</td>\n",
              "      <td>T_55_M_9_C</td>\n",
              "    </tr>\n",
              "    <tr>\n",
              "      <th>1972</th>\n",
              "      <td>T_55_M_9_C_D5</td>\n",
              "      <td>C4</td>\n",
              "      <td>0.000000</td>\n",
              "      <td>14.5</td>\n",
              "      <td>55.0</td>\n",
              "      <td>9.0</td>\n",
              "      <td>S_bu</td>\n",
              "      <td>cpd00211</td>\n",
              "      <td>1.818182</td>\n",
              "      <td>0.000000</td>\n",
              "      <td>T_55_M_9_C</td>\n",
              "    </tr>\n",
              "  </tbody>\n",
              "</table>\n",
              "<p>1850 rows × 11 columns</p>\n",
              "</div>"
            ],
            "text/plain": [
              "          sample_id acid   conc_gL   day     T   pH admids   seedids  \\\n",
              "0     A_35_F_5_A_D0   C2  0.106018   0.0  35.0  5.0   S_ac  cpd00029   \n",
              "1     A_35_F_5_A_D1   C2  0.052312   1.2  35.0  5.0   S_ac  cpd00029   \n",
              "2     A_35_F_5_A_D1   C4  0.988501   1.2  35.0  5.0   S_bu  cpd00211   \n",
              "3     A_35_F_5_A_D1   C6  0.129533   1.2  35.0  5.0  S_cap  cpd01113   \n",
              "4     A_35_F_5_A_D2   C2  0.868033   3.3  35.0  5.0   S_ac  cpd00029   \n",
              "...             ...  ...       ...   ...   ...  ...    ...       ...   \n",
              "1967  T_55_M_9_C_D4   C3  0.000000  10.5  55.0  9.0  S_pro  cpd00141   \n",
              "1968  T_55_M_9_C_D4   C4  0.000000  10.5  55.0  9.0   S_bu  cpd00211   \n",
              "1970  T_55_M_9_C_D5   C2  0.815572  14.5  55.0  9.0   S_ac  cpd00029   \n",
              "1971  T_55_M_9_C_D5   C3  0.000000  14.5  55.0  9.0  S_pro  cpd00141   \n",
              "1972  T_55_M_9_C_D5   C4  0.000000  14.5  55.0  9.0   S_bu  cpd00211   \n",
              "\n",
              "       cod_map  cod_conc shortsampleid  \n",
              "0     1.066667  0.113086    A_35_F_5_A  \n",
              "1     1.066667  0.055800    A_35_F_5_A  \n",
              "2     1.818182  1.797275    A_35_F_5_A  \n",
              "3     2.206897  0.285866    A_35_F_5_A  \n",
              "4     1.066667  0.925902    A_35_F_5_A  \n",
              "...        ...       ...           ...  \n",
              "1967  1.513514  0.000000    T_55_M_9_C  \n",
              "1968  1.818182  0.000000    T_55_M_9_C  \n",
              "1970  1.066667  0.869943    T_55_M_9_C  \n",
              "1971  1.513514  0.000000    T_55_M_9_C  \n",
              "1972  1.818182  0.000000    T_55_M_9_C  \n",
              "\n",
              "[1850 rows x 11 columns]"
            ]
          },
          "execution_count": 36,
          "metadata": {},
          "output_type": "execute_result"
        }
      ],
      "source": [
        "acids"
      ]
    },
    {
      "cell_type": "code",
      "execution_count": 100,
      "metadata": {
        "id": "uBAUmeh88BQJ"
      },
      "outputs": [],
      "source": [
        "pivot_df = acids.pivot_table(index=[\"shortsampleid\", \"day\"], columns=\"acid\", values=\"cod_conc\", fill_value=0)\n",
        "pivot_df[\"C4\"]=pivot_df[\"C4\"]+pivot_df[\"ISOC4\"]\n",
        "pivot_df[\"C5\"]=pivot_df[\"C5\"]+pivot_df[\"ISOC5\"]\n",
        "pivot_df[\"C6\"]=pivot_df[\"C6\"]+pivot_df[\"ISOC6\"]\n",
        "pivot_df=pivot_df.drop(columns=[\"ISOC4\",\"ISOC5\",\"ISOC6\"])\n",
        "pivot_df.rename(columns={\"C4\":\"S_bu\",\"C3\":\"S_pro\",\"C5\":\"S_va\",\"C2\":\"S_ac\",\"C6\":\"S_cap\"},inplace=True)\n",
        "data_dict = {}\n",
        "for reactor in pivot_df.index.levels[0]:\n",
        "  data_dict[reactor] = {}\n",
        "  data_dict[reactor][\"time\"]=pivot_df.loc[reactor].index.tolist()\n",
        "  data_dict[reactor][\"data\"]=pivot_df.loc[reactor].to_dict(orient=\"list\")\n"
      ]
    },
    {
      "cell_type": "code",
      "execution_count": 101,
      "metadata": {
        "id": "4yUdOtRdjObf"
      },
      "outputs": [],
      "source": [
        "cod_counts=pd.read_csv('./COD_counts.csv')"
      ]
    },
    {
      "cell_type": "code",
      "execution_count": 102,
      "metadata": {
        "id": "L9eb5x_elxkX"
      },
      "outputs": [],
      "source": [
        "data_i={}\n",
        "for i in cod_counts.columns[cod_counts.columns.str.endswith(\"_D0\")]:\n",
        "  data_i[i]=cod_counts.set_index(\"Unnamed: 0\")[i].to_dict()\n",
        "\n"
      ]
    },
    {
      "cell_type": "code",
      "execution_count": 104,
      "metadata": {
        "id": "YIQ8f7UcqU2B"
      },
      "outputs": [
        {
          "name": "stdout",
          "output_type": "stream",
          "text": [
            "Failure:  1 : A_35_F_5_B\n",
            "Failure:  2 : A_35_F_5_D\n",
            "Failure:  3 : A_35_F_7_D\n",
            "Failure:  4 : A_35_F_9_D\n",
            "Failure:  5 : A_35_M_5_A\n",
            "Failure:  6 : A_35_M_5_D\n",
            "Failure:  7 : A_35_M_7_B\n",
            "Failure:  8 : A_35_M_7_C\n",
            "Failure:  9 : A_35_M_7_D\n",
            "Failure:  10 : A_35_M_9_D\n",
            "Failure:  11 : A_45_F_5_A\n",
            "Failure:  12 : A_45_F_5_B\n",
            "Failure:  13 : A_45_F_5_C\n",
            "Failure:  14 : A_45_F_5_D\n",
            "Failure:  15 : A_45_F_7_D\n",
            "Failure:  16 : A_45_F_9_D\n",
            "Failure:  17 : A_45_M_5_A\n",
            "Failure:  18 : A_45_M_5_B\n",
            "Failure:  19 : A_45_M_5_D\n",
            "Failure:  20 : A_45_M_7_D\n",
            "Failure:  21 : A_45_M_9_A\n",
            "Failure:  22 : A_45_M_9_B\n",
            "Failure:  23 : A_45_M_9_C\n",
            "Failure:  24 : A_45_M_9_D\n",
            "Failure:  25 : B_35_F_5_D\n",
            "Failure:  26 : B_35_F_9_D\n",
            "Failure:  27 : B_35_M_5_D\n",
            "Failure:  28 : B_35_M_7_D\n",
            "Failure:  29 : B_35_M_9_B\n",
            "Failure:  30 : B_35_M_9_D\n",
            "Failure:  31 : B_45_F_5_B\n",
            "Failure:  32 : B_45_F_5_C\n",
            "Failure:  33 : B_45_F_5_D\n",
            "Failure:  34 : B_45_F_7_A\n",
            "Failure:  35 : B_45_F_7_C\n",
            "Failure:  36 : B_45_F_9_A\n",
            "Failure:  37 : B_45_F_9_C\n",
            "Failure:  38 : B_45_F_9_D\n",
            "Failure:  39 : B_45_M_5_D\n",
            "Failure:  40 : B_45_M_7_B\n",
            "Failure:  41 : B_45_M_7_C\n",
            "Failure:  42 : B_45_M_7_D\n",
            "Failure:  43 : B_45_M_9_B\n",
            "Failure:  44 : B_45_M_9_C\n",
            "Failure:  45 : B_45_M_9_D\n",
            "Failure:  46 : T_55_F_7_C\n",
            "Failure:  47 : T_55_F_9_C\n",
            "Failure:  48 : T_55_M_9_A\n"
          ]
        }
      ],
      "source": [
        "num_failed=0\n",
        "pivot_df = acids.pivot_table(index=[\"shortsampleid\", \"day\"], columns=\"acid\", values=\"cod_conc\", fill_value=0)\n",
        "pivot_df[\"C4\"]=pivot_df[\"C4\"]+pivot_df[\"ISOC4\"]\n",
        "pivot_df[\"C5\"]=pivot_df[\"C5\"]+pivot_df[\"ISOC5\"]\n",
        "pivot_df[\"C6\"]=pivot_df[\"C6\"]+pivot_df[\"ISOC6\"]\n",
        "pivot_df=pivot_df.drop(columns=[\"ISOC4\",\"ISOC5\",\"ISOC6\"])\n",
        "pivot_df.rename(columns={\"C4\":\"S_bu\",\"C3\":\"S_pro\",\"C5\":\"S_va\",\"C2\":\"S_ac\",\"C6\":\"S_cap\"},inplace=True)\n",
        "data_dict = {}\n",
        "for reactor in pivot_df.index.levels[0]:\n",
        "  data_dict[reactor] = {}\n",
        "  data_dict[reactor][\"time\"]=pivot_df.loc[reactor].index.tolist()\n",
        "  data_dict[reactor][\"data\"]=pivot_df.loc[reactor].to_dict(orient=\"list\")\n",
        "\n",
        "  try:\n",
        "    data_dict[reactor][\"Initial conditions\"]=cod_counts.set_index(\"Unnamed: 0\")[reactor+\"_D0\"].to_dict()\n",
        "  except:\n",
        "    num_failed+=1\n",
        "    print(\"Failure: \",num_failed,\":\",reactor)\n",
        "      "
      ]
    },
    {
      "cell_type": "code",
      "execution_count": 105,
      "metadata": {
        "id": "UlrjiYqu23gg"
      },
      "outputs": [],
      "source": [
        "feed_manure = metadata[metadata['feedstock']==('M')]"
      ]
    },
    {
      "cell_type": "code",
      "execution_count": 106,
      "metadata": {
        "id": "xAJmfk0M-cbc"
      },
      "outputs": [],
      "source": [
        "feed_manure=feed_manure['feedstock']"
      ]
    },
    {
      "cell_type": "code",
      "execution_count": 107,
      "metadata": {
        "id": "oFDtzyJ140Nr"
      },
      "outputs": [],
      "source": [
        "feed_waste = metadata[metadata['feedstock']==('F')]"
      ]
    },
    {
      "cell_type": "code",
      "execution_count": 108,
      "metadata": {
        "id": "93CzB18K449B"
      },
      "outputs": [],
      "source": [
        "feed_waste=feed_waste['feedstock']"
      ]
    },
    {
      "cell_type": "code",
      "execution_count": 109,
      "metadata": {
        "id": "CB43gnM95toa"
      },
      "outputs": [],
      "source": [
        "manure = core.Feed(\n",
        "        name=\"Manure\",\n",
        "        lipids=10.7,\n",
        "        proteins=17.3,\n",
        "        carbohydrates=70,\n",
        "        xi= 60,\n",
        "        si=50,\n",
        "        tss=80,\n",
        ")"
      ]
    },
    {
      "cell_type": "code",
      "execution_count": 110,
      "metadata": {
        "id": "a0VSAliEBH6g"
      },
      "outputs": [],
      "source": [
        "foodwaste = core.Feed(\n",
        "        name=\"foodwaste\",\n",
        "        lipids=21,\n",
        "        proteins=20.5,\n",
        "        carbohydrates=50.1,\n",
        "        xi=60,\n",
        "        si=50,\n",
        "        tss=65\n",
        ")"
      ]
    },
    {
      "cell_type": "code",
      "execution_count": 96,
      "metadata": {
        "colab": {
          "base_uri": "https://localhost:8080/",
          "height": 113
        },
        "id": "Nvt8k8LXW2BV",
        "outputId": "fdcc54b7-1a32-479d-bb2b-032e61529d6e"
      },
      "outputs": [
        {
          "data": {
            "text/html": [
              "<pre style=\"white-space:pre;overflow-x:auto;line-height:normal;font-family:Menlo,'DejaVu Sans Mono',consolas,'Courier New',monospace\"><span style=\"color: #008000; text-decoration-color: #008000\">model_parameters downloaded to /Users/parsaghadermarzi/Desktop/ADToolbox/Database/ADM_Paramet</span>\n",
              "<span style=\"color: #008000; text-decoration-color: #008000\">ers/e_adm_2_model_parameters.json</span>\n",
              "</pre>\n"
            ],
            "text/plain": [
              "\u001b[32mmodel_parameters downloaded to \u001b[0m\u001b[32m/Users/parsaghadermarzi/Desktop/ADToolbox/Database/ADM_Paramet\u001b[0m\n",
              "\u001b[32mers/\u001b[0m\u001b[32me_adm_2_model_parameters.json\u001b[0m\n"
            ]
          },
          "metadata": {},
          "output_type": "display_data"
        },
        {
          "data": {
            "text/html": [
              "<pre style=\"white-space:pre;overflow-x:auto;line-height:normal;font-family:Menlo,'DejaVu Sans Mono',consolas,'Courier New',monospace\"><span style=\"color: #008000; text-decoration-color: #008000\">base_parameters downloaded to /Users/parsaghadermarzi/Desktop/ADToolbox/Database/ADM_Paramete</span>\n",
              "<span style=\"color: #008000; text-decoration-color: #008000\">rs/e_adm_2_base_parameters.json</span>\n",
              "</pre>\n"
            ],
            "text/plain": [
              "\u001b[32mbase_parameters downloaded to \u001b[0m\u001b[32m/Users/parsaghadermarzi/Desktop/ADToolbox/Database/ADM_Paramete\u001b[0m\n",
              "\u001b[32mrs/\u001b[0m\u001b[32me_adm_2_base_parameters.json\u001b[0m\n"
            ]
          },
          "metadata": {},
          "output_type": "display_data"
        },
        {
          "data": {
            "text/html": [
              "<pre style=\"white-space:pre;overflow-x:auto;line-height:normal;font-family:Menlo,'DejaVu Sans Mono',consolas,'Courier New',monospace\"><span style=\"color: #008000; text-decoration-color: #008000\">initial_conditions downloaded to /Users/parsaghadermarzi/Desktop/ADToolbox/Database/ADM_Param</span>\n",
              "<span style=\"color: #008000; text-decoration-color: #008000\">eters/e_adm_2_initial_conditions.json</span>\n",
              "</pre>\n"
            ],
            "text/plain": [
              "\u001b[32minitial_conditions downloaded to \u001b[0m\u001b[32m/Users/parsaghadermarzi/Desktop/ADToolbox/Database/ADM_Param\u001b[0m\n",
              "\u001b[32meters/\u001b[0m\u001b[32me_adm_2_initial_conditions.json\u001b[0m\n"
            ]
          },
          "metadata": {},
          "output_type": "display_data"
        },
        {
          "data": {
            "text/html": [
              "<pre style=\"white-space:pre;overflow-x:auto;line-height:normal;font-family:Menlo,'DejaVu Sans Mono',consolas,'Courier New',monospace\"><span style=\"color: #008000; text-decoration-color: #008000\">inlet_conditions downloaded to /Users/parsaghadermarzi/Desktop/ADToolbox/Database/ADM_Paramet</span>\n",
              "<span style=\"color: #008000; text-decoration-color: #008000\">ers/e_adm_2_inlet_conditions.json</span>\n",
              "</pre>\n"
            ],
            "text/plain": [
              "\u001b[32minlet_conditions downloaded to \u001b[0m\u001b[32m/Users/parsaghadermarzi/Desktop/ADToolbox/Database/ADM_Paramet\u001b[0m\n",
              "\u001b[32mers/\u001b[0m\u001b[32me_adm_2_inlet_conditions.json\u001b[0m\n"
            ]
          },
          "metadata": {},
          "output_type": "display_data"
        },
        {
          "data": {
            "text/html": [
              "<pre style=\"white-space:pre;overflow-x:auto;line-height:normal;font-family:Menlo,'DejaVu Sans Mono',consolas,'Courier New',monospace\"><span style=\"color: #008000; text-decoration-color: #008000\">reactions downloaded to </span>\n",
              "<span style=\"color: #008000; text-decoration-color: #008000\">/Users/parsaghadermarzi/Desktop/ADToolbox/Database/ADM_Parameters/e_adm_2_reactions.json</span>\n",
              "</pre>\n"
            ],
            "text/plain": [
              "\u001b[32mreactions downloaded to \u001b[0m\n",
              "\u001b[32m/Users/parsaghadermarzi/Desktop/ADToolbox/Database/ADM_Parameters/\u001b[0m\u001b[32me_adm_2_reactions.json\u001b[0m\n"
            ]
          },
          "metadata": {},
          "output_type": "display_data"
        },
        {
          "data": {
            "text/html": [
              "<pre style=\"white-space:pre;overflow-x:auto;line-height:normal;font-family:Menlo,'DejaVu Sans Mono',consolas,'Courier New',monospace\"><span style=\"color: #008000; text-decoration-color: #008000\">species downloaded to </span>\n",
              "<span style=\"color: #008000; text-decoration-color: #008000\">/Users/parsaghadermarzi/Desktop/ADToolbox/Database/ADM_Parameters/e_adm_2_species.json</span>\n",
              "</pre>\n"
            ],
            "text/plain": [
              "\u001b[32mspecies downloaded to \u001b[0m\n",
              "\u001b[32m/Users/parsaghadermarzi/Desktop/ADToolbox/Database/ADM_Parameters/\u001b[0m\u001b[32me_adm_2_species.json\u001b[0m\n"
            ]
          },
          "metadata": {},
          "output_type": "display_data"
        }
      ],
      "source": [
        "core.Database(configs.Database(\n",
        "    adm_parameters_urls=configs.E_ADM_2_REMOTE,\n",
        "    adm_parameters=configs.E_ADM_2_LOCAL\n",
        ")).download_adm_parameters()\n"
      ]
    },
    {
      "cell_type": "code",
      "execution_count": 111,
      "metadata": {
        "id": "F0F3uCAoXVVn"
      },
      "outputs": [],
      "source": [
        "params=utils.load_multiple_json_files(configs.E_ADM_2_LOCAL)"
      ]
    },
    {
      "cell_type": "markdown",
      "metadata": {},
      "source": [
        "We need a definition of the feedstock"
      ]
    },
    {
      "cell_type": "code",
      "execution_count": 128,
      "metadata": {
        "id": "_93Nl89DC4Ia"
      },
      "outputs": [],
      "source": [
        "Manure = core.Feed(\n",
        "        name=\"Manure\",\n",
        "        lipids=10.7,\n",
        "        proteins=30,\n",
        "        carbohydrates=59.3,\n",
        "        xi= 80,\n",
        "        si=50,\n",
        "        tss=95,\n",
        " )\n",
        "foodwaste = core.Feed(\n",
        "        name=\"foodwaste\",\n",
        "        lipids=21,\n",
        "        proteins=20.5,\n",
        "        carbohydrates=50.1,\n",
        "        xi=60,\n",
        "        si=50,\n",
        "        tss=65\n",
        ")"
      ]
    },
    {
      "cell_type": "code",
      "execution_count": 129,
      "metadata": {
        "colab": {
          "base_uri": "https://localhost:8080/"
        },
        "id": "P-y4gtSgiGLo",
        "outputId": "563e533a-5492-4deb-fc46-4fc5e4e688a9"
      },
      "outputs": [
        {
          "name": "stdout",
          "output_type": "stream",
          "text": [
            "55.0 M 9.0\r"
          ]
        }
      ],
      "source": [
        "results_dict = {}\n",
        "# dash_apps = {}\n",
        "inoculum_cod=10\n",
        "total_feed_cod=15\n",
        "params.base_parameters['q_in'] = 0\n",
        "mgo=core.Database(config=configs.Database())\n",
        "for reactor_name, reactor_data in data_dict.items():\n",
        "    if \"Initial conditions\" in reactor_data:\n",
        "        initial_conditions = {key:value*inoculum_cod for key,value in reactor_data[\"Initial conditions\"].items()}\n",
        "        initial_conditions[\"X_VFA_deg\"]=0.1*inoculum_cod\n",
        "        _, t, f, ph, _ = reactor_name.split(\"_\")\n",
        "        print(float(t), f, float(ph),end=\"\\r\")\n",
        "        if f == \"F\":\n",
        "            feed = foodwaste\n",
        "        else:\n",
        "            feed = Manure\n",
        "        initial_conditions[\"TSS\"]=total_feed_cod*feed.tss/100\n",
        "        initial_conditions[\"TDS\"]=total_feed_cod-initial_conditions[\"TSS\"]\n",
        "        initial_conditions[\"s_su\"]=0\n",
        "        initial_conditions[\"s_aa\"]=0\n",
        "        initial_conditions[\"s_va\"]=0\n",
        "        initial_conditions[\"s_fa\"]=0\n",
        "        initial_conditions[\"s_ac\"]=0\n",
        "        initial_conditions[\"s_cap\"]=0\n",
        "        if reactor_data[\"time\"][0] != 0:\n",
        "            reactor_data[\"time\"].insert(0,0)\n",
        "            for key in reactor_data[\"data\"]:\n",
        "                reactor_data[\"data\"][key].insert(0,0)\n",
        "        \n",
        "        for key,value in reactor_data[\"data\"].items():\n",
        "            initial_conditions[key]=value[0]\n",
        "        \n",
        "\n",
        "        params.initial_conditions.update(initial_conditions)\n",
        "        \n",
        "        \n",
        "        temp_exp_obj=core.Experiment(\n",
        "            name=reactor_name+\"_Delong_BETO\",\n",
        "            time=reactor_data[\"time\"],\n",
        "            variables=list(reactor_data[\"data\"].keys()),\n",
        "            data=list(reactor_data[\"data\"].values()),\n",
        "            initial_concentrations=params.initial_conditions,\n",
        "            reference=\"Delong_Lab_BETO_Experiment\",\n",
        "            model_name=\"e_adm_2\"\n",
        "        )\n",
        "        \n",
        "        mgo.add_experiment_to_experiments_db(temp_exp_obj)\n",
        "\n",
        "        model = adm.Model(\n",
        "            model_parameters=params.model_parameters,\n",
        "            base_parameters=params.base_parameters,\n",
        "            initial_conditions=params.initial_conditions,\n",
        "            inlet_conditions=params.inlet_conditions,\n",
        "            species=params.species,\n",
        "            reactions=params.reactions,\n",
        "            feed=feed,\n",
        "            ode_system=adm.e_adm_2_ode_sys,\n",
        "            build_stoichiometric_matrix=adm.build_e_adm_2_stoichiometric_matrix,\n",
        "            time_limit=100000,\n",
        "            control_state={'S_H_ion': 10 ** -(float(ph))})\n",
        "\n",
        "        sol = model.solve_model(np.linspace(0, 20, 10))\n",
        "        results_dict[reactor_name] = pd.DataFrame(sol.y.T,columns=params.species)\n",
        "\n"
      ]
    },
    {
      "cell_type": "code",
      "execution_count": 130,
      "metadata": {
        "id": "SwXiWjXZdiZD"
      },
      "outputs": [],
      "source": [
        "only_initial_conditions = {}\n",
        "for data, initial in data_dict.items():\n",
        "    if \"Initial conditions\" in initial:\n",
        "        only_initial_conditions[data] = pd.DataFrame(initial[\"data\"]).max()"
      ]
    },
    {
      "cell_type": "code",
      "execution_count": 131,
      "metadata": {
        "id": "hTXH_ldSh61a"
      },
      "outputs": [],
      "source": [
        "exp_data_sim=pd.DataFrame(only_initial_conditions).T"
      ]
    },
    {
      "cell_type": "code",
      "execution_count": 132,
      "metadata": {
        "id": "avJhj2h4kZU-"
      },
      "outputs": [],
      "source": [
        "exp_data_sim[\"Feed\"]=exp_data_sim.index.map(lambda x:x.split(\"_\")[2])"
      ]
    },
    {
      "cell_type": "code",
      "execution_count": 133,
      "metadata": {
        "id": "NaLXJ1F52WzN"
      },
      "outputs": [],
      "source": [
        "exp_data_sim[\"PH\"]=exp_data_sim.index.map(lambda x:x.split(\"_\")[3])"
      ]
    },
    {
      "cell_type": "code",
      "execution_count": 134,
      "metadata": {
        "colab": {
          "base_uri": "https://localhost:8080/",
          "height": 542
        },
        "id": "tQScwRQ6lLij",
        "outputId": "ffb6d575-e34d-4cf9-8d46-79ac23811924"
      },
      "outputs": [
        {
          "data": {
            "application/vnd.plotly.v1+json": {
              "config": {
                "plotlyServerURL": "https://plot.ly"
              },
              "data": [
                {
                  "alignmentgroup": "True",
                  "boxpoints": "all",
                  "hovertemplate": "Feed=%{x}<br>PH=5<br>S_bu=%{y}<extra></extra>",
                  "legendgroup": "F",
                  "marker": {
                    "color": "#636efa"
                  },
                  "name": "F",
                  "notched": false,
                  "offsetgroup": "F",
                  "orientation": "v",
                  "showlegend": true,
                  "type": "box",
                  "x": [
                    "F",
                    "F",
                    "F",
                    "F",
                    "F",
                    "F",
                    "F",
                    "F",
                    "F"
                  ],
                  "x0": " ",
                  "xaxis": "x",
                  "y": [
                    2.240047520909091,
                    2.6098008100000007,
                    2.605883305454546,
                    2.8177364327272727,
                    1.581195052727273,
                    0.7026143927272728,
                    1.8714991581818181,
                    1.7203393727272729,
                    1.7922206581818185
                  ],
                  "y0": " ",
                  "yaxis": "y"
                },
                {
                  "alignmentgroup": "True",
                  "boxpoints": "all",
                  "hovertemplate": "Feed=%{x}<br>PH=7<br>S_bu=%{y}<extra></extra>",
                  "legendgroup": "F",
                  "marker": {
                    "color": "#636efa"
                  },
                  "name": "F",
                  "notched": false,
                  "offsetgroup": "F",
                  "orientation": "v",
                  "showlegend": false,
                  "type": "box",
                  "x": [
                    "F",
                    "F",
                    "F",
                    "F",
                    "F",
                    "F",
                    "F",
                    "F",
                    "F",
                    "F",
                    "F",
                    "F"
                  ],
                  "x0": " ",
                  "xaxis": "x2",
                  "y": [
                    2.056227327272728,
                    2.1143913199999997,
                    1.9225356472727273,
                    1.621298692727273,
                    1.9369819600000002,
                    1.67803645,
                    1.7540218600000002,
                    1.8289347963636367,
                    1.9345909981818183,
                    0.8572070054545455,
                    1.2441600490909093,
                    1.1207661563636364
                  ],
                  "y0": " ",
                  "yaxis": "y2"
                },
                {
                  "alignmentgroup": "True",
                  "boxpoints": "all",
                  "hovertemplate": "Feed=%{x}<br>PH=9<br>S_bu=%{y}<extra></extra>",
                  "legendgroup": "F",
                  "marker": {
                    "color": "#636efa"
                  },
                  "name": "F",
                  "notched": false,
                  "offsetgroup": "F",
                  "orientation": "v",
                  "showlegend": false,
                  "type": "box",
                  "x": [
                    "F",
                    "F",
                    "F",
                    "F",
                    "F",
                    "F",
                    "F",
                    "F",
                    "F",
                    "F",
                    "F",
                    "F"
                  ],
                  "x0": " ",
                  "xaxis": "x3",
                  "y": [
                    0.19800377090909094,
                    0.11323652000000001,
                    0.6947658036363636,
                    0.16397756363636365,
                    0,
                    0.19705435272727276,
                    0.4744703054545455,
                    0.6387919454545455,
                    0.5384866654545455,
                    0.6170961563636364,
                    0,
                    0.27331663272727275
                  ],
                  "y0": " ",
                  "yaxis": "y3"
                },
                {
                  "alignmentgroup": "True",
                  "boxpoints": "all",
                  "hovertemplate": "Feed=%{x}<br>PH=5<br>S_bu=%{y}<extra></extra>",
                  "legendgroup": "M",
                  "marker": {
                    "color": "#EF553B"
                  },
                  "name": "M",
                  "notched": false,
                  "offsetgroup": "M",
                  "orientation": "v",
                  "showlegend": true,
                  "type": "box",
                  "x": [
                    "M",
                    "M",
                    "M",
                    "M",
                    "M",
                    "M",
                    "M",
                    "M",
                    "M",
                    "M",
                    "M",
                    "M"
                  ],
                  "x0": " ",
                  "xaxis": "x",
                  "y": [
                    0,
                    0.38173473090909094,
                    0.11672602,
                    0.09090909090909093,
                    0,
                    0,
                    0.18181818181818185,
                    0.5454545454545455,
                    0.18181818181818185,
                    0,
                    0.2887300963636364,
                    0
                  ],
                  "y0": " ",
                  "yaxis": "y"
                },
                {
                  "alignmentgroup": "True",
                  "boxpoints": "all",
                  "hovertemplate": "Feed=%{x}<br>PH=7<br>S_bu=%{y}<extra></extra>",
                  "legendgroup": "M",
                  "marker": {
                    "color": "#EF553B"
                  },
                  "name": "M",
                  "notched": false,
                  "offsetgroup": "M",
                  "orientation": "v",
                  "showlegend": false,
                  "type": "box",
                  "x": [
                    "M",
                    "M",
                    "M",
                    "M",
                    "M",
                    "M",
                    "M",
                    "M",
                    "M",
                    "M",
                    "M"
                  ],
                  "x0": " ",
                  "xaxis": "x2",
                  "y": [
                    0.15029333090909092,
                    0,
                    0.17175673636363636,
                    0,
                    0.3636363636363637,
                    0.18181818181818185,
                    0,
                    0.18181818181818185,
                    0,
                    0,
                    0
                  ],
                  "y0": " ",
                  "yaxis": "y2"
                },
                {
                  "alignmentgroup": "True",
                  "boxpoints": "all",
                  "hovertemplate": "Feed=%{x}<br>PH=9<br>S_bu=%{y}<extra></extra>",
                  "legendgroup": "M",
                  "marker": {
                    "color": "#EF553B"
                  },
                  "name": "M",
                  "notched": false,
                  "offsetgroup": "M",
                  "orientation": "v",
                  "showlegend": false,
                  "type": "box",
                  "x": [
                    "M",
                    "M",
                    "M",
                    "M",
                    "M",
                    "M",
                    "M",
                    "M"
                  ],
                  "x0": " ",
                  "xaxis": "x3",
                  "y": [
                    0,
                    0.06790306545454546,
                    0.5046846581818183,
                    0,
                    0.7272727272727274,
                    0.18181818181818185,
                    0.32030442727272734,
                    0
                  ],
                  "y0": " ",
                  "yaxis": "y3"
                }
              ],
              "layout": {
                "annotations": [
                  {
                    "font": {},
                    "showarrow": false,
                    "text": "PH=5",
                    "x": 0.15999999999999998,
                    "xanchor": "center",
                    "xref": "paper",
                    "y": 1,
                    "yanchor": "bottom",
                    "yref": "paper"
                  },
                  {
                    "font": {},
                    "showarrow": false,
                    "text": "PH=7",
                    "x": 0.49999999999999994,
                    "xanchor": "center",
                    "xref": "paper",
                    "y": 1,
                    "yanchor": "bottom",
                    "yref": "paper"
                  },
                  {
                    "font": {},
                    "showarrow": false,
                    "text": "PH=9",
                    "x": 0.8399999999999999,
                    "xanchor": "center",
                    "xref": "paper",
                    "y": 1,
                    "yanchor": "bottom",
                    "yref": "paper"
                  }
                ],
                "boxmode": "overlay",
                "legend": {
                  "title": {
                    "text": "Feed"
                  },
                  "tracegroupgap": 0
                },
                "margin": {
                  "t": 60
                },
                "template": {
                  "data": {
                    "bar": [
                      {
                        "error_x": {
                          "color": "#2a3f5f"
                        },
                        "error_y": {
                          "color": "#2a3f5f"
                        },
                        "marker": {
                          "line": {
                            "color": "#E5ECF6",
                            "width": 0.5
                          },
                          "pattern": {
                            "fillmode": "overlay",
                            "size": 10,
                            "solidity": 0.2
                          }
                        },
                        "type": "bar"
                      }
                    ],
                    "barpolar": [
                      {
                        "marker": {
                          "line": {
                            "color": "#E5ECF6",
                            "width": 0.5
                          },
                          "pattern": {
                            "fillmode": "overlay",
                            "size": 10,
                            "solidity": 0.2
                          }
                        },
                        "type": "barpolar"
                      }
                    ],
                    "carpet": [
                      {
                        "aaxis": {
                          "endlinecolor": "#2a3f5f",
                          "gridcolor": "white",
                          "linecolor": "white",
                          "minorgridcolor": "white",
                          "startlinecolor": "#2a3f5f"
                        },
                        "baxis": {
                          "endlinecolor": "#2a3f5f",
                          "gridcolor": "white",
                          "linecolor": "white",
                          "minorgridcolor": "white",
                          "startlinecolor": "#2a3f5f"
                        },
                        "type": "carpet"
                      }
                    ],
                    "choropleth": [
                      {
                        "colorbar": {
                          "outlinewidth": 0,
                          "ticks": ""
                        },
                        "type": "choropleth"
                      }
                    ],
                    "contour": [
                      {
                        "colorbar": {
                          "outlinewidth": 0,
                          "ticks": ""
                        },
                        "colorscale": [
                          [
                            0,
                            "#0d0887"
                          ],
                          [
                            0.1111111111111111,
                            "#46039f"
                          ],
                          [
                            0.2222222222222222,
                            "#7201a8"
                          ],
                          [
                            0.3333333333333333,
                            "#9c179e"
                          ],
                          [
                            0.4444444444444444,
                            "#bd3786"
                          ],
                          [
                            0.5555555555555556,
                            "#d8576b"
                          ],
                          [
                            0.6666666666666666,
                            "#ed7953"
                          ],
                          [
                            0.7777777777777778,
                            "#fb9f3a"
                          ],
                          [
                            0.8888888888888888,
                            "#fdca26"
                          ],
                          [
                            1,
                            "#f0f921"
                          ]
                        ],
                        "type": "contour"
                      }
                    ],
                    "contourcarpet": [
                      {
                        "colorbar": {
                          "outlinewidth": 0,
                          "ticks": ""
                        },
                        "type": "contourcarpet"
                      }
                    ],
                    "heatmap": [
                      {
                        "colorbar": {
                          "outlinewidth": 0,
                          "ticks": ""
                        },
                        "colorscale": [
                          [
                            0,
                            "#0d0887"
                          ],
                          [
                            0.1111111111111111,
                            "#46039f"
                          ],
                          [
                            0.2222222222222222,
                            "#7201a8"
                          ],
                          [
                            0.3333333333333333,
                            "#9c179e"
                          ],
                          [
                            0.4444444444444444,
                            "#bd3786"
                          ],
                          [
                            0.5555555555555556,
                            "#d8576b"
                          ],
                          [
                            0.6666666666666666,
                            "#ed7953"
                          ],
                          [
                            0.7777777777777778,
                            "#fb9f3a"
                          ],
                          [
                            0.8888888888888888,
                            "#fdca26"
                          ],
                          [
                            1,
                            "#f0f921"
                          ]
                        ],
                        "type": "heatmap"
                      }
                    ],
                    "heatmapgl": [
                      {
                        "colorbar": {
                          "outlinewidth": 0,
                          "ticks": ""
                        },
                        "colorscale": [
                          [
                            0,
                            "#0d0887"
                          ],
                          [
                            0.1111111111111111,
                            "#46039f"
                          ],
                          [
                            0.2222222222222222,
                            "#7201a8"
                          ],
                          [
                            0.3333333333333333,
                            "#9c179e"
                          ],
                          [
                            0.4444444444444444,
                            "#bd3786"
                          ],
                          [
                            0.5555555555555556,
                            "#d8576b"
                          ],
                          [
                            0.6666666666666666,
                            "#ed7953"
                          ],
                          [
                            0.7777777777777778,
                            "#fb9f3a"
                          ],
                          [
                            0.8888888888888888,
                            "#fdca26"
                          ],
                          [
                            1,
                            "#f0f921"
                          ]
                        ],
                        "type": "heatmapgl"
                      }
                    ],
                    "histogram": [
                      {
                        "marker": {
                          "pattern": {
                            "fillmode": "overlay",
                            "size": 10,
                            "solidity": 0.2
                          }
                        },
                        "type": "histogram"
                      }
                    ],
                    "histogram2d": [
                      {
                        "colorbar": {
                          "outlinewidth": 0,
                          "ticks": ""
                        },
                        "colorscale": [
                          [
                            0,
                            "#0d0887"
                          ],
                          [
                            0.1111111111111111,
                            "#46039f"
                          ],
                          [
                            0.2222222222222222,
                            "#7201a8"
                          ],
                          [
                            0.3333333333333333,
                            "#9c179e"
                          ],
                          [
                            0.4444444444444444,
                            "#bd3786"
                          ],
                          [
                            0.5555555555555556,
                            "#d8576b"
                          ],
                          [
                            0.6666666666666666,
                            "#ed7953"
                          ],
                          [
                            0.7777777777777778,
                            "#fb9f3a"
                          ],
                          [
                            0.8888888888888888,
                            "#fdca26"
                          ],
                          [
                            1,
                            "#f0f921"
                          ]
                        ],
                        "type": "histogram2d"
                      }
                    ],
                    "histogram2dcontour": [
                      {
                        "colorbar": {
                          "outlinewidth": 0,
                          "ticks": ""
                        },
                        "colorscale": [
                          [
                            0,
                            "#0d0887"
                          ],
                          [
                            0.1111111111111111,
                            "#46039f"
                          ],
                          [
                            0.2222222222222222,
                            "#7201a8"
                          ],
                          [
                            0.3333333333333333,
                            "#9c179e"
                          ],
                          [
                            0.4444444444444444,
                            "#bd3786"
                          ],
                          [
                            0.5555555555555556,
                            "#d8576b"
                          ],
                          [
                            0.6666666666666666,
                            "#ed7953"
                          ],
                          [
                            0.7777777777777778,
                            "#fb9f3a"
                          ],
                          [
                            0.8888888888888888,
                            "#fdca26"
                          ],
                          [
                            1,
                            "#f0f921"
                          ]
                        ],
                        "type": "histogram2dcontour"
                      }
                    ],
                    "mesh3d": [
                      {
                        "colorbar": {
                          "outlinewidth": 0,
                          "ticks": ""
                        },
                        "type": "mesh3d"
                      }
                    ],
                    "parcoords": [
                      {
                        "line": {
                          "colorbar": {
                            "outlinewidth": 0,
                            "ticks": ""
                          }
                        },
                        "type": "parcoords"
                      }
                    ],
                    "pie": [
                      {
                        "automargin": true,
                        "type": "pie"
                      }
                    ],
                    "scatter": [
                      {
                        "fillpattern": {
                          "fillmode": "overlay",
                          "size": 10,
                          "solidity": 0.2
                        },
                        "type": "scatter"
                      }
                    ],
                    "scatter3d": [
                      {
                        "line": {
                          "colorbar": {
                            "outlinewidth": 0,
                            "ticks": ""
                          }
                        },
                        "marker": {
                          "colorbar": {
                            "outlinewidth": 0,
                            "ticks": ""
                          }
                        },
                        "type": "scatter3d"
                      }
                    ],
                    "scattercarpet": [
                      {
                        "marker": {
                          "colorbar": {
                            "outlinewidth": 0,
                            "ticks": ""
                          }
                        },
                        "type": "scattercarpet"
                      }
                    ],
                    "scattergeo": [
                      {
                        "marker": {
                          "colorbar": {
                            "outlinewidth": 0,
                            "ticks": ""
                          }
                        },
                        "type": "scattergeo"
                      }
                    ],
                    "scattergl": [
                      {
                        "marker": {
                          "colorbar": {
                            "outlinewidth": 0,
                            "ticks": ""
                          }
                        },
                        "type": "scattergl"
                      }
                    ],
                    "scattermapbox": [
                      {
                        "marker": {
                          "colorbar": {
                            "outlinewidth": 0,
                            "ticks": ""
                          }
                        },
                        "type": "scattermapbox"
                      }
                    ],
                    "scatterpolar": [
                      {
                        "marker": {
                          "colorbar": {
                            "outlinewidth": 0,
                            "ticks": ""
                          }
                        },
                        "type": "scatterpolar"
                      }
                    ],
                    "scatterpolargl": [
                      {
                        "marker": {
                          "colorbar": {
                            "outlinewidth": 0,
                            "ticks": ""
                          }
                        },
                        "type": "scatterpolargl"
                      }
                    ],
                    "scatterternary": [
                      {
                        "marker": {
                          "colorbar": {
                            "outlinewidth": 0,
                            "ticks": ""
                          }
                        },
                        "type": "scatterternary"
                      }
                    ],
                    "surface": [
                      {
                        "colorbar": {
                          "outlinewidth": 0,
                          "ticks": ""
                        },
                        "colorscale": [
                          [
                            0,
                            "#0d0887"
                          ],
                          [
                            0.1111111111111111,
                            "#46039f"
                          ],
                          [
                            0.2222222222222222,
                            "#7201a8"
                          ],
                          [
                            0.3333333333333333,
                            "#9c179e"
                          ],
                          [
                            0.4444444444444444,
                            "#bd3786"
                          ],
                          [
                            0.5555555555555556,
                            "#d8576b"
                          ],
                          [
                            0.6666666666666666,
                            "#ed7953"
                          ],
                          [
                            0.7777777777777778,
                            "#fb9f3a"
                          ],
                          [
                            0.8888888888888888,
                            "#fdca26"
                          ],
                          [
                            1,
                            "#f0f921"
                          ]
                        ],
                        "type": "surface"
                      }
                    ],
                    "table": [
                      {
                        "cells": {
                          "fill": {
                            "color": "#EBF0F8"
                          },
                          "line": {
                            "color": "white"
                          }
                        },
                        "header": {
                          "fill": {
                            "color": "#C8D4E3"
                          },
                          "line": {
                            "color": "white"
                          }
                        },
                        "type": "table"
                      }
                    ]
                  },
                  "layout": {
                    "annotationdefaults": {
                      "arrowcolor": "#2a3f5f",
                      "arrowhead": 0,
                      "arrowwidth": 1
                    },
                    "autotypenumbers": "strict",
                    "coloraxis": {
                      "colorbar": {
                        "outlinewidth": 0,
                        "ticks": ""
                      }
                    },
                    "colorscale": {
                      "diverging": [
                        [
                          0,
                          "#8e0152"
                        ],
                        [
                          0.1,
                          "#c51b7d"
                        ],
                        [
                          0.2,
                          "#de77ae"
                        ],
                        [
                          0.3,
                          "#f1b6da"
                        ],
                        [
                          0.4,
                          "#fde0ef"
                        ],
                        [
                          0.5,
                          "#f7f7f7"
                        ],
                        [
                          0.6,
                          "#e6f5d0"
                        ],
                        [
                          0.7,
                          "#b8e186"
                        ],
                        [
                          0.8,
                          "#7fbc41"
                        ],
                        [
                          0.9,
                          "#4d9221"
                        ],
                        [
                          1,
                          "#276419"
                        ]
                      ],
                      "sequential": [
                        [
                          0,
                          "#0d0887"
                        ],
                        [
                          0.1111111111111111,
                          "#46039f"
                        ],
                        [
                          0.2222222222222222,
                          "#7201a8"
                        ],
                        [
                          0.3333333333333333,
                          "#9c179e"
                        ],
                        [
                          0.4444444444444444,
                          "#bd3786"
                        ],
                        [
                          0.5555555555555556,
                          "#d8576b"
                        ],
                        [
                          0.6666666666666666,
                          "#ed7953"
                        ],
                        [
                          0.7777777777777778,
                          "#fb9f3a"
                        ],
                        [
                          0.8888888888888888,
                          "#fdca26"
                        ],
                        [
                          1,
                          "#f0f921"
                        ]
                      ],
                      "sequentialminus": [
                        [
                          0,
                          "#0d0887"
                        ],
                        [
                          0.1111111111111111,
                          "#46039f"
                        ],
                        [
                          0.2222222222222222,
                          "#7201a8"
                        ],
                        [
                          0.3333333333333333,
                          "#9c179e"
                        ],
                        [
                          0.4444444444444444,
                          "#bd3786"
                        ],
                        [
                          0.5555555555555556,
                          "#d8576b"
                        ],
                        [
                          0.6666666666666666,
                          "#ed7953"
                        ],
                        [
                          0.7777777777777778,
                          "#fb9f3a"
                        ],
                        [
                          0.8888888888888888,
                          "#fdca26"
                        ],
                        [
                          1,
                          "#f0f921"
                        ]
                      ]
                    },
                    "colorway": [
                      "#636efa",
                      "#EF553B",
                      "#00cc96",
                      "#ab63fa",
                      "#FFA15A",
                      "#19d3f3",
                      "#FF6692",
                      "#B6E880",
                      "#FF97FF",
                      "#FECB52"
                    ],
                    "font": {
                      "color": "#2a3f5f"
                    },
                    "geo": {
                      "bgcolor": "white",
                      "lakecolor": "white",
                      "landcolor": "#E5ECF6",
                      "showlakes": true,
                      "showland": true,
                      "subunitcolor": "white"
                    },
                    "hoverlabel": {
                      "align": "left"
                    },
                    "hovermode": "closest",
                    "mapbox": {
                      "style": "light"
                    },
                    "paper_bgcolor": "white",
                    "plot_bgcolor": "#E5ECF6",
                    "polar": {
                      "angularaxis": {
                        "gridcolor": "white",
                        "linecolor": "white",
                        "ticks": ""
                      },
                      "bgcolor": "#E5ECF6",
                      "radialaxis": {
                        "gridcolor": "white",
                        "linecolor": "white",
                        "ticks": ""
                      }
                    },
                    "scene": {
                      "xaxis": {
                        "backgroundcolor": "#E5ECF6",
                        "gridcolor": "white",
                        "gridwidth": 2,
                        "linecolor": "white",
                        "showbackground": true,
                        "ticks": "",
                        "zerolinecolor": "white"
                      },
                      "yaxis": {
                        "backgroundcolor": "#E5ECF6",
                        "gridcolor": "white",
                        "gridwidth": 2,
                        "linecolor": "white",
                        "showbackground": true,
                        "ticks": "",
                        "zerolinecolor": "white"
                      },
                      "zaxis": {
                        "backgroundcolor": "#E5ECF6",
                        "gridcolor": "white",
                        "gridwidth": 2,
                        "linecolor": "white",
                        "showbackground": true,
                        "ticks": "",
                        "zerolinecolor": "white"
                      }
                    },
                    "shapedefaults": {
                      "line": {
                        "color": "#2a3f5f"
                      }
                    },
                    "ternary": {
                      "aaxis": {
                        "gridcolor": "white",
                        "linecolor": "white",
                        "ticks": ""
                      },
                      "baxis": {
                        "gridcolor": "white",
                        "linecolor": "white",
                        "ticks": ""
                      },
                      "bgcolor": "#E5ECF6",
                      "caxis": {
                        "gridcolor": "white",
                        "linecolor": "white",
                        "ticks": ""
                      }
                    },
                    "title": {
                      "x": 0.05
                    },
                    "xaxis": {
                      "automargin": true,
                      "gridcolor": "white",
                      "linecolor": "white",
                      "ticks": "",
                      "title": {
                        "standoff": 15
                      },
                      "zerolinecolor": "white",
                      "zerolinewidth": 2
                    },
                    "yaxis": {
                      "automargin": true,
                      "gridcolor": "white",
                      "linecolor": "white",
                      "ticks": "",
                      "title": {
                        "standoff": 15
                      },
                      "zerolinecolor": "white",
                      "zerolinewidth": 2
                    }
                  }
                },
                "title": {
                  "text": "Butyric Acid Concentration Experimental Data"
                },
                "xaxis": {
                  "anchor": "y",
                  "categoryarray": [
                    "F",
                    "M"
                  ],
                  "categoryorder": "array",
                  "domain": [
                    0,
                    0.31999999999999995
                  ],
                  "title": {
                    "text": "Feed"
                  }
                },
                "xaxis2": {
                  "anchor": "y2",
                  "categoryarray": [
                    "F",
                    "M"
                  ],
                  "categoryorder": "array",
                  "domain": [
                    0.33999999999999997,
                    0.6599999999999999
                  ],
                  "matches": "x",
                  "title": {
                    "text": "Feed"
                  }
                },
                "xaxis3": {
                  "anchor": "y3",
                  "categoryarray": [
                    "F",
                    "M"
                  ],
                  "categoryorder": "array",
                  "domain": [
                    0.6799999999999999,
                    0.9999999999999999
                  ],
                  "matches": "x",
                  "title": {
                    "text": "Feed"
                  }
                },
                "yaxis": {
                  "anchor": "x",
                  "domain": [
                    0,
                    1
                  ],
                  "title": {
                    "text": "S_bu"
                  }
                },
                "yaxis2": {
                  "anchor": "x2",
                  "domain": [
                    0,
                    1
                  ],
                  "matches": "y",
                  "showticklabels": false
                },
                "yaxis3": {
                  "anchor": "x3",
                  "domain": [
                    0,
                    1
                  ],
                  "matches": "y",
                  "showticklabels": false
                }
              }
            }
          },
          "metadata": {},
          "output_type": "display_data"
        }
      ],
      "source": [
        "fig=px.box(exp_data_sim,x=\"Feed\",y=\"S_bu\",facet_col=\"PH\",color=\"Feed\",points=\"all\")\n",
        "fig.update_layout(title=\"Butyric Acid Concentration Experimental Data\")\n",
        "fig.write_html(\"Butyric Acid Concentratio Experimental Data.html\")\n",
        "fig.show()"
      ]
    },
    {
      "cell_type": "code",
      "execution_count": 135,
      "metadata": {
        "id": "9c3FCFbal1uM"
      },
      "outputs": [],
      "source": [
        "observed_acids=exp_data_sim.columns[:-2].to_list()\n",
        "for reactor in results_dict:\n",
        "  results_dict[reactor]=results_dict[reactor][observed_acids].max()\n"
      ]
    },
    {
      "cell_type": "code",
      "execution_count": 136,
      "metadata": {
        "id": "pR_y1Azkmx_p"
      },
      "outputs": [],
      "source": [
        "simulations_vfa_results=pd.DataFrame(results_dict).T"
      ]
    },
    {
      "cell_type": "code",
      "execution_count": 137,
      "metadata": {
        "id": "UVby0_Tkoim1"
      },
      "outputs": [],
      "source": [
        "simulations_vfa_results[\"Feed\"]=simulations_vfa_results.index.map(lambda x:x.split(\"_\")[2])"
      ]
    },
    {
      "cell_type": "code",
      "execution_count": 138,
      "metadata": {
        "id": "W9W4l4yZ1aRD"
      },
      "outputs": [],
      "source": [
        "simulations_vfa_results[\"PH\"]=simulations_vfa_results.index.map(lambda x:x.split(\"_\")[3])"
      ]
    },
    {
      "cell_type": "code",
      "execution_count": 139,
      "metadata": {
        "colab": {
          "base_uri": "https://localhost:8080/",
          "height": 1000
        },
        "id": "TQ2NZqjP1mIx",
        "outputId": "24151470-6bb2-403a-c92f-59fad0a917ad"
      },
      "outputs": [
        {
          "data": {
            "text/html": [
              "<div>\n",
              "<style scoped>\n",
              "    .dataframe tbody tr th:only-of-type {\n",
              "        vertical-align: middle;\n",
              "    }\n",
              "\n",
              "    .dataframe tbody tr th {\n",
              "        vertical-align: top;\n",
              "    }\n",
              "\n",
              "    .dataframe thead th {\n",
              "        text-align: right;\n",
              "    }\n",
              "</style>\n",
              "<table border=\"1\" class=\"dataframe\">\n",
              "  <thead>\n",
              "    <tr style=\"text-align: right;\">\n",
              "      <th></th>\n",
              "      <th>S_ac</th>\n",
              "      <th>S_pro</th>\n",
              "      <th>S_bu</th>\n",
              "      <th>S_va</th>\n",
              "      <th>S_cap</th>\n",
              "      <th>Feed</th>\n",
              "      <th>PH</th>\n",
              "    </tr>\n",
              "  </thead>\n",
              "  <tbody>\n",
              "    <tr>\n",
              "      <th>A_35_F_5_A</th>\n",
              "      <td>1.346559</td>\n",
              "      <td>2.772614</td>\n",
              "      <td>1.164341</td>\n",
              "      <td>2.448643</td>\n",
              "      <td>0.192994</td>\n",
              "      <td>F</td>\n",
              "      <td>5</td>\n",
              "    </tr>\n",
              "    <tr>\n",
              "      <th>A_35_F_5_C</th>\n",
              "      <td>1.361359</td>\n",
              "      <td>2.777306</td>\n",
              "      <td>1.177625</td>\n",
              "      <td>2.458072</td>\n",
              "      <td>0.193762</td>\n",
              "      <td>F</td>\n",
              "      <td>5</td>\n",
              "    </tr>\n",
              "    <tr>\n",
              "      <th>A_35_F_7_A</th>\n",
              "      <td>1.450354</td>\n",
              "      <td>2.756807</td>\n",
              "      <td>1.086939</td>\n",
              "      <td>2.490990</td>\n",
              "      <td>0.184214</td>\n",
              "      <td>F</td>\n",
              "      <td>7</td>\n",
              "    </tr>\n",
              "    <tr>\n",
              "      <th>A_35_F_7_B</th>\n",
              "      <td>1.533122</td>\n",
              "      <td>2.752617</td>\n",
              "      <td>1.163869</td>\n",
              "      <td>2.618100</td>\n",
              "      <td>0.193759</td>\n",
              "      <td>F</td>\n",
              "      <td>7</td>\n",
              "    </tr>\n",
              "    <tr>\n",
              "      <th>A_35_F_7_C</th>\n",
              "      <td>1.529489</td>\n",
              "      <td>2.745193</td>\n",
              "      <td>1.165847</td>\n",
              "      <td>2.658041</td>\n",
              "      <td>0.196468</td>\n",
              "      <td>F</td>\n",
              "      <td>7</td>\n",
              "    </tr>\n",
              "    <tr>\n",
              "      <th>...</th>\n",
              "      <td>...</td>\n",
              "      <td>...</td>\n",
              "      <td>...</td>\n",
              "      <td>...</td>\n",
              "      <td>...</td>\n",
              "      <td>...</td>\n",
              "      <td>...</td>\n",
              "    </tr>\n",
              "    <tr>\n",
              "      <th>T_55_M_7_A</th>\n",
              "      <td>0.894132</td>\n",
              "      <td>1.415668</td>\n",
              "      <td>0.617391</td>\n",
              "      <td>1.438023</td>\n",
              "      <td>0.103538</td>\n",
              "      <td>M</td>\n",
              "      <td>7</td>\n",
              "    </tr>\n",
              "    <tr>\n",
              "      <th>T_55_M_7_B</th>\n",
              "      <td>0.815144</td>\n",
              "      <td>1.394894</td>\n",
              "      <td>0.567658</td>\n",
              "      <td>1.445022</td>\n",
              "      <td>0.103697</td>\n",
              "      <td>M</td>\n",
              "      <td>7</td>\n",
              "    </tr>\n",
              "    <tr>\n",
              "      <th>T_55_M_7_C</th>\n",
              "      <td>0.761750</td>\n",
              "      <td>1.394867</td>\n",
              "      <td>0.535179</td>\n",
              "      <td>1.465816</td>\n",
              "      <td>0.105294</td>\n",
              "      <td>M</td>\n",
              "      <td>7</td>\n",
              "    </tr>\n",
              "    <tr>\n",
              "      <th>T_55_M_9_B</th>\n",
              "      <td>1.577458</td>\n",
              "      <td>0.878959</td>\n",
              "      <td>0.205256</td>\n",
              "      <td>2.027516</td>\n",
              "      <td>0.128091</td>\n",
              "      <td>M</td>\n",
              "      <td>9</td>\n",
              "    </tr>\n",
              "    <tr>\n",
              "      <th>T_55_M_9_C</th>\n",
              "      <td>1.660455</td>\n",
              "      <td>0.882736</td>\n",
              "      <td>0.211808</td>\n",
              "      <td>2.000584</td>\n",
              "      <td>0.126389</td>\n",
              "      <td>M</td>\n",
              "      <td>9</td>\n",
              "    </tr>\n",
              "  </tbody>\n",
              "</table>\n",
              "<p>64 rows × 7 columns</p>\n",
              "</div>"
            ],
            "text/plain": [
              "                S_ac     S_pro      S_bu      S_va     S_cap Feed PH\n",
              "A_35_F_5_A  1.346559  2.772614  1.164341  2.448643  0.192994    F  5\n",
              "A_35_F_5_C  1.361359  2.777306  1.177625  2.458072  0.193762    F  5\n",
              "A_35_F_7_A  1.450354  2.756807  1.086939  2.490990  0.184214    F  7\n",
              "A_35_F_7_B  1.533122  2.752617  1.163869  2.618100  0.193759    F  7\n",
              "A_35_F_7_C  1.529489  2.745193  1.165847  2.658041  0.196468    F  7\n",
              "...              ...       ...       ...       ...       ...  ... ..\n",
              "T_55_M_7_A  0.894132  1.415668  0.617391  1.438023  0.103538    M  7\n",
              "T_55_M_7_B  0.815144  1.394894  0.567658  1.445022  0.103697    M  7\n",
              "T_55_M_7_C  0.761750  1.394867  0.535179  1.465816  0.105294    M  7\n",
              "T_55_M_9_B  1.577458  0.878959  0.205256  2.027516  0.128091    M  9\n",
              "T_55_M_9_C  1.660455  0.882736  0.211808  2.000584  0.126389    M  9\n",
              "\n",
              "[64 rows x 7 columns]"
            ]
          },
          "execution_count": 139,
          "metadata": {},
          "output_type": "execute_result"
        }
      ],
      "source": [
        "simulations_vfa_results"
      ]
    },
    {
      "cell_type": "code",
      "execution_count": 140,
      "metadata": {
        "colab": {
          "base_uri": "https://localhost:8080/",
          "height": 542
        },
        "id": "DGXCDxl3o9Nc",
        "outputId": "570b9590-9e0b-4c06-9722-ee3a73e4c56a"
      },
      "outputs": [
        {
          "data": {
            "application/vnd.plotly.v1+json": {
              "config": {
                "plotlyServerURL": "https://plot.ly"
              },
              "data": [
                {
                  "alignmentgroup": "True",
                  "boxpoints": "all",
                  "hovertemplate": "Feed=%{x}<br>PH=5<br>S_bu=%{y}<extra></extra>",
                  "legendgroup": "F",
                  "marker": {
                    "color": "#636efa"
                  },
                  "name": "F",
                  "notched": false,
                  "offsetgroup": "F",
                  "orientation": "v",
                  "showlegend": true,
                  "type": "box",
                  "x": [
                    "F",
                    "F",
                    "F",
                    "F",
                    "F",
                    "F",
                    "F",
                    "F",
                    "F"
                  ],
                  "x0": " ",
                  "xaxis": "x",
                  "y": [
                    1.1643406791642188,
                    1.177624907775102,
                    1.2985205708353065,
                    1.2025608627913016,
                    1.3183764820530104,
                    1.1693923356925044,
                    1.1160833619528663,
                    1.338672876381832,
                    1.1173757673940388
                  ],
                  "y0": " ",
                  "yaxis": "y"
                },
                {
                  "alignmentgroup": "True",
                  "boxpoints": "all",
                  "hovertemplate": "Feed=%{x}<br>PH=7<br>S_bu=%{y}<extra></extra>",
                  "legendgroup": "F",
                  "marker": {
                    "color": "#636efa"
                  },
                  "name": "F",
                  "notched": false,
                  "offsetgroup": "F",
                  "orientation": "v",
                  "showlegend": false,
                  "type": "box",
                  "x": [
                    "F",
                    "F",
                    "F",
                    "F",
                    "F",
                    "F",
                    "F",
                    "F",
                    "F",
                    "F",
                    "F",
                    "F"
                  ],
                  "x0": " ",
                  "xaxis": "x2",
                  "y": [
                    1.086938693231633,
                    1.1638685567462137,
                    1.1658466221932722,
                    1.1558361663921721,
                    1.0503616549472088,
                    1.0347196946878507,
                    1.076360775039902,
                    1.082221763731084,
                    1.0590149783437193,
                    1.0438108153092858,
                    1.0035416287793195,
                    1.007142592383768
                  ],
                  "y0": " ",
                  "yaxis": "y2"
                },
                {
                  "alignmentgroup": "True",
                  "boxpoints": "all",
                  "hovertemplate": "Feed=%{x}<br>PH=9<br>S_bu=%{y}<extra></extra>",
                  "legendgroup": "F",
                  "marker": {
                    "color": "#636efa"
                  },
                  "name": "F",
                  "notched": false,
                  "offsetgroup": "F",
                  "orientation": "v",
                  "showlegend": false,
                  "type": "box",
                  "x": [
                    "F",
                    "F",
                    "F",
                    "F",
                    "F",
                    "F",
                    "F",
                    "F",
                    "F",
                    "F",
                    "F",
                    "F"
                  ],
                  "x0": " ",
                  "xaxis": "x3",
                  "y": [
                    0.3472791585776967,
                    0.3506492195820656,
                    0.5893047406768205,
                    0.35499614383821254,
                    0.35975965210255756,
                    0.35820093281195864,
                    0.34894378424387484,
                    0.3621134201983569,
                    0.34309357343536007,
                    0.3709386021961115,
                    0.33440819975350716,
                    0.3461191215598941
                  ],
                  "y0": " ",
                  "yaxis": "y3"
                },
                {
                  "alignmentgroup": "True",
                  "boxpoints": "all",
                  "hovertemplate": "Feed=%{x}<br>PH=5<br>S_bu=%{y}<extra></extra>",
                  "legendgroup": "M",
                  "marker": {
                    "color": "#EF553B"
                  },
                  "name": "M",
                  "notched": false,
                  "offsetgroup": "M",
                  "orientation": "v",
                  "showlegend": true,
                  "type": "box",
                  "x": [
                    "M",
                    "M",
                    "M",
                    "M",
                    "M",
                    "M",
                    "M",
                    "M",
                    "M",
                    "M",
                    "M",
                    "M"
                  ],
                  "x0": " ",
                  "xaxis": "x",
                  "y": [
                    0.6814238893914959,
                    0.8544482209368703,
                    0.7662660379019739,
                    0.6929123274046349,
                    0.5878475756032671,
                    0.5902129559318127,
                    0.6951335583887647,
                    0.5880973967003983,
                    0.7319397770685837,
                    0.5899496678226643,
                    0.6571566970751499,
                    0.6139961837219636
                  ],
                  "y0": " ",
                  "yaxis": "y"
                },
                {
                  "alignmentgroup": "True",
                  "boxpoints": "all",
                  "hovertemplate": "Feed=%{x}<br>PH=7<br>S_bu=%{y}<extra></extra>",
                  "legendgroup": "M",
                  "marker": {
                    "color": "#EF553B"
                  },
                  "name": "M",
                  "notched": false,
                  "offsetgroup": "M",
                  "orientation": "v",
                  "showlegend": false,
                  "type": "box",
                  "x": [
                    "M",
                    "M",
                    "M",
                    "M",
                    "M",
                    "M",
                    "M",
                    "M",
                    "M",
                    "M",
                    "M"
                  ],
                  "x0": " ",
                  "xaxis": "x2",
                  "y": [
                    0.5795665760635512,
                    0.607677748494203,
                    0.5973915950594105,
                    0.5658058489975816,
                    0.562319520078483,
                    0.604066287293605,
                    0.6120512532118436,
                    0.6454824625655776,
                    0.6173906256472036,
                    0.5676583631991051,
                    0.5351786553141936
                  ],
                  "y0": " ",
                  "yaxis": "y2"
                },
                {
                  "alignmentgroup": "True",
                  "boxpoints": "all",
                  "hovertemplate": "Feed=%{x}<br>PH=9<br>S_bu=%{y}<extra></extra>",
                  "legendgroup": "M",
                  "marker": {
                    "color": "#EF553B"
                  },
                  "name": "M",
                  "notched": false,
                  "offsetgroup": "M",
                  "orientation": "v",
                  "showlegend": false,
                  "type": "box",
                  "x": [
                    "M",
                    "M",
                    "M",
                    "M",
                    "M",
                    "M",
                    "M",
                    "M"
                  ],
                  "x0": " ",
                  "xaxis": "x3",
                  "y": [
                    0.24142563789528576,
                    0.2488164181988562,
                    0.22702631844453233,
                    0.25437731305969813,
                    0.2661920114242592,
                    0.27791861986997257,
                    0.20525613257181902,
                    0.2118081469737209
                  ],
                  "y0": " ",
                  "yaxis": "y3"
                }
              ],
              "layout": {
                "annotations": [
                  {
                    "font": {},
                    "showarrow": false,
                    "text": "PH=5",
                    "x": 0.15999999999999998,
                    "xanchor": "center",
                    "xref": "paper",
                    "y": 1,
                    "yanchor": "bottom",
                    "yref": "paper"
                  },
                  {
                    "font": {},
                    "showarrow": false,
                    "text": "PH=7",
                    "x": 0.49999999999999994,
                    "xanchor": "center",
                    "xref": "paper",
                    "y": 1,
                    "yanchor": "bottom",
                    "yref": "paper"
                  },
                  {
                    "font": {},
                    "showarrow": false,
                    "text": "PH=9",
                    "x": 0.8399999999999999,
                    "xanchor": "center",
                    "xref": "paper",
                    "y": 1,
                    "yanchor": "bottom",
                    "yref": "paper"
                  }
                ],
                "boxmode": "overlay",
                "legend": {
                  "title": {
                    "text": "Feed"
                  },
                  "tracegroupgap": 0
                },
                "margin": {
                  "t": 60
                },
                "template": {
                  "data": {
                    "bar": [
                      {
                        "error_x": {
                          "color": "#2a3f5f"
                        },
                        "error_y": {
                          "color": "#2a3f5f"
                        },
                        "marker": {
                          "line": {
                            "color": "#E5ECF6",
                            "width": 0.5
                          },
                          "pattern": {
                            "fillmode": "overlay",
                            "size": 10,
                            "solidity": 0.2
                          }
                        },
                        "type": "bar"
                      }
                    ],
                    "barpolar": [
                      {
                        "marker": {
                          "line": {
                            "color": "#E5ECF6",
                            "width": 0.5
                          },
                          "pattern": {
                            "fillmode": "overlay",
                            "size": 10,
                            "solidity": 0.2
                          }
                        },
                        "type": "barpolar"
                      }
                    ],
                    "carpet": [
                      {
                        "aaxis": {
                          "endlinecolor": "#2a3f5f",
                          "gridcolor": "white",
                          "linecolor": "white",
                          "minorgridcolor": "white",
                          "startlinecolor": "#2a3f5f"
                        },
                        "baxis": {
                          "endlinecolor": "#2a3f5f",
                          "gridcolor": "white",
                          "linecolor": "white",
                          "minorgridcolor": "white",
                          "startlinecolor": "#2a3f5f"
                        },
                        "type": "carpet"
                      }
                    ],
                    "choropleth": [
                      {
                        "colorbar": {
                          "outlinewidth": 0,
                          "ticks": ""
                        },
                        "type": "choropleth"
                      }
                    ],
                    "contour": [
                      {
                        "colorbar": {
                          "outlinewidth": 0,
                          "ticks": ""
                        },
                        "colorscale": [
                          [
                            0,
                            "#0d0887"
                          ],
                          [
                            0.1111111111111111,
                            "#46039f"
                          ],
                          [
                            0.2222222222222222,
                            "#7201a8"
                          ],
                          [
                            0.3333333333333333,
                            "#9c179e"
                          ],
                          [
                            0.4444444444444444,
                            "#bd3786"
                          ],
                          [
                            0.5555555555555556,
                            "#d8576b"
                          ],
                          [
                            0.6666666666666666,
                            "#ed7953"
                          ],
                          [
                            0.7777777777777778,
                            "#fb9f3a"
                          ],
                          [
                            0.8888888888888888,
                            "#fdca26"
                          ],
                          [
                            1,
                            "#f0f921"
                          ]
                        ],
                        "type": "contour"
                      }
                    ],
                    "contourcarpet": [
                      {
                        "colorbar": {
                          "outlinewidth": 0,
                          "ticks": ""
                        },
                        "type": "contourcarpet"
                      }
                    ],
                    "heatmap": [
                      {
                        "colorbar": {
                          "outlinewidth": 0,
                          "ticks": ""
                        },
                        "colorscale": [
                          [
                            0,
                            "#0d0887"
                          ],
                          [
                            0.1111111111111111,
                            "#46039f"
                          ],
                          [
                            0.2222222222222222,
                            "#7201a8"
                          ],
                          [
                            0.3333333333333333,
                            "#9c179e"
                          ],
                          [
                            0.4444444444444444,
                            "#bd3786"
                          ],
                          [
                            0.5555555555555556,
                            "#d8576b"
                          ],
                          [
                            0.6666666666666666,
                            "#ed7953"
                          ],
                          [
                            0.7777777777777778,
                            "#fb9f3a"
                          ],
                          [
                            0.8888888888888888,
                            "#fdca26"
                          ],
                          [
                            1,
                            "#f0f921"
                          ]
                        ],
                        "type": "heatmap"
                      }
                    ],
                    "heatmapgl": [
                      {
                        "colorbar": {
                          "outlinewidth": 0,
                          "ticks": ""
                        },
                        "colorscale": [
                          [
                            0,
                            "#0d0887"
                          ],
                          [
                            0.1111111111111111,
                            "#46039f"
                          ],
                          [
                            0.2222222222222222,
                            "#7201a8"
                          ],
                          [
                            0.3333333333333333,
                            "#9c179e"
                          ],
                          [
                            0.4444444444444444,
                            "#bd3786"
                          ],
                          [
                            0.5555555555555556,
                            "#d8576b"
                          ],
                          [
                            0.6666666666666666,
                            "#ed7953"
                          ],
                          [
                            0.7777777777777778,
                            "#fb9f3a"
                          ],
                          [
                            0.8888888888888888,
                            "#fdca26"
                          ],
                          [
                            1,
                            "#f0f921"
                          ]
                        ],
                        "type": "heatmapgl"
                      }
                    ],
                    "histogram": [
                      {
                        "marker": {
                          "pattern": {
                            "fillmode": "overlay",
                            "size": 10,
                            "solidity": 0.2
                          }
                        },
                        "type": "histogram"
                      }
                    ],
                    "histogram2d": [
                      {
                        "colorbar": {
                          "outlinewidth": 0,
                          "ticks": ""
                        },
                        "colorscale": [
                          [
                            0,
                            "#0d0887"
                          ],
                          [
                            0.1111111111111111,
                            "#46039f"
                          ],
                          [
                            0.2222222222222222,
                            "#7201a8"
                          ],
                          [
                            0.3333333333333333,
                            "#9c179e"
                          ],
                          [
                            0.4444444444444444,
                            "#bd3786"
                          ],
                          [
                            0.5555555555555556,
                            "#d8576b"
                          ],
                          [
                            0.6666666666666666,
                            "#ed7953"
                          ],
                          [
                            0.7777777777777778,
                            "#fb9f3a"
                          ],
                          [
                            0.8888888888888888,
                            "#fdca26"
                          ],
                          [
                            1,
                            "#f0f921"
                          ]
                        ],
                        "type": "histogram2d"
                      }
                    ],
                    "histogram2dcontour": [
                      {
                        "colorbar": {
                          "outlinewidth": 0,
                          "ticks": ""
                        },
                        "colorscale": [
                          [
                            0,
                            "#0d0887"
                          ],
                          [
                            0.1111111111111111,
                            "#46039f"
                          ],
                          [
                            0.2222222222222222,
                            "#7201a8"
                          ],
                          [
                            0.3333333333333333,
                            "#9c179e"
                          ],
                          [
                            0.4444444444444444,
                            "#bd3786"
                          ],
                          [
                            0.5555555555555556,
                            "#d8576b"
                          ],
                          [
                            0.6666666666666666,
                            "#ed7953"
                          ],
                          [
                            0.7777777777777778,
                            "#fb9f3a"
                          ],
                          [
                            0.8888888888888888,
                            "#fdca26"
                          ],
                          [
                            1,
                            "#f0f921"
                          ]
                        ],
                        "type": "histogram2dcontour"
                      }
                    ],
                    "mesh3d": [
                      {
                        "colorbar": {
                          "outlinewidth": 0,
                          "ticks": ""
                        },
                        "type": "mesh3d"
                      }
                    ],
                    "parcoords": [
                      {
                        "line": {
                          "colorbar": {
                            "outlinewidth": 0,
                            "ticks": ""
                          }
                        },
                        "type": "parcoords"
                      }
                    ],
                    "pie": [
                      {
                        "automargin": true,
                        "type": "pie"
                      }
                    ],
                    "scatter": [
                      {
                        "fillpattern": {
                          "fillmode": "overlay",
                          "size": 10,
                          "solidity": 0.2
                        },
                        "type": "scatter"
                      }
                    ],
                    "scatter3d": [
                      {
                        "line": {
                          "colorbar": {
                            "outlinewidth": 0,
                            "ticks": ""
                          }
                        },
                        "marker": {
                          "colorbar": {
                            "outlinewidth": 0,
                            "ticks": ""
                          }
                        },
                        "type": "scatter3d"
                      }
                    ],
                    "scattercarpet": [
                      {
                        "marker": {
                          "colorbar": {
                            "outlinewidth": 0,
                            "ticks": ""
                          }
                        },
                        "type": "scattercarpet"
                      }
                    ],
                    "scattergeo": [
                      {
                        "marker": {
                          "colorbar": {
                            "outlinewidth": 0,
                            "ticks": ""
                          }
                        },
                        "type": "scattergeo"
                      }
                    ],
                    "scattergl": [
                      {
                        "marker": {
                          "colorbar": {
                            "outlinewidth": 0,
                            "ticks": ""
                          }
                        },
                        "type": "scattergl"
                      }
                    ],
                    "scattermapbox": [
                      {
                        "marker": {
                          "colorbar": {
                            "outlinewidth": 0,
                            "ticks": ""
                          }
                        },
                        "type": "scattermapbox"
                      }
                    ],
                    "scatterpolar": [
                      {
                        "marker": {
                          "colorbar": {
                            "outlinewidth": 0,
                            "ticks": ""
                          }
                        },
                        "type": "scatterpolar"
                      }
                    ],
                    "scatterpolargl": [
                      {
                        "marker": {
                          "colorbar": {
                            "outlinewidth": 0,
                            "ticks": ""
                          }
                        },
                        "type": "scatterpolargl"
                      }
                    ],
                    "scatterternary": [
                      {
                        "marker": {
                          "colorbar": {
                            "outlinewidth": 0,
                            "ticks": ""
                          }
                        },
                        "type": "scatterternary"
                      }
                    ],
                    "surface": [
                      {
                        "colorbar": {
                          "outlinewidth": 0,
                          "ticks": ""
                        },
                        "colorscale": [
                          [
                            0,
                            "#0d0887"
                          ],
                          [
                            0.1111111111111111,
                            "#46039f"
                          ],
                          [
                            0.2222222222222222,
                            "#7201a8"
                          ],
                          [
                            0.3333333333333333,
                            "#9c179e"
                          ],
                          [
                            0.4444444444444444,
                            "#bd3786"
                          ],
                          [
                            0.5555555555555556,
                            "#d8576b"
                          ],
                          [
                            0.6666666666666666,
                            "#ed7953"
                          ],
                          [
                            0.7777777777777778,
                            "#fb9f3a"
                          ],
                          [
                            0.8888888888888888,
                            "#fdca26"
                          ],
                          [
                            1,
                            "#f0f921"
                          ]
                        ],
                        "type": "surface"
                      }
                    ],
                    "table": [
                      {
                        "cells": {
                          "fill": {
                            "color": "#EBF0F8"
                          },
                          "line": {
                            "color": "white"
                          }
                        },
                        "header": {
                          "fill": {
                            "color": "#C8D4E3"
                          },
                          "line": {
                            "color": "white"
                          }
                        },
                        "type": "table"
                      }
                    ]
                  },
                  "layout": {
                    "annotationdefaults": {
                      "arrowcolor": "#2a3f5f",
                      "arrowhead": 0,
                      "arrowwidth": 1
                    },
                    "autotypenumbers": "strict",
                    "coloraxis": {
                      "colorbar": {
                        "outlinewidth": 0,
                        "ticks": ""
                      }
                    },
                    "colorscale": {
                      "diverging": [
                        [
                          0,
                          "#8e0152"
                        ],
                        [
                          0.1,
                          "#c51b7d"
                        ],
                        [
                          0.2,
                          "#de77ae"
                        ],
                        [
                          0.3,
                          "#f1b6da"
                        ],
                        [
                          0.4,
                          "#fde0ef"
                        ],
                        [
                          0.5,
                          "#f7f7f7"
                        ],
                        [
                          0.6,
                          "#e6f5d0"
                        ],
                        [
                          0.7,
                          "#b8e186"
                        ],
                        [
                          0.8,
                          "#7fbc41"
                        ],
                        [
                          0.9,
                          "#4d9221"
                        ],
                        [
                          1,
                          "#276419"
                        ]
                      ],
                      "sequential": [
                        [
                          0,
                          "#0d0887"
                        ],
                        [
                          0.1111111111111111,
                          "#46039f"
                        ],
                        [
                          0.2222222222222222,
                          "#7201a8"
                        ],
                        [
                          0.3333333333333333,
                          "#9c179e"
                        ],
                        [
                          0.4444444444444444,
                          "#bd3786"
                        ],
                        [
                          0.5555555555555556,
                          "#d8576b"
                        ],
                        [
                          0.6666666666666666,
                          "#ed7953"
                        ],
                        [
                          0.7777777777777778,
                          "#fb9f3a"
                        ],
                        [
                          0.8888888888888888,
                          "#fdca26"
                        ],
                        [
                          1,
                          "#f0f921"
                        ]
                      ],
                      "sequentialminus": [
                        [
                          0,
                          "#0d0887"
                        ],
                        [
                          0.1111111111111111,
                          "#46039f"
                        ],
                        [
                          0.2222222222222222,
                          "#7201a8"
                        ],
                        [
                          0.3333333333333333,
                          "#9c179e"
                        ],
                        [
                          0.4444444444444444,
                          "#bd3786"
                        ],
                        [
                          0.5555555555555556,
                          "#d8576b"
                        ],
                        [
                          0.6666666666666666,
                          "#ed7953"
                        ],
                        [
                          0.7777777777777778,
                          "#fb9f3a"
                        ],
                        [
                          0.8888888888888888,
                          "#fdca26"
                        ],
                        [
                          1,
                          "#f0f921"
                        ]
                      ]
                    },
                    "colorway": [
                      "#636efa",
                      "#EF553B",
                      "#00cc96",
                      "#ab63fa",
                      "#FFA15A",
                      "#19d3f3",
                      "#FF6692",
                      "#B6E880",
                      "#FF97FF",
                      "#FECB52"
                    ],
                    "font": {
                      "color": "#2a3f5f"
                    },
                    "geo": {
                      "bgcolor": "white",
                      "lakecolor": "white",
                      "landcolor": "#E5ECF6",
                      "showlakes": true,
                      "showland": true,
                      "subunitcolor": "white"
                    },
                    "hoverlabel": {
                      "align": "left"
                    },
                    "hovermode": "closest",
                    "mapbox": {
                      "style": "light"
                    },
                    "paper_bgcolor": "white",
                    "plot_bgcolor": "#E5ECF6",
                    "polar": {
                      "angularaxis": {
                        "gridcolor": "white",
                        "linecolor": "white",
                        "ticks": ""
                      },
                      "bgcolor": "#E5ECF6",
                      "radialaxis": {
                        "gridcolor": "white",
                        "linecolor": "white",
                        "ticks": ""
                      }
                    },
                    "scene": {
                      "xaxis": {
                        "backgroundcolor": "#E5ECF6",
                        "gridcolor": "white",
                        "gridwidth": 2,
                        "linecolor": "white",
                        "showbackground": true,
                        "ticks": "",
                        "zerolinecolor": "white"
                      },
                      "yaxis": {
                        "backgroundcolor": "#E5ECF6",
                        "gridcolor": "white",
                        "gridwidth": 2,
                        "linecolor": "white",
                        "showbackground": true,
                        "ticks": "",
                        "zerolinecolor": "white"
                      },
                      "zaxis": {
                        "backgroundcolor": "#E5ECF6",
                        "gridcolor": "white",
                        "gridwidth": 2,
                        "linecolor": "white",
                        "showbackground": true,
                        "ticks": "",
                        "zerolinecolor": "white"
                      }
                    },
                    "shapedefaults": {
                      "line": {
                        "color": "#2a3f5f"
                      }
                    },
                    "ternary": {
                      "aaxis": {
                        "gridcolor": "white",
                        "linecolor": "white",
                        "ticks": ""
                      },
                      "baxis": {
                        "gridcolor": "white",
                        "linecolor": "white",
                        "ticks": ""
                      },
                      "bgcolor": "#E5ECF6",
                      "caxis": {
                        "gridcolor": "white",
                        "linecolor": "white",
                        "ticks": ""
                      }
                    },
                    "title": {
                      "x": 0.05
                    },
                    "xaxis": {
                      "automargin": true,
                      "gridcolor": "white",
                      "linecolor": "white",
                      "ticks": "",
                      "title": {
                        "standoff": 15
                      },
                      "zerolinecolor": "white",
                      "zerolinewidth": 2
                    },
                    "yaxis": {
                      "automargin": true,
                      "gridcolor": "white",
                      "linecolor": "white",
                      "ticks": "",
                      "title": {
                        "standoff": 15
                      },
                      "zerolinecolor": "white",
                      "zerolinewidth": 2
                    }
                  }
                },
                "title": {
                  "text": "Simulated Butyric Acid concentrations"
                },
                "xaxis": {
                  "anchor": "y",
                  "categoryarray": [
                    "F",
                    "M"
                  ],
                  "categoryorder": "array",
                  "domain": [
                    0,
                    0.31999999999999995
                  ],
                  "title": {
                    "text": "Feed"
                  }
                },
                "xaxis2": {
                  "anchor": "y2",
                  "categoryarray": [
                    "F",
                    "M"
                  ],
                  "categoryorder": "array",
                  "domain": [
                    0.33999999999999997,
                    0.6599999999999999
                  ],
                  "matches": "x",
                  "title": {
                    "text": "Feed"
                  }
                },
                "xaxis3": {
                  "anchor": "y3",
                  "categoryarray": [
                    "F",
                    "M"
                  ],
                  "categoryorder": "array",
                  "domain": [
                    0.6799999999999999,
                    0.9999999999999999
                  ],
                  "matches": "x",
                  "title": {
                    "text": "Feed"
                  }
                },
                "yaxis": {
                  "anchor": "x",
                  "domain": [
                    0,
                    1
                  ],
                  "title": {
                    "text": "S_bu"
                  }
                },
                "yaxis2": {
                  "anchor": "x2",
                  "domain": [
                    0,
                    1
                  ],
                  "matches": "y",
                  "showticklabels": false
                },
                "yaxis3": {
                  "anchor": "x3",
                  "domain": [
                    0,
                    1
                  ],
                  "matches": "y",
                  "showticklabels": false
                }
              }
            }
          },
          "metadata": {},
          "output_type": "display_data"
        }
      ],
      "source": [
        "fig=px.box(simulations_vfa_results,x=\"Feed\",y=\"S_bu\",facet_col=\"PH\",color=\"Feed\",points=\"all\")\n",
        "fig.update_layout(title=\"Simulated Butyric Acid concentrations\")\n",
        "fig.write_html(\"simulated_vfa_concentrations.html\")\n",
        "fig.show()"
      ]
    },
    {
      "cell_type": "code",
      "execution_count": 45,
      "metadata": {},
      "outputs": [
        {
          "data": {
            "text/plain": [
              "6"
            ]
          },
          "execution_count": 45,
          "metadata": {},
          "output_type": "execute_result"
        }
      ],
      "source": []
    }
  ],
  "metadata": {
    "colab": {
      "provenance": []
    },
    "kernelspec": {
      "display_name": "Python 3",
      "name": "python3"
    },
    "language_info": {
      "codemirror_mode": {
        "name": "ipython",
        "version": 3
      },
      "file_extension": ".py",
      "mimetype": "text/x-python",
      "name": "python",
      "nbconvert_exporter": "python",
      "pygments_lexer": "ipython3",
      "version": "3.10.6"
    }
  },
  "nbformat": 4,
  "nbformat_minor": 0
}
