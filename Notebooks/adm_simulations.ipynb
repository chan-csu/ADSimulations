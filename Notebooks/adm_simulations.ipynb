{
  "cells": [
    {
      "cell_type": "markdown",
      "metadata": {
        "id": "x5GUV0HT5nKT"
      },
      "source": [
        "install all the packages:"
      ]
    },
    {
      "cell_type": "code",
      "execution_count": 1,
      "metadata": {
        "colab": {
          "base_uri": "https://localhost:8080/",
          "height": 66
        },
        "id": "VVkB5NPu5ttD",
        "outputId": "ba0bef76-5324-462e-f2b3-5f69b8e614d6"
      },
      "outputs": [],
      "source": [
        "import pandas as pd\n",
        "import numpy as np\n",
        "from adtoolbox import core,configs,utils,adm\n",
        "import plotly.express as px"
      ]
    },
    {
      "cell_type": "code",
      "execution_count": 2,
      "metadata": {
        "id": "uGrcfXGZo_wE"
      },
      "outputs": [],
      "source": [
        "acids=pd.read_table('../raw_data/DeLong_beto/acids_cleaned.csv',delimiter=',')\n",
        "metadata=pd.read_table(\"../raw_data/DeLong_beto/DeLong_metadata_final[72].txt\", delimiter=\"\\t\")"
      ]
    },
    {
      "cell_type": "markdown",
      "metadata": {
        "id": "_PQhOl3gDwob"
      },
      "source": [
        "Filter/delete duplicates on the acid column"
      ]
    },
    {
      "cell_type": "code",
      "execution_count": 3,
      "metadata": {
        "id": "NFoHVFLQWFTS"
      },
      "outputs": [],
      "source": [
        "acids2adm={\n",
        "    \"C4\":\"S_bu\",\n",
        "    \"C3\":\"S_pro\",\n",
        "    \"C5\":\"S_va\",\n",
        "    \"ISOC5\":\"S_va\",\n",
        "    \"ISOC4\":\"S_bu\",\n",
        "    \"C2\":\"S_ac\",\n",
        "    \"C6\":\"S_cap\",\n",
        "    \"ISOC6\":\"S_cap\"\n",
        "\n",
        "}"
      ]
    },
    {
      "cell_type": "code",
      "execution_count": 4,
      "metadata": {
        "id": "ujg9Nx75W8dP"
      },
      "outputs": [],
      "source": [
        "def identifier(items):\n",
        "    if items in acids2adm:\n",
        "        return acids2adm[items]\n",
        "\n",
        "acids[\"admids\"]=acids[\"acid\"].apply(identifier)"
      ]
    },
    {
      "cell_type": "code",
      "execution_count": 5,
      "metadata": {
        "id": "uNXO-bxQik3d"
      },
      "outputs": [],
      "source": [
        "acids2seed={\n",
        "    \"C4\":\"cpd00211\",\n",
        "    \"C3\":\"cpd00141\",\n",
        "    \"C5\":\"cpd00597\",\n",
        "    \"ISOC5\":\"cpd00597\",\n",
        "    \"ISOC4\":\"cpd00211\",\n",
        "    \"C2\":\"cpd00029\",\n",
        "    \"C6\":\"cpd01113\",\n",
        "    \"ISOC6\":\"cpd01113\"\n",
        "\n",
        "}"
      ]
    },
    {
      "cell_type": "code",
      "execution_count": 6,
      "metadata": {
        "id": "foDmIeVWiuXA"
      },
      "outputs": [],
      "source": [
        "def identity(items):\n",
        "    if items in acids2seed:\n",
        "        return acids2seed[items]\n",
        "\n",
        "acids[\"seedids\"]=acids[\"acid\"].apply(identity)"
      ]
    },
    {
      "cell_type": "markdown",
      "metadata": {},
      "source": [
        "We have to make sure we have Seed databases downloaded for COD calculations"
      ]
    },
    {
      "cell_type": "code",
      "execution_count": 7,
      "metadata": {
        "colab": {
          "base_uri": "https://localhost:8080/",
          "height": 49
        },
        "id": "ZeJ-K5_MuDU4",
        "outputId": "e02a8534-ea63-43e4-b0e1-836d8f3e86d4"
      },
      "outputs": [],
      "source": [
        "from adtoolbox import core,configs\n",
        "seed_db=core.SeedDB(configs.Database())\n",
        "db=core.Database(configs.Database())\n",
        "# db.download_seed_databases()"
      ]
    },
    {
      "cell_type": "code",
      "execution_count": 8,
      "metadata": {
        "id": "V6xjJ3wRxgUS"
      },
      "outputs": [],
      "source": [
        "acids=acids.dropna()"
      ]
    },
    {
      "cell_type": "code",
      "execution_count": 9,
      "metadata": {
        "id": "dxKevXJ2ynRf"
      },
      "outputs": [],
      "source": [
        "codmap={ i:seed_db.instantiate_metabs(i).cod_calc(add_h=1) for i in acids[\"seedids\"].unique()}"
      ]
    },
    {
      "cell_type": "code",
      "execution_count": 10,
      "metadata": {
        "colab": {
          "base_uri": "https://localhost:8080/"
        },
        "id": "xN1nh4No0FKa",
        "outputId": "dae54cd8-9364-403e-a5b0-4405363f0626"
      },
      "outputs": [],
      "source": [
        "acids[\"cod_map\"]=acids[\"seedids\"].apply(lambda x:codmap[x])"
      ]
    },
    {
      "cell_type": "code",
      "execution_count": 11,
      "metadata": {
        "colab": {
          "base_uri": "https://localhost:8080/"
        },
        "id": "HsHhFhQ_1Wkp",
        "outputId": "3fb89a2f-a489-4120-f10a-0b4c077917e2"
      },
      "outputs": [],
      "source": [
        "acids['cod_conc']=acids['conc_gL']*acids['cod_map']"
      ]
    },
    {
      "cell_type": "code",
      "execution_count": 12,
      "metadata": {
        "colab": {
          "base_uri": "https://localhost:8080/"
        },
        "id": "dRFl8aqo36AK",
        "outputId": "24eaa54e-5ca4-4859-939a-2d7b31019ab7"
      },
      "outputs": [],
      "source": [
        "acids[\"shortsampleid\"]=(acids.sample_id.str.split('_').apply(lambda x:\"_\".join(x[:5])))\n"
      ]
    },
    {
      "cell_type": "markdown",
      "metadata": {},
      "source": [
        "We don't want to simulate for Control and inoculum only samples"
      ]
    },
    {
      "cell_type": "code",
      "execution_count": 13,
      "metadata": {
        "id": "uBAUmeh88BQJ"
      },
      "outputs": [],
      "source": [
        "pivot_df = acids.pivot_table(index=[\"shortsampleid\", \"day\"], columns=\"acid\", values=\"cod_conc\", fill_value=0)\n",
        "pivot_df[\"C4\"]=pivot_df[\"C4\"]+pivot_df[\"ISOC4\"]\n",
        "pivot_df[\"C5\"]=pivot_df[\"C5\"]+pivot_df[\"ISOC5\"]\n",
        "pivot_df[\"C6\"]=pivot_df[\"C6\"]+pivot_df[\"ISOC6\"]\n",
        "pivot_df=pivot_df.drop(columns=[\"ISOC4\",\"ISOC5\",\"ISOC6\"])\n",
        "pivot_df.rename(columns={\"C4\":\"S_bu\",\"C3\":\"S_pro\",\"C5\":\"S_va\",\"C2\":\"S_ac\",\"C6\":\"S_cap\"},inplace=True)\n",
        "data_dict = {}\n",
        "for reactor in pivot_df.index.levels[0]:\n",
        "  data_dict[reactor] = {}\n",
        "  data_dict[reactor][\"time\"]=pivot_df.loc[reactor].index.tolist()\n",
        "  data_dict[reactor][\"data\"]=pivot_df.loc[reactor].to_dict(orient=\"list\")\n"
      ]
    },
    {
      "cell_type": "code",
      "execution_count": 14,
      "metadata": {
        "id": "4yUdOtRdjObf"
      },
      "outputs": [],
      "source": [
        "cod_counts=pd.read_csv('./COD_counts.csv')"
      ]
    },
    {
      "cell_type": "code",
      "execution_count": 15,
      "metadata": {
        "id": "L9eb5x_elxkX"
      },
      "outputs": [],
      "source": [
        "data_i={}\n",
        "for i in cod_counts.columns[cod_counts.columns.str.endswith(\"_D0\")]:\n",
        "  data_i[i]=cod_counts.set_index(\"Unnamed: 0\")[i].to_dict()\n",
        "\n"
      ]
    },
    {
      "cell_type": "code",
      "execution_count": 16,
      "metadata": {
        "id": "YIQ8f7UcqU2B"
      },
      "outputs": [
        {
          "name": "stdout",
          "output_type": "stream",
          "text": [
            "Failure:  1 : A_35_F_5_B\n",
            "Failure:  2 : A_35_F_5_D\n",
            "Failure:  3 : A_35_F_5_INOC\n",
            "Failure:  4 : A_35_F_7_D\n",
            "Failure:  5 : A_35_F_7_INOC\n",
            "Failure:  6 : A_35_F_9_D\n",
            "Failure:  7 : A_35_F_9_INOC\n",
            "Failure:  8 : A_35_M_5_A\n",
            "Failure:  9 : A_35_M_5_D\n",
            "Failure:  10 : A_35_M_5_INOC\n",
            "Failure:  11 : A_35_M_7_B\n",
            "Failure:  12 : A_35_M_7_C\n",
            "Failure:  13 : A_35_M_7_D\n",
            "Failure:  14 : A_35_M_9_D\n",
            "Failure:  15 : A_35_M_9_INOC\n",
            "Failure:  16 : A_45_F_5_A\n",
            "Failure:  17 : A_45_F_5_B\n",
            "Failure:  18 : A_45_F_5_C\n",
            "Failure:  19 : A_45_F_5_D\n",
            "Failure:  20 : A_45_F_5_INOC\n",
            "Failure:  21 : A_45_F_7_D\n",
            "Failure:  22 : A_45_F_7_INOC\n",
            "Failure:  23 : A_45_F_9_D\n",
            "Failure:  24 : A_45_F_9_INOC\n",
            "Failure:  25 : A_45_M_5_A\n",
            "Failure:  26 : A_45_M_5_B\n",
            "Failure:  27 : A_45_M_5_D\n",
            "Failure:  28 : A_45_M_5_INOC\n",
            "Failure:  29 : A_45_M_7_D\n",
            "Failure:  30 : A_45_M_9_A\n",
            "Failure:  31 : A_45_M_9_B\n",
            "Failure:  32 : A_45_M_9_C\n",
            "Failure:  33 : A_45_M_9_D\n",
            "Failure:  34 : B_35_F_5_D\n",
            "Failure:  35 : B_35_F_9_D\n",
            "Failure:  36 : B_35_M_5_D\n",
            "Failure:  37 : B_35_M_7_D\n",
            "Failure:  38 : B_35_M_9_B\n",
            "Failure:  39 : B_35_M_9_D\n",
            "Failure:  40 : B_45_F_5_B\n",
            "Failure:  41 : B_45_F_5_C\n",
            "Failure:  42 : B_45_F_5_D\n",
            "Failure:  43 : B_45_F_7_A\n",
            "Failure:  44 : B_45_F_7_C\n",
            "Failure:  45 : B_45_F_9_A\n",
            "Failure:  46 : B_45_F_9_C\n",
            "Failure:  47 : B_45_F_9_D\n",
            "Failure:  48 : B_45_M_5_D\n",
            "Failure:  49 : B_45_M_7_B\n",
            "Failure:  50 : B_45_M_7_C\n",
            "Failure:  51 : B_45_M_7_D\n",
            "Failure:  52 : B_45_M_9_B\n",
            "Failure:  53 : B_45_M_9_C\n",
            "Failure:  54 : B_45_M_9_D\n",
            "Failure:  55 : T_55_F_7_C\n",
            "Failure:  56 : T_55_F_9_C\n",
            "Failure:  57 : T_55_M_9_A\n"
          ]
        }
      ],
      "source": [
        "num_failed=0\n",
        "pivot_df = acids.pivot_table(index=[\"shortsampleid\", \"day\"], columns=\"acid\", values=\"cod_conc\", fill_value=0)\n",
        "pivot_df[\"C4\"]=pivot_df[\"C4\"]+pivot_df[\"ISOC4\"]\n",
        "pivot_df[\"C5\"]=pivot_df[\"C5\"]+pivot_df[\"ISOC5\"]\n",
        "pivot_df[\"C6\"]=pivot_df[\"C6\"]+pivot_df[\"ISOC6\"]\n",
        "pivot_df=pivot_df.drop(columns=[\"ISOC4\",\"ISOC5\",\"ISOC6\"])\n",
        "pivot_df.rename(columns={\"C4\":\"S_bu\",\"C3\":\"S_pro\",\"C5\":\"S_va\",\"C2\":\"S_ac\",\"C6\":\"S_cap\"},inplace=True)\n",
        "data_dict = {}\n",
        "for reactor in pivot_df.index.levels[0]:\n",
        "  data_dict[reactor] = {}\n",
        "  data_dict[reactor][\"time\"]=pivot_df.loc[reactor].index.tolist()\n",
        "  data_dict[reactor][\"data\"]=pivot_df.loc[reactor].to_dict(orient=\"list\")\n",
        "\n",
        "  try:\n",
        "    data_dict[reactor][\"Initial conditions\"]=cod_counts.set_index(\"Unnamed: 0\")[reactor+\"_D0\"].to_dict()\n",
        "  except:\n",
        "    num_failed+=1\n",
        "    print(\"Failure: \",num_failed,\":\",reactor)\n",
        "      "
      ]
    },
    {
      "cell_type": "code",
      "execution_count": 17,
      "metadata": {
        "id": "UlrjiYqu23gg"
      },
      "outputs": [],
      "source": [
        "feed_manure = metadata[metadata['feedstock']==('M')]"
      ]
    },
    {
      "cell_type": "code",
      "execution_count": 18,
      "metadata": {
        "id": "xAJmfk0M-cbc"
      },
      "outputs": [],
      "source": [
        "feed_manure=feed_manure['feedstock']"
      ]
    },
    {
      "cell_type": "code",
      "execution_count": 19,
      "metadata": {
        "id": "oFDtzyJ140Nr"
      },
      "outputs": [],
      "source": [
        "feed_waste = metadata[metadata['feedstock']==('F')]"
      ]
    },
    {
      "cell_type": "code",
      "execution_count": 20,
      "metadata": {
        "id": "93CzB18K449B"
      },
      "outputs": [],
      "source": [
        "feed_waste=feed_waste['feedstock']"
      ]
    },
    {
      "cell_type": "code",
      "execution_count": 21,
      "metadata": {
        "id": "CB43gnM95toa"
      },
      "outputs": [],
      "source": [
        "manure = core.Feed(\n",
        "        name=\"Manure\",\n",
        "        lipids=10.7,\n",
        "        proteins=17.3,\n",
        "        carbohydrates=70,\n",
        "        xi= 60,\n",
        "        si=50,\n",
        "        tss=80,\n",
        ")"
      ]
    },
    {
      "cell_type": "code",
      "execution_count": 22,
      "metadata": {
        "id": "a0VSAliEBH6g"
      },
      "outputs": [],
      "source": [
        "foodwaste = core.Feed(\n",
        "        name=\"foodwaste\",\n",
        "        lipids=21,\n",
        "        proteins=20.5,\n",
        "        carbohydrates=50.1,\n",
        "        xi=60,\n",
        "        si=50,\n",
        "        tss=65\n",
        ")"
      ]
    },
    {
      "cell_type": "code",
      "execution_count": 23,
      "metadata": {
        "colab": {
          "base_uri": "https://localhost:8080/",
          "height": 113
        },
        "id": "Nvt8k8LXW2BV",
        "outputId": "fdcc54b7-1a32-479d-bb2b-032e61529d6e"
      },
      "outputs": [
        {
          "data": {
            "text/html": [
              "<pre style=\"white-space:pre;overflow-x:auto;line-height:normal;font-family:Menlo,'DejaVu Sans Mono',consolas,'Courier New',monospace\"><span style=\"color: #008000; text-decoration-color: #008000\">model_parameters downloaded to /Users/parsaghadermarzi/Desktop/ADToolbox/Database/ADM_Paramet</span>\n",
              "<span style=\"color: #008000; text-decoration-color: #008000\">ers/e_adm_2_model_parameters.json</span>\n",
              "</pre>\n"
            ],
            "text/plain": [
              "\u001b[32mmodel_parameters downloaded to \u001b[0m\u001b[32m/Users/parsaghadermarzi/Desktop/ADToolbox/Database/ADM_Paramet\u001b[0m\n",
              "\u001b[32mers/\u001b[0m\u001b[32me_adm_2_model_parameters.json\u001b[0m\n"
            ]
          },
          "metadata": {},
          "output_type": "display_data"
        },
        {
          "data": {
            "text/html": [
              "<pre style=\"white-space:pre;overflow-x:auto;line-height:normal;font-family:Menlo,'DejaVu Sans Mono',consolas,'Courier New',monospace\"><span style=\"color: #008000; text-decoration-color: #008000\">base_parameters downloaded to /Users/parsaghadermarzi/Desktop/ADToolbox/Database/ADM_Paramete</span>\n",
              "<span style=\"color: #008000; text-decoration-color: #008000\">rs/e_adm_2_base_parameters.json</span>\n",
              "</pre>\n"
            ],
            "text/plain": [
              "\u001b[32mbase_parameters downloaded to \u001b[0m\u001b[32m/Users/parsaghadermarzi/Desktop/ADToolbox/Database/ADM_Paramete\u001b[0m\n",
              "\u001b[32mrs/\u001b[0m\u001b[32me_adm_2_base_parameters.json\u001b[0m\n"
            ]
          },
          "metadata": {},
          "output_type": "display_data"
        },
        {
          "data": {
            "text/html": [
              "<pre style=\"white-space:pre;overflow-x:auto;line-height:normal;font-family:Menlo,'DejaVu Sans Mono',consolas,'Courier New',monospace\"><span style=\"color: #008000; text-decoration-color: #008000\">initial_conditions downloaded to /Users/parsaghadermarzi/Desktop/ADToolbox/Database/ADM_Param</span>\n",
              "<span style=\"color: #008000; text-decoration-color: #008000\">eters/e_adm_2_initial_conditions.json</span>\n",
              "</pre>\n"
            ],
            "text/plain": [
              "\u001b[32minitial_conditions downloaded to \u001b[0m\u001b[32m/Users/parsaghadermarzi/Desktop/ADToolbox/Database/ADM_Param\u001b[0m\n",
              "\u001b[32meters/\u001b[0m\u001b[32me_adm_2_initial_conditions.json\u001b[0m\n"
            ]
          },
          "metadata": {},
          "output_type": "display_data"
        },
        {
          "data": {
            "text/html": [
              "<pre style=\"white-space:pre;overflow-x:auto;line-height:normal;font-family:Menlo,'DejaVu Sans Mono',consolas,'Courier New',monospace\"><span style=\"color: #008000; text-decoration-color: #008000\">inlet_conditions downloaded to /Users/parsaghadermarzi/Desktop/ADToolbox/Database/ADM_Paramet</span>\n",
              "<span style=\"color: #008000; text-decoration-color: #008000\">ers/e_adm_2_inlet_conditions.json</span>\n",
              "</pre>\n"
            ],
            "text/plain": [
              "\u001b[32minlet_conditions downloaded to \u001b[0m\u001b[32m/Users/parsaghadermarzi/Desktop/ADToolbox/Database/ADM_Paramet\u001b[0m\n",
              "\u001b[32mers/\u001b[0m\u001b[32me_adm_2_inlet_conditions.json\u001b[0m\n"
            ]
          },
          "metadata": {},
          "output_type": "display_data"
        },
        {
          "data": {
            "text/html": [
              "<pre style=\"white-space:pre;overflow-x:auto;line-height:normal;font-family:Menlo,'DejaVu Sans Mono',consolas,'Courier New',monospace\"><span style=\"color: #008000; text-decoration-color: #008000\">reactions downloaded to </span>\n",
              "<span style=\"color: #008000; text-decoration-color: #008000\">/Users/parsaghadermarzi/Desktop/ADToolbox/Database/ADM_Parameters/e_adm_2_reactions.json</span>\n",
              "</pre>\n"
            ],
            "text/plain": [
              "\u001b[32mreactions downloaded to \u001b[0m\n",
              "\u001b[32m/Users/parsaghadermarzi/Desktop/ADToolbox/Database/ADM_Parameters/\u001b[0m\u001b[32me_adm_2_reactions.json\u001b[0m\n"
            ]
          },
          "metadata": {},
          "output_type": "display_data"
        },
        {
          "data": {
            "text/html": [
              "<pre style=\"white-space:pre;overflow-x:auto;line-height:normal;font-family:Menlo,'DejaVu Sans Mono',consolas,'Courier New',monospace\"><span style=\"color: #008000; text-decoration-color: #008000\">species downloaded to </span>\n",
              "<span style=\"color: #008000; text-decoration-color: #008000\">/Users/parsaghadermarzi/Desktop/ADToolbox/Database/ADM_Parameters/e_adm_2_species.json</span>\n",
              "</pre>\n"
            ],
            "text/plain": [
              "\u001b[32mspecies downloaded to \u001b[0m\n",
              "\u001b[32m/Users/parsaghadermarzi/Desktop/ADToolbox/Database/ADM_Parameters/\u001b[0m\u001b[32me_adm_2_species.json\u001b[0m\n"
            ]
          },
          "metadata": {},
          "output_type": "display_data"
        }
      ],
      "source": [
        "core.Database(configs.Database(\n",
        "    adm_parameters_urls=configs.E_ADM_2_REMOTE,\n",
        "    adm_parameters=configs.E_ADM_2_LOCAL\n",
        ")).download_adm_parameters()\n"
      ]
    },
    {
      "cell_type": "code",
      "execution_count": 24,
      "metadata": {
        "id": "F0F3uCAoXVVn"
      },
      "outputs": [],
      "source": [
        "params=utils.load_multiple_json_files(configs.E_ADM_2_LOCAL)"
      ]
    },
    {
      "cell_type": "markdown",
      "metadata": {},
      "source": [
        "We need a definition of the feedstock"
      ]
    },
    {
      "cell_type": "code",
      "execution_count": 25,
      "metadata": {
        "id": "_93Nl89DC4Ia"
      },
      "outputs": [],
      "source": [
        "Manure = core.Feed(\n",
        "        name=\"Manure\",\n",
        "        lipids=10.7,\n",
        "        proteins=30,\n",
        "        carbohydrates=59.3,\n",
        "        xi= 80,\n",
        "        si=50,\n",
        "        tss=95,\n",
        " )\n",
        "foodwaste = core.Feed(\n",
        "        name=\"foodwaste\",\n",
        "        lipids=21,\n",
        "        proteins=20.5,\n",
        "        carbohydrates=50.1,\n",
        "        xi=60,\n",
        "        si=50,\n",
        "        tss=65\n",
        ")"
      ]
    },
    {
      "cell_type": "code",
      "execution_count": 26,
      "metadata": {
        "colab": {
          "base_uri": "https://localhost:8080/"
        },
        "id": "P-y4gtSgiGLo",
        "outputId": "563e533a-5492-4deb-fc46-4fc5e4e688a9"
      },
      "outputs": [
        {
          "name": "stdout",
          "output_type": "stream",
          "text": [
            "55.0 M 9.0\r"
          ]
        }
      ],
      "source": [
        "results_dict = {}\n",
        "# dash_apps = {}\n",
        "inoculum_cod=10\n",
        "total_feed_cod=15\n",
        "params.base_parameters['q_in'] = 0\n",
        "mgo=core.Database(config=configs.Database())\n",
        "for reactor_name, reactor_data in data_dict.items():\n",
        "    if \"Initial conditions\" in reactor_data:\n",
        "        initial_conditions = {key:value*inoculum_cod for key,value in reactor_data[\"Initial conditions\"].items()}\n",
        "        initial_conditions[\"X_VFA_deg\"]=0.1*inoculum_cod\n",
        "        _, t, f, ph, _ = reactor_name.split(\"_\")\n",
        "        print(float(t), f, float(ph),end=\"\\r\")\n",
        "        if f == \"F\":\n",
        "            feed = foodwaste\n",
        "        else:\n",
        "            feed = Manure\n",
        "        initial_conditions[\"TSS\"]=total_feed_cod*feed.tss/100\n",
        "        initial_conditions[\"TDS\"]=total_feed_cod-initial_conditions[\"TSS\"]\n",
        "        initial_conditions[\"S_su\"]=0\n",
        "        initial_conditions[\"S_aa\"]=0\n",
        "        initial_conditions[\"S_va\"]=0\n",
        "        initial_conditions[\"S_fa\"]=0\n",
        "        initial_conditions[\"S_ac\"]=0\n",
        "        initial_conditions[\"S_cap\"]=0\n",
        "        if reactor_data[\"time\"][0] != 0:\n",
        "            reactor_data[\"time\"].insert(0,0)\n",
        "            for key in reactor_data[\"data\"]:\n",
        "                reactor_data[\"data\"][key].insert(0,0)\n",
        "        \n",
        "        for key,value in reactor_data[\"data\"].items():\n",
        "            initial_conditions[key]=value[0]\n",
        "        \n",
        "\n",
        "        params.initial_conditions.update(initial_conditions)\n",
        "        params.initial_conditions.update({\"S_H_ion\":10**-(float(ph))})\n",
        "        params.base_parameters.update({\"q_in\":0,\"T_op\":273.15+float(t),\"V_gas\":0.0001,\"V_liq\":0.00025}),\n",
        "        \n",
        "        \n",
        "        temp_exp_obj=core.Experiment(\n",
        "            name=reactor_name+\"_Delong_BETO\",\n",
        "            time=reactor_data[\"time\"],\n",
        "            variables=list(reactor_data[\"data\"].keys()),\n",
        "            data=list(reactor_data[\"data\"].values()),\n",
        "            initial_concentrations=params.initial_conditions,\n",
        "            base_parameters=params.base_parameters,\n",
        "            constants=[\"S_H_ion\"],\n",
        "            reference=\"Delong_Lab_BETO_Experiment\",\n",
        "            model_name=\"e_adm_2\"\n",
        "        )\n",
        "        \n",
        "        mgo.add_experiment_to_experiments_db(temp_exp_obj,force=True)\n",
        "\n",
        "        model = adm.Model(\n",
        "            model_parameters=params.model_parameters,\n",
        "            base_parameters=params.base_parameters,\n",
        "            initial_conditions=params.initial_conditions,\n",
        "            inlet_conditions=params.inlet_conditions,\n",
        "            species=params.species,\n",
        "            reactions=params.reactions,\n",
        "            feed=feed,\n",
        "            ode_system=adm.e_adm_2_ode_sys,\n",
        "            build_stoichiometric_matrix=adm.build_e_adm_2_stoichiometric_matrix,\n",
        "            time_limit=100000,\n",
        "            control_state={'S_H_ion': 10 ** -(float(ph))})\n",
        "\n",
        "        sol = model.solve_model(np.linspace(0, 20, 10))\n",
        "        results_dict[reactor_name] = pd.DataFrame(sol.y.T,columns=params.species)\n",
        "\n"
      ]
    },
    {
      "cell_type": "code",
      "execution_count": 27,
      "metadata": {
        "id": "SwXiWjXZdiZD"
      },
      "outputs": [],
      "source": [
        "only_initial_conditions = {}\n",
        "for data, initial in data_dict.items():\n",
        "    if \"Initial conditions\" in initial:\n",
        "        only_initial_conditions[data] = pd.DataFrame(initial[\"data\"]).max()"
      ]
    },
    {
      "cell_type": "code",
      "execution_count": 28,
      "metadata": {
        "id": "hTXH_ldSh61a"
      },
      "outputs": [],
      "source": [
        "exp_data_sim=pd.DataFrame(only_initial_conditions).T"
      ]
    },
    {
      "cell_type": "code",
      "execution_count": 29,
      "metadata": {
        "id": "avJhj2h4kZU-"
      },
      "outputs": [],
      "source": [
        "exp_data_sim[\"Feed\"]=exp_data_sim.index.map(lambda x:x.split(\"_\")[2])"
      ]
    },
    {
      "cell_type": "code",
      "execution_count": 30,
      "metadata": {
        "id": "NaLXJ1F52WzN"
      },
      "outputs": [],
      "source": [
        "exp_data_sim[\"PH\"]=exp_data_sim.index.map(lambda x:x.split(\"_\")[3])"
      ]
    },
    {
      "cell_type": "code",
      "execution_count": 31,
      "metadata": {
        "colab": {
          "base_uri": "https://localhost:8080/",
          "height": 542
        },
        "id": "tQScwRQ6lLij",
        "outputId": "ffb6d575-e34d-4cf9-8d46-79ac23811924"
      },
      "outputs": [
        {
          "data": {
            "application/vnd.plotly.v1+json": {
              "config": {
                "plotlyServerURL": "https://plot.ly"
              },
              "data": [
                {
                  "alignmentgroup": "True",
                  "boxpoints": "all",
                  "hovertemplate": "Feed=%{x}<br>PH=5<br>S_bu=%{y}<extra></extra>",
                  "legendgroup": "F",
                  "marker": {
                    "color": "#636efa"
                  },
                  "name": "F",
                  "notched": false,
                  "offsetgroup": "F",
                  "orientation": "v",
                  "showlegend": true,
                  "type": "box",
                  "x": [
                    "F",
                    "F",
                    "F",
                    "F",
                    "F",
                    "F",
                    "F",
                    "F",
                    "F"
                  ],
                  "x0": " ",
                  "xaxis": "x",
                  "y": [
                    2.240047520909091,
                    2.6098008100000007,
                    2.605883305454546,
                    2.8177364327272727,
                    1.581195052727273,
                    0.7026143927272728,
                    1.8714991581818181,
                    1.7203393727272729,
                    1.7922206581818185
                  ],
                  "y0": " ",
                  "yaxis": "y"
                },
                {
                  "alignmentgroup": "True",
                  "boxpoints": "all",
                  "hovertemplate": "Feed=%{x}<br>PH=7<br>S_bu=%{y}<extra></extra>",
                  "legendgroup": "F",
                  "marker": {
                    "color": "#636efa"
                  },
                  "name": "F",
                  "notched": false,
                  "offsetgroup": "F",
                  "orientation": "v",
                  "showlegend": false,
                  "type": "box",
                  "x": [
                    "F",
                    "F",
                    "F",
                    "F",
                    "F",
                    "F",
                    "F",
                    "F",
                    "F",
                    "F",
                    "F",
                    "F"
                  ],
                  "x0": " ",
                  "xaxis": "x2",
                  "y": [
                    2.056227327272728,
                    2.1143913199999997,
                    1.9225356472727273,
                    1.621298692727273,
                    1.9369819600000002,
                    1.67803645,
                    1.7540218600000002,
                    1.8289347963636367,
                    1.9345909981818183,
                    0.8572070054545455,
                    1.2441600490909093,
                    1.1207661563636364
                  ],
                  "y0": " ",
                  "yaxis": "y2"
                },
                {
                  "alignmentgroup": "True",
                  "boxpoints": "all",
                  "hovertemplate": "Feed=%{x}<br>PH=9<br>S_bu=%{y}<extra></extra>",
                  "legendgroup": "F",
                  "marker": {
                    "color": "#636efa"
                  },
                  "name": "F",
                  "notched": false,
                  "offsetgroup": "F",
                  "orientation": "v",
                  "showlegend": false,
                  "type": "box",
                  "x": [
                    "F",
                    "F",
                    "F",
                    "F",
                    "F",
                    "F",
                    "F",
                    "F",
                    "F",
                    "F",
                    "F",
                    "F"
                  ],
                  "x0": " ",
                  "xaxis": "x3",
                  "y": [
                    0.19800377090909094,
                    0.11323652000000001,
                    0.6947658036363636,
                    0.16397756363636365,
                    0,
                    0.19705435272727276,
                    0.4744703054545455,
                    0.6387919454545455,
                    0.5384866654545455,
                    0.6170961563636364,
                    0,
                    0.27331663272727275
                  ],
                  "y0": " ",
                  "yaxis": "y3"
                },
                {
                  "alignmentgroup": "True",
                  "boxpoints": "all",
                  "hovertemplate": "Feed=%{x}<br>PH=5<br>S_bu=%{y}<extra></extra>",
                  "legendgroup": "M",
                  "marker": {
                    "color": "#EF553B"
                  },
                  "name": "M",
                  "notched": false,
                  "offsetgroup": "M",
                  "orientation": "v",
                  "showlegend": true,
                  "type": "box",
                  "x": [
                    "M",
                    "M",
                    "M",
                    "M",
                    "M",
                    "M",
                    "M",
                    "M",
                    "M",
                    "M",
                    "M",
                    "M"
                  ],
                  "x0": " ",
                  "xaxis": "x",
                  "y": [
                    0,
                    0.38173473090909094,
                    0.11672602,
                    0.09090909090909093,
                    0,
                    0,
                    0.18181818181818185,
                    0.5454545454545455,
                    0.18181818181818185,
                    0,
                    0.2887300963636364,
                    0
                  ],
                  "y0": " ",
                  "yaxis": "y"
                },
                {
                  "alignmentgroup": "True",
                  "boxpoints": "all",
                  "hovertemplate": "Feed=%{x}<br>PH=7<br>S_bu=%{y}<extra></extra>",
                  "legendgroup": "M",
                  "marker": {
                    "color": "#EF553B"
                  },
                  "name": "M",
                  "notched": false,
                  "offsetgroup": "M",
                  "orientation": "v",
                  "showlegend": false,
                  "type": "box",
                  "x": [
                    "M",
                    "M",
                    "M",
                    "M",
                    "M",
                    "M",
                    "M",
                    "M",
                    "M",
                    "M",
                    "M"
                  ],
                  "x0": " ",
                  "xaxis": "x2",
                  "y": [
                    0.15029333090909092,
                    0,
                    0.17175673636363636,
                    0,
                    0.3636363636363637,
                    0.18181818181818185,
                    0,
                    0.18181818181818185,
                    0,
                    0,
                    0
                  ],
                  "y0": " ",
                  "yaxis": "y2"
                },
                {
                  "alignmentgroup": "True",
                  "boxpoints": "all",
                  "hovertemplate": "Feed=%{x}<br>PH=9<br>S_bu=%{y}<extra></extra>",
                  "legendgroup": "M",
                  "marker": {
                    "color": "#EF553B"
                  },
                  "name": "M",
                  "notched": false,
                  "offsetgroup": "M",
                  "orientation": "v",
                  "showlegend": false,
                  "type": "box",
                  "x": [
                    "M",
                    "M",
                    "M",
                    "M",
                    "M",
                    "M",
                    "M",
                    "M"
                  ],
                  "x0": " ",
                  "xaxis": "x3",
                  "y": [
                    0,
                    0.06790306545454546,
                    0.5046846581818183,
                    0,
                    0.7272727272727274,
                    0.18181818181818185,
                    0.32030442727272734,
                    0
                  ],
                  "y0": " ",
                  "yaxis": "y3"
                }
              ],
              "layout": {
                "annotations": [
                  {
                    "font": {},
                    "showarrow": false,
                    "text": "PH=5",
                    "x": 0.15999999999999998,
                    "xanchor": "center",
                    "xref": "paper",
                    "y": 1,
                    "yanchor": "bottom",
                    "yref": "paper"
                  },
                  {
                    "font": {},
                    "showarrow": false,
                    "text": "PH=7",
                    "x": 0.49999999999999994,
                    "xanchor": "center",
                    "xref": "paper",
                    "y": 1,
                    "yanchor": "bottom",
                    "yref": "paper"
                  },
                  {
                    "font": {},
                    "showarrow": false,
                    "text": "PH=9",
                    "x": 0.8399999999999999,
                    "xanchor": "center",
                    "xref": "paper",
                    "y": 1,
                    "yanchor": "bottom",
                    "yref": "paper"
                  }
                ],
                "boxmode": "overlay",
                "legend": {
                  "title": {
                    "text": "Feed"
                  },
                  "tracegroupgap": 0
                },
                "margin": {
                  "t": 60
                },
                "template": {
                  "data": {
                    "bar": [
                      {
                        "error_x": {
                          "color": "#2a3f5f"
                        },
                        "error_y": {
                          "color": "#2a3f5f"
                        },
                        "marker": {
                          "line": {
                            "color": "#E5ECF6",
                            "width": 0.5
                          },
                          "pattern": {
                            "fillmode": "overlay",
                            "size": 10,
                            "solidity": 0.2
                          }
                        },
                        "type": "bar"
                      }
                    ],
                    "barpolar": [
                      {
                        "marker": {
                          "line": {
                            "color": "#E5ECF6",
                            "width": 0.5
                          },
                          "pattern": {
                            "fillmode": "overlay",
                            "size": 10,
                            "solidity": 0.2
                          }
                        },
                        "type": "barpolar"
                      }
                    ],
                    "carpet": [
                      {
                        "aaxis": {
                          "endlinecolor": "#2a3f5f",
                          "gridcolor": "white",
                          "linecolor": "white",
                          "minorgridcolor": "white",
                          "startlinecolor": "#2a3f5f"
                        },
                        "baxis": {
                          "endlinecolor": "#2a3f5f",
                          "gridcolor": "white",
                          "linecolor": "white",
                          "minorgridcolor": "white",
                          "startlinecolor": "#2a3f5f"
                        },
                        "type": "carpet"
                      }
                    ],
                    "choropleth": [
                      {
                        "colorbar": {
                          "outlinewidth": 0,
                          "ticks": ""
                        },
                        "type": "choropleth"
                      }
                    ],
                    "contour": [
                      {
                        "colorbar": {
                          "outlinewidth": 0,
                          "ticks": ""
                        },
                        "colorscale": [
                          [
                            0,
                            "#0d0887"
                          ],
                          [
                            0.1111111111111111,
                            "#46039f"
                          ],
                          [
                            0.2222222222222222,
                            "#7201a8"
                          ],
                          [
                            0.3333333333333333,
                            "#9c179e"
                          ],
                          [
                            0.4444444444444444,
                            "#bd3786"
                          ],
                          [
                            0.5555555555555556,
                            "#d8576b"
                          ],
                          [
                            0.6666666666666666,
                            "#ed7953"
                          ],
                          [
                            0.7777777777777778,
                            "#fb9f3a"
                          ],
                          [
                            0.8888888888888888,
                            "#fdca26"
                          ],
                          [
                            1,
                            "#f0f921"
                          ]
                        ],
                        "type": "contour"
                      }
                    ],
                    "contourcarpet": [
                      {
                        "colorbar": {
                          "outlinewidth": 0,
                          "ticks": ""
                        },
                        "type": "contourcarpet"
                      }
                    ],
                    "heatmap": [
                      {
                        "colorbar": {
                          "outlinewidth": 0,
                          "ticks": ""
                        },
                        "colorscale": [
                          [
                            0,
                            "#0d0887"
                          ],
                          [
                            0.1111111111111111,
                            "#46039f"
                          ],
                          [
                            0.2222222222222222,
                            "#7201a8"
                          ],
                          [
                            0.3333333333333333,
                            "#9c179e"
                          ],
                          [
                            0.4444444444444444,
                            "#bd3786"
                          ],
                          [
                            0.5555555555555556,
                            "#d8576b"
                          ],
                          [
                            0.6666666666666666,
                            "#ed7953"
                          ],
                          [
                            0.7777777777777778,
                            "#fb9f3a"
                          ],
                          [
                            0.8888888888888888,
                            "#fdca26"
                          ],
                          [
                            1,
                            "#f0f921"
                          ]
                        ],
                        "type": "heatmap"
                      }
                    ],
                    "heatmapgl": [
                      {
                        "colorbar": {
                          "outlinewidth": 0,
                          "ticks": ""
                        },
                        "colorscale": [
                          [
                            0,
                            "#0d0887"
                          ],
                          [
                            0.1111111111111111,
                            "#46039f"
                          ],
                          [
                            0.2222222222222222,
                            "#7201a8"
                          ],
                          [
                            0.3333333333333333,
                            "#9c179e"
                          ],
                          [
                            0.4444444444444444,
                            "#bd3786"
                          ],
                          [
                            0.5555555555555556,
                            "#d8576b"
                          ],
                          [
                            0.6666666666666666,
                            "#ed7953"
                          ],
                          [
                            0.7777777777777778,
                            "#fb9f3a"
                          ],
                          [
                            0.8888888888888888,
                            "#fdca26"
                          ],
                          [
                            1,
                            "#f0f921"
                          ]
                        ],
                        "type": "heatmapgl"
                      }
                    ],
                    "histogram": [
                      {
                        "marker": {
                          "pattern": {
                            "fillmode": "overlay",
                            "size": 10,
                            "solidity": 0.2
                          }
                        },
                        "type": "histogram"
                      }
                    ],
                    "histogram2d": [
                      {
                        "colorbar": {
                          "outlinewidth": 0,
                          "ticks": ""
                        },
                        "colorscale": [
                          [
                            0,
                            "#0d0887"
                          ],
                          [
                            0.1111111111111111,
                            "#46039f"
                          ],
                          [
                            0.2222222222222222,
                            "#7201a8"
                          ],
                          [
                            0.3333333333333333,
                            "#9c179e"
                          ],
                          [
                            0.4444444444444444,
                            "#bd3786"
                          ],
                          [
                            0.5555555555555556,
                            "#d8576b"
                          ],
                          [
                            0.6666666666666666,
                            "#ed7953"
                          ],
                          [
                            0.7777777777777778,
                            "#fb9f3a"
                          ],
                          [
                            0.8888888888888888,
                            "#fdca26"
                          ],
                          [
                            1,
                            "#f0f921"
                          ]
                        ],
                        "type": "histogram2d"
                      }
                    ],
                    "histogram2dcontour": [
                      {
                        "colorbar": {
                          "outlinewidth": 0,
                          "ticks": ""
                        },
                        "colorscale": [
                          [
                            0,
                            "#0d0887"
                          ],
                          [
                            0.1111111111111111,
                            "#46039f"
                          ],
                          [
                            0.2222222222222222,
                            "#7201a8"
                          ],
                          [
                            0.3333333333333333,
                            "#9c179e"
                          ],
                          [
                            0.4444444444444444,
                            "#bd3786"
                          ],
                          [
                            0.5555555555555556,
                            "#d8576b"
                          ],
                          [
                            0.6666666666666666,
                            "#ed7953"
                          ],
                          [
                            0.7777777777777778,
                            "#fb9f3a"
                          ],
                          [
                            0.8888888888888888,
                            "#fdca26"
                          ],
                          [
                            1,
                            "#f0f921"
                          ]
                        ],
                        "type": "histogram2dcontour"
                      }
                    ],
                    "mesh3d": [
                      {
                        "colorbar": {
                          "outlinewidth": 0,
                          "ticks": ""
                        },
                        "type": "mesh3d"
                      }
                    ],
                    "parcoords": [
                      {
                        "line": {
                          "colorbar": {
                            "outlinewidth": 0,
                            "ticks": ""
                          }
                        },
                        "type": "parcoords"
                      }
                    ],
                    "pie": [
                      {
                        "automargin": true,
                        "type": "pie"
                      }
                    ],
                    "scatter": [
                      {
                        "fillpattern": {
                          "fillmode": "overlay",
                          "size": 10,
                          "solidity": 0.2
                        },
                        "type": "scatter"
                      }
                    ],
                    "scatter3d": [
                      {
                        "line": {
                          "colorbar": {
                            "outlinewidth": 0,
                            "ticks": ""
                          }
                        },
                        "marker": {
                          "colorbar": {
                            "outlinewidth": 0,
                            "ticks": ""
                          }
                        },
                        "type": "scatter3d"
                      }
                    ],
                    "scattercarpet": [
                      {
                        "marker": {
                          "colorbar": {
                            "outlinewidth": 0,
                            "ticks": ""
                          }
                        },
                        "type": "scattercarpet"
                      }
                    ],
                    "scattergeo": [
                      {
                        "marker": {
                          "colorbar": {
                            "outlinewidth": 0,
                            "ticks": ""
                          }
                        },
                        "type": "scattergeo"
                      }
                    ],
                    "scattergl": [
                      {
                        "marker": {
                          "colorbar": {
                            "outlinewidth": 0,
                            "ticks": ""
                          }
                        },
                        "type": "scattergl"
                      }
                    ],
                    "scattermapbox": [
                      {
                        "marker": {
                          "colorbar": {
                            "outlinewidth": 0,
                            "ticks": ""
                          }
                        },
                        "type": "scattermapbox"
                      }
                    ],
                    "scatterpolar": [
                      {
                        "marker": {
                          "colorbar": {
                            "outlinewidth": 0,
                            "ticks": ""
                          }
                        },
                        "type": "scatterpolar"
                      }
                    ],
                    "scatterpolargl": [
                      {
                        "marker": {
                          "colorbar": {
                            "outlinewidth": 0,
                            "ticks": ""
                          }
                        },
                        "type": "scatterpolargl"
                      }
                    ],
                    "scatterternary": [
                      {
                        "marker": {
                          "colorbar": {
                            "outlinewidth": 0,
                            "ticks": ""
                          }
                        },
                        "type": "scatterternary"
                      }
                    ],
                    "surface": [
                      {
                        "colorbar": {
                          "outlinewidth": 0,
                          "ticks": ""
                        },
                        "colorscale": [
                          [
                            0,
                            "#0d0887"
                          ],
                          [
                            0.1111111111111111,
                            "#46039f"
                          ],
                          [
                            0.2222222222222222,
                            "#7201a8"
                          ],
                          [
                            0.3333333333333333,
                            "#9c179e"
                          ],
                          [
                            0.4444444444444444,
                            "#bd3786"
                          ],
                          [
                            0.5555555555555556,
                            "#d8576b"
                          ],
                          [
                            0.6666666666666666,
                            "#ed7953"
                          ],
                          [
                            0.7777777777777778,
                            "#fb9f3a"
                          ],
                          [
                            0.8888888888888888,
                            "#fdca26"
                          ],
                          [
                            1,
                            "#f0f921"
                          ]
                        ],
                        "type": "surface"
                      }
                    ],
                    "table": [
                      {
                        "cells": {
                          "fill": {
                            "color": "#EBF0F8"
                          },
                          "line": {
                            "color": "white"
                          }
                        },
                        "header": {
                          "fill": {
                            "color": "#C8D4E3"
                          },
                          "line": {
                            "color": "white"
                          }
                        },
                        "type": "table"
                      }
                    ]
                  },
                  "layout": {
                    "annotationdefaults": {
                      "arrowcolor": "#2a3f5f",
                      "arrowhead": 0,
                      "arrowwidth": 1
                    },
                    "autotypenumbers": "strict",
                    "coloraxis": {
                      "colorbar": {
                        "outlinewidth": 0,
                        "ticks": ""
                      }
                    },
                    "colorscale": {
                      "diverging": [
                        [
                          0,
                          "#8e0152"
                        ],
                        [
                          0.1,
                          "#c51b7d"
                        ],
                        [
                          0.2,
                          "#de77ae"
                        ],
                        [
                          0.3,
                          "#f1b6da"
                        ],
                        [
                          0.4,
                          "#fde0ef"
                        ],
                        [
                          0.5,
                          "#f7f7f7"
                        ],
                        [
                          0.6,
                          "#e6f5d0"
                        ],
                        [
                          0.7,
                          "#b8e186"
                        ],
                        [
                          0.8,
                          "#7fbc41"
                        ],
                        [
                          0.9,
                          "#4d9221"
                        ],
                        [
                          1,
                          "#276419"
                        ]
                      ],
                      "sequential": [
                        [
                          0,
                          "#0d0887"
                        ],
                        [
                          0.1111111111111111,
                          "#46039f"
                        ],
                        [
                          0.2222222222222222,
                          "#7201a8"
                        ],
                        [
                          0.3333333333333333,
                          "#9c179e"
                        ],
                        [
                          0.4444444444444444,
                          "#bd3786"
                        ],
                        [
                          0.5555555555555556,
                          "#d8576b"
                        ],
                        [
                          0.6666666666666666,
                          "#ed7953"
                        ],
                        [
                          0.7777777777777778,
                          "#fb9f3a"
                        ],
                        [
                          0.8888888888888888,
                          "#fdca26"
                        ],
                        [
                          1,
                          "#f0f921"
                        ]
                      ],
                      "sequentialminus": [
                        [
                          0,
                          "#0d0887"
                        ],
                        [
                          0.1111111111111111,
                          "#46039f"
                        ],
                        [
                          0.2222222222222222,
                          "#7201a8"
                        ],
                        [
                          0.3333333333333333,
                          "#9c179e"
                        ],
                        [
                          0.4444444444444444,
                          "#bd3786"
                        ],
                        [
                          0.5555555555555556,
                          "#d8576b"
                        ],
                        [
                          0.6666666666666666,
                          "#ed7953"
                        ],
                        [
                          0.7777777777777778,
                          "#fb9f3a"
                        ],
                        [
                          0.8888888888888888,
                          "#fdca26"
                        ],
                        [
                          1,
                          "#f0f921"
                        ]
                      ]
                    },
                    "colorway": [
                      "#636efa",
                      "#EF553B",
                      "#00cc96",
                      "#ab63fa",
                      "#FFA15A",
                      "#19d3f3",
                      "#FF6692",
                      "#B6E880",
                      "#FF97FF",
                      "#FECB52"
                    ],
                    "font": {
                      "color": "#2a3f5f"
                    },
                    "geo": {
                      "bgcolor": "white",
                      "lakecolor": "white",
                      "landcolor": "#E5ECF6",
                      "showlakes": true,
                      "showland": true,
                      "subunitcolor": "white"
                    },
                    "hoverlabel": {
                      "align": "left"
                    },
                    "hovermode": "closest",
                    "mapbox": {
                      "style": "light"
                    },
                    "paper_bgcolor": "white",
                    "plot_bgcolor": "#E5ECF6",
                    "polar": {
                      "angularaxis": {
                        "gridcolor": "white",
                        "linecolor": "white",
                        "ticks": ""
                      },
                      "bgcolor": "#E5ECF6",
                      "radialaxis": {
                        "gridcolor": "white",
                        "linecolor": "white",
                        "ticks": ""
                      }
                    },
                    "scene": {
                      "xaxis": {
                        "backgroundcolor": "#E5ECF6",
                        "gridcolor": "white",
                        "gridwidth": 2,
                        "linecolor": "white",
                        "showbackground": true,
                        "ticks": "",
                        "zerolinecolor": "white"
                      },
                      "yaxis": {
                        "backgroundcolor": "#E5ECF6",
                        "gridcolor": "white",
                        "gridwidth": 2,
                        "linecolor": "white",
                        "showbackground": true,
                        "ticks": "",
                        "zerolinecolor": "white"
                      },
                      "zaxis": {
                        "backgroundcolor": "#E5ECF6",
                        "gridcolor": "white",
                        "gridwidth": 2,
                        "linecolor": "white",
                        "showbackground": true,
                        "ticks": "",
                        "zerolinecolor": "white"
                      }
                    },
                    "shapedefaults": {
                      "line": {
                        "color": "#2a3f5f"
                      }
                    },
                    "ternary": {
                      "aaxis": {
                        "gridcolor": "white",
                        "linecolor": "white",
                        "ticks": ""
                      },
                      "baxis": {
                        "gridcolor": "white",
                        "linecolor": "white",
                        "ticks": ""
                      },
                      "bgcolor": "#E5ECF6",
                      "caxis": {
                        "gridcolor": "white",
                        "linecolor": "white",
                        "ticks": ""
                      }
                    },
                    "title": {
                      "x": 0.05
                    },
                    "xaxis": {
                      "automargin": true,
                      "gridcolor": "white",
                      "linecolor": "white",
                      "ticks": "",
                      "title": {
                        "standoff": 15
                      },
                      "zerolinecolor": "white",
                      "zerolinewidth": 2
                    },
                    "yaxis": {
                      "automargin": true,
                      "gridcolor": "white",
                      "linecolor": "white",
                      "ticks": "",
                      "title": {
                        "standoff": 15
                      },
                      "zerolinecolor": "white",
                      "zerolinewidth": 2
                    }
                  }
                },
                "title": {
                  "text": "Butyric Acid Concentration Experimental Data"
                },
                "xaxis": {
                  "anchor": "y",
                  "categoryarray": [
                    "F",
                    "M"
                  ],
                  "categoryorder": "array",
                  "domain": [
                    0,
                    0.31999999999999995
                  ],
                  "title": {
                    "text": "Feed"
                  }
                },
                "xaxis2": {
                  "anchor": "y2",
                  "categoryarray": [
                    "F",
                    "M"
                  ],
                  "categoryorder": "array",
                  "domain": [
                    0.33999999999999997,
                    0.6599999999999999
                  ],
                  "matches": "x",
                  "title": {
                    "text": "Feed"
                  }
                },
                "xaxis3": {
                  "anchor": "y3",
                  "categoryarray": [
                    "F",
                    "M"
                  ],
                  "categoryorder": "array",
                  "domain": [
                    0.6799999999999999,
                    0.9999999999999999
                  ],
                  "matches": "x",
                  "title": {
                    "text": "Feed"
                  }
                },
                "yaxis": {
                  "anchor": "x",
                  "domain": [
                    0,
                    1
                  ],
                  "title": {
                    "text": "S_bu"
                  }
                },
                "yaxis2": {
                  "anchor": "x2",
                  "domain": [
                    0,
                    1
                  ],
                  "matches": "y",
                  "showticklabels": false
                },
                "yaxis3": {
                  "anchor": "x3",
                  "domain": [
                    0,
                    1
                  ],
                  "matches": "y",
                  "showticklabels": false
                }
              }
            }
          },
          "metadata": {},
          "output_type": "display_data"
        }
      ],
      "source": [
        "fig=px.box(exp_data_sim,x=\"Feed\",y=\"S_bu\",facet_col=\"PH\",color=\"Feed\",points=\"all\")\n",
        "fig.update_layout(title=\"Butyric Acid Concentration Experimental Data\")\n",
        "fig.write_html(\"Butyric Acid Concentratio Experimental Data.html\")\n",
        "fig.show()"
      ]
    },
    {
      "cell_type": "code",
      "execution_count": 32,
      "metadata": {
        "id": "9c3FCFbal1uM"
      },
      "outputs": [],
      "source": [
        "observed_acids=exp_data_sim.columns[:-2].to_list()\n",
        "for reactor in results_dict:\n",
        "  results_dict[reactor]=results_dict[reactor][observed_acids].max()\n"
      ]
    },
    {
      "cell_type": "code",
      "execution_count": 33,
      "metadata": {
        "id": "pR_y1Azkmx_p"
      },
      "outputs": [],
      "source": [
        "simulations_vfa_results=pd.DataFrame(results_dict).T"
      ]
    },
    {
      "cell_type": "code",
      "execution_count": 34,
      "metadata": {
        "id": "UVby0_Tkoim1"
      },
      "outputs": [],
      "source": [
        "simulations_vfa_results[\"Feed\"]=simulations_vfa_results.index.map(lambda x:x.split(\"_\")[2])"
      ]
    },
    {
      "cell_type": "code",
      "execution_count": 35,
      "metadata": {
        "id": "W9W4l4yZ1aRD"
      },
      "outputs": [],
      "source": [
        "simulations_vfa_results[\"PH\"]=simulations_vfa_results.index.map(lambda x:x.split(\"_\")[3])"
      ]
    },
    {
      "cell_type": "code",
      "execution_count": 36,
      "metadata": {
        "colab": {
          "base_uri": "https://localhost:8080/",
          "height": 1000
        },
        "id": "TQ2NZqjP1mIx",
        "outputId": "24151470-6bb2-403a-c92f-59fad0a917ad"
      },
      "outputs": [
        {
          "data": {
            "text/html": [
              "<div>\n",
              "<style scoped>\n",
              "    .dataframe tbody tr th:only-of-type {\n",
              "        vertical-align: middle;\n",
              "    }\n",
              "\n",
              "    .dataframe tbody tr th {\n",
              "        vertical-align: top;\n",
              "    }\n",
              "\n",
              "    .dataframe thead th {\n",
              "        text-align: right;\n",
              "    }\n",
              "</style>\n",
              "<table border=\"1\" class=\"dataframe\">\n",
              "  <thead>\n",
              "    <tr style=\"text-align: right;\">\n",
              "      <th></th>\n",
              "      <th>S_ac</th>\n",
              "      <th>S_pro</th>\n",
              "      <th>S_bu</th>\n",
              "      <th>S_va</th>\n",
              "      <th>S_cap</th>\n",
              "      <th>Feed</th>\n",
              "      <th>PH</th>\n",
              "    </tr>\n",
              "  </thead>\n",
              "  <tbody>\n",
              "    <tr>\n",
              "      <th>A_35_F_5_A</th>\n",
              "      <td>1.330069</td>\n",
              "      <td>2.745784</td>\n",
              "      <td>1.143925</td>\n",
              "      <td>2.397723</td>\n",
              "      <td>0.188390</td>\n",
              "      <td>F</td>\n",
              "      <td>5</td>\n",
              "    </tr>\n",
              "    <tr>\n",
              "      <th>A_35_F_5_C</th>\n",
              "      <td>1.344988</td>\n",
              "      <td>2.750399</td>\n",
              "      <td>1.157110</td>\n",
              "      <td>2.407190</td>\n",
              "      <td>0.189162</td>\n",
              "      <td>F</td>\n",
              "      <td>5</td>\n",
              "    </tr>\n",
              "    <tr>\n",
              "      <th>A_35_F_7_A</th>\n",
              "      <td>1.417663</td>\n",
              "      <td>2.726856</td>\n",
              "      <td>1.063152</td>\n",
              "      <td>2.441005</td>\n",
              "      <td>0.179991</td>\n",
              "      <td>F</td>\n",
              "      <td>7</td>\n",
              "    </tr>\n",
              "    <tr>\n",
              "      <th>A_35_F_7_B</th>\n",
              "      <td>1.500008</td>\n",
              "      <td>2.721807</td>\n",
              "      <td>1.139305</td>\n",
              "      <td>2.568534</td>\n",
              "      <td>0.189580</td>\n",
              "      <td>F</td>\n",
              "      <td>7</td>\n",
              "    </tr>\n",
              "    <tr>\n",
              "      <th>A_35_F_7_C</th>\n",
              "      <td>1.496114</td>\n",
              "      <td>2.714351</td>\n",
              "      <td>1.141380</td>\n",
              "      <td>2.608507</td>\n",
              "      <td>0.192300</td>\n",
              "      <td>F</td>\n",
              "      <td>7</td>\n",
              "    </tr>\n",
              "    <tr>\n",
              "      <th>...</th>\n",
              "      <td>...</td>\n",
              "      <td>...</td>\n",
              "      <td>...</td>\n",
              "      <td>...</td>\n",
              "      <td>...</td>\n",
              "      <td>...</td>\n",
              "      <td>...</td>\n",
              "    </tr>\n",
              "    <tr>\n",
              "      <th>T_55_M_7_A</th>\n",
              "      <td>0.869652</td>\n",
              "      <td>1.391867</td>\n",
              "      <td>0.598064</td>\n",
              "      <td>1.387335</td>\n",
              "      <td>0.099254</td>\n",
              "      <td>M</td>\n",
              "      <td>7</td>\n",
              "    </tr>\n",
              "    <tr>\n",
              "      <th>T_55_M_7_B</th>\n",
              "      <td>0.789804</td>\n",
              "      <td>1.371446</td>\n",
              "      <td>0.549078</td>\n",
              "      <td>1.394117</td>\n",
              "      <td>0.099403</td>\n",
              "      <td>M</td>\n",
              "      <td>7</td>\n",
              "    </tr>\n",
              "    <tr>\n",
              "      <th>T_55_M_7_C</th>\n",
              "      <td>0.737195</td>\n",
              "      <td>1.371587</td>\n",
              "      <td>0.515765</td>\n",
              "      <td>1.414762</td>\n",
              "      <td>0.100985</td>\n",
              "      <td>M</td>\n",
              "      <td>7</td>\n",
              "    </tr>\n",
              "    <tr>\n",
              "      <th>T_55_M_9_B</th>\n",
              "      <td>1.530275</td>\n",
              "      <td>0.873428</td>\n",
              "      <td>0.197922</td>\n",
              "      <td>1.961310</td>\n",
              "      <td>0.122907</td>\n",
              "      <td>M</td>\n",
              "      <td>9</td>\n",
              "    </tr>\n",
              "    <tr>\n",
              "      <th>T_55_M_9_C</th>\n",
              "      <td>1.613361</td>\n",
              "      <td>0.877060</td>\n",
              "      <td>0.204342</td>\n",
              "      <td>1.934459</td>\n",
              "      <td>0.121367</td>\n",
              "      <td>M</td>\n",
              "      <td>9</td>\n",
              "    </tr>\n",
              "  </tbody>\n",
              "</table>\n",
              "<p>64 rows × 7 columns</p>\n",
              "</div>"
            ],
            "text/plain": [
              "                S_ac     S_pro      S_bu      S_va     S_cap Feed PH\n",
              "A_35_F_5_A  1.330069  2.745784  1.143925  2.397723  0.188390    F  5\n",
              "A_35_F_5_C  1.344988  2.750399  1.157110  2.407190  0.189162    F  5\n",
              "A_35_F_7_A  1.417663  2.726856  1.063152  2.441005  0.179991    F  7\n",
              "A_35_F_7_B  1.500008  2.721807  1.139305  2.568534  0.189580    F  7\n",
              "A_35_F_7_C  1.496114  2.714351  1.141380  2.608507  0.192300    F  7\n",
              "...              ...       ...       ...       ...       ...  ... ..\n",
              "T_55_M_7_A  0.869652  1.391867  0.598064  1.387335  0.099254    M  7\n",
              "T_55_M_7_B  0.789804  1.371446  0.549078  1.394117  0.099403    M  7\n",
              "T_55_M_7_C  0.737195  1.371587  0.515765  1.414762  0.100985    M  7\n",
              "T_55_M_9_B  1.530275  0.873428  0.197922  1.961310  0.122907    M  9\n",
              "T_55_M_9_C  1.613361  0.877060  0.204342  1.934459  0.121367    M  9\n",
              "\n",
              "[64 rows x 7 columns]"
            ]
          },
          "execution_count": 36,
          "metadata": {},
          "output_type": "execute_result"
        }
      ],
      "source": [
        "simulations_vfa_results"
      ]
    },
    {
      "cell_type": "code",
      "execution_count": 37,
      "metadata": {
        "colab": {
          "base_uri": "https://localhost:8080/",
          "height": 542
        },
        "id": "DGXCDxl3o9Nc",
        "outputId": "570b9590-9e0b-4c06-9722-ee3a73e4c56a"
      },
      "outputs": [
        {
          "data": {
            "application/vnd.plotly.v1+json": {
              "config": {
                "plotlyServerURL": "https://plot.ly"
              },
              "data": [
                {
                  "alignmentgroup": "True",
                  "boxpoints": "all",
                  "hovertemplate": "Feed=%{x}<br>PH=5<br>S_bu=%{y}<extra></extra>",
                  "legendgroup": "F",
                  "marker": {
                    "color": "#636efa"
                  },
                  "name": "F",
                  "notched": false,
                  "offsetgroup": "F",
                  "orientation": "v",
                  "showlegend": true,
                  "type": "box",
                  "x": [
                    "F",
                    "F",
                    "F",
                    "F",
                    "F",
                    "F",
                    "F",
                    "F",
                    "F"
                  ],
                  "x0": " ",
                  "xaxis": "x",
                  "y": [
                    1.1439245352326286,
                    1.1571098331914893,
                    1.2776033725222067,
                    1.1819124321763792,
                    1.2966682062421298,
                    1.1498617419703003,
                    1.096124368802869,
                    1.3167431669257574,
                    1.097386435397613
                  ],
                  "y0": " ",
                  "yaxis": "y"
                },
                {
                  "alignmentgroup": "True",
                  "boxpoints": "all",
                  "hovertemplate": "Feed=%{x}<br>PH=7<br>S_bu=%{y}<extra></extra>",
                  "legendgroup": "F",
                  "marker": {
                    "color": "#636efa"
                  },
                  "name": "F",
                  "notched": false,
                  "offsetgroup": "F",
                  "orientation": "v",
                  "showlegend": false,
                  "type": "box",
                  "x": [
                    "F",
                    "F",
                    "F",
                    "F",
                    "F",
                    "F",
                    "F",
                    "F",
                    "F",
                    "F",
                    "F",
                    "F"
                  ],
                  "x0": " ",
                  "xaxis": "x2",
                  "y": [
                    1.0631521071061605,
                    1.1393050903754234,
                    1.1413795147445014,
                    1.132932361211381,
                    1.026862251879097,
                    1.0114846154358301,
                    1.0524118446056177,
                    1.0583770418812624,
                    1.035251840216511,
                    1.0201803829807026,
                    0.981406918314347,
                    0.984932086239691
                  ],
                  "y0": " ",
                  "yaxis": "y2"
                },
                {
                  "alignmentgroup": "True",
                  "boxpoints": "all",
                  "hovertemplate": "Feed=%{x}<br>PH=9<br>S_bu=%{y}<extra></extra>",
                  "legendgroup": "F",
                  "marker": {
                    "color": "#636efa"
                  },
                  "name": "F",
                  "notched": false,
                  "offsetgroup": "F",
                  "orientation": "v",
                  "showlegend": false,
                  "type": "box",
                  "x": [
                    "F",
                    "F",
                    "F",
                    "F",
                    "F",
                    "F",
                    "F",
                    "F",
                    "F",
                    "F",
                    "F",
                    "F"
                  ],
                  "x0": " ",
                  "xaxis": "x3",
                  "y": [
                    0.3402869125784787,
                    0.34362590479295707,
                    0.5800583732727993,
                    0.3479172462313099,
                    0.35261842928897835,
                    0.351082325586558,
                    0.341842232397649,
                    0.35487659454105064,
                    0.3360663080512983,
                    0.3634853634068588,
                    0.327514935918356,
                    0.3391163492666442
                  ],
                  "y0": " ",
                  "yaxis": "y3"
                },
                {
                  "alignmentgroup": "True",
                  "boxpoints": "all",
                  "hovertemplate": "Feed=%{x}<br>PH=5<br>S_bu=%{y}<extra></extra>",
                  "legendgroup": "M",
                  "marker": {
                    "color": "#EF553B"
                  },
                  "name": "M",
                  "notched": false,
                  "offsetgroup": "M",
                  "orientation": "v",
                  "showlegend": true,
                  "type": "box",
                  "x": [
                    "M",
                    "M",
                    "M",
                    "M",
                    "M",
                    "M",
                    "M",
                    "M",
                    "M",
                    "M",
                    "M",
                    "M"
                  ],
                  "x0": " ",
                  "xaxis": "x",
                  "y": [
                    0.6625816829544985,
                    0.8334335919644005,
                    0.7465202673253692,
                    0.6739104651014278,
                    0.569887379263322,
                    0.5722228961675121,
                    0.6761332072624421,
                    0.5701313439351976,
                    0.7125492720836216,
                    0.5719799544034931,
                    0.6385615811609466,
                    0.5958164526588509
                  ],
                  "y0": " ",
                  "yaxis": "y"
                },
                {
                  "alignmentgroup": "True",
                  "boxpoints": "all",
                  "hovertemplate": "Feed=%{x}<br>PH=7<br>S_bu=%{y}<extra></extra>",
                  "legendgroup": "M",
                  "marker": {
                    "color": "#EF553B"
                  },
                  "name": "M",
                  "notched": false,
                  "offsetgroup": "M",
                  "orientation": "v",
                  "showlegend": false,
                  "type": "box",
                  "x": [
                    "M",
                    "M",
                    "M",
                    "M",
                    "M",
                    "M",
                    "M",
                    "M",
                    "M",
                    "M",
                    "M"
                  ],
                  "x0": " ",
                  "xaxis": "x2",
                  "y": [
                    0.5602336026441794,
                    0.5880073795592101,
                    0.5777841965627432,
                    0.5467735339593394,
                    0.5423518228654656,
                    0.584515373527354,
                    0.5925238345109336,
                    0.6253137728581568,
                    0.5980637009809303,
                    0.5490778913370302,
                    0.5157648648996809
                  ],
                  "y0": " ",
                  "yaxis": "y2"
                },
                {
                  "alignmentgroup": "True",
                  "boxpoints": "all",
                  "hovertemplate": "Feed=%{x}<br>PH=9<br>S_bu=%{y}<extra></extra>",
                  "legendgroup": "M",
                  "marker": {
                    "color": "#EF553B"
                  },
                  "name": "M",
                  "notched": false,
                  "offsetgroup": "M",
                  "orientation": "v",
                  "showlegend": false,
                  "type": "box",
                  "x": [
                    "M",
                    "M",
                    "M",
                    "M",
                    "M",
                    "M",
                    "M",
                    "M"
                  ],
                  "x0": " ",
                  "xaxis": "x3",
                  "y": [
                    0.23341993713267117,
                    0.240690759943405,
                    0.2193250405599101,
                    0.24636433294446736,
                    0.2578900100876855,
                    0.26933350894991515,
                    0.197921787069182,
                    0.20434240842304335
                  ],
                  "y0": " ",
                  "yaxis": "y3"
                }
              ],
              "layout": {
                "annotations": [
                  {
                    "font": {},
                    "showarrow": false,
                    "text": "PH=5",
                    "x": 0.15999999999999998,
                    "xanchor": "center",
                    "xref": "paper",
                    "y": 1,
                    "yanchor": "bottom",
                    "yref": "paper"
                  },
                  {
                    "font": {},
                    "showarrow": false,
                    "text": "PH=7",
                    "x": 0.49999999999999994,
                    "xanchor": "center",
                    "xref": "paper",
                    "y": 1,
                    "yanchor": "bottom",
                    "yref": "paper"
                  },
                  {
                    "font": {},
                    "showarrow": false,
                    "text": "PH=9",
                    "x": 0.8399999999999999,
                    "xanchor": "center",
                    "xref": "paper",
                    "y": 1,
                    "yanchor": "bottom",
                    "yref": "paper"
                  }
                ],
                "boxmode": "overlay",
                "legend": {
                  "title": {
                    "text": "Feed"
                  },
                  "tracegroupgap": 0
                },
                "margin": {
                  "t": 60
                },
                "template": {
                  "data": {
                    "bar": [
                      {
                        "error_x": {
                          "color": "#2a3f5f"
                        },
                        "error_y": {
                          "color": "#2a3f5f"
                        },
                        "marker": {
                          "line": {
                            "color": "#E5ECF6",
                            "width": 0.5
                          },
                          "pattern": {
                            "fillmode": "overlay",
                            "size": 10,
                            "solidity": 0.2
                          }
                        },
                        "type": "bar"
                      }
                    ],
                    "barpolar": [
                      {
                        "marker": {
                          "line": {
                            "color": "#E5ECF6",
                            "width": 0.5
                          },
                          "pattern": {
                            "fillmode": "overlay",
                            "size": 10,
                            "solidity": 0.2
                          }
                        },
                        "type": "barpolar"
                      }
                    ],
                    "carpet": [
                      {
                        "aaxis": {
                          "endlinecolor": "#2a3f5f",
                          "gridcolor": "white",
                          "linecolor": "white",
                          "minorgridcolor": "white",
                          "startlinecolor": "#2a3f5f"
                        },
                        "baxis": {
                          "endlinecolor": "#2a3f5f",
                          "gridcolor": "white",
                          "linecolor": "white",
                          "minorgridcolor": "white",
                          "startlinecolor": "#2a3f5f"
                        },
                        "type": "carpet"
                      }
                    ],
                    "choropleth": [
                      {
                        "colorbar": {
                          "outlinewidth": 0,
                          "ticks": ""
                        },
                        "type": "choropleth"
                      }
                    ],
                    "contour": [
                      {
                        "colorbar": {
                          "outlinewidth": 0,
                          "ticks": ""
                        },
                        "colorscale": [
                          [
                            0,
                            "#0d0887"
                          ],
                          [
                            0.1111111111111111,
                            "#46039f"
                          ],
                          [
                            0.2222222222222222,
                            "#7201a8"
                          ],
                          [
                            0.3333333333333333,
                            "#9c179e"
                          ],
                          [
                            0.4444444444444444,
                            "#bd3786"
                          ],
                          [
                            0.5555555555555556,
                            "#d8576b"
                          ],
                          [
                            0.6666666666666666,
                            "#ed7953"
                          ],
                          [
                            0.7777777777777778,
                            "#fb9f3a"
                          ],
                          [
                            0.8888888888888888,
                            "#fdca26"
                          ],
                          [
                            1,
                            "#f0f921"
                          ]
                        ],
                        "type": "contour"
                      }
                    ],
                    "contourcarpet": [
                      {
                        "colorbar": {
                          "outlinewidth": 0,
                          "ticks": ""
                        },
                        "type": "contourcarpet"
                      }
                    ],
                    "heatmap": [
                      {
                        "colorbar": {
                          "outlinewidth": 0,
                          "ticks": ""
                        },
                        "colorscale": [
                          [
                            0,
                            "#0d0887"
                          ],
                          [
                            0.1111111111111111,
                            "#46039f"
                          ],
                          [
                            0.2222222222222222,
                            "#7201a8"
                          ],
                          [
                            0.3333333333333333,
                            "#9c179e"
                          ],
                          [
                            0.4444444444444444,
                            "#bd3786"
                          ],
                          [
                            0.5555555555555556,
                            "#d8576b"
                          ],
                          [
                            0.6666666666666666,
                            "#ed7953"
                          ],
                          [
                            0.7777777777777778,
                            "#fb9f3a"
                          ],
                          [
                            0.8888888888888888,
                            "#fdca26"
                          ],
                          [
                            1,
                            "#f0f921"
                          ]
                        ],
                        "type": "heatmap"
                      }
                    ],
                    "heatmapgl": [
                      {
                        "colorbar": {
                          "outlinewidth": 0,
                          "ticks": ""
                        },
                        "colorscale": [
                          [
                            0,
                            "#0d0887"
                          ],
                          [
                            0.1111111111111111,
                            "#46039f"
                          ],
                          [
                            0.2222222222222222,
                            "#7201a8"
                          ],
                          [
                            0.3333333333333333,
                            "#9c179e"
                          ],
                          [
                            0.4444444444444444,
                            "#bd3786"
                          ],
                          [
                            0.5555555555555556,
                            "#d8576b"
                          ],
                          [
                            0.6666666666666666,
                            "#ed7953"
                          ],
                          [
                            0.7777777777777778,
                            "#fb9f3a"
                          ],
                          [
                            0.8888888888888888,
                            "#fdca26"
                          ],
                          [
                            1,
                            "#f0f921"
                          ]
                        ],
                        "type": "heatmapgl"
                      }
                    ],
                    "histogram": [
                      {
                        "marker": {
                          "pattern": {
                            "fillmode": "overlay",
                            "size": 10,
                            "solidity": 0.2
                          }
                        },
                        "type": "histogram"
                      }
                    ],
                    "histogram2d": [
                      {
                        "colorbar": {
                          "outlinewidth": 0,
                          "ticks": ""
                        },
                        "colorscale": [
                          [
                            0,
                            "#0d0887"
                          ],
                          [
                            0.1111111111111111,
                            "#46039f"
                          ],
                          [
                            0.2222222222222222,
                            "#7201a8"
                          ],
                          [
                            0.3333333333333333,
                            "#9c179e"
                          ],
                          [
                            0.4444444444444444,
                            "#bd3786"
                          ],
                          [
                            0.5555555555555556,
                            "#d8576b"
                          ],
                          [
                            0.6666666666666666,
                            "#ed7953"
                          ],
                          [
                            0.7777777777777778,
                            "#fb9f3a"
                          ],
                          [
                            0.8888888888888888,
                            "#fdca26"
                          ],
                          [
                            1,
                            "#f0f921"
                          ]
                        ],
                        "type": "histogram2d"
                      }
                    ],
                    "histogram2dcontour": [
                      {
                        "colorbar": {
                          "outlinewidth": 0,
                          "ticks": ""
                        },
                        "colorscale": [
                          [
                            0,
                            "#0d0887"
                          ],
                          [
                            0.1111111111111111,
                            "#46039f"
                          ],
                          [
                            0.2222222222222222,
                            "#7201a8"
                          ],
                          [
                            0.3333333333333333,
                            "#9c179e"
                          ],
                          [
                            0.4444444444444444,
                            "#bd3786"
                          ],
                          [
                            0.5555555555555556,
                            "#d8576b"
                          ],
                          [
                            0.6666666666666666,
                            "#ed7953"
                          ],
                          [
                            0.7777777777777778,
                            "#fb9f3a"
                          ],
                          [
                            0.8888888888888888,
                            "#fdca26"
                          ],
                          [
                            1,
                            "#f0f921"
                          ]
                        ],
                        "type": "histogram2dcontour"
                      }
                    ],
                    "mesh3d": [
                      {
                        "colorbar": {
                          "outlinewidth": 0,
                          "ticks": ""
                        },
                        "type": "mesh3d"
                      }
                    ],
                    "parcoords": [
                      {
                        "line": {
                          "colorbar": {
                            "outlinewidth": 0,
                            "ticks": ""
                          }
                        },
                        "type": "parcoords"
                      }
                    ],
                    "pie": [
                      {
                        "automargin": true,
                        "type": "pie"
                      }
                    ],
                    "scatter": [
                      {
                        "fillpattern": {
                          "fillmode": "overlay",
                          "size": 10,
                          "solidity": 0.2
                        },
                        "type": "scatter"
                      }
                    ],
                    "scatter3d": [
                      {
                        "line": {
                          "colorbar": {
                            "outlinewidth": 0,
                            "ticks": ""
                          }
                        },
                        "marker": {
                          "colorbar": {
                            "outlinewidth": 0,
                            "ticks": ""
                          }
                        },
                        "type": "scatter3d"
                      }
                    ],
                    "scattercarpet": [
                      {
                        "marker": {
                          "colorbar": {
                            "outlinewidth": 0,
                            "ticks": ""
                          }
                        },
                        "type": "scattercarpet"
                      }
                    ],
                    "scattergeo": [
                      {
                        "marker": {
                          "colorbar": {
                            "outlinewidth": 0,
                            "ticks": ""
                          }
                        },
                        "type": "scattergeo"
                      }
                    ],
                    "scattergl": [
                      {
                        "marker": {
                          "colorbar": {
                            "outlinewidth": 0,
                            "ticks": ""
                          }
                        },
                        "type": "scattergl"
                      }
                    ],
                    "scattermapbox": [
                      {
                        "marker": {
                          "colorbar": {
                            "outlinewidth": 0,
                            "ticks": ""
                          }
                        },
                        "type": "scattermapbox"
                      }
                    ],
                    "scatterpolar": [
                      {
                        "marker": {
                          "colorbar": {
                            "outlinewidth": 0,
                            "ticks": ""
                          }
                        },
                        "type": "scatterpolar"
                      }
                    ],
                    "scatterpolargl": [
                      {
                        "marker": {
                          "colorbar": {
                            "outlinewidth": 0,
                            "ticks": ""
                          }
                        },
                        "type": "scatterpolargl"
                      }
                    ],
                    "scatterternary": [
                      {
                        "marker": {
                          "colorbar": {
                            "outlinewidth": 0,
                            "ticks": ""
                          }
                        },
                        "type": "scatterternary"
                      }
                    ],
                    "surface": [
                      {
                        "colorbar": {
                          "outlinewidth": 0,
                          "ticks": ""
                        },
                        "colorscale": [
                          [
                            0,
                            "#0d0887"
                          ],
                          [
                            0.1111111111111111,
                            "#46039f"
                          ],
                          [
                            0.2222222222222222,
                            "#7201a8"
                          ],
                          [
                            0.3333333333333333,
                            "#9c179e"
                          ],
                          [
                            0.4444444444444444,
                            "#bd3786"
                          ],
                          [
                            0.5555555555555556,
                            "#d8576b"
                          ],
                          [
                            0.6666666666666666,
                            "#ed7953"
                          ],
                          [
                            0.7777777777777778,
                            "#fb9f3a"
                          ],
                          [
                            0.8888888888888888,
                            "#fdca26"
                          ],
                          [
                            1,
                            "#f0f921"
                          ]
                        ],
                        "type": "surface"
                      }
                    ],
                    "table": [
                      {
                        "cells": {
                          "fill": {
                            "color": "#EBF0F8"
                          },
                          "line": {
                            "color": "white"
                          }
                        },
                        "header": {
                          "fill": {
                            "color": "#C8D4E3"
                          },
                          "line": {
                            "color": "white"
                          }
                        },
                        "type": "table"
                      }
                    ]
                  },
                  "layout": {
                    "annotationdefaults": {
                      "arrowcolor": "#2a3f5f",
                      "arrowhead": 0,
                      "arrowwidth": 1
                    },
                    "autotypenumbers": "strict",
                    "coloraxis": {
                      "colorbar": {
                        "outlinewidth": 0,
                        "ticks": ""
                      }
                    },
                    "colorscale": {
                      "diverging": [
                        [
                          0,
                          "#8e0152"
                        ],
                        [
                          0.1,
                          "#c51b7d"
                        ],
                        [
                          0.2,
                          "#de77ae"
                        ],
                        [
                          0.3,
                          "#f1b6da"
                        ],
                        [
                          0.4,
                          "#fde0ef"
                        ],
                        [
                          0.5,
                          "#f7f7f7"
                        ],
                        [
                          0.6,
                          "#e6f5d0"
                        ],
                        [
                          0.7,
                          "#b8e186"
                        ],
                        [
                          0.8,
                          "#7fbc41"
                        ],
                        [
                          0.9,
                          "#4d9221"
                        ],
                        [
                          1,
                          "#276419"
                        ]
                      ],
                      "sequential": [
                        [
                          0,
                          "#0d0887"
                        ],
                        [
                          0.1111111111111111,
                          "#46039f"
                        ],
                        [
                          0.2222222222222222,
                          "#7201a8"
                        ],
                        [
                          0.3333333333333333,
                          "#9c179e"
                        ],
                        [
                          0.4444444444444444,
                          "#bd3786"
                        ],
                        [
                          0.5555555555555556,
                          "#d8576b"
                        ],
                        [
                          0.6666666666666666,
                          "#ed7953"
                        ],
                        [
                          0.7777777777777778,
                          "#fb9f3a"
                        ],
                        [
                          0.8888888888888888,
                          "#fdca26"
                        ],
                        [
                          1,
                          "#f0f921"
                        ]
                      ],
                      "sequentialminus": [
                        [
                          0,
                          "#0d0887"
                        ],
                        [
                          0.1111111111111111,
                          "#46039f"
                        ],
                        [
                          0.2222222222222222,
                          "#7201a8"
                        ],
                        [
                          0.3333333333333333,
                          "#9c179e"
                        ],
                        [
                          0.4444444444444444,
                          "#bd3786"
                        ],
                        [
                          0.5555555555555556,
                          "#d8576b"
                        ],
                        [
                          0.6666666666666666,
                          "#ed7953"
                        ],
                        [
                          0.7777777777777778,
                          "#fb9f3a"
                        ],
                        [
                          0.8888888888888888,
                          "#fdca26"
                        ],
                        [
                          1,
                          "#f0f921"
                        ]
                      ]
                    },
                    "colorway": [
                      "#636efa",
                      "#EF553B",
                      "#00cc96",
                      "#ab63fa",
                      "#FFA15A",
                      "#19d3f3",
                      "#FF6692",
                      "#B6E880",
                      "#FF97FF",
                      "#FECB52"
                    ],
                    "font": {
                      "color": "#2a3f5f"
                    },
                    "geo": {
                      "bgcolor": "white",
                      "lakecolor": "white",
                      "landcolor": "#E5ECF6",
                      "showlakes": true,
                      "showland": true,
                      "subunitcolor": "white"
                    },
                    "hoverlabel": {
                      "align": "left"
                    },
                    "hovermode": "closest",
                    "mapbox": {
                      "style": "light"
                    },
                    "paper_bgcolor": "white",
                    "plot_bgcolor": "#E5ECF6",
                    "polar": {
                      "angularaxis": {
                        "gridcolor": "white",
                        "linecolor": "white",
                        "ticks": ""
                      },
                      "bgcolor": "#E5ECF6",
                      "radialaxis": {
                        "gridcolor": "white",
                        "linecolor": "white",
                        "ticks": ""
                      }
                    },
                    "scene": {
                      "xaxis": {
                        "backgroundcolor": "#E5ECF6",
                        "gridcolor": "white",
                        "gridwidth": 2,
                        "linecolor": "white",
                        "showbackground": true,
                        "ticks": "",
                        "zerolinecolor": "white"
                      },
                      "yaxis": {
                        "backgroundcolor": "#E5ECF6",
                        "gridcolor": "white",
                        "gridwidth": 2,
                        "linecolor": "white",
                        "showbackground": true,
                        "ticks": "",
                        "zerolinecolor": "white"
                      },
                      "zaxis": {
                        "backgroundcolor": "#E5ECF6",
                        "gridcolor": "white",
                        "gridwidth": 2,
                        "linecolor": "white",
                        "showbackground": true,
                        "ticks": "",
                        "zerolinecolor": "white"
                      }
                    },
                    "shapedefaults": {
                      "line": {
                        "color": "#2a3f5f"
                      }
                    },
                    "ternary": {
                      "aaxis": {
                        "gridcolor": "white",
                        "linecolor": "white",
                        "ticks": ""
                      },
                      "baxis": {
                        "gridcolor": "white",
                        "linecolor": "white",
                        "ticks": ""
                      },
                      "bgcolor": "#E5ECF6",
                      "caxis": {
                        "gridcolor": "white",
                        "linecolor": "white",
                        "ticks": ""
                      }
                    },
                    "title": {
                      "x": 0.05
                    },
                    "xaxis": {
                      "automargin": true,
                      "gridcolor": "white",
                      "linecolor": "white",
                      "ticks": "",
                      "title": {
                        "standoff": 15
                      },
                      "zerolinecolor": "white",
                      "zerolinewidth": 2
                    },
                    "yaxis": {
                      "automargin": true,
                      "gridcolor": "white",
                      "linecolor": "white",
                      "ticks": "",
                      "title": {
                        "standoff": 15
                      },
                      "zerolinecolor": "white",
                      "zerolinewidth": 2
                    }
                  }
                },
                "title": {
                  "text": "Simulated Butyric Acid concentrations"
                },
                "xaxis": {
                  "anchor": "y",
                  "categoryarray": [
                    "F",
                    "M"
                  ],
                  "categoryorder": "array",
                  "domain": [
                    0,
                    0.31999999999999995
                  ],
                  "title": {
                    "text": "Feed"
                  }
                },
                "xaxis2": {
                  "anchor": "y2",
                  "categoryarray": [
                    "F",
                    "M"
                  ],
                  "categoryorder": "array",
                  "domain": [
                    0.33999999999999997,
                    0.6599999999999999
                  ],
                  "matches": "x",
                  "title": {
                    "text": "Feed"
                  }
                },
                "xaxis3": {
                  "anchor": "y3",
                  "categoryarray": [
                    "F",
                    "M"
                  ],
                  "categoryorder": "array",
                  "domain": [
                    0.6799999999999999,
                    0.9999999999999999
                  ],
                  "matches": "x",
                  "title": {
                    "text": "Feed"
                  }
                },
                "yaxis": {
                  "anchor": "x",
                  "domain": [
                    0,
                    1
                  ],
                  "title": {
                    "text": "S_bu"
                  }
                },
                "yaxis2": {
                  "anchor": "x2",
                  "domain": [
                    0,
                    1
                  ],
                  "matches": "y",
                  "showticklabels": false
                },
                "yaxis3": {
                  "anchor": "x3",
                  "domain": [
                    0,
                    1
                  ],
                  "matches": "y",
                  "showticklabels": false
                }
              }
            }
          },
          "metadata": {},
          "output_type": "display_data"
        }
      ],
      "source": [
        "fig=px.box(simulations_vfa_results,x=\"Feed\",y=\"S_bu\",facet_col=\"PH\",color=\"Feed\",points=\"all\")\n",
        "fig.update_layout(title=\"Simulated Butyric Acid concentrations\")\n",
        "fig.write_html(\"simulated_vfa_concentrations.html\")\n",
        "fig.show()"
      ]
    },
    {
      "cell_type": "code",
      "execution_count": 38,
      "metadata": {},
      "outputs": [],
      "source": [
        "from adtoolbox import optimize\n",
        "from importlib import reload"
      ]
    },
    {
      "cell_type": "code",
      "execution_count": 39,
      "metadata": {},
      "outputs": [],
      "source": [
        "exp=core.Database(configs.Database()).get_experiment_from_experiments_db(field_name=\"name\",query=\"\")"
      ]
    },
    {
      "cell_type": "code",
      "execution_count": 40,
      "metadata": {},
      "outputs": [],
      "source": [
        "model.sim_time=30"
      ]
    },
    {
      "cell_type": "code",
      "execution_count": 43,
      "metadata": {},
      "outputs": [
        {
          "data": {
            "text/plain": [
              "[Experiment(name='fw_twas_rep_1', time=[0, 1, 5, 11, 18, 24], variables=[9, 5, 4, 3, 8], data=array([[2.42133333e-02, 4.55567568e-03, 3.14181818e-02, 4.09882353e-03,\n",
              "         0.00000000e+00],\n",
              "        [4.02826667e-01, 5.89816216e-01, 1.43163636e-01, 8.43827451e-02,\n",
              "         1.59558621e-02],\n",
              "        [1.96010667e+00, 1.68461622e+00, 1.65812727e+00, 1.87077647e+00,\n",
              "         1.82201379e-01],\n",
              "        [2.56615467e+00, 2.21682811e+00, 2.13754545e+00, 3.15362667e+00,\n",
              "         2.34217931e-01],\n",
              "        [9.51893333e-02, 2.62659676e+00, 2.42809091e+00, 4.09965961e+00,\n",
              "         2.71470345e-01],\n",
              "        [4.68896000e-01, 2.68592649e+00, 1.94750909e+00, 4.22547922e+00,\n",
              "         2.75906207e-01]]), initial_concentrations={'S_su': 0, 'S_aa': 0, 'S_fa': 0, 'S_va': 0.001, 'S_bu': 0.001, 'S_et': 0.0, 'S_lac': 0.0, 'S_pro': 0.001, 'S_cap': 0.0, 'TSS': 5.4, 'TDS': 12.6, 'S_ac': 0.001, 'X_chain_lac': 0.25736217483886864, 'S_h2': 1e-08, 'S_ch4': 1e-05, 'S_IC': 0.04, 'S_IN': 0.01, 'S_I': 0.02, 'X_ac_et': 0.20501732571909873, 'X_Me_ac': 0.0038266069840550343, 'X_Me_CO2': 0.00020896147353201557, 'S_cap_ion': 0.0, 'S_lac_ion': 0.0, 'X_et': 0.2016217017742035, 'X_lac': 0.258655123956348, 'X_chain_et': 0.2016217017742035, 'X_ch': 0.13920752164860958, 'X_pr': 0.21414633009402864, 'X_ac_lac': 0.26075779878376387, 'X_VFA_deg': 0.2954545454545455, 'X_li': 0.0028732202610652134, 'X_su': 0.24462858504551147, 'X_aa': 0.5636996950368033, 'X_fa': 0.40091870715536326, 'X_I': 25.0, 'S_cation': 0.04, 'S_anion': 0.02, 'S_H_ion': 3.423e-08, 'S_va_ion': 0.0009776043775428294, 'S_bu_ion': 0.0009795346210617803, 'S_pro_ion': 0.0009765736302784177, 'S_ac_ion': 0.0009821282046277382, 'S_hco3_ion': 0, 'S_nh3': 0.0, 'S_gas_h2': 0, 'S_gas_ch4': 0, 'S_gas_co2': 0.0, 'S_nh4_ion': 0, 'S_co2': 0}, base_parameters={}, constants=(), reference='https://doi.org/10.1021/acssuschemeng.2c04080', model_name='e_adm'),\n",
              " Experiment(name='fw_twas_rep_2', time=[0, 1, 5, 11, 18, 24], variables=[9, 5, 4, 3, 8], data=array([[2.67840000e-02, 4.25297297e-03, 4.12727273e-02, 4.09882353e-03,\n",
              "         0.00000000e+00],\n",
              "        [2.97397333e-01, 4.35967568e-01, 1.03000000e-01, 5.69349020e-02,\n",
              "         7.08413793e-03],\n",
              "        [1.74070400e+00, 1.53959135e+00, 1.48938182e+00, 1.75034039e+00,\n",
              "         1.70659310e-01],\n",
              "        [2.41993600e+00, 2.17728000e+00, 2.06956364e+00, 3.24382118e+00,\n",
              "         2.28435862e-01],\n",
              "        [1.00768000e-01, 2.31661405e+00, 2.11561818e+00, 3.66149333e+00,\n",
              "         2.35100690e-01],\n",
              "        [7.48469333e-01, 2.66068108e+00, 1.31636364e+00, 4.25745412e+00,\n",
              "         2.60833103e-01]]), initial_concentrations={'S_su': 0.1, 'S_aa': 0.01, 'S_fa': 0.01, 'S_va': 0.001, 'S_bu': 0.001, 'S_et': 0.0, 'S_lac': 0.0, 'S_pro': 0.001, 'S_cap': 0.0, 'TSS': 5.4, 'TDS': 12.6, 'S_ac': 0.001, 'X_chain_lac': 0.2470846105395759, 'S_h2': 1e-08, 'S_ch4': 1e-05, 'S_IC': 0.04, 'S_IN': 0.01, 'S_I': 0.02, 'X_ac_et': 0.22694184337602352, 'X_Me_ac': 0.007172790258240605, 'X_Me_CO2': 0.0009061515851354189, 'S_cap_ion': 0.0, 'S_lac_ion': 0.0, 'X_et': 0.210773042200294, 'X_lac': 0.24731387780810413, 'X_chain_et': 0.210773042200294, 'X_ch': 0.20051060256141084, 'X_pr': 0.15974469871929456, 'X_ac_lac': 0.2632534117153055, 'X_VFA_deg': 0.2954545454545455, 'X_li': 0.00557883686752047, 'X_su': 0.2312214990552173, 'X_aa': 0.5529598992231788, 'X_fa': 0.3903111484358598, 'X_I': 25.0, 'S_cation': 0.04, 'S_anion': 0.02, 'S_H_ion': 3.423e-08, 'S_va_ion': 0.0009776043775428294, 'S_bu_ion': 0.0009795346210617803, 'S_pro_ion': 0.0009765736302784177, 'S_ac_ion': 0.0009821282046277382, 'S_hco3_ion': 0, 'S_nh3': 0.0, 'S_gas_h2': 0, 'S_gas_ch4': 0, 'S_gas_co2': 0.0, 'S_nh4_ion': 0, 'S_co2': 0}, base_parameters={}, constants=(), reference='https://doi.org/10.1021/acssuschemeng.2c04080', model_name='e_adm'),\n",
              " Experiment(name='fw_twas_as_rep_1', time=[0, 1, 5, 11, 18, 24], variables=[9, 5, 4, 3, 8], data=array([[2.59306667e-02, 1.83135135e-03, 3.28727273e-02, 3.69098039e-03,\n",
              "         0.00000000e+00],\n",
              "        [7.56362667e-01, 8.57965405e-01, 2.73927273e-01, 1.70009412e-01,\n",
              "         7.00468966e-02],\n",
              "        [1.88705067e+00, 1.34076108e+00, 1.20634545e+00, 1.08264000e+00,\n",
              "         1.14802759e-01],\n",
              "        [1.81789867e+00, 1.77418595e+00, 1.76734545e+00, 2.10394039e+00,\n",
              "         1.81870345e-01],\n",
              "        [8.49066667e-02, 2.17758270e+00, 8.31054545e-01, 2.65807686e+00,\n",
              "         2.00937931e-01],\n",
              "        [4.59242667e-01, 3.24993730e+00, 5.14927273e-01, 2.39864784e+00,\n",
              "         2.20027586e-01]]), initial_concentrations={'S_su': 0.1, 'S_aa': 0.01, 'S_fa': 0.01, 'S_va': 0.001, 'S_bu': 0.001, 'S_et': 0.0, 'S_lac': 0.0, 'S_pro': 0.001, 'S_cap': 0.0, 'TSS': 5.4, 'TDS': 12.6, 'S_ac': 0.001, 'X_chain_lac': 0.312174257823643, 'S_h2': 1e-08, 'S_ch4': 1e-05, 'S_IC': 0.04, 'S_IN': 0.01, 'S_I': 0.02, 'X_ac_et': 0.25440407907696894, 'X_Me_ac': 0.005540196023904654, 'X_Me_CO2': 0.0015501066595380898, 'S_cap_ion': 0.0, 'S_lac_ion': 0.0, 'X_et': 0.2486844725600622, 'X_lac': 0.31312872164641414, 'X_chain_et': 0.2486844725600622, 'X_ch': 0.18621373889673315, 'X_pr': 0.2624057870648623, 'X_ac_lac': 0.3178938643405498, 'X_VFA_deg': 0.3636363636363637, 'X_li': 0.0063367786128339515, 'X_su': 0.29224534026097054, 'X_aa': 0.6642063507726313, 'X_fa': 0.5228954700644621, 'X_I': 25.0, 'S_cation': 0.04, 'S_anion': 0.02, 'S_H_ion': 3.423e-08, 'S_va_ion': 0.0009776043775428294, 'S_bu_ion': 0.0009795346210617803, 'S_pro_ion': 0.0009765736302784177, 'S_ac_ion': 0.0009821282046277382, 'S_hco3_ion': 0, 'S_nh3': 0.0, 'S_gas_h2': 0, 'S_gas_ch4': 0, 'S_gas_co2': 0.0, 'S_nh4_ion': 0, 'S_co2': 0}, base_parameters={}, constants=(), reference='https://doi.org/10.1021/acssuschemeng.2c04080', model_name='e_adm'),\n",
              " Experiment(name='fw_twas_as_rep_2', time=[0, 1, 5, 11, 18, 24], variables=[9, 5, 4, 3, 8], data=array([[0.01393067, 0.00364757, 0.03541818, 0.00409882, 0.        ],\n",
              "        [0.840992  , 0.9847373 , 0.3214    , 0.20031216, 0.0829131 ],\n",
              "        [2.30250667, 1.64478054, 1.42621818, 1.32555137, 0.14585379],\n",
              "        [2.14314667, 2.03155892, 1.92887273, 2.28428863, 0.19652414],\n",
              "        [0.76669867, 2.56637405, 1.06676364, 3.10937569, 0.23909517],\n",
              "        [0.305952  , 3.08992865, 0.49263636, 2.16171137, 0.20449103]]), initial_concentrations={'S_su': 0.1, 'S_aa': 0.01, 'S_fa': 0.01, 'S_va': 0.001, 'S_bu': 0.001, 'S_et': 0.0, 'S_lac': 0.0, 'S_pro': 0.001, 'S_cap': 0.0, 'TSS': 5.4, 'TDS': 12.6, 'S_ac': 0.001, 'X_chain_lac': 0.30161046614903625, 'S_h2': 1e-08, 'S_ch4': 1e-05, 'S_IC': 0.04, 'S_IN': 0.01, 'S_I': 0.02, 'X_ac_et': 0.24299959969034615, 'X_Me_ac': 0.0053644530088255375, 'X_Me_CO2': 0.0009109448505552796, 'S_cap_ion': 0.0, 'S_lac_ion': 0.0, 'X_et': 0.23440972713659156, 'X_lac': 0.3029937527739535, 'X_chain_et': 0.23440972713659156, 'X_ch': 0.21206796120926913, 'X_pr': 0.2755709389024228, 'X_ac_lac': 0.31020033870279085, 'X_VFA_deg': 0.36363636363636354, 'X_li': 0.006322632036817016, 'X_su': 0.2931960348257589, 'X_aa': 0.6973181614906161, 'X_fa': 0.518988898450061, 'X_I': 25.0, 'S_cation': 0.04, 'S_anion': 0.02, 'S_H_ion': 3.423e-08, 'S_va_ion': 0.0009776043775428294, 'S_bu_ion': 0.0009795346210617803, 'S_pro_ion': 0.0009765736302784177, 'S_ac_ion': 0.0009821282046277382, 'S_hco3_ion': 0, 'S_nh3': 0.0, 'S_gas_h2': 0, 'S_gas_ch4': 0, 'S_gas_co2': 0.0, 'S_nh4_ion': 0, 'S_co2': 0}, base_parameters={}, constants=(), reference='https://doi.org/10.1021/acssuschemeng.2c04080', model_name='e_adm'),\n",
              " Experiment(name='fw_as_rep_1', time=[0, 1, 5, 11, 18, 24], variables=[9, 5, 4, 3, 8], data=array([[0.04477867, 0.00668973, 0.04309091, 0.00613804, 0.        ],\n",
              "        [0.44181333, 0.1200973 , 0.79765455, 0.04178353, 0.01860414],\n",
              "        [1.30359467, 0.53508757, 1.5796    , 0.28018824, 0.04744828],\n",
              "        [2.03722667, 0.91143784, 2.13865455, 1.00504784, 0.19118345],\n",
              "        [0.34304   , 1.43954811, 3.27667273, 2.24246431, 0.29899034],\n",
              "        [1.594496  , 1.44655568, 1.27945455, 2.3236251 , 0.30430897]]), initial_concentrations={'S_su': 0.1, 'S_aa': 0.01, 'S_fa': 0.01, 'S_va': 0.001, 'S_bu': 0.001, 'S_et': 0.0, 'S_lac': 0.0, 'S_pro': 0.001, 'S_cap': 0.0, 'TSS': 5.4, 'TDS': 12.6, 'S_ac': 0.001, 'X_chain_lac': 0.05664970658028151, 'S_h2': 1e-08, 'S_ch4': 1e-05, 'S_IC': 0.04, 'S_IN': 0.01, 'S_I': 0.02, 'X_ac_et': 0.054510771503043925, 'X_Me_ac': 0.0017695429801345209, 'X_Me_CO2': 0.000557406038742374, 'S_cap_ion': 0.0, 'S_lac_ion': 0.0, 'X_et': 0.04955162730121691, 'X_lac': 0.05702131060610976, 'X_chain_et': 0.04955162730121691, 'X_ch': 0.05110661319501013, 'X_pr': 0.038770686694747356, 'X_ac_lac': 0.06160885078210851, 'X_VFA_deg': 0.06818181818181819, 'X_li': 0.0006989694771531356, 'X_su': 0.05494652146190203, 'X_aa': 0.12680544995643978, 'X_fa': 0.07826909794007503, 'X_I': 25.0, 'S_cation': 0.04, 'S_anion': 0.02, 'S_H_ion': 3.423e-08, 'S_va_ion': 0.0009776043775428294, 'S_bu_ion': 0.0009795346210617803, 'S_pro_ion': 0.0009765736302784177, 'S_ac_ion': 0.0009821282046277382, 'S_hco3_ion': 0, 'S_nh3': 0.0, 'S_gas_h2': 0, 'S_gas_ch4': 0, 'S_gas_co2': 0.0, 'S_nh4_ion': 0, 'S_co2': 0}, base_parameters={}, constants=(), reference='https://doi.org/10.1021/acssuschemeng.2c04080', model_name='e_adm'),\n",
              " Experiment(name='fw_as_rep_2', time=[0, 1, 5, 11, 18, 24], variables=[9, 5, 4, 3, 8], data=array([[0.053568  , 0.00850595, 0.04894545, 0.00695373, 0.        ],\n",
              "        [0.39853867, 0.10823135, 0.75638182, 0.03564549, 0.01728   ],\n",
              "        [1.33402667, 0.58068973, 1.67858182, 0.25847059, 0.0470069 ],\n",
              "        [2.07496533, 0.98961081, 2.08821818, 0.87264157, 0.16324414],\n",
              "        [0.07911467, 1.49553297, 2.75807273, 1.02758118, 0.23688828],\n",
              "        [1.105664  , 1.54998919, 0.79083636, 1.72150588, 0.23777103]]), initial_concentrations={'S_su': 0.1, 'S_aa': 0.01, 'S_fa': 0.01, 'S_va': 0.001, 'S_bu': 0.001, 'S_et': 0.0, 'S_lac': 0.0, 'S_pro': 0.001, 'S_cap': 0.0, 'TSS': 5.4, 'TDS': 12.6, 'S_ac': 0.001, 'X_chain_lac': 0.05516598740113875, 'S_h2': 1e-08, 'S_ch4': 1e-05, 'S_IC': 0.04, 'S_IN': 0.01, 'S_I': 0.02, 'X_ac_et': 0.051272108578647696, 'X_Me_ac': 0.002176786425073118, 'X_Me_CO2': 0.0005137756779675683, 'S_cap_ion': 0.0, 'S_lac_ion': 0.0, 'X_et': 0.045447514840004845, 'X_lac': 0.05540665074502882, 'X_chain_et': 0.045447514840004845, 'X_ch': 0.0575347636848208, 'X_pr': 0.041356237993873626, 'X_ac_lac': 0.06099058113978159, 'X_VFA_deg': 0.06818181818181819, 'X_li': 0.0015818882716369868, 'X_su': 0.05455756883512451, 'X_aa': 0.13239458404721113, 'X_fa': 0.07797221933786755, 'X_I': 25.0, 'S_cation': 0.04, 'S_anion': 0.02, 'S_H_ion': 3.423e-08, 'S_va_ion': 0.0009776043775428294, 'S_bu_ion': 0.0009795346210617803, 'S_pro_ion': 0.0009765736302784177, 'S_ac_ion': 0.0009821282046277382, 'S_hco3_ion': 0, 'S_nh3': 0.0, 'S_gas_h2': 0, 'S_gas_ch4': 0, 'S_gas_co2': 0.0, 'S_nh4_ion': 0, 'S_co2': 0}, base_parameters={}, constants=(), reference='https://doi.org/10.1021/acssuschemeng.2c04080', model_name='e_adm'),\n",
              " Experiment(name='A_35_F_5_A_Delong_BETO', time=[0.0, 1.2, 3.3, 7.2, 11.3], variables=['S_ac', 'S_pro', 'S_bu', 'S_va', 'S_cap'], data=array([[0.1130861 , 0.        , 0.        , 0.        , 0.        ],\n",
              "        [0.05579951, 0.        , 1.79727538, 0.        , 0.28586603],\n",
              "        [0.92590209, 0.39413831, 1.9695041 , 0.23821312, 0.28564603],\n",
              "        [0.71529326, 0.5101812 , 2.09332123, 0.36097796, 0.30386204],\n",
              "        [1.29330625, 0.71294491, 2.24004752, 0.48710569, 0.36398059]]), initial_concentrations={'S_su': 0, 'S_aa': 0, 'S_fa': 0, 'S_va': 0.0, 'S_bu': 0.0, 'S_et': 0.0, 'S_lac': 0.0, 'S_pro': 0.0, 'S_cap': 0.0, 'TSS': 9.75, 'TDS': 5.25, 'S_ac': 0.11308610346666666, 'X_chain_lac': 0.8016883463363069, 'S_h2': 1e-08, 'S_ch4': 1e-05, 'S_IC': 0.04, 'S_IN': 0.01, 'S_I': 0.02, 'X_ac_et': 0.689672650375607, 'X_Me_ac': 0.011208193027445999, 'X_Me_CO2': 0.0041037209146459995, 'S_cap_ion': 0.001, 'S_lac_ion': 0.0, 'X_et': 0.6835476602756719, 'X_lac': 0.8155127947574301, 'X_chain_et': 0.6835476602756719, 'X_ch': 0.961752546470807, 'X_pr': 0.601357051279784, 'X_ac_lac': 0.8078133364362421, 'X_VFA_deg': 1.0, 'X_li': 0.043606314689665006, 'X_su': 0.6605065387019721, 'X_aa': 2.143445112718733, 'X_fa': 1.092238073740008, 'X_I': 25.0, 'S_cation': 0.04, 'S_anion': 0.02, 'S_H_ion': 1e-05, 'S_va_ion': 0, 'S_bu_ion': 0.0, 'S_pro_ion': 0.0, 'S_ac_ion': 0, 'S_hco3_ion': 0, 'S_nh3': 0.0, 'S_gas_h2': 0, 'S_gas_ch4': 0, 'S_gas_co2': 0.0, 'S_nh4_ion': 0, 'S_co2': 0}, base_parameters={'R': 0.083145, 'T_base': 298.15, 'P_atm': 1.013, 'T_op': 308.15, 'V_liq': 0.00025, 'V_gas': 0.0001, 'pH_UL_ac': 7, 'pH_LL_ac': 6, 'pH_UL_aa': 5.5, 'pH_LL_aa': 4, 'pH_UL_h2': 6, 'pH_LL_h2': 5, 'pH_UL_pro': 5.5, 'pH_LL_pro': 4, 'pH_UL_bu': 5.5, 'pH_LL_bu': 4, 'pH_UL_va': 5.5, 'pH_LL_va': 4, 'q_in': 0, 'K_W': 1e-14}, constants=['S_H_ion'], reference='Delong_Lab_BETO_Experiment', model_name='e_adm_2'),\n",
              " Experiment(name='A_35_F_5_C_Delong_BETO', time=[0.0, 1.2, 3.3, 7.2, 11.3], variables=['S_ac', 'S_pro', 'S_bu', 'S_va', 'S_cap'], data=array([[0.13715673, 0.        , 0.        , 0.        , 0.        ],\n",
              "        [0.18754802, 0.        , 2.14267557, 0.        , 0.4268159 ],\n",
              "        [0.62168625, 0.50305101, 2.17597961, 0.25873747, 0.30568587],\n",
              "        [1.35933295, 0.60174636, 2.11987135, 0.58527301, 0.33258027],\n",
              "        [1.25828359, 1.02949092, 2.60980081, 0.8657902 , 0.85087259]]), initial_concentrations={'S_su': 0, 'S_aa': 0, 'S_fa': 0, 'S_va': 0.0, 'S_bu': 0.0, 'S_et': 0.0, 'S_lac': 0.0, 'S_pro': 0.0, 'S_cap': 0.0, 'TSS': 9.75, 'TDS': 5.25, 'S_ac': 0.1371567328, 'X_chain_lac': 0.7988334851456159, 'S_h2': 1e-08, 'S_ch4': 1e-05, 'S_IC': 0.04, 'S_IN': 0.01, 'S_I': 0.02, 'X_ac_et': 0.685559512311708, 'X_Me_ac': 0.011455090316207001, 'X_Me_CO2': 0.003745433367489, 'S_cap_ion': 0.001, 'S_lac_ion': 0.0, 'X_et': 0.679703194886549, 'X_lac': 0.812580476534896, 'X_chain_et': 0.679703194886549, 'X_ch': 0.985602819038319, 'X_pr': 0.600324044985622, 'X_ac_lac': 0.8046898025707749, 'X_VFA_deg': 1.0, 'X_li': 0.044825012960621996, 'X_su': 0.658001756600891, 'X_aa': 2.149034497428087, 'X_fa': 1.085941678966666, 'X_I': 25.0, 'S_cation': 0.04, 'S_anion': 0.02, 'S_H_ion': 1e-05, 'S_va_ion': 0, 'S_bu_ion': 0.0, 'S_pro_ion': 0.0, 'S_ac_ion': 0, 'S_hco3_ion': 0, 'S_nh3': 0.0, 'S_gas_h2': 0, 'S_gas_ch4': 0, 'S_gas_co2': 0.0, 'S_nh4_ion': 0, 'S_co2': 0}, base_parameters={'R': 0.083145, 'T_base': 298.15, 'P_atm': 1.013, 'T_op': 308.15, 'V_liq': 0.00025, 'V_gas': 0.0001, 'pH_UL_ac': 7, 'pH_LL_ac': 6, 'pH_UL_aa': 5.5, 'pH_LL_aa': 4, 'pH_UL_h2': 6, 'pH_LL_h2': 5, 'pH_UL_pro': 5.5, 'pH_LL_pro': 4, 'pH_UL_bu': 5.5, 'pH_LL_bu': 4, 'pH_UL_va': 5.5, 'pH_LL_va': 4, 'q_in': 0, 'K_W': 1e-14}, constants=['S_H_ion'], reference='Delong_Lab_BETO_Experiment', model_name='e_adm_2'),\n",
              " Experiment(name='A_35_F_7_A_Delong_BETO', time=[0.0, 1.2, 3.3, 7.2, 11.3], variables=['S_ac', 'S_pro', 'S_bu', 'S_va', 'S_cap'], data=array([[0.14920617, 0.        , 0.        , 0.        , 0.        ],\n",
              "        [2.4095011 , 0.21602505, 1.91912158, 0.14552727, 0.        ],\n",
              "        [2.97605697, 0.88793256, 2.05622733, 0.67109974, 0.        ],\n",
              "        [0.20085389, 0.28671615, 1.42216423, 0.62352106, 0.        ],\n",
              "        [0.04235703, 0.32330897, 0.1033274 , 0.19385375, 0.        ]]), initial_concentrations={'S_su': 0, 'S_aa': 0, 'S_fa': 0, 'S_va': 0.0, 'S_bu': 0.0, 'S_et': 0.0, 'S_lac': 0.0, 'S_pro': 0.0, 'S_cap': 0.0, 'TSS': 9.75, 'TDS': 5.25, 'S_ac': 0.14920617173333334, 'X_chain_lac': 0.7793331006777229, 'S_h2': 1e-08, 'S_ch4': 1e-05, 'S_IC': 0.04, 'S_IN': 0.01, 'S_I': 0.02, 'X_ac_et': 0.679270179203913, 'X_Me_ac': 0.012561946565109, 'X_Me_CO2': 0.007281494522858, 'S_cap_ion': 0.001, 'S_lac_ion': 0.0, 'X_et': 0.666851361540039, 'X_lac': 0.797094895114388, 'X_chain_et': 0.666851361540039, 'X_ch': 1.023715906507398, 'X_pr': 0.5861706043268821, 'X_ac_lac': 0.7917519183415971, 'X_VFA_deg': 1.0, 'X_li': 0.045968985423501, 'X_su': 0.624200957798518, 'X_aa': 2.194629843802173, 'X_fa': 1.124317444635857, 'X_I': 25.0, 'S_cation': 0.04, 'S_anion': 0.02, 'S_H_ion': 1e-07, 'S_va_ion': 0, 'S_bu_ion': 0.0, 'S_pro_ion': 0.0, 'S_ac_ion': 0, 'S_hco3_ion': 0, 'S_nh3': 0.0, 'S_gas_h2': 0, 'S_gas_ch4': 0, 'S_gas_co2': 0.0, 'S_nh4_ion': 0, 'S_co2': 0}, base_parameters={'R': 0.083145, 'T_base': 298.15, 'P_atm': 1.013, 'T_op': 308.15, 'V_liq': 0.00025, 'V_gas': 0.0001, 'pH_UL_ac': 7, 'pH_LL_ac': 6, 'pH_UL_aa': 5.5, 'pH_LL_aa': 4, 'pH_UL_h2': 6, 'pH_LL_h2': 5, 'pH_UL_pro': 5.5, 'pH_LL_pro': 4, 'pH_UL_bu': 5.5, 'pH_LL_bu': 4, 'pH_UL_va': 5.5, 'pH_LL_va': 4, 'q_in': 0, 'K_W': 1e-14}, constants=['S_H_ion'], reference='Delong_Lab_BETO_Experiment', model_name='e_adm_2'),\n",
              " Experiment(name='A_35_F_7_B_Delong_BETO', time=[0.0, 1.2, 3.3, 7.2, 11.3], variables=['S_ac', 'S_pro', 'S_bu', 'S_va', 'S_cap'], data=array([[0.24057294, 0.        , 0.        , 0.        , 0.        ],\n",
              "        [1.78236879, 0.25930148, 2.11439132, 0.16848065, 0.        ],\n",
              "        [2.35608239, 0.4868084 , 1.81877051, 0.57470595, 0.        ],\n",
              "        [2.30039938, 0.78032309, 1.80317354, 0.40224384, 0.0119625 ],\n",
              "        [2.03707595, 0.8655049 , 1.94701111, 0.46062696, 0.04008755]]), initial_concentrations={'S_su': 0, 'S_aa': 0, 'S_fa': 0, 'S_va': 0.0, 'S_bu': 0.0, 'S_et': 0.0, 'S_lac': 0.0, 'S_pro': 0.0, 'S_cap': 0.0, 'TSS': 9.75, 'TDS': 5.25, 'S_ac': 0.24057294293333334, 'X_chain_lac': 0.7525595236336811, 'S_h2': 1e-08, 'S_ch4': 1e-05, 'S_IC': 0.04, 'S_IN': 0.01, 'S_I': 0.02, 'X_ac_et': 0.661322568929386, 'X_Me_ac': 0.01407801683976, 'X_Me_CO2': 0.009667344451121, 'S_cap_ion': 0.001, 'S_lac_ion': 0.0, 'X_et': 0.643128010154393, 'X_lac': 0.766823352142697, 'X_chain_et': 0.643128010154393, 'X_ch': 1.3155508997031, 'X_pr': 0.530730360166807, 'X_ac_lac': 0.7707540824086739, 'X_VFA_deg': 1.0, 'X_li': 0.037680380210063, 'X_su': 0.6439448964791381, 'X_aa': 2.155440623474358, 'X_fa': 1.055191931252422, 'X_I': 25.0, 'S_cation': 0.04, 'S_anion': 0.02, 'S_H_ion': 1e-07, 'S_va_ion': 0, 'S_bu_ion': 0.0, 'S_pro_ion': 0.0, 'S_ac_ion': 0, 'S_hco3_ion': 0, 'S_nh3': 0.0, 'S_gas_h2': 0, 'S_gas_ch4': 0, 'S_gas_co2': 0.0, 'S_nh4_ion': 0, 'S_co2': 0}, base_parameters={'R': 0.083145, 'T_base': 298.15, 'P_atm': 1.013, 'T_op': 308.15, 'V_liq': 0.00025, 'V_gas': 0.0001, 'pH_UL_ac': 7, 'pH_LL_ac': 6, 'pH_UL_aa': 5.5, 'pH_LL_aa': 4, 'pH_UL_h2': 6, 'pH_LL_h2': 5, 'pH_UL_pro': 5.5, 'pH_LL_pro': 4, 'pH_UL_bu': 5.5, 'pH_LL_bu': 4, 'pH_UL_va': 5.5, 'pH_LL_va': 4, 'q_in': 0, 'K_W': 1e-14}, constants=['S_H_ion'], reference='Delong_Lab_BETO_Experiment', model_name='e_adm_2'),\n",
              " Experiment(name='A_35_F_7_C_Delong_BETO', time=[0.0, 1.2, 3.3, 7.2, 11.3], variables=['S_ac', 'S_pro', 'S_bu', 'S_va', 'S_cap'], data=array([[0.19762916, 0.        , 0.        , 0.        , 0.        ],\n",
              "        [2.33917423, 0.03630274, 1.82301879, 0.22542493, 0.        ],\n",
              "        [2.85893436, 0.74665885, 1.92253565, 0.39632562, 0.        ],\n",
              "        [0.1383192 , 0.28263525, 1.12044619, 0.37271081, 0.01691073],\n",
              "        [0.01815821, 0.46006976, 0.        , 0.17116298, 0.        ]]), initial_concentrations={'S_su': 0, 'S_aa': 0, 'S_fa': 0, 'S_va': 0.0, 'S_bu': 0.0, 'S_et': 0.0, 'S_lac': 0.0, 'S_pro': 0.0, 'S_cap': 0.0, 'TSS': 9.75, 'TDS': 5.25, 'S_ac': 0.1976291648, 'X_chain_lac': 0.743816596747358, 'S_h2': 1e-08, 'S_ch4': 1e-05, 'S_IC': 0.04, 'S_IN': 0.01, 'S_I': 0.02, 'X_ac_et': 0.654984896044303, 'X_Me_ac': 0.014506435411256, 'X_Me_CO2': 0.010682235266606999, 'S_cap_ion': 0.001, 'S_lac_ion': 0.0, 'X_et': 0.6347662440521761, 'X_lac': 0.757837140405383, 'X_chain_et': 0.6347662440521761, 'X_ch': 1.4003885516730592, 'X_pr': 0.517901190923499, 'X_ac_lac': 0.764035248739485, 'X_VFA_deg': 1.0, 'X_li': 0.035529164421937, 'X_su': 0.6441117496185029, 'X_aa': 2.1458249047931672, 'X_fa': 1.0408493978510849, 'X_I': 25.0, 'S_cation': 0.04, 'S_anion': 0.02, 'S_H_ion': 1e-07, 'S_va_ion': 0, 'S_bu_ion': 0.0, 'S_pro_ion': 0.0, 'S_ac_ion': 0, 'S_hco3_ion': 0, 'S_nh3': 0.0, 'S_gas_h2': 0, 'S_gas_ch4': 0, 'S_gas_co2': 0.0, 'S_nh4_ion': 0, 'S_co2': 0}, base_parameters={'R': 0.083145, 'T_base': 298.15, 'P_atm': 1.013, 'T_op': 308.15, 'V_liq': 0.00025, 'V_gas': 0.0001, 'pH_UL_ac': 7, 'pH_LL_ac': 6, 'pH_UL_aa': 5.5, 'pH_LL_aa': 4, 'pH_UL_h2': 6, 'pH_LL_h2': 5, 'pH_UL_pro': 5.5, 'pH_LL_pro': 4, 'pH_UL_bu': 5.5, 'pH_LL_bu': 4, 'pH_UL_va': 5.5, 'pH_LL_va': 4, 'q_in': 0, 'K_W': 1e-14}, constants=['S_H_ion'], reference='Delong_Lab_BETO_Experiment', model_name='e_adm_2'),\n",
              " Experiment(name='A_35_F_9_A_Delong_BETO', time=[0.0, 1.2, 3.3, 7.2, 11.3], variables=['S_ac', 'S_pro', 'S_bu', 'S_va', 'S_cap'], data=array([[0.13278118, 0.        , 0.        , 0.        , 0.        ],\n",
              "        [0.59635485, 0.12586062, 0.        , 0.06557809, 0.        ],\n",
              "        [1.6299339 , 0.24124751, 0.17258877, 0.24225629, 0.        ],\n",
              "        [2.62277412, 0.84100311, 0.12392017, 0.23828373, 0.29689751],\n",
              "        [3.16843646, 0.85342544, 0.19800377, 0.30161837, 0.        ]]), initial_concentrations={'S_su': 0, 'S_aa': 0, 'S_fa': 0, 'S_va': 0.0, 'S_bu': 0.0, 'S_et': 0.0, 'S_lac': 0.0, 'S_pro': 0.0, 'S_cap': 0.0, 'TSS': 9.75, 'TDS': 5.25, 'S_ac': 0.13278117973333334, 'X_chain_lac': 0.802538594655089, 'S_h2': 1e-08, 'S_ch4': 1e-05, 'S_IC': 0.04, 'S_IN': 0.01, 'S_I': 0.02, 'X_ac_et': 0.6879532578623521, 'X_Me_ac': 0.011901976970732, 'X_Me_CO2': 0.003158784924409, 'S_cap_ion': 0.001, 'S_lac_ion': 0.0, 'X_et': 0.6818744288047771, 'X_lac': 0.813811414788171, 'X_chain_et': 0.6818744288047771, 'X_ch': 1.033694047293841, 'X_pr': 0.59355767035948, 'X_ac_lac': 0.8086174237126651, 'X_VFA_deg': 1.0, 'X_li': 0.039193673857544, 'X_su': 0.683709896373102, 'X_aa': 2.093650369547895, 'X_fa': 1.06446403204516, 'X_I': 25.0, 'S_cation': 0.04, 'S_anion': 0.02, 'S_H_ion': 1e-09, 'S_va_ion': 0, 'S_bu_ion': 0.0, 'S_pro_ion': 0.0, 'S_ac_ion': 0, 'S_hco3_ion': 0, 'S_nh3': 0.0, 'S_gas_h2': 0, 'S_gas_ch4': 0, 'S_gas_co2': 0.0, 'S_nh4_ion': 0, 'S_co2': 0}, base_parameters={'R': 0.083145, 'T_base': 298.15, 'P_atm': 1.013, 'T_op': 308.15, 'V_liq': 0.00025, 'V_gas': 0.0001, 'pH_UL_ac': 7, 'pH_LL_ac': 6, 'pH_UL_aa': 5.5, 'pH_LL_aa': 4, 'pH_UL_h2': 6, 'pH_LL_h2': 5, 'pH_UL_pro': 5.5, 'pH_LL_pro': 4, 'pH_UL_bu': 5.5, 'pH_LL_bu': 4, 'pH_UL_va': 5.5, 'pH_LL_va': 4, 'q_in': 0, 'K_W': 1e-14}, constants=['S_H_ion'], reference='Delong_Lab_BETO_Experiment', model_name='e_adm_2'),\n",
              " Experiment(name='A_35_F_9_B_Delong_BETO', time=[0.0, 1.2, 3.3, 7.2, 11.3], variables=['S_ac', 'S_pro', 'S_bu', 'S_va', 'S_cap'], data=array([[0.17377973, 0.        , 0.        , 0.        , 0.        ],\n",
              "        [0.6445645 , 0.05095491, 0.        , 0.        , 0.        ],\n",
              "        [1.61906191, 0.06729995, 0.09824823, 0.14499502, 0.        ],\n",
              "        [2.55236836, 0.66463044, 0.10673528, 0.17936997, 0.        ],\n",
              "        [3.19876479, 0.62569234, 0.11323652, 0.1949142 , 0.        ]]), initial_concentrations={'S_su': 0, 'S_aa': 0, 'S_fa': 0, 'S_va': 0.0, 'S_bu': 0.0, 'S_et': 0.0, 'S_lac': 0.0, 'S_pro': 0.0, 'S_cap': 0.0, 'TSS': 9.75, 'TDS': 5.25, 'S_ac': 0.17377972586666665, 'X_chain_lac': 0.799527824632711, 'S_h2': 1e-08, 'S_ch4': 1e-05, 'S_IC': 0.04, 'S_IN': 0.01, 'S_I': 0.02, 'X_ac_et': 0.685154548401664, 'X_Me_ac': 0.011935299072141001, 'X_Me_CO2': 0.0031936934833440003, 'S_cap_ion': 0.001, 'S_lac_ion': 0.0, 'X_et': 0.6787505158991409, 'X_lac': 0.811019992548198, 'X_chain_et': 0.6787505158991409, 'X_ch': 1.0449010179959841, 'X_pr': 0.590869284766518, 'X_ac_lac': 0.8059318571352341, 'X_VFA_deg': 1.0, 'X_li': 0.040176924950496996, 'X_su': 0.681268940482852, 'X_aa': 2.108954299546404, 'X_fa': 1.059565285186166, 'X_I': 25.0, 'S_cation': 0.04, 'S_anion': 0.02, 'S_H_ion': 1e-09, 'S_va_ion': 0, 'S_bu_ion': 0.0, 'S_pro_ion': 0.0, 'S_ac_ion': 0, 'S_hco3_ion': 0, 'S_nh3': 0.0, 'S_gas_h2': 0, 'S_gas_ch4': 0, 'S_gas_co2': 0.0, 'S_nh4_ion': 0, 'S_co2': 0}, base_parameters={'R': 0.083145, 'T_base': 298.15, 'P_atm': 1.013, 'T_op': 308.15, 'V_liq': 0.00025, 'V_gas': 0.0001, 'pH_UL_ac': 7, 'pH_LL_ac': 6, 'pH_UL_aa': 5.5, 'pH_LL_aa': 4, 'pH_UL_h2': 6, 'pH_LL_h2': 5, 'pH_UL_pro': 5.5, 'pH_LL_pro': 4, 'pH_UL_bu': 5.5, 'pH_LL_bu': 4, 'pH_UL_va': 5.5, 'pH_LL_va': 4, 'q_in': 0, 'K_W': 1e-14}, constants=['S_H_ion'], reference='Delong_Lab_BETO_Experiment', model_name='e_adm_2'),\n",
              " Experiment(name='A_35_F_9_C_Delong_BETO', time=[0.0, 1.2, 3.3, 7.2, 11.3], variables=['S_ac', 'S_pro', 'S_bu', 'S_va', 'S_cap'], data=array([[0.04113443, 0.        , 0.45917165, 0.        , 0.        ],\n",
              "        [0.39456986, 0.        , 0.        , 0.        , 0.        ],\n",
              "        [1.63628296, 0.        , 0.57949434, 0.16267376, 0.        ],\n",
              "        [2.74450839, 0.19120801, 0.67135035, 0.56098732, 0.        ],\n",
              "        [2.95505972, 0.2337324 , 0.6947658 , 0.30569201, 0.        ]]), initial_concentrations={'S_su': 0, 'S_aa': 0, 'S_fa': 0, 'S_va': 0.0, 'S_bu': 0.45917165272727284, 'S_et': 0.0, 'S_lac': 0.0, 'S_pro': 0.0, 'S_cap': 0.0, 'TSS': 9.75, 'TDS': 5.25, 'S_ac': 0.041134432, 'X_chain_lac': 0.7916891439033551, 'S_h2': 1e-08, 'S_ch4': 1e-05, 'S_IC': 0.04, 'S_IN': 0.01, 'S_I': 0.02, 'X_ac_et': 0.676014126407011, 'X_Me_ac': 0.012651828032679, 'X_Me_CO2': 0.003594099986154, 'S_cap_ion': 0.001, 'S_lac_ion': 0.0, 'X_et': 0.6689437879872071, 'X_lac': 0.804677848250857, 'X_chain_et': 0.6689437879872071, 'X_ch': 1.073141176554528, 'X_pr': 0.591893039873421, 'X_ac_lac': 0.7987594823231601, 'X_VFA_deg': 1.0, 'X_li': 0.043133264025321, 'X_su': 0.6631947633705799, 'X_aa': 2.138750051592653, 'X_fa': 1.0646135997058601, 'X_I': 25.0, 'S_cation': 0.04, 'S_anion': 0.02, 'S_H_ion': 1e-09, 'S_va_ion': 0, 'S_bu_ion': 0.0, 'S_pro_ion': 0.0, 'S_ac_ion': 0, 'S_hco3_ion': 0, 'S_nh3': 0.0, 'S_gas_h2': 0, 'S_gas_ch4': 0, 'S_gas_co2': 0.0, 'S_nh4_ion': 0, 'S_co2': 0}, base_parameters={'R': 0.083145, 'T_base': 298.15, 'P_atm': 1.013, 'T_op': 308.15, 'V_liq': 0.00025, 'V_gas': 0.0001, 'pH_UL_ac': 7, 'pH_LL_ac': 6, 'pH_UL_aa': 5.5, 'pH_LL_aa': 4, 'pH_UL_h2': 6, 'pH_LL_h2': 5, 'pH_UL_pro': 5.5, 'pH_LL_pro': 4, 'pH_UL_bu': 5.5, 'pH_LL_bu': 4, 'pH_UL_va': 5.5, 'pH_LL_va': 4, 'q_in': 0, 'K_W': 1e-14}, constants=['S_H_ion'], reference='Delong_Lab_BETO_Experiment', model_name='e_adm_2'),\n",
              " Experiment(name='A_35_M_5_B_Delong_BETO', time=[0.0, 0.54, 3.48, 6.47, 11.29, 23.29], variables=['S_ac', 'S_pro', 'S_bu', 'S_va', 'S_cap'], data=array([[0.26733334, 0.        , 0.        , 0.        , 0.        ],\n",
              "        [0.56737433, 0.03518899, 0.        , 0.        , 0.        ],\n",
              "        [0.835166  , 0.26902202, 0.        , 0.        , 0.        ],\n",
              "        [0.63811584, 0.21299029, 0.        , 0.        , 0.        ],\n",
              "        [0.7145327 , 0.38621181, 0.        , 0.        , 0.        ],\n",
              "        [0.10027419, 0.12664668, 0.        , 0.        , 0.        ]]), initial_concentrations={'S_su': 0, 'S_aa': 0, 'S_fa': 0, 'S_va': 0.0, 'S_bu': 0.0, 'S_et': 0.0, 'S_lac': 0.0, 'S_pro': 0.0, 'S_cap': 0.0, 'TSS': 14.25, 'TDS': 0.75, 'S_ac': 0.2673333397333333, 'X_chain_lac': 0.810687665684279, 'S_h2': 1e-08, 'S_ch4': 1e-05, 'S_IC': 0.04, 'S_IN': 0.01, 'S_I': 0.02, 'X_ac_et': 0.730974256249793, 'X_Me_ac': 0.011905613777419, 'X_Me_CO2': 0.011609875288219999, 'S_cap_ion': 0.001, 'S_lac_ion': 0.0, 'X_et': 0.72036190403286, 'X_lac': 0.834230256187032, 'X_chain_et': 0.72036190403286, 'X_ch': 0.8181296252227831, 'X_pr': 0.49810492012326796, 'X_ac_lac': 0.821300017901212, 'X_VFA_deg': 1.0, 'X_li': 0.039740216084037, 'X_su': 0.640164947904619, 'X_aa': 2.179064425108386, 'X_fa': 1.163364372403225, 'X_I': 25.0, 'S_cation': 0.04, 'S_anion': 0.02, 'S_H_ion': 1e-05, 'S_va_ion': 0, 'S_bu_ion': 0.0, 'S_pro_ion': 0.0, 'S_ac_ion': 0, 'S_hco3_ion': 0, 'S_nh3': 0.0, 'S_gas_h2': 0, 'S_gas_ch4': 0, 'S_gas_co2': 0.0, 'S_nh4_ion': 0, 'S_co2': 0}, base_parameters={'R': 0.083145, 'T_base': 298.15, 'P_atm': 1.013, 'T_op': 308.15, 'V_liq': 0.00025, 'V_gas': 0.0001, 'pH_UL_ac': 7, 'pH_LL_ac': 6, 'pH_UL_aa': 5.5, 'pH_LL_aa': 4, 'pH_UL_h2': 6, 'pH_LL_h2': 5, 'pH_UL_pro': 5.5, 'pH_LL_pro': 4, 'pH_UL_bu': 5.5, 'pH_LL_bu': 4, 'pH_UL_va': 5.5, 'pH_LL_va': 4, 'q_in': 0, 'K_W': 1e-14}, constants=['S_H_ion'], reference='Delong_Lab_BETO_Experiment', model_name='e_adm_2'),\n",
              " Experiment(name='A_35_M_5_C_Delong_BETO', time=[0.0, 0.54, 3.48, 6.47, 11.29, 23.29], variables=['S_ac', 'S_pro', 'S_bu', 'S_va', 'S_cap'], data=array([[0.16750789, 0.        , 0.38173473, 0.        , 0.        ],\n",
              "        [0.35953638, 0.09230793, 0.        , 0.        , 0.        ],\n",
              "        [0.86120241, 0.26661429, 0.        , 0.        , 0.        ],\n",
              "        [0.81110573, 0.34525365, 0.        , 0.        , 0.        ],\n",
              "        [0.85647145, 0.58417417, 0.        , 0.        , 0.        ],\n",
              "        [0.13849945, 0.23902989, 0.        , 0.        , 0.34560841]]), initial_concentrations={'S_su': 0, 'S_aa': 0, 'S_fa': 0, 'S_va': 0.0, 'S_bu': 0.38173473090909094, 'S_et': 0.0, 'S_lac': 0.0, 'S_pro': 0.0, 'S_cap': 0.0, 'TSS': 14.25, 'TDS': 0.75, 'S_ac': 0.16750788586666668, 'X_chain_lac': 0.805747773172884, 'S_h2': 1e-08, 'S_ch4': 1e-05, 'S_IC': 0.04, 'S_IN': 0.01, 'S_I': 0.02, 'X_ac_et': 0.7287659941341871, 'X_Me_ac': 0.011938660740698, 'X_Me_CO2': 0.011082207352340001, 'S_cap_ion': 0.001, 'S_lac_ion': 0.0, 'X_et': 0.715903735605254, 'X_lac': 0.8283005626797311, 'X_chain_et': 0.715903735605254, 'X_ch': 0.815971594923922, 'X_pr': 0.483797138508559, 'X_ac_lac': 0.818610031701817, 'X_VFA_deg': 1.0, 'X_li': 0.038944718035063004, 'X_su': 0.6475072617393041, 'X_aa': 2.218997305142604, 'X_fa': 1.158529280658374, 'X_I': 25.0, 'S_cation': 0.04, 'S_anion': 0.02, 'S_H_ion': 1e-05, 'S_va_ion': 0, 'S_bu_ion': 0.0, 'S_pro_ion': 0.0, 'S_ac_ion': 0, 'S_hco3_ion': 0, 'S_nh3': 0.0, 'S_gas_h2': 0, 'S_gas_ch4': 0, 'S_gas_co2': 0.0, 'S_nh4_ion': 0, 'S_co2': 0}, base_parameters={'R': 0.083145, 'T_base': 298.15, 'P_atm': 1.013, 'T_op': 308.15, 'V_liq': 0.00025, 'V_gas': 0.0001, 'pH_UL_ac': 7, 'pH_LL_ac': 6, 'pH_UL_aa': 5.5, 'pH_LL_aa': 4, 'pH_UL_h2': 6, 'pH_LL_h2': 5, 'pH_UL_pro': 5.5, 'pH_LL_pro': 4, 'pH_UL_bu': 5.5, 'pH_LL_bu': 4, 'pH_UL_va': 5.5, 'pH_LL_va': 4, 'q_in': 0, 'K_W': 1e-14}, constants=['S_H_ion'], reference='Delong_Lab_BETO_Experiment', model_name='e_adm_2'),\n",
              " Experiment(name='A_35_M_7_A_Delong_BETO', time=[0.0, 0.54, 3.48, 6.47, 11.29], variables=['S_ac', 'S_pro', 'S_bu', 'S_va', 'S_cap'], data=array([[0.14461421, 0.        , 0.        , 0.        , 0.        ],\n",
              "        [0.28426655, 0.11614061, 0.        , 0.        , 0.        ],\n",
              "        [1.70653439, 1.40056892, 0.15029333, 0.        , 0.        ],\n",
              "        [1.36877346, 1.12257955, 0.        , 0.        , 0.        ],\n",
              "        [0.84384312, 0.79536238, 0.06920679, 0.08190682, 0.        ]]), initial_concentrations={'S_su': 0, 'S_aa': 0, 'S_fa': 0, 'S_va': 0.0, 'S_bu': 0.0, 'S_et': 0.0, 'S_lac': 0.0, 'S_pro': 0.0, 'S_cap': 0.0, 'TSS': 14.25, 'TDS': 0.75, 'S_ac': 0.14461420586666665, 'X_chain_lac': 0.823225576125865, 'S_h2': 1e-08, 'S_ch4': 1e-05, 'S_IC': 0.04, 'S_IN': 0.01, 'S_I': 0.02, 'X_ac_et': 0.7386679772446141, 'X_Me_ac': 0.013051320625673999, 'X_Me_CO2': 0.010344116965237002, 'S_cap_ion': 0.001, 'S_lac_ion': 0.0, 'X_et': 0.7297173660993419, 'X_lac': 0.8495062184204839, 'X_chain_et': 0.7297173660993419, 'X_ch': 0.758257702389274, 'X_pr': 0.500443665511136, 'X_ac_lac': 0.832176187271137, 'X_VFA_deg': 1.0, 'X_li': 0.040548721225462, 'X_su': 0.638021758245835, 'X_aa': 2.1782472362622047, 'X_fa': 1.158074787514388, 'X_I': 25.0, 'S_cation': 0.04, 'S_anion': 0.02, 'S_H_ion': 1e-07, 'S_va_ion': 0, 'S_bu_ion': 0.0, 'S_pro_ion': 0.0, 'S_ac_ion': 0, 'S_hco3_ion': 0, 'S_nh3': 0.0, 'S_gas_h2': 0, 'S_gas_ch4': 0, 'S_gas_co2': 0.0, 'S_nh4_ion': 0, 'S_co2': 0}, base_parameters={'R': 0.083145, 'T_base': 298.15, 'P_atm': 1.013, 'T_op': 308.15, 'V_liq': 0.00025, 'V_gas': 0.0001, 'pH_UL_ac': 7, 'pH_LL_ac': 6, 'pH_UL_aa': 5.5, 'pH_LL_aa': 4, 'pH_UL_h2': 6, 'pH_LL_h2': 5, 'pH_UL_pro': 5.5, 'pH_LL_pro': 4, 'pH_UL_bu': 5.5, 'pH_LL_bu': 4, 'pH_UL_va': 5.5, 'pH_LL_va': 4, 'q_in': 0, 'K_W': 1e-14}, constants=['S_H_ion'], reference='Delong_Lab_BETO_Experiment', model_name='e_adm_2'),\n",
              " Experiment(name='A_35_M_9_A_Delong_BETO', time=[0.0, 0.54, 3.48, 6.47, 11.29, 23.29], variables=['S_ac', 'S_pro', 'S_bu', 'S_va', 'S_cap'], data=array([[0.60520788, 0.04583645, 0.        , 0.        , 0.        ],\n",
              "        [1.23700758, 0.16565861, 0.        , 0.        , 0.        ],\n",
              "        [1.18376055, 0.07803679, 0.        , 0.        , 0.        ],\n",
              "        [1.57818064, 0.07566918, 0.        , 0.        , 0.        ],\n",
              "        [1.28704599, 0.30826051, 0.        , 0.        , 0.        ],\n",
              "        [1.9652469 , 0.43744609, 0.        , 0.        , 0.        ]]), initial_concentrations={'S_su': 0, 'S_aa': 0, 'S_fa': 0, 'S_va': 0.0, 'S_bu': 0.0, 'S_et': 0.0, 'S_lac': 0.0, 'S_pro': 0.045836448, 'S_cap': 0.0, 'TSS': 14.25, 'TDS': 0.75, 'S_ac': 0.6052078816, 'X_chain_lac': 0.8179294076562429, 'S_h2': 1e-08, 'S_ch4': 1e-05, 'S_IC': 0.04, 'S_IN': 0.01, 'S_I': 0.02, 'X_ac_et': 0.7333594961333869, 'X_Me_ac': 0.013087634882032, 'X_Me_CO2': 0.01246583446854, 'S_cap_ion': 0.001, 'S_lac_ion': 0.0, 'X_et': 0.7240228848839659, 'X_lac': 0.842449070628287, 'X_chain_et': 0.7240228848839659, 'X_ch': 0.81196770661859, 'X_pr': 0.49843470592657096, 'X_ac_lac': 0.827266018905664, 'X_VFA_deg': 1.0, 'X_li': 0.038940882805939, 'X_su': 0.6373211584475349, 'X_aa': 2.145650225539142, 'X_fa': 1.173082088220133, 'X_I': 25.0, 'S_cation': 0.04, 'S_anion': 0.02, 'S_H_ion': 1e-09, 'S_va_ion': 0, 'S_bu_ion': 0.0, 'S_pro_ion': 0.0, 'S_ac_ion': 0, 'S_hco3_ion': 0, 'S_nh3': 0.0, 'S_gas_h2': 0, 'S_gas_ch4': 0, 'S_gas_co2': 0.0, 'S_nh4_ion': 0, 'S_co2': 0}, base_parameters={'R': 0.083145, 'T_base': 298.15, 'P_atm': 1.013, 'T_op': 308.15, 'V_liq': 0.00025, 'V_gas': 0.0001, 'pH_UL_ac': 7, 'pH_LL_ac': 6, 'pH_UL_aa': 5.5, 'pH_LL_aa': 4, 'pH_UL_h2': 6, 'pH_LL_h2': 5, 'pH_UL_pro': 5.5, 'pH_LL_pro': 4, 'pH_UL_bu': 5.5, 'pH_LL_bu': 4, 'pH_UL_va': 5.5, 'pH_LL_va': 4, 'q_in': 0, 'K_W': 1e-14}, constants=['S_H_ion'], reference='Delong_Lab_BETO_Experiment', model_name='e_adm_2'),\n",
              " Experiment(name='A_35_M_9_B_Delong_BETO', time=[0.0, 0.54, 3.48, 6.47, 11.29, 23.29], variables=['S_ac', 'S_pro', 'S_bu', 'S_va', 'S_cap'], data=array([[0.70306765, 0.01456942, 0.        , 0.        , 0.        ],\n",
              "        [0.64291231, 0.        , 0.        , 0.        , 0.        ],\n",
              "        [1.2209353 , 0.23277251, 0.06790307, 0.09161462, 0.        ],\n",
              "        [1.36743133, 0.63096111, 0.        , 0.        , 0.        ],\n",
              "        [2.61717869, 0.40853521, 0.        , 0.        , 0.        ],\n",
              "        [2.64254022, 0.51142068, 0.        , 0.        , 0.        ]]), initial_concentrations={'S_su': 0, 'S_aa': 0, 'S_fa': 0, 'S_va': 0.0, 'S_bu': 0.0, 'S_et': 0.0, 'S_lac': 0.0, 'S_pro': 0.014569421621621623, 'S_cap': 0.0, 'TSS': 14.25, 'TDS': 0.75, 'S_ac': 0.7030676522666667, 'X_chain_lac': 0.815462717824593, 'S_h2': 1e-08, 'S_ch4': 1e-05, 'S_IC': 0.04, 'S_IN': 0.01, 'S_I': 0.02, 'X_ac_et': 0.729091428007515, 'X_Me_ac': 0.013280526204098, 'X_Me_CO2': 0.011384441180632001, 'S_cap_ion': 0.001, 'S_lac_ion': 0.0, 'X_et': 0.72004494406974, 'X_lac': 0.838973718913298, 'X_chain_et': 0.72004494406974, 'X_ch': 0.828401076310084, 'X_pr': 0.501612210447649, 'X_ac_lac': 0.824509201762368, 'X_VFA_deg': 1.0, 'X_li': 0.038859262678418, 'X_su': 0.6415593738602671, 'X_aa': 2.152400368861332, 'X_fa': 1.164375785810259, 'X_I': 25.0, 'S_cation': 0.04, 'S_anion': 0.02, 'S_H_ion': 1e-09, 'S_va_ion': 0, 'S_bu_ion': 0.0, 'S_pro_ion': 0.0, 'S_ac_ion': 0, 'S_hco3_ion': 0, 'S_nh3': 0.0, 'S_gas_h2': 0, 'S_gas_ch4': 0, 'S_gas_co2': 0.0, 'S_nh4_ion': 0, 'S_co2': 0}, base_parameters={'R': 0.083145, 'T_base': 298.15, 'P_atm': 1.013, 'T_op': 308.15, 'V_liq': 0.00025, 'V_gas': 0.0001, 'pH_UL_ac': 7, 'pH_LL_ac': 6, 'pH_UL_aa': 5.5, 'pH_LL_aa': 4, 'pH_UL_h2': 6, 'pH_LL_h2': 5, 'pH_UL_pro': 5.5, 'pH_LL_pro': 4, 'pH_UL_bu': 5.5, 'pH_LL_bu': 4, 'pH_UL_va': 5.5, 'pH_LL_va': 4, 'q_in': 0, 'K_W': 1e-14}, constants=['S_H_ion'], reference='Delong_Lab_BETO_Experiment', model_name='e_adm_2'),\n",
              " Experiment(name='A_35_M_9_C_Delong_BETO', time=[0.0, 0.54, 3.48, 6.47, 11.29, 23.29], variables=['S_ac', 'S_pro', 'S_bu', 'S_va', 'S_cap'], data=array([[0.39577407, 0.        , 0.        , 0.        , 0.        ],\n",
              "        [0.93094314, 0.        , 0.        , 0.        , 0.        ],\n",
              "        [1.26604816, 0.28636433, 0.        , 0.        , 0.        ],\n",
              "        [1.72191452, 0.21567201, 0.        , 0.        , 0.        ],\n",
              "        [1.95046128, 0.5907312 , 0.09517463, 0.20459063, 0.06677824],\n",
              "        [2.4128778 , 1.18735234, 0.50468466, 0.03433522, 0.        ]]), initial_concentrations={'S_su': 0, 'S_aa': 0, 'S_fa': 0, 'S_va': 0.0, 'S_bu': 0.0, 'S_et': 0.0, 'S_lac': 0.0, 'S_pro': 0.0, 'S_cap': 0.0, 'TSS': 14.25, 'TDS': 0.75, 'S_ac': 0.39577406719999997, 'X_chain_lac': 0.8174654635888221, 'S_h2': 1e-08, 'S_ch4': 1e-05, 'S_IC': 0.04, 'S_IN': 0.01, 'S_I': 0.02, 'X_ac_et': 0.730642226473725, 'X_Me_ac': 0.013034829852066, 'X_Me_CO2': 0.011327638296849999, 'S_cap_ion': 0.001, 'S_lac_ion': 0.0, 'X_et': 0.721891097208744, 'X_lac': 0.841142958889113, 'X_chain_et': 0.721891097208744, 'X_ch': 0.8253423430794091, 'X_pr': 0.5068694268503561, 'X_ac_lac': 0.826216592853803, 'X_VFA_deg': 1.0, 'X_li': 0.03961991467001601, 'X_su': 0.643968807902478, 'X_aa': 2.146455210020011, 'X_fa': 1.154132393105856, 'X_I': 25.0, 'S_cation': 0.04, 'S_anion': 0.02, 'S_H_ion': 1e-09, 'S_va_ion': 0, 'S_bu_ion': 0.0, 'S_pro_ion': 0.0, 'S_ac_ion': 0, 'S_hco3_ion': 0, 'S_nh3': 0.0, 'S_gas_h2': 0, 'S_gas_ch4': 0, 'S_gas_co2': 0.0, 'S_nh4_ion': 0, 'S_co2': 0}, base_parameters={'R': 0.083145, 'T_base': 298.15, 'P_atm': 1.013, 'T_op': 308.15, 'V_liq': 0.00025, 'V_gas': 0.0001, 'pH_UL_ac': 7, 'pH_LL_ac': 6, 'pH_UL_aa': 5.5, 'pH_LL_aa': 4, 'pH_UL_h2': 6, 'pH_LL_h2': 5, 'pH_UL_pro': 5.5, 'pH_LL_pro': 4, 'pH_UL_bu': 5.5, 'pH_LL_bu': 4, 'pH_UL_va': 5.5, 'pH_LL_va': 4, 'q_in': 0, 'K_W': 1e-14}, constants=['S_H_ion'], reference='Delong_Lab_BETO_Experiment', model_name='e_adm_2'),\n",
              " Experiment(name='A_45_F_7_A_Delong_BETO', time=[0.0, 1.2, 3.3, 7.2, 11.3], variables=['S_ac', 'S_pro', 'S_bu', 'S_va', 'S_cap'], data=array([[0.20593168, 0.        , 0.        , 0.        , 0.        ],\n",
              "        [2.78182175, 0.12597543, 1.62129869, 0.17236867, 0.        ],\n",
              "        [2.76267432, 0.45753872, 1.57050573, 0.6126523 , 0.        ],\n",
              "        [0.1864752 , 0.44164687, 0.18911899, 0.22053333, 0.        ],\n",
              "        [0.24530876, 0.52832584, 0.        , 0.        , 0.        ]]), initial_concentrations={'S_su': 0, 'S_aa': 0, 'S_fa': 0, 'S_va': 0.0, 'S_bu': 0.0, 'S_et': 0.0, 'S_lac': 0.0, 'S_pro': 0.0, 'S_cap': 0.0, 'TSS': 9.75, 'TDS': 5.25, 'S_ac': 0.20593167573333335, 'X_chain_lac': 0.785750182049102, 'S_h2': 1e-08, 'S_ch4': 1e-05, 'S_IC': 0.04, 'S_IN': 0.01, 'S_I': 0.02, 'X_ac_et': 0.683009632452659, 'X_Me_ac': 0.008684819485286, 'X_Me_CO2': 0.026829031735405996, 'S_cap_ion': 0.001, 'S_lac_ion': 0.0, 'X_et': 0.659123876519057, 'X_lac': 0.794092628852176, 'X_chain_et': 0.659123876519057, 'X_ch': 1.289937843959108, 'X_pr': 0.514334879853495, 'X_ac_lac': 0.809635937982704, 'X_VFA_deg': 1.0, 'X_li': 0.04442503705209, 'X_su': 0.6177576083025009, 'X_aa': 2.13969503525476, 'X_fa': 0.9675996099825911, 'X_I': 25.0, 'S_cation': 0.04, 'S_anion': 0.02, 'S_H_ion': 1e-07, 'S_va_ion': 0, 'S_bu_ion': 0.0, 'S_pro_ion': 0.0, 'S_ac_ion': 0, 'S_hco3_ion': 0, 'S_nh3': 0.0, 'S_gas_h2': 0, 'S_gas_ch4': 0, 'S_gas_co2': 0.0, 'S_nh4_ion': 0, 'S_co2': 0}, base_parameters={'R': 0.083145, 'T_base': 298.15, 'P_atm': 1.013, 'T_op': 318.15, 'V_liq': 0.00025, 'V_gas': 0.0001, 'pH_UL_ac': 7, 'pH_LL_ac': 6, 'pH_UL_aa': 5.5, 'pH_LL_aa': 4, 'pH_UL_h2': 6, 'pH_LL_h2': 5, 'pH_UL_pro': 5.5, 'pH_LL_pro': 4, 'pH_UL_bu': 5.5, 'pH_LL_bu': 4, 'pH_UL_va': 5.5, 'pH_LL_va': 4, 'q_in': 0, 'K_W': 1e-14}, constants=['S_H_ion'], reference='Delong_Lab_BETO_Experiment', model_name='e_adm_2'),\n",
              " Experiment(name='A_45_F_7_B_Delong_BETO', time=[0.0, 1.2, 3.3, 7.2, 11.3], variables=['S_ac', 'S_pro', 'S_bu', 'S_va', 'S_cap'], data=array([[0.05091958, 0.        , 0.        , 0.3180369 , 0.        ],\n",
              "        [1.76670577, 0.56289376, 1.78625659, 0.51854927, 0.51093344],\n",
              "        [2.0675143 , 1.30795011, 1.93698196, 0.44091378, 0.02363413],\n",
              "        [0.        , 0.85807876, 0.13002444, 0.19943663, 0.        ],\n",
              "        [0.        , 0.42071978, 0.        , 0.        , 0.        ]]), initial_concentrations={'S_su': 0, 'S_aa': 0, 'S_fa': 0, 'S_va': 0.31803690431372544, 'S_bu': 0.0, 'S_et': 0.0, 'S_lac': 0.0, 'S_pro': 0.0, 'S_cap': 0.0, 'TSS': 9.75, 'TDS': 5.25, 'S_ac': 0.050919575466666665, 'X_chain_lac': 0.79184490645069, 'S_h2': 1e-08, 'S_ch4': 1e-05, 'S_IC': 0.04, 'S_IN': 0.01, 'S_I': 0.02, 'X_ac_et': 0.6837126337766509, 'X_Me_ac': 0.013917478018011, 'X_Me_CO2': 0.006951339244002, 'S_cap_ion': 0.001, 'S_lac_ion': 0.0, 'X_et': 0.671869556547869, 'X_lac': 0.806990745459233, 'X_chain_et': 0.671869556547869, 'X_ch': 0.9904333864768, 'X_pr': 0.5921074895784171, 'X_ac_lac': 0.803687983679473, 'X_VFA_deg': 1.0, 'X_li': 0.043947697671649, 'X_su': 0.6497398193293109, 'X_aa': 2.177767119923649, 'X_fa': 1.0951602872963688, 'X_I': 25.0, 'S_cation': 0.04, 'S_anion': 0.02, 'S_H_ion': 1e-07, 'S_va_ion': 0, 'S_bu_ion': 0.0, 'S_pro_ion': 0.0, 'S_ac_ion': 0, 'S_hco3_ion': 0, 'S_nh3': 0.0, 'S_gas_h2': 0, 'S_gas_ch4': 0, 'S_gas_co2': 0.0, 'S_nh4_ion': 0, 'S_co2': 0}, base_parameters={'R': 0.083145, 'T_base': 298.15, 'P_atm': 1.013, 'T_op': 318.15, 'V_liq': 0.00025, 'V_gas': 0.0001, 'pH_UL_ac': 7, 'pH_LL_ac': 6, 'pH_UL_aa': 5.5, 'pH_LL_aa': 4, 'pH_UL_h2': 6, 'pH_LL_h2': 5, 'pH_UL_pro': 5.5, 'pH_LL_pro': 4, 'pH_UL_bu': 5.5, 'pH_LL_bu': 4, 'pH_UL_va': 5.5, 'pH_LL_va': 4, 'q_in': 0, 'K_W': 1e-14}, constants=['S_H_ion'], reference='Delong_Lab_BETO_Experiment', model_name='e_adm_2'),\n",
              " Experiment(name='A_45_F_7_C_Delong_BETO', time=[0.0, 1.2, 3.3, 7.2, 11.3], variables=['S_ac', 'S_pro', 'S_bu', 'S_va', 'S_cap'], data=array([[0.02518095, 0.        , 0.        , 0.        , 0.        ],\n",
              "        [1.2115978 , 0.22063101, 1.67803645, 0.25773408, 0.2052768 ],\n",
              "        [2.04034899, 0.78297745, 1.58420494, 0.57560275, 0.        ],\n",
              "        [0.44652836, 0.88488821, 1.62429184, 0.66278896, 0.        ],\n",
              "        [0.74669153, 1.35462378, 0.17552403, 0.40845546, 0.        ]]), initial_concentrations={'S_su': 0, 'S_aa': 0, 'S_fa': 0, 'S_va': 0.0, 'S_bu': 0.0, 'S_et': 0.0, 'S_lac': 0.0, 'S_pro': 0.0, 'S_cap': 0.0, 'TSS': 9.75, 'TDS': 5.25, 'S_ac': 0.025180946133333333, 'X_chain_lac': 0.797438177697108, 'S_h2': 1e-08, 'S_ch4': 1e-05, 'S_IC': 0.04, 'S_IN': 0.01, 'S_I': 0.02, 'X_ac_et': 0.6888704543720909, 'X_Me_ac': 0.012690480203331, 'X_Me_CO2': 0.006078378691769, 'S_cap_ion': 0.001, 'S_lac_ion': 0.0, 'X_et': 0.679667671739683, 'X_lac': 0.813582899394901, 'X_chain_et': 0.679667671739683, 'X_ch': 0.939414351775135, 'X_pr': 0.599205807848921, 'X_ac_lac': 0.806640960329516, 'X_VFA_deg': 1.0, 'X_li': 0.047141579739252, 'X_su': 0.6352844471044861, 'X_aa': 2.172523067571121, 'X_fa': 1.121794051792997, 'X_I': 25.0, 'S_cation': 0.04, 'S_anion': 0.02, 'S_H_ion': 1e-07, 'S_va_ion': 0, 'S_bu_ion': 0.0, 'S_pro_ion': 0.0, 'S_ac_ion': 0, 'S_hco3_ion': 0, 'S_nh3': 0.0, 'S_gas_h2': 0, 'S_gas_ch4': 0, 'S_gas_co2': 0.0, 'S_nh4_ion': 0, 'S_co2': 0}, base_parameters={'R': 0.083145, 'T_base': 298.15, 'P_atm': 1.013, 'T_op': 318.15, 'V_liq': 0.00025, 'V_gas': 0.0001, 'pH_UL_ac': 7, 'pH_LL_ac': 6, 'pH_UL_aa': 5.5, 'pH_LL_aa': 4, 'pH_UL_h2': 6, 'pH_LL_h2': 5, 'pH_UL_pro': 5.5, 'pH_LL_pro': 4, 'pH_UL_bu': 5.5, 'pH_LL_bu': 4, 'pH_UL_va': 5.5, 'pH_LL_va': 4, 'q_in': 0, 'K_W': 1e-14}, constants=['S_H_ion'], reference='Delong_Lab_BETO_Experiment', model_name='e_adm_2'),\n",
              " Experiment(name='A_45_F_9_A_Delong_BETO', time=[0.0, 1.2, 3.3, 7.2, 11.3], variables=['S_ac', 'S_pro', 'S_bu', 'S_va', 'S_cap'], data=array([[0.25718781, 0.        , 0.        , 0.        , 0.        ],\n",
              "        [0.4995178 , 0.        , 0.        , 0.        , 0.        ],\n",
              "        [1.85697528, 0.02763081, 0.        , 0.13496327, 0.        ],\n",
              "        [2.77131587, 0.        , 0.16397756, 0.28107055, 0.        ],\n",
              "        [2.48832327, 0.03346292, 0.09471109, 0.22380146, 0.        ]]), initial_concentrations={'S_su': 0, 'S_aa': 0, 'S_fa': 0, 'S_va': 0.0, 'S_bu': 0.0, 'S_et': 0.0, 'S_lac': 0.0, 'S_pro': 0.0, 'S_cap': 0.0, 'TSS': 9.75, 'TDS': 5.25, 'S_ac': 0.2571878069333333, 'X_chain_lac': 0.802285496182683, 'S_h2': 1e-08, 'S_ch4': 1e-05, 'S_IC': 0.04, 'S_IN': 0.01, 'S_I': 0.02, 'X_ac_et': 0.687153446318764, 'X_Me_ac': 0.011475504645583001, 'X_Me_CO2': 0.003031997151884, 'S_cap_ion': 0.001, 'S_lac_ion': 0.0, 'X_et': 0.681719121852406, 'X_lac': 0.8133714496516791, 'X_chain_et': 0.681719121852406, 'X_ch': 1.026977245990674, 'X_pr': 0.597953641470785, 'X_ac_lac': 0.807719820649041, 'X_VFA_deg': 1.0, 'X_li': 0.040201909565037997, 'X_su': 0.6858604558102379, 'X_aa': 2.1011249758883217, 'X_fa': 1.059405812970491, 'X_I': 25.0, 'S_cation': 0.04, 'S_anion': 0.02, 'S_H_ion': 1e-09, 'S_va_ion': 0, 'S_bu_ion': 0.0, 'S_pro_ion': 0.0, 'S_ac_ion': 0, 'S_hco3_ion': 0, 'S_nh3': 0.0, 'S_gas_h2': 0, 'S_gas_ch4': 0, 'S_gas_co2': 0.0, 'S_nh4_ion': 0, 'S_co2': 0}, base_parameters={'R': 0.083145, 'T_base': 298.15, 'P_atm': 1.013, 'T_op': 318.15, 'V_liq': 0.00025, 'V_gas': 0.0001, 'pH_UL_ac': 7, 'pH_LL_ac': 6, 'pH_UL_aa': 5.5, 'pH_LL_aa': 4, 'pH_UL_h2': 6, 'pH_LL_h2': 5, 'pH_UL_pro': 5.5, 'pH_LL_pro': 4, 'pH_UL_bu': 5.5, 'pH_LL_bu': 4, 'pH_UL_va': 5.5, 'pH_LL_va': 4, 'q_in': 0, 'K_W': 1e-14}, constants=['S_H_ion'], reference='Delong_Lab_BETO_Experiment', model_name='e_adm_2'),\n",
              " Experiment(name='A_45_F_9_B_Delong_BETO', time=[0.0, 1.2, 3.3, 7.2, 11.3], variables=['S_ac', 'S_pro', 'S_bu', 'S_va', 'S_cap'], data=array([[0.33274806, 0.        , 0.        , 0.        , 0.        ],\n",
              "        [0.52156295, 0.        , 0.        , 0.        , 0.        ],\n",
              "        [1.09901532, 0.        , 0.        , 0.        , 0.        ],\n",
              "        [1.53011719, 0.        , 0.        , 0.06221317, 0.        ],\n",
              "        [1.44267069, 0.        , 0.        , 0.06971719, 0.        ]]), initial_concentrations={'S_su': 0, 'S_aa': 0, 'S_fa': 0, 'S_va': 0.0, 'S_bu': 0.0, 'S_et': 0.0, 'S_lac': 0.0, 'S_pro': 0.0, 'S_cap': 0.0, 'TSS': 9.75, 'TDS': 5.25, 'S_ac': 0.33274806293333337, 'X_chain_lac': 0.8001901174259201, 'S_h2': 1e-08, 'S_ch4': 1e-05, 'S_IC': 0.04, 'S_IN': 0.01, 'S_I': 0.02, 'X_ac_et': 0.685681992516622, 'X_Me_ac': 0.011560028728952001, 'X_Me_CO2': 0.003235169983355, 'S_cap_ion': 0.001, 'S_lac_ion': 0.0, 'X_et': 0.6799261102971379, 'X_lac': 0.8118803134824131, 'X_chain_et': 0.6799261102971379, 'X_ch': 1.023423062132998, 'X_pr': 0.598908649337373, 'X_ac_lac': 0.805945999645403, 'X_VFA_deg': 1.0, 'X_li': 0.041259752083161, 'X_su': 0.679764498053395, 'X_aa': 2.114963491172551, 'X_fa': 1.063334704843573, 'X_I': 25.0, 'S_cation': 0.04, 'S_anion': 0.02, 'S_H_ion': 1e-09, 'S_va_ion': 0, 'S_bu_ion': 0.0, 'S_pro_ion': 0.0, 'S_ac_ion': 0, 'S_hco3_ion': 0, 'S_nh3': 0.0, 'S_gas_h2': 0, 'S_gas_ch4': 0, 'S_gas_co2': 0.0, 'S_nh4_ion': 0, 'S_co2': 0}, base_parameters={'R': 0.083145, 'T_base': 298.15, 'P_atm': 1.013, 'T_op': 318.15, 'V_liq': 0.00025, 'V_gas': 0.0001, 'pH_UL_ac': 7, 'pH_LL_ac': 6, 'pH_UL_aa': 5.5, 'pH_LL_aa': 4, 'pH_UL_h2': 6, 'pH_LL_h2': 5, 'pH_UL_pro': 5.5, 'pH_LL_pro': 4, 'pH_UL_bu': 5.5, 'pH_LL_bu': 4, 'pH_UL_va': 5.5, 'pH_LL_va': 4, 'q_in': 0, 'K_W': 1e-14}, constants=['S_H_ion'], reference='Delong_Lab_BETO_Experiment', model_name='e_adm_2'),\n",
              " Experiment(name='A_45_F_9_C_Delong_BETO', time=[0.0, 1.2, 3.3, 7.2, 11.3], variables=['S_ac', 'S_pro', 'S_bu', 'S_va', 'S_cap'], data=array([[0.33468513, 0.        , 0.        , 0.        , 0.        ],\n",
              "        [0.88271319, 0.        , 0.        , 0.        , 0.        ],\n",
              "        [1.55026538, 0.        , 0.        , 0.25165713, 0.        ],\n",
              "        [1.6656391 , 0.03327627, 0.12956619, 0.24431492, 0.        ],\n",
              "        [1.82428608, 0.        , 0.19705435, 0.36884456, 0.        ]]), initial_concentrations={'S_su': 0, 'S_aa': 0, 'S_fa': 0, 'S_va': 0.0, 'S_bu': 0.0, 'S_et': 0.0, 'S_lac': 0.0, 'S_pro': 0.0, 'S_cap': 0.0, 'TSS': 9.75, 'TDS': 5.25, 'S_ac': 0.3346851317333333, 'X_chain_lac': 0.798239888864028, 'S_h2': 1e-08, 'S_ch4': 1e-05, 'S_IC': 0.04, 'S_IN': 0.01, 'S_I': 0.02, 'X_ac_et': 0.6831583429824619, 'X_Me_ac': 0.011393361742844, 'X_Me_CO2': 0.003468702968013, 'S_cap_ion': 0.001, 'S_lac_ion': 0.0, 'X_et': 0.6772868092366301, 'X_lac': 0.810889871387333, 'X_chain_et': 0.6772868092366301, 'X_ch': 1.01518247078883, 'X_pr': 0.599106523292464, 'X_ac_lac': 0.80411142260986, 'X_VFA_deg': 1.0, 'X_li': 0.042756038739492, 'X_su': 0.668523114433, 'X_aa': 2.143030768263146, 'X_fa': 1.065565875455261, 'X_I': 25.0, 'S_cation': 0.04, 'S_anion': 0.02, 'S_H_ion': 1e-09, 'S_va_ion': 0, 'S_bu_ion': 0.0, 'S_pro_ion': 0.0, 'S_ac_ion': 0, 'S_hco3_ion': 0, 'S_nh3': 0.0, 'S_gas_h2': 0, 'S_gas_ch4': 0, 'S_gas_co2': 0.0, 'S_nh4_ion': 0, 'S_co2': 0}, base_parameters={'R': 0.083145, 'T_base': 298.15, 'P_atm': 1.013, 'T_op': 318.15, 'V_liq': 0.00025, 'V_gas': 0.0001, 'pH_UL_ac': 7, 'pH_LL_ac': 6, 'pH_UL_aa': 5.5, 'pH_LL_aa': 4, 'pH_UL_h2': 6, 'pH_LL_h2': 5, 'pH_UL_pro': 5.5, 'pH_LL_pro': 4, 'pH_UL_bu': 5.5, 'pH_LL_bu': 4, 'pH_UL_va': 5.5, 'pH_LL_va': 4, 'q_in': 0, 'K_W': 1e-14}, constants=['S_H_ion'], reference='Delong_Lab_BETO_Experiment', model_name='e_adm_2'),\n",
              " Experiment(name='A_45_M_5_C_Delong_BETO', time=[0.0, 0.54, 3.48, 6.47, 11.29, 23.29], variables=['S_ac', 'S_pro', 'S_bu', 'S_va', 'S_cap'], data=array([[0.53252364, 0.11365996, 0.        , 0.40847688, 0.        ],\n",
              "        [0.94298112, 0.44549248, 0.11672602, 0.        , 0.        ],\n",
              "        [0.6461696 , 0.21796356, 0.        , 0.        , 0.        ],\n",
              "        [0.46656113, 0.24049706, 0.        , 0.        , 0.        ],\n",
              "        [0.17005517, 0.15060804, 0.        , 0.        , 0.        ],\n",
              "        [0.41286764, 0.38331487, 0.01339486, 0.0176466 , 0.        ]]), initial_concentrations={'S_su': 0, 'S_aa': 0, 'S_fa': 0, 'S_va': 0.40847688266666665, 'S_bu': 0.0, 'S_et': 0.0, 'S_lac': 0.0, 'S_pro': 0.1136599625945946, 'S_cap': 0.0, 'TSS': 14.25, 'TDS': 0.75, 'S_ac': 0.5325236426666666, 'X_chain_lac': 0.811430400886711, 'S_h2': 1e-08, 'S_ch4': 1e-05, 'S_IC': 0.04, 'S_IN': 0.01, 'S_I': 0.02, 'X_ac_et': 0.7312161051242649, 'X_Me_ac': 0.011466504187279, 'X_Me_CO2': 0.010709446752345999, 'S_cap_ion': 0.001, 'S_lac_ion': 0.0, 'X_et': 0.7205644323734329, 'X_lac': 0.834457700792043, 'X_chain_et': 0.7205644323734329, 'X_ch': 0.802048666093685, 'X_pr': 0.488488993480421, 'X_ac_lac': 0.8220820736375429, 'X_VFA_deg': 1.0, 'X_li': 0.03902415787171, 'X_su': 0.6504360601771809, 'X_aa': 2.2046024840749507, 'X_fa': 1.152908542174994, 'X_I': 25.0, 'S_cation': 0.04, 'S_anion': 0.02, 'S_H_ion': 1e-05, 'S_va_ion': 0, 'S_bu_ion': 0.0, 'S_pro_ion': 0.0, 'S_ac_ion': 0, 'S_hco3_ion': 0, 'S_nh3': 0.0, 'S_gas_h2': 0, 'S_gas_ch4': 0, 'S_gas_co2': 0.0, 'S_nh4_ion': 0, 'S_co2': 0}, base_parameters={'R': 0.083145, 'T_base': 298.15, 'P_atm': 1.013, 'T_op': 318.15, 'V_liq': 0.00025, 'V_gas': 0.0001, 'pH_UL_ac': 7, 'pH_LL_ac': 6, 'pH_UL_aa': 5.5, 'pH_LL_aa': 4, 'pH_UL_h2': 6, 'pH_LL_h2': 5, 'pH_UL_pro': 5.5, 'pH_LL_pro': 4, 'pH_UL_bu': 5.5, 'pH_LL_bu': 4, 'pH_UL_va': 5.5, 'pH_LL_va': 4, 'q_in': 0, 'K_W': 1e-14}, constants=['S_H_ion'], reference='Delong_Lab_BETO_Experiment', model_name='e_adm_2'),\n",
              " Experiment(name='A_45_M_7_A_Delong_BETO', time=[0.0, 0.54, 3.48, 6.47], variables=['S_ac', 'S_pro', 'S_bu', 'S_va', 'S_cap'], data=array([[0.24754231, 0.        , 0.        , 0.        , 0.        ],\n",
              "        [0.5464041 , 0.21463288, 0.        , 0.        , 0.        ],\n",
              "        [1.35809497, 0.58346061, 0.        , 0.        , 0.        ],\n",
              "        [0.40728394, 0.84608846, 0.        , 0.        , 0.        ]]), initial_concentrations={'S_su': 0, 'S_aa': 0, 'S_fa': 0, 'S_va': 0.0, 'S_bu': 0.0, 'S_et': 0.0, 'S_lac': 0.0, 'S_pro': 0.0, 'S_cap': 0.0, 'TSS': 14.25, 'TDS': 0.75, 'S_ac': 0.24754231359999998, 'X_chain_lac': 0.827280053542431, 'S_h2': 1e-08, 'S_ch4': 1e-05, 'S_IC': 0.04, 'S_IN': 0.01, 'S_I': 0.02, 'X_ac_et': 0.743704597774466, 'X_Me_ac': 0.012665256508616999, 'X_Me_CO2': 0.011443654294034, 'S_cap_ion': 0.001, 'S_lac_ion': 0.0, 'X_et': 0.7354633802537169, 'X_lac': 0.8546996377016811, 'X_chain_et': 0.7354633802537169, 'X_ch': 0.7390162723720011, 'X_pr': 0.48870183458907, 'X_ac_lac': 0.83552127106318, 'X_VFA_deg': 1.0, 'X_li': 0.041291731113844994, 'X_su': 0.630617334183393, 'X_aa': 2.16596903109658, 'X_fa': 1.178162565253262, 'X_I': 25.0, 'S_cation': 0.04, 'S_anion': 0.02, 'S_H_ion': 1e-07, 'S_va_ion': 0, 'S_bu_ion': 0.0, 'S_pro_ion': 0.0, 'S_ac_ion': 0, 'S_hco3_ion': 0, 'S_nh3': 0.0, 'S_gas_h2': 0, 'S_gas_ch4': 0, 'S_gas_co2': 0.0, 'S_nh4_ion': 0, 'S_co2': 0}, base_parameters={'R': 0.083145, 'T_base': 298.15, 'P_atm': 1.013, 'T_op': 318.15, 'V_liq': 0.00025, 'V_gas': 0.0001, 'pH_UL_ac': 7, 'pH_LL_ac': 6, 'pH_UL_aa': 5.5, 'pH_LL_aa': 4, 'pH_UL_h2': 6, 'pH_LL_h2': 5, 'pH_UL_pro': 5.5, 'pH_LL_pro': 4, 'pH_UL_bu': 5.5, 'pH_LL_bu': 4, 'pH_UL_va': 5.5, 'pH_LL_va': 4, 'q_in': 0, 'K_W': 1e-14}, constants=['S_H_ion'], reference='Delong_Lab_BETO_Experiment', model_name='e_adm_2'),\n",
              " Experiment(name='A_45_M_7_B_Delong_BETO', time=[0.0, 0.54, 3.48, 6.47, 11.29, 23.29], variables=['S_ac', 'S_pro', 'S_bu', 'S_va', 'S_cap'], data=array([[0.20158842, 0.        , 0.        , 0.        , 0.        ],\n",
              "        [1.03937661, 0.1021409 , 0.        , 0.        , 0.        ],\n",
              "        [1.9365582 , 0.59105062, 0.        , 0.        , 0.        ],\n",
              "        [0.43074883, 0.9619701 , 0.        , 0.        , 0.        ],\n",
              "        [0.29807854, 0.47003608, 0.17175674, 0.33172458, 0.4979079 ],\n",
              "        [0.46573008, 0.        , 0.        , 0.        , 0.        ]]), initial_concentrations={'S_su': 0, 'S_aa': 0, 'S_fa': 0, 'S_va': 0.0, 'S_bu': 0.0, 'S_et': 0.0, 'S_lac': 0.0, 'S_pro': 0.0, 'S_cap': 0.0, 'TSS': 14.25, 'TDS': 0.75, 'S_ac': 0.20158842346666667, 'X_chain_lac': 0.824683655906221, 'S_h2': 1e-08, 'S_ch4': 1e-05, 'S_IC': 0.04, 'S_IN': 0.01, 'S_I': 0.02, 'X_ac_et': 0.7401560044771629, 'X_Me_ac': 0.013250113455278, 'X_Me_CO2': 0.010540178304525, 'S_cap_ion': 0.001, 'S_lac_ion': 0.0, 'X_et': 0.7317657374895841, 'X_lac': 0.850616921750796, 'X_chain_et': 0.7317657374895841, 'X_ch': 0.762891206288815, 'X_pr': 0.498093900861149, 'X_ac_lac': 0.833073922893799, 'X_VFA_deg': 1.0, 'X_li': 0.04103625094819299, 'X_su': 0.637893003662606, 'X_aa': 2.168836716978838, 'X_fa': 1.155396649493443, 'X_I': 25.0, 'S_cation': 0.04, 'S_anion': 0.02, 'S_H_ion': 1e-07, 'S_va_ion': 0, 'S_bu_ion': 0.0, 'S_pro_ion': 0.0, 'S_ac_ion': 0, 'S_hco3_ion': 0, 'S_nh3': 0.0, 'S_gas_h2': 0, 'S_gas_ch4': 0, 'S_gas_co2': 0.0, 'S_nh4_ion': 0, 'S_co2': 0}, base_parameters={'R': 0.083145, 'T_base': 298.15, 'P_atm': 1.013, 'T_op': 318.15, 'V_liq': 0.00025, 'V_gas': 0.0001, 'pH_UL_ac': 7, 'pH_LL_ac': 6, 'pH_UL_aa': 5.5, 'pH_LL_aa': 4, 'pH_UL_h2': 6, 'pH_LL_h2': 5, 'pH_UL_pro': 5.5, 'pH_LL_pro': 4, 'pH_UL_bu': 5.5, 'pH_LL_bu': 4, 'pH_UL_va': 5.5, 'pH_LL_va': 4, 'q_in': 0, 'K_W': 1e-14}, constants=['S_H_ion'], reference='Delong_Lab_BETO_Experiment', model_name='e_adm_2'),\n",
              " Experiment(name='A_45_M_7_C_Delong_BETO', time=[0.0, 0.54, 3.48, 6.47, 23.29], variables=['S_ac', 'S_pro', 'S_bu', 'S_va', 'S_cap'], data=array([[0.09258751, 0.        , 0.        , 0.        , 0.        ],\n",
              "        [1.07411776, 0.17392159, 0.        , 0.        , 0.        ],\n",
              "        [0.43302224, 0.40906145, 0.        , 0.        , 0.        ],\n",
              "        [0.50995747, 0.8739167 , 0.        , 0.        , 0.        ],\n",
              "        [0.        , 0.        , 0.        , 0.        , 0.33926716]]), initial_concentrations={'S_su': 0, 'S_aa': 0, 'S_fa': 0, 'S_va': 0.0, 'S_bu': 0.0, 'S_et': 0.0, 'S_lac': 0.0, 'S_pro': 0.0, 'S_cap': 0.0, 'TSS': 14.25, 'TDS': 0.75, 'S_ac': 0.09258750613333333, 'X_chain_lac': 0.819438875230452, 'S_h2': 1e-08, 'S_ch4': 1e-05, 'S_IC': 0.04, 'S_IN': 0.01, 'S_I': 0.02, 'X_ac_et': 0.735709934350942, 'X_Me_ac': 0.012488200436773, 'X_Me_CO2': 0.010606688320179, 'S_cap_ion': 0.001, 'S_lac_ion': 0.0, 'X_et': 0.7272136353423759, 'X_lac': 0.8448173449084471, 'X_chain_et': 0.7272136353423759, 'X_ch': 0.774235865169718, 'X_pr': 0.50428677548039, 'X_ac_lac': 0.8279351742390171, 'X_VFA_deg': 1.0, 'X_li': 0.04075052277203, 'X_su': 0.638520182933755, 'X_aa': 2.183210484482055, 'X_fa': 1.153572680991485, 'X_I': 25.0, 'S_cation': 0.04, 'S_anion': 0.02, 'S_H_ion': 1e-07, 'S_va_ion': 0, 'S_bu_ion': 0.0, 'S_pro_ion': 0.0, 'S_ac_ion': 0, 'S_hco3_ion': 0, 'S_nh3': 0.0, 'S_gas_h2': 0, 'S_gas_ch4': 0, 'S_gas_co2': 0.0, 'S_nh4_ion': 0, 'S_co2': 0}, base_parameters={'R': 0.083145, 'T_base': 298.15, 'P_atm': 1.013, 'T_op': 318.15, 'V_liq': 0.00025, 'V_gas': 0.0001, 'pH_UL_ac': 7, 'pH_LL_ac': 6, 'pH_UL_aa': 5.5, 'pH_LL_aa': 4, 'pH_UL_h2': 6, 'pH_LL_h2': 5, 'pH_UL_pro': 5.5, 'pH_LL_pro': 4, 'pH_UL_bu': 5.5, 'pH_LL_bu': 4, 'pH_UL_va': 5.5, 'pH_LL_va': 4, 'q_in': 0, 'K_W': 1e-14}, constants=['S_H_ion'], reference='Delong_Lab_BETO_Experiment', model_name='e_adm_2'),\n",
              " Experiment(name='B_35_F_5_A_Delong_BETO', time=[0.0, 1.7, 4.8, 10.7, 13.7, 20.7, 26.8], variables=['S_ac', 'S_pro', 'S_bu', 'S_va', 'S_cap'], data=array([[0.30764788, 0.28026119, 0.14247218, 0.11410961, 0.        ],\n",
              "        [0.19156465, 0.23377025, 1.82328582, 0.00349535, 0.        ],\n",
              "        [0.48605651, 0.30272506, 2.02779444, 0.18403599, 0.        ],\n",
              "        [1.13172586, 0.48927294, 2.56288683, 0.20734478, 0.31056257],\n",
              "        [0.68145645, 0.41406777, 1.91279866, 0.17626639, 0.        ],\n",
              "        [1.30163885, 0.46387899, 2.30701612, 0.25396237, 0.38598217],\n",
              "        [1.26392   , 0.62519082, 2.60588331, 0.21403125, 0.        ]]), initial_concentrations={'S_su': 0, 'S_aa': 0, 'S_fa': 0, 'S_va': 0.11410960549019607, 'S_bu': 0.1424721781818182, 'S_et': 0.0, 'S_lac': 0.0, 'S_pro': 0.28026118551351353, 'S_cap': 0.0, 'TSS': 9.75, 'TDS': 5.25, 'S_ac': 0.3076478784, 'X_chain_lac': 0.827452255962825, 'S_h2': 1e-08, 'S_ch4': 1e-05, 'S_IC': 0.04, 'S_IN': 0.01, 'S_I': 0.02, 'X_ac_et': 0.71598640308649, 'X_Me_ac': 0.008800327743192, 'X_Me_CO2': 0.002554100987981, 'S_cap_ion': 0.001, 'S_lac_ion': 0.0, 'X_et': 0.710403527598764, 'X_lac': 0.835267983733395, 'X_chain_et': 0.710403527598764, 'X_ch': 0.8749777000270941, 'X_pr': 0.615615298767005, 'X_ac_lac': 0.8330351314505511, 'X_VFA_deg': 1.0, 'X_li': 0.025451636206049, 'X_su': 0.734420716340918, 'X_aa': 2.06190229183394, 'X_fa': 1.043729098663024, 'X_I': 25.0, 'S_cation': 0.04, 'S_anion': 0.02, 'S_H_ion': 1e-05, 'S_va_ion': 0, 'S_bu_ion': 0.0, 'S_pro_ion': 0.0, 'S_ac_ion': 0, 'S_hco3_ion': 0, 'S_nh3': 0.0, 'S_gas_h2': 0, 'S_gas_ch4': 0, 'S_gas_co2': 0.0, 'S_nh4_ion': 0, 'S_co2': 0}, base_parameters={'R': 0.083145, 'T_base': 298.15, 'P_atm': 1.013, 'T_op': 308.15, 'V_liq': 0.00025, 'V_gas': 0.0001, 'pH_UL_ac': 7, 'pH_LL_ac': 6, 'pH_UL_aa': 5.5, 'pH_LL_aa': 4, 'pH_UL_h2': 6, 'pH_LL_h2': 5, 'pH_UL_pro': 5.5, 'pH_LL_pro': 4, 'pH_UL_bu': 5.5, 'pH_LL_bu': 4, 'pH_UL_va': 5.5, 'pH_LL_va': 4, 'q_in': 0, 'K_W': 1e-14}, constants=['S_H_ion'], reference='Delong_Lab_BETO_Experiment', model_name='e_adm_2'),\n",
              " Experiment(name='B_35_F_5_B_Delong_BETO', time=[0.0, 1.7, 4.8, 10.7, 13.7, 20.7, 26.8], variables=['S_ac', 'S_pro', 'S_bu', 'S_va', 'S_cap'], data=array([[0.23857651, 0.09196021, 0.        , 0.        , 0.        ],\n",
              "        [0.31604809, 0.29281227, 2.19486438, 0.05187864, 0.        ],\n",
              "        [0.98213138, 0.40889318, 2.27980837, 0.1127189 , 0.        ],\n",
              "        [1.78472874, 0.6314035 , 2.5128221 , 0.23310803, 0.41955412],\n",
              "        [1.38659534, 0.58987205, 2.81311617, 0.26950157, 0.31847159],\n",
              "        [1.24981113, 0.60546362, 2.40352976, 0.12364126, 0.4258254 ],\n",
              "        [1.62398713, 0.66508329, 2.81773643, 0.26563188, 0.38144033]]), initial_concentrations={'S_su': 0, 'S_aa': 0, 'S_fa': 0, 'S_va': 0.0, 'S_bu': 0.0, 'S_et': 0.0, 'S_lac': 0.0, 'S_pro': 0.09196020778378379, 'S_cap': 0.0, 'TSS': 9.75, 'TDS': 5.25, 'S_ac': 0.23857650773333333, 'X_chain_lac': 0.819597131106651, 'S_h2': 1e-08, 'S_ch4': 1e-05, 'S_IC': 0.04, 'S_IN': 0.01, 'S_I': 0.02, 'X_ac_et': 0.709631539975625, 'X_Me_ac': 0.009445848105992, 'X_Me_CO2': 0.0028165472300700004, 'S_cap_ion': 0.001, 'S_lac_ion': 0.0, 'X_et': 0.703539083668207, 'X_lac': 0.8284241237119321, 'X_chain_et': 0.703539083668207, 'X_ch': 0.8989610724292869, 'X_pr': 0.615154946071775, 'X_ac_lac': 0.8256895874140691, 'X_VFA_deg': 1.0, 'X_li': 0.027920948907741997, 'X_su': 0.724979659527841, 'X_aa': 2.0834736449819182, 'X_fa': 1.0468267832006801, 'X_I': 25.0, 'S_cation': 0.04, 'S_anion': 0.02, 'S_H_ion': 1e-05, 'S_va_ion': 0, 'S_bu_ion': 0.0, 'S_pro_ion': 0.0, 'S_ac_ion': 0, 'S_hco3_ion': 0, 'S_nh3': 0.0, 'S_gas_h2': 0, 'S_gas_ch4': 0, 'S_gas_co2': 0.0, 'S_nh4_ion': 0, 'S_co2': 0}, base_parameters={'R': 0.083145, 'T_base': 298.15, 'P_atm': 1.013, 'T_op': 308.15, 'V_liq': 0.00025, 'V_gas': 0.0001, 'pH_UL_ac': 7, 'pH_LL_ac': 6, 'pH_UL_aa': 5.5, 'pH_LL_aa': 4, 'pH_UL_h2': 6, 'pH_LL_h2': 5, 'pH_UL_pro': 5.5, 'pH_LL_pro': 4, 'pH_UL_bu': 5.5, 'pH_LL_bu': 4, 'pH_UL_va': 5.5, 'pH_LL_va': 4, 'q_in': 0, 'K_W': 1e-14}, constants=['S_H_ion'], reference='Delong_Lab_BETO_Experiment', model_name='e_adm_2'),\n",
              " Experiment(name='B_35_F_5_C_Delong_BETO', time=[0.0, 1.7, 4.8, 10.7, 13.7, 20.7, 26.8], variables=['S_ac', 'S_pro', 'S_bu', 'S_va', 'S_cap'], data=array([[0.32646426, 0.07433292, 0.        , 0.        , 0.        ],\n",
              "        [0.27366528, 0.27049428, 1.58119505, 0.        , 0.        ],\n",
              "        [0.46883866, 0.35863872, 1.50723174, 0.05810712, 0.50968843],\n",
              "        [0.87755398, 0.48674393, 1.46315074, 0.26763197, 0.84094769],\n",
              "        [0.96181288, 0.49903984, 1.4740229 , 0.32576048, 0.40411433],\n",
              "        [1.4722435 , 0.60551732, 1.3677464 , 0.42443205, 0.62446127],\n",
              "        [0.96181288, 0.47657596, 1.31719337, 0.42230499, 0.69610648]]), initial_concentrations={'S_su': 0, 'S_aa': 0, 'S_fa': 0, 'S_va': 0.0, 'S_bu': 0.0, 'S_et': 0.0, 'S_lac': 0.0, 'S_pro': 0.07433291524324324, 'S_cap': 0.0, 'TSS': 9.75, 'TDS': 5.25, 'S_ac': 0.32646426026666664, 'X_chain_lac': 0.7549422695001851, 'S_h2': 1e-08, 'S_ch4': 1e-05, 'S_IC': 0.04, 'S_IN': 0.01, 'S_I': 0.02, 'X_ac_et': 0.668807902069925, 'X_Me_ac': 0.01840418336114, 'X_Me_CO2': 0.013454475005423, 'S_cap_ion': 0.001, 'S_lac_ion': 0.0, 'X_et': 0.643376761379142, 'X_lac': 0.7691087956551359, 'X_chain_et': 0.643376761379142, 'X_ch': 1.379721675491004, 'X_pr': 0.535597165118208, 'X_ac_lac': 0.7803734101909681, 'X_VFA_deg': 1.0, 'X_li': 0.035883219973259, 'X_su': 0.6520006363415751, 'X_aa': 2.121246718403563, 'X_fa': 0.983706026131324, 'X_I': 25.0, 'S_cation': 0.04, 'S_anion': 0.02, 'S_H_ion': 1e-05, 'S_va_ion': 0, 'S_bu_ion': 0.0, 'S_pro_ion': 0.0, 'S_ac_ion': 0, 'S_hco3_ion': 0, 'S_nh3': 0.0, 'S_gas_h2': 0, 'S_gas_ch4': 0, 'S_gas_co2': 0.0, 'S_nh4_ion': 0, 'S_co2': 0}, base_parameters={'R': 0.083145, 'T_base': 298.15, 'P_atm': 1.013, 'T_op': 308.15, 'V_liq': 0.00025, 'V_gas': 0.0001, 'pH_UL_ac': 7, 'pH_LL_ac': 6, 'pH_UL_aa': 5.5, 'pH_LL_aa': 4, 'pH_UL_h2': 6, 'pH_LL_h2': 5, 'pH_UL_pro': 5.5, 'pH_LL_pro': 4, 'pH_UL_bu': 5.5, 'pH_LL_bu': 4, 'pH_UL_va': 5.5, 'pH_LL_va': 4, 'q_in': 0, 'K_W': 1e-14}, constants=['S_H_ion'], reference='Delong_Lab_BETO_Experiment', model_name='e_adm_2'),\n",
              " Experiment(name='B_35_F_7_A_Delong_BETO', time=[0.0, 1.7, 4.8, 10.7, 13.7, 20.7], variables=['S_ac', 'S_pro', 'S_bu', 'S_va', 'S_cap'], data=array([[0.12855694, 0.        , 0.        , 0.        , 0.        ],\n",
              "        [2.40969924, 0.48437   , 1.13844283, 0.10910897, 0.        ],\n",
              "        [2.06624729, 0.79204697, 1.75402186, 0.23065358, 0.        ],\n",
              "        [0.31614353, 0.76079288, 0.17282681, 0.        , 0.        ],\n",
              "        [0.        , 0.75200267, 0.15006083, 0.        , 0.        ],\n",
              "        [0.19732121, 0.08144807, 0.        , 0.        , 0.        ]]), initial_concentrations={'S_su': 0, 'S_aa': 0, 'S_fa': 0, 'S_va': 0.0, 'S_bu': 0.0, 'S_et': 0.0, 'S_lac': 0.0, 'S_pro': 0.0, 'S_cap': 0.0, 'TSS': 9.75, 'TDS': 5.25, 'S_ac': 0.1285569376, 'X_chain_lac': 0.774443356433918, 'S_h2': 1e-08, 'S_ch4': 1e-05, 'S_IC': 0.04, 'S_IN': 0.01, 'S_I': 0.02, 'X_ac_et': 0.667660535520141, 'X_Me_ac': 0.01555211771445, 'X_Me_CO2': 0.007758523269724001, 'S_cap_ion': 0.001, 'S_lac_ion': 0.0, 'X_et': 0.653669920121223, 'X_lac': 0.7887512824638, 'X_chain_et': 0.653669920121223, 'X_ch': 1.006503754564124, 'X_pr': 0.604147750963483, 'X_ac_lac': 0.788433971832836, 'X_VFA_deg': 1.0, 'X_li': 0.035366218219531, 'X_su': 0.6892387717963171, 'X_aa': 2.297041718554377, 'X_fa': 1.0177621584248469, 'X_I': 25.0, 'S_cation': 0.04, 'S_anion': 0.02, 'S_H_ion': 1e-07, 'S_va_ion': 0, 'S_bu_ion': 0.0, 'S_pro_ion': 0.0, 'S_ac_ion': 0, 'S_hco3_ion': 0, 'S_nh3': 0.0, 'S_gas_h2': 0, 'S_gas_ch4': 0, 'S_gas_co2': 0.0, 'S_nh4_ion': 0, 'S_co2': 0}, base_parameters={'R': 0.083145, 'T_base': 298.15, 'P_atm': 1.013, 'T_op': 308.15, 'V_liq': 0.00025, 'V_gas': 0.0001, 'pH_UL_ac': 7, 'pH_LL_ac': 6, 'pH_UL_aa': 5.5, 'pH_LL_aa': 4, 'pH_UL_h2': 6, 'pH_LL_h2': 5, 'pH_UL_pro': 5.5, 'pH_LL_pro': 4, 'pH_UL_bu': 5.5, 'pH_LL_bu': 4, 'pH_UL_va': 5.5, 'pH_LL_va': 4, 'q_in': 0, 'K_W': 1e-14}, constants=['S_H_ion'], reference='Delong_Lab_BETO_Experiment', model_name='e_adm_2'),\n",
              " Experiment(name='B_35_F_7_B_Delong_BETO', time=[0, 1.7, 4.8, 10.7, 13.7, 20.7], variables=['S_ac', 'S_pro', 'S_bu', 'S_va', 'S_cap'], data=array([[0.        , 0.        , 0.        , 0.        , 0.        ],\n",
              "        [1.81587225, 0.55540757, 1.39531608, 0.        , 0.        ],\n",
              "        [1.8963343 , 0.81646423, 1.8289348 , 0.23842318, 0.        ],\n",
              "        [0.13897311, 0.68421131, 0.09878705, 0.        , 0.        ],\n",
              "        [0.17022164, 0.2472526 , 0.        , 0.        , 0.        ],\n",
              "        [0.        , 0.76018921, 0.        , 0.04718477, 0.        ]]), initial_concentrations={'S_su': 0, 'S_aa': 0, 'S_fa': 0, 'S_va': 0, 'S_bu': 0, 'S_et': 0.0, 'S_lac': 0.0, 'S_pro': 0, 'S_cap': 0, 'TSS': 9.75, 'TDS': 5.25, 'S_ac': 0, 'X_chain_lac': 0.7601013926516751, 'S_h2': 1e-08, 'S_ch4': 1e-05, 'S_IC': 0.04, 'S_IN': 0.01, 'S_I': 0.02, 'X_ac_et': 0.6643049302563051, 'X_Me_ac': 0.016744530029856, 'X_Me_CO2': 0.009064336122575, 'S_cap_ion': 0.001, 'S_lac_ion': 0.0, 'X_et': 0.64523452640114, 'X_lac': 0.774351350172126, 'X_chain_et': 0.64523452640114, 'X_ch': 1.256463056614196, 'X_pr': 0.538037691486556, 'X_ac_lac': 0.779171796506839, 'X_VFA_deg': 1.0, 'X_li': 0.033774967066493, 'X_su': 0.647949287956052, 'X_aa': 2.126182008671518, 'X_fa': 1.103385599663524, 'X_I': 25.0, 'S_cation': 0.04, 'S_anion': 0.02, 'S_H_ion': 1e-07, 'S_va_ion': 0, 'S_bu_ion': 0.0, 'S_pro_ion': 0.0, 'S_ac_ion': 0, 'S_hco3_ion': 0, 'S_nh3': 0.0, 'S_gas_h2': 0, 'S_gas_ch4': 0, 'S_gas_co2': 0.0, 'S_nh4_ion': 0, 'S_co2': 0}, base_parameters={'R': 0.083145, 'T_base': 298.15, 'P_atm': 1.013, 'T_op': 308.15, 'V_liq': 0.00025, 'V_gas': 0.0001, 'pH_UL_ac': 7, 'pH_LL_ac': 6, 'pH_UL_aa': 5.5, 'pH_LL_aa': 4, 'pH_UL_h2': 6, 'pH_LL_h2': 5, 'pH_UL_pro': 5.5, 'pH_LL_pro': 4, 'pH_UL_bu': 5.5, 'pH_LL_bu': 4, 'pH_UL_va': 5.5, 'pH_LL_va': 4, 'q_in': 0, 'K_W': 1e-14}, constants=['S_H_ion'], reference='Delong_Lab_BETO_Experiment', model_name='e_adm_2'),\n",
              " Experiment(name='B_35_F_7_C_Delong_BETO', time=[0, 1.7, 4.8, 10.7, 13.7, 20.7, 26.8], variables=['S_ac', 'S_pro', 'S_bu', 'S_va', 'S_cap'], data=array([[0.        , 0.        , 0.        , 0.        , 0.        ],\n",
              "        [2.32111677, 0.54201422, 1.934591  , 0.18403599, 0.        ],\n",
              "        [2.09721399, 0.81881944, 1.05464545, 0.14726253, 0.        ],\n",
              "        [0.        , 0.68421131, 0.        , 0.07095542, 0.        ],\n",
              "        [0.        , 0.79302366, 0.        , 0.        , 0.        ],\n",
              "        [0.        , 0.14450121, 0.        , 0.        , 0.        ],\n",
              "        [0.10545142, 0.        , 0.        , 0.        , 0.        ]]), initial_concentrations={'S_su': 0, 'S_aa': 0, 'S_fa': 0, 'S_va': 0, 'S_bu': 0, 'S_et': 0.0, 'S_lac': 0.0, 'S_pro': 0, 'S_cap': 0, 'TSS': 9.75, 'TDS': 5.25, 'S_ac': 0, 'X_chain_lac': 0.780566908270066, 'S_h2': 1e-08, 'S_ch4': 1e-05, 'S_IC': 0.04, 'S_IN': 0.01, 'S_I': 0.02, 'X_ac_et': 0.669684504757117, 'X_Me_ac': 0.016334682432611, 'X_Me_CO2': 0.006050004849703, 'S_cap_ion': 0.001, 'S_lac_ion': 0.0, 'X_et': 0.6562860972233241, 'X_lac': 0.7920061458967089, 'X_chain_et': 0.6562860972233241, 'X_ch': 1.1351761103616111, 'X_pr': 0.5899691602959191, 'X_ac_lac': 0.79396531580386, 'X_VFA_deg': 1.0, 'X_li': 0.032660547222883, 'X_su': 0.698062433316579, 'X_aa': 2.158792512058125, 'X_fa': 1.014159480288159, 'X_I': 25.0, 'S_cation': 0.04, 'S_anion': 0.02, 'S_H_ion': 1e-07, 'S_va_ion': 0, 'S_bu_ion': 0.0, 'S_pro_ion': 0.0, 'S_ac_ion': 0, 'S_hco3_ion': 0, 'S_nh3': 0.0, 'S_gas_h2': 0, 'S_gas_ch4': 0, 'S_gas_co2': 0.0, 'S_nh4_ion': 0, 'S_co2': 0}, base_parameters={'R': 0.083145, 'T_base': 298.15, 'P_atm': 1.013, 'T_op': 308.15, 'V_liq': 0.00025, 'V_gas': 0.0001, 'pH_UL_ac': 7, 'pH_LL_ac': 6, 'pH_UL_aa': 5.5, 'pH_LL_aa': 4, 'pH_UL_h2': 6, 'pH_LL_h2': 5, 'pH_UL_pro': 5.5, 'pH_LL_pro': 4, 'pH_UL_bu': 5.5, 'pH_LL_bu': 4, 'pH_UL_va': 5.5, 'pH_LL_va': 4, 'q_in': 0, 'K_W': 1e-14}, constants=['S_H_ion'], reference='Delong_Lab_BETO_Experiment', model_name='e_adm_2'),\n",
              " Experiment(name='B_35_F_9_A_Delong_BETO', time=[0.0, 1.7, 4.8, 10.7, 13.7, 20.7, 26.8], variables=['S_ac', 'S_pro', 'S_bu', 'S_va', 'S_cap'], data=array([[0.27366528, 0.0192895 , 0.        , 0.        , 0.        ],\n",
              "        [1.21668236, 0.11910726, 0.38196682, 0.18403599, 0.        ],\n",
              "        [3.37973604, 1.01455116, 0.25752142, 0.15640832, 0.        ],\n",
              "        [3.45131673, 1.2236793 , 0.39842251, 0.1758777 , 0.        ],\n",
              "        [3.97212547, 1.09942563, 0.30651036, 0.23310803, 0.        ],\n",
              "        [2.74589923, 1.16904948, 0.47447031, 0.33942795, 0.        ],\n",
              "        [3.53324414, 1.1301066 , 0.13601154, 0.18917539, 0.        ]]), initial_concentrations={'S_su': 0, 'S_aa': 0, 'S_fa': 0, 'S_va': 0.0, 'S_bu': 0.0, 'S_et': 0.0, 'S_lac': 0.0, 'S_pro': 0.019289501189189193, 'S_cap': 0.0, 'TSS': 9.75, 'TDS': 5.25, 'S_ac': 0.27366528106666665, 'X_chain_lac': 0.83506604524738, 'S_h2': 1e-08, 'S_ch4': 1e-05, 'S_IC': 0.04, 'S_IN': 0.01, 'S_I': 0.02, 'X_ac_et': 0.719761355248844, 'X_Me_ac': 0.008974854732103, 'X_Me_CO2': 0.005283599886087, 'S_cap_ion': 0.001, 'S_lac_ion': 0.0, 'X_et': 0.712927209379987, 'X_lac': 0.841900191116237, 'X_chain_et': 0.712927209379987, 'X_ch': 0.8626001790293419, 'X_pr': 0.613732572716551, 'X_ac_lac': 0.841900191116237, 'X_VFA_deg': 1.0, 'X_li': 0.023751816703967997, 'X_su': 0.7339745275549581, 'X_aa': 2.036103239093543, 'X_fa': 1.0510970087947689, 'X_I': 25.0, 'S_cation': 0.04, 'S_anion': 0.02, 'S_H_ion': 1e-09, 'S_va_ion': 0, 'S_bu_ion': 0.0, 'S_pro_ion': 0.0, 'S_ac_ion': 0, 'S_hco3_ion': 0, 'S_nh3': 0.0, 'S_gas_h2': 0, 'S_gas_ch4': 0, 'S_gas_co2': 0.0, 'S_nh4_ion': 0, 'S_co2': 0}, base_parameters={'R': 0.083145, 'T_base': 298.15, 'P_atm': 1.013, 'T_op': 308.15, 'V_liq': 0.00025, 'V_gas': 0.0001, 'pH_UL_ac': 7, 'pH_LL_ac': 6, 'pH_UL_aa': 5.5, 'pH_LL_aa': 4, 'pH_UL_h2': 6, 'pH_LL_h2': 5, 'pH_UL_pro': 5.5, 'pH_LL_pro': 4, 'pH_UL_bu': 5.5, 'pH_LL_bu': 4, 'pH_UL_va': 5.5, 'pH_LL_va': 4, 'q_in': 0, 'K_W': 1e-14}, constants=['S_H_ion'], reference='Delong_Lab_BETO_Experiment', model_name='e_adm_2'),\n",
              " Experiment(name='B_35_F_9_B_Delong_BETO', time=[0.0, 1.7, 4.8, 10.7, 13.7, 20.7, 26.8], variables=['S_ac', 'S_pro', 'S_bu', 'S_va', 'S_cap'], data=array([[0.30764788, 0.05952915, 0.        , 0.        , 0.        ],\n",
              "        [0.85136943, 0.25193716, 0.3779974 , 0.16849679, 0.        ],\n",
              "        [3.55547848, 0.95032124, 0.23848031, 0.10910897, 0.        ],\n",
              "        [3.00076871, 1.12998186, 0.63879195, 0.21511438, 0.        ],\n",
              "        [4.07628722, 1.08907116, 0.19539029, 0.15680092, 0.        ],\n",
              "        [3.1706817 , 1.14951567, 0.53624893, 0.26173197, 0.        ],\n",
              "        [3.1706817 , 1.05184663, 0.4260199 , 0.25396237, 0.        ]]), initial_concentrations={'S_su': 0, 'S_aa': 0, 'S_fa': 0, 'S_va': 0.0, 'S_bu': 0.0, 'S_et': 0.0, 'S_lac': 0.0, 'S_pro': 0.05952914724324325, 'S_cap': 0.0, 'TSS': 9.75, 'TDS': 5.25, 'S_ac': 0.3076478784, 'X_chain_lac': 0.8202034792028761, 'S_h2': 1e-08, 'S_ch4': 1e-05, 'S_IC': 0.04, 'S_IN': 0.01, 'S_I': 0.02, 'X_ac_et': 0.703155574953235, 'X_Me_ac': 0.012846898053216, 'X_Me_CO2': 0.010829785423381, 'S_cap_ion': 0.001, 'S_lac_ion': 0.0, 'X_et': 0.691725929237975, 'X_lac': 0.8277491943250039, 'X_chain_et': 0.691725929237975, 'X_ch': 0.988609312244354, 'X_pr': 0.592713384972735, 'X_ac_lac': 0.8316331249181361, 'X_VFA_deg': 1.0, 'X_li': 0.026503937094035, 'X_su': 0.7127388375063499, 'X_aa': 2.045306722739762, 'X_fa': 1.044257890090959, 'X_I': 25.0, 'S_cation': 0.04, 'S_anion': 0.02, 'S_H_ion': 1e-09, 'S_va_ion': 0, 'S_bu_ion': 0.0, 'S_pro_ion': 0.0, 'S_ac_ion': 0, 'S_hco3_ion': 0, 'S_nh3': 0.0, 'S_gas_h2': 0, 'S_gas_ch4': 0, 'S_gas_co2': 0.0, 'S_nh4_ion': 0, 'S_co2': 0}, base_parameters={'R': 0.083145, 'T_base': 298.15, 'P_atm': 1.013, 'T_op': 308.15, 'V_liq': 0.00025, 'V_gas': 0.0001, 'pH_UL_ac': 7, 'pH_LL_ac': 6, 'pH_UL_aa': 5.5, 'pH_LL_aa': 4, 'pH_UL_h2': 6, 'pH_LL_h2': 5, 'pH_UL_pro': 5.5, 'pH_LL_pro': 4, 'pH_UL_bu': 5.5, 'pH_LL_bu': 4, 'pH_UL_va': 5.5, 'pH_LL_va': 4, 'q_in': 0, 'K_W': 1e-14}, constants=['S_H_ion'], reference='Delong_Lab_BETO_Experiment', model_name='e_adm_2'),\n",
              " Experiment(name='B_35_F_9_C_Delong_BETO', time=[0.0, 1.7, 4.8, 10.7, 13.7, 20.7, 26.8], variables=['S_ac', 'S_pro', 'S_bu', 'S_va', 'S_cap'], data=array([[0.17171749, 0.0439021 , 0.        , 0.        , 0.        ],\n",
              "        [1.21668236, 0.56350141, 0.31861196, 0.145188  , 0.        ],\n",
              "        [3.08572521, 1.04207972, 0.34011302, 0.17626639, 0.        ],\n",
              "        [3.00556004, 1.11030487, 0.14531766, 0.06902948, 0.        ],\n",
              "        [2.74589923, 0.97371139, 0.53848667, 0.25396237, 0.        ],\n",
              "        [3.34715498, 1.16155246, 0.1639299 , 0.10910897, 0.        ],\n",
              "        [4.18044897, 1.30651507, 0.33300626, 0.12818575, 0.        ]]), initial_concentrations={'S_su': 0, 'S_aa': 0, 'S_fa': 0, 'S_va': 0.0, 'S_bu': 0.0, 'S_et': 0.0, 'S_lac': 0.0, 'S_pro': 0.04390210054054054, 'S_cap': 0.0, 'TSS': 9.75, 'TDS': 5.25, 'S_ac': 0.17171748906666667, 'X_chain_lac': 0.8343402906742969, 'S_h2': 1e-08, 'S_ch4': 1e-05, 'S_IC': 0.04, 'S_IN': 0.01, 'S_I': 0.02, 'X_ac_et': 0.718950646917567, 'X_Me_ac': 0.009622084946219, 'X_Me_CO2': 0.006006005615741, 'S_cap_ion': 0.001, 'S_lac_ion': 0.0, 'X_et': 0.71169639540895, 'X_lac': 0.842192348649048, 'X_chain_et': 0.71169639540895, 'X_ch': 0.876028194632269, 'X_pr': 0.605141941347908, 'X_ac_lac': 0.841594542182914, 'X_VFA_deg': 1.0, 'X_li': 0.023633498891068, 'X_su': 0.730657257019613, 'X_aa': 2.032365242076529, 'X_fa': 1.056075156228922, 'X_I': 25.0, 'S_cation': 0.04, 'S_anion': 0.02, 'S_H_ion': 1e-09, 'S_va_ion': 0, 'S_bu_ion': 0.0, 'S_pro_ion': 0.0, 'S_ac_ion': 0, 'S_hco3_ion': 0, 'S_nh3': 0.0, 'S_gas_h2': 0, 'S_gas_ch4': 0, 'S_gas_co2': 0.0, 'S_nh4_ion': 0, 'S_co2': 0}, base_parameters={'R': 0.083145, 'T_base': 298.15, 'P_atm': 1.013, 'T_op': 308.15, 'V_liq': 0.00025, 'V_gas': 0.0001, 'pH_UL_ac': 7, 'pH_LL_ac': 6, 'pH_UL_aa': 5.5, 'pH_LL_aa': 4, 'pH_UL_h2': 6, 'pH_LL_h2': 5, 'pH_UL_pro': 5.5, 'pH_LL_pro': 4, 'pH_UL_bu': 5.5, 'pH_LL_bu': 4, 'pH_UL_va': 5.5, 'pH_LL_va': 4, 'q_in': 0, 'K_W': 1e-14}, constants=['S_H_ion'], reference='Delong_Lab_BETO_Experiment', model_name='e_adm_2'),\n",
              " Experiment(name='B_35_M_5_A_Delong_BETO', time=[0.0, 1.5, 5.7, 11.7, 24.7], variables=['S_ac', 'S_pro', 'S_bu', 'S_va', 'S_cap'], data=array([[0.32      , 0.        , 0.        , 0.        , 0.        ],\n",
              "        [0.        , 0.        , 0.        , 0.        , 0.        ],\n",
              "        [0.42666667, 0.        , 0.        , 0.        , 0.        ],\n",
              "        [0.53333333, 0.3027027 , 0.09090909, 0.        , 0.        ],\n",
              "        [0.21333333, 0.15135135, 0.        , 0.        , 0.        ]]), initial_concentrations={'S_su': 0, 'S_aa': 0, 'S_fa': 0, 'S_va': 0.0, 'S_bu': 0.0, 'S_et': 0.0, 'S_lac': 0.0, 'S_pro': 0.0, 'S_cap': 0.0, 'TSS': 14.25, 'TDS': 0.75, 'S_ac': 0.32, 'X_chain_lac': 0.815944348706505, 'S_h2': 1e-08, 'S_ch4': 1e-05, 'S_IC': 0.04, 'S_IN': 0.01, 'S_I': 0.02, 'X_ac_et': 0.7372383576174429, 'X_Me_ac': 0.011797796974435, 'X_Me_CO2': 0.012085573054180999, 'S_cap_ion': 0.001, 'S_lac_ion': 0.0, 'X_et': 0.7281169292993971, 'X_lac': 0.8397909161103589, 'X_chain_et': 0.7281169292993971, 'X_ch': 0.783922998277125, 'X_pr': 0.49085296318889, 'X_ac_lac': 0.82506577702455, 'X_VFA_deg': 1.0, 'X_li': 0.039610869491656, 'X_su': 0.641617982416728, 'X_aa': 2.176113644869596, 'X_fa': 1.169724913669732, 'X_I': 25.0, 'S_cation': 0.04, 'S_anion': 0.02, 'S_H_ion': 1e-05, 'S_va_ion': 0, 'S_bu_ion': 0.0, 'S_pro_ion': 0.0, 'S_ac_ion': 0, 'S_hco3_ion': 0, 'S_nh3': 0.0, 'S_gas_h2': 0, 'S_gas_ch4': 0, 'S_gas_co2': 0.0, 'S_nh4_ion': 0, 'S_co2': 0}, base_parameters={'R': 0.083145, 'T_base': 298.15, 'P_atm': 1.013, 'T_op': 308.15, 'V_liq': 0.00025, 'V_gas': 0.0001, 'pH_UL_ac': 7, 'pH_LL_ac': 6, 'pH_UL_aa': 5.5, 'pH_LL_aa': 4, 'pH_UL_h2': 6, 'pH_LL_h2': 5, 'pH_UL_pro': 5.5, 'pH_LL_pro': 4, 'pH_UL_bu': 5.5, 'pH_LL_bu': 4, 'pH_UL_va': 5.5, 'pH_LL_va': 4, 'q_in': 0, 'K_W': 1e-14}, constants=['S_H_ion'], reference='Delong_Lab_BETO_Experiment', model_name='e_adm_2'),\n",
              " Experiment(name='B_35_M_5_B_Delong_BETO', time=[0.0, 1.5, 5.7, 11.7, 24.7], variables=['S_ac', 'S_pro', 'S_bu', 'S_va', 'S_cap'], data=array([[0.        , 0.        , 0.        , 0.        , 0.        ],\n",
              "        [0.32      , 0.        , 0.        , 0.        , 0.        ],\n",
              "        [0.32      , 0.15135135, 0.        , 0.        , 0.        ],\n",
              "        [0.48      , 0.15135135, 0.        , 0.        , 0.        ],\n",
              "        [0.42666667, 0.15135135, 0.        , 0.        , 0.        ]]), initial_concentrations={'S_su': 0, 'S_aa': 0, 'S_fa': 0, 'S_va': 0.0, 'S_bu': 0.0, 'S_et': 0.0, 'S_lac': 0.0, 'S_pro': 0.0, 'S_cap': 0.0, 'TSS': 14.25, 'TDS': 0.75, 'S_ac': 0.0, 'X_chain_lac': 0.811219507858099, 'S_h2': 1e-08, 'S_ch4': 1e-05, 'S_IC': 0.04, 'S_IN': 0.01, 'S_I': 0.02, 'X_ac_et': 0.732588504173335, 'X_Me_ac': 0.011534655945385, 'X_Me_CO2': 0.011725724732029, 'S_cap_ion': 0.001, 'S_lac_ion': 0.0, 'X_et': 0.722675154509248, 'X_lac': 0.834564950478561, 'X_chain_et': 0.722675154509248, 'X_ch': 0.786554963949978, 'X_pr': 0.49267791923612103, 'X_ac_lac': 0.821132857522185, 'X_VFA_deg': 1.0, 'X_li': 0.039636300778346, 'X_su': 0.646080080647271, 'X_aa': 2.212959114357276, 'X_fa': 1.153975111302911, 'X_I': 25.0, 'S_cation': 0.04, 'S_anion': 0.02, 'S_H_ion': 1e-05, 'S_va_ion': 0, 'S_bu_ion': 0.0, 'S_pro_ion': 0.0, 'S_ac_ion': 0, 'S_hco3_ion': 0, 'S_nh3': 0.0, 'S_gas_h2': 0, 'S_gas_ch4': 0, 'S_gas_co2': 0.0, 'S_nh4_ion': 0, 'S_co2': 0}, base_parameters={'R': 0.083145, 'T_base': 298.15, 'P_atm': 1.013, 'T_op': 308.15, 'V_liq': 0.00025, 'V_gas': 0.0001, 'pH_UL_ac': 7, 'pH_LL_ac': 6, 'pH_UL_aa': 5.5, 'pH_LL_aa': 4, 'pH_UL_h2': 6, 'pH_LL_h2': 5, 'pH_UL_pro': 5.5, 'pH_LL_pro': 4, 'pH_UL_bu': 5.5, 'pH_LL_bu': 4, 'pH_UL_va': 5.5, 'pH_LL_va': 4, 'q_in': 0, 'K_W': 1e-14}, constants=['S_H_ion'], reference='Delong_Lab_BETO_Experiment', model_name='e_adm_2'),\n",
              " Experiment(name='B_35_M_5_C_Delong_BETO', time=[0.0, 1.5, 5.7, 11.7], variables=['S_ac', 'S_pro', 'S_bu', 'S_va', 'S_cap'], data=array([[0.        , 0.15135135, 0.        , 0.        , 0.        ],\n",
              "        [0.        , 0.        , 0.        , 0.        , 0.        ],\n",
              "        [0.42666667, 0.        , 0.        , 0.        , 0.        ],\n",
              "        [0.42666667, 0.        , 0.        , 0.        , 0.        ]]), initial_concentrations={'S_su': 0, 'S_aa': 0, 'S_fa': 0, 'S_va': 0.0, 'S_bu': 0.0, 'S_et': 0.0, 'S_lac': 0.0, 'S_pro': 0.15135135135135136, 'S_cap': 0.0, 'TSS': 14.25, 'TDS': 0.75, 'S_ac': 0.0, 'X_chain_lac': 0.810380347736285, 'S_h2': 1e-08, 'S_ch4': 1e-05, 'S_IC': 0.04, 'S_IN': 0.01, 'S_I': 0.02, 'X_ac_et': 0.7318999839399081, 'X_Me_ac': 0.011805068649003, 'X_Me_CO2': 0.011637932523878, 'S_cap_ion': 0.001, 'S_lac_ion': 0.0, 'X_et': 0.7213756662722, 'X_lac': 0.8333534898248279, 'X_chain_et': 0.7213756662722, 'X_ch': 0.801898471076285, 'X_pr': 0.490196733867157, 'X_ac_lac': 0.8209046654039941, 'X_VFA_deg': 1.0, 'X_li': 0.038893890870401, 'X_su': 0.647276898061686, 'X_aa': 2.205959856381617, 'X_fa': 1.153041329120551, 'X_I': 25.0, 'S_cation': 0.04, 'S_anion': 0.02, 'S_H_ion': 1e-05, 'S_va_ion': 0, 'S_bu_ion': 0.0, 'S_pro_ion': 0.0, 'S_ac_ion': 0, 'S_hco3_ion': 0, 'S_nh3': 0.0, 'S_gas_h2': 0, 'S_gas_ch4': 0, 'S_gas_co2': 0.0, 'S_nh4_ion': 0, 'S_co2': 0}, base_parameters={'R': 0.083145, 'T_base': 298.15, 'P_atm': 1.013, 'T_op': 308.15, 'V_liq': 0.00025, 'V_gas': 0.0001, 'pH_UL_ac': 7, 'pH_LL_ac': 6, 'pH_UL_aa': 5.5, 'pH_LL_aa': 4, 'pH_UL_h2': 6, 'pH_LL_h2': 5, 'pH_UL_pro': 5.5, 'pH_LL_pro': 4, 'pH_UL_bu': 5.5, 'pH_LL_bu': 4, 'pH_UL_va': 5.5, 'pH_LL_va': 4, 'q_in': 0, 'K_W': 1e-14}, constants=['S_H_ion'], reference='Delong_Lab_BETO_Experiment', model_name='e_adm_2'),\n",
              " Experiment(name='B_35_M_7_A_Delong_BETO', time=[0, 1.5, 5.7, 11.7, 24.7], variables=['S_ac', 'S_pro', 'S_bu', 'S_va', 'S_cap'], data=array([[0.        , 0.        , 0.        , 0.        , 0.        ],\n",
              "        [0.64      , 0.45405405, 0.36363636, 0.        , 0.        ],\n",
              "        [0.85333333, 0.60540541, 0.        , 0.        , 0.        ],\n",
              "        [1.06666667, 1.28648649, 0.        , 0.        , 0.        ],\n",
              "        [0.10666667, 0.        , 0.        , 0.        , 0.        ]]), initial_concentrations={'S_su': 0, 'S_aa': 0, 'S_fa': 0, 'S_va': 0, 'S_bu': 0, 'S_et': 0.0, 'S_lac': 0.0, 'S_pro': 0, 'S_cap': 0, 'TSS': 14.25, 'TDS': 0.75, 'S_ac': 0, 'X_chain_lac': 0.8051007891141849, 'S_h2': 1e-08, 'S_ch4': 1e-05, 'S_IC': 0.04, 'S_IN': 0.01, 'S_I': 0.02, 'X_ac_et': 0.7223244531592831, 'X_Me_ac': 0.012687962716433, 'X_Me_CO2': 0.010101920562885, 'S_cap_ion': 0.001, 'S_lac_ion': 0.0, 'X_et': 0.712101408570744, 'X_lac': 0.8277841362979479, 'X_chain_et': 0.712101408570744, 'X_ch': 0.907392239070888, 'X_pr': 0.510152293127568, 'X_ac_lac': 0.815323833702724, 'X_VFA_deg': 1.0, 'X_li': 0.038842795204779, 'X_su': 0.644594656900946, 'X_aa': 2.131133467580602, 'X_fa': 1.150358635420263, 'X_I': 25.0, 'S_cation': 0.04, 'S_anion': 0.02, 'S_H_ion': 1e-07, 'S_va_ion': 0, 'S_bu_ion': 0.0, 'S_pro_ion': 0.0, 'S_ac_ion': 0, 'S_hco3_ion': 0, 'S_nh3': 0.0, 'S_gas_h2': 0, 'S_gas_ch4': 0, 'S_gas_co2': 0.0, 'S_nh4_ion': 0, 'S_co2': 0}, base_parameters={'R': 0.083145, 'T_base': 298.15, 'P_atm': 1.013, 'T_op': 308.15, 'V_liq': 0.00025, 'V_gas': 0.0001, 'pH_UL_ac': 7, 'pH_LL_ac': 6, 'pH_UL_aa': 5.5, 'pH_LL_aa': 4, 'pH_UL_h2': 6, 'pH_LL_h2': 5, 'pH_UL_pro': 5.5, 'pH_LL_pro': 4, 'pH_UL_bu': 5.5, 'pH_LL_bu': 4, 'pH_UL_va': 5.5, 'pH_LL_va': 4, 'q_in': 0, 'K_W': 1e-14}, constants=['S_H_ion'], reference='Delong_Lab_BETO_Experiment', model_name='e_adm_2'),\n",
              " Experiment(name='B_35_M_7_B_Delong_BETO', time=[0.0, 1.5, 5.7, 11.7], variables=['S_ac', 'S_pro', 'S_bu', 'S_va', 'S_cap'], data=array([[0.21333333, 0.        , 0.        , 0.        , 0.        ],\n",
              "        [1.06666667, 0.60540541, 0.18181818, 0.        , 0.        ],\n",
              "        [1.38666667, 1.21081081, 0.        , 0.        , 0.        ],\n",
              "        [0.48      , 0.90810811, 0.18181818, 0.        , 0.        ]]), initial_concentrations={'S_su': 0, 'S_aa': 0, 'S_fa': 0, 'S_va': 0.0, 'S_bu': 0.0, 'S_et': 0.0, 'S_lac': 0.0, 'S_pro': 0.0, 'S_cap': 0.0, 'TSS': 14.25, 'TDS': 0.75, 'S_ac': 0.21333333333333335, 'X_chain_lac': 0.8142699578194069, 'S_h2': 1e-08, 'S_ch4': 1e-05, 'S_IC': 0.04, 'S_IN': 0.01, 'S_I': 0.02, 'X_ac_et': 0.734101838881101, 'X_Me_ac': 0.01233039584145, 'X_Me_CO2': 0.010813371564221, 'S_cap_ion': 0.001, 'S_lac_ion': 0.0, 'X_et': 0.725526570666143, 'X_lac': 0.838469168831686, 'X_chain_et': 0.725526570666143, 'X_ch': 0.7930974776192461, 'X_pr': 0.50107171151073, 'X_ac_lac': 0.8228452260343649, 'X_VFA_deg': 1.0, 'X_li': 0.039254621520174, 'X_su': 0.640200006282, 'X_aa': 2.178964733097733, 'X_fa': 1.163528349665596, 'X_I': 25.0, 'S_cation': 0.04, 'S_anion': 0.02, 'S_H_ion': 1e-07, 'S_va_ion': 0, 'S_bu_ion': 0.0, 'S_pro_ion': 0.0, 'S_ac_ion': 0, 'S_hco3_ion': 0, 'S_nh3': 0.0, 'S_gas_h2': 0, 'S_gas_ch4': 0, 'S_gas_co2': 0.0, 'S_nh4_ion': 0, 'S_co2': 0}, base_parameters={'R': 0.083145, 'T_base': 298.15, 'P_atm': 1.013, 'T_op': 308.15, 'V_liq': 0.00025, 'V_gas': 0.0001, 'pH_UL_ac': 7, 'pH_LL_ac': 6, 'pH_UL_aa': 5.5, 'pH_LL_aa': 4, 'pH_UL_h2': 6, 'pH_LL_h2': 5, 'pH_UL_pro': 5.5, 'pH_LL_pro': 4, 'pH_UL_bu': 5.5, 'pH_LL_bu': 4, 'pH_UL_va': 5.5, 'pH_LL_va': 4, 'q_in': 0, 'K_W': 1e-14}, constants=['S_H_ion'], reference='Delong_Lab_BETO_Experiment', model_name='e_adm_2'),\n",
              " Experiment(name='B_35_M_7_C_Delong_BETO', time=[0.0, 1.5, 5.7, 11.7], variables=['S_ac', 'S_pro', 'S_bu', 'S_va', 'S_cap'], data=array([[0.21333333, 0.        , 0.        , 0.        , 0.        ],\n",
              "        [0.85333333, 0.3027027 , 0.        , 0.        , 0.        ],\n",
              "        [0.96      , 0.90810811, 0.        , 0.        , 0.        ],\n",
              "        [0.48      , 0.60540541, 0.        , 0.        , 0.        ]]), initial_concentrations={'S_su': 0, 'S_aa': 0, 'S_fa': 0, 'S_va': 0.0, 'S_bu': 0.0, 'S_et': 0.0, 'S_lac': 0.0, 'S_pro': 0.0, 'S_cap': 0.0, 'TSS': 14.25, 'TDS': 0.75, 'S_ac': 0.21333333333333335, 'X_chain_lac': 0.810438008174726, 'S_h2': 1e-08, 'S_ch4': 1e-05, 'S_IC': 0.04, 'S_IN': 0.01, 'S_I': 0.02, 'X_ac_et': 0.7322338200981781, 'X_Me_ac': 0.012055381211624, 'X_Me_CO2': 0.012003260359749, 'S_cap_ion': 0.001, 'S_lac_ion': 0.0, 'X_et': 0.7223428861308869, 'X_lac': 0.8343746525873159, 'X_chain_et': 0.7223428861308869, 'X_ch': 0.8555838300040031, 'X_pr': 0.492768861834666, 'X_ac_lac': 0.8203289421420169, 'X_VFA_deg': 1.0, 'X_li': 0.03835693768345, 'X_su': 0.637158513199434, 'X_aa': 2.132193601128742, 'X_fa': 1.177818419314315, 'X_I': 25.0, 'S_cation': 0.04, 'S_anion': 0.02, 'S_H_ion': 1e-07, 'S_va_ion': 0, 'S_bu_ion': 0.0, 'S_pro_ion': 0.0, 'S_ac_ion': 0, 'S_hco3_ion': 0, 'S_nh3': 0.0, 'S_gas_h2': 0, 'S_gas_ch4': 0, 'S_gas_co2': 0.0, 'S_nh4_ion': 0, 'S_co2': 0}, base_parameters={'R': 0.083145, 'T_base': 298.15, 'P_atm': 1.013, 'T_op': 308.15, 'V_liq': 0.00025, 'V_gas': 0.0001, 'pH_UL_ac': 7, 'pH_LL_ac': 6, 'pH_UL_aa': 5.5, 'pH_LL_aa': 4, 'pH_UL_h2': 6, 'pH_LL_h2': 5, 'pH_UL_pro': 5.5, 'pH_LL_pro': 4, 'pH_UL_bu': 5.5, 'pH_LL_bu': 4, 'pH_UL_va': 5.5, 'pH_LL_va': 4, 'q_in': 0, 'K_W': 1e-14}, constants=['S_H_ion'], reference='Delong_Lab_BETO_Experiment', model_name='e_adm_2'),\n",
              " Experiment(name='B_35_M_9_A_Delong_BETO', time=[0.0, 1.5, 5.7, 11.7, 24.7], variables=['S_ac', 'S_pro', 'S_bu', 'S_va', 'S_cap'], data=array([[0.64      , 0.        , 0.        , 0.        , 0.        ],\n",
              "        [0.53333333, 0.15135135, 0.        , 0.        , 0.        ],\n",
              "        [1.17333333, 0.3027027 , 0.        , 0.        , 0.        ],\n",
              "        [1.33333333, 0.45405405, 0.        , 0.10196078, 0.        ],\n",
              "        [1.81333333, 0.75675676, 0.        , 0.        , 0.        ]]), initial_concentrations={'S_su': 0, 'S_aa': 0, 'S_fa': 0, 'S_va': 0.0, 'S_bu': 0.0, 'S_et': 0.0, 'S_lac': 0.0, 'S_pro': 0.0, 'S_cap': 0.0, 'TSS': 14.25, 'TDS': 0.75, 'S_ac': 0.64, 'X_chain_lac': 0.80701408848678, 'S_h2': 1e-08, 'S_ch4': 1e-05, 'S_IC': 0.04, 'S_IN': 0.01, 'S_I': 0.02, 'X_ac_et': 0.714238038367207, 'X_Me_ac': 0.013717423773585, 'X_Me_CO2': 0.010124581266821, 'S_cap_ion': 0.001, 'S_lac_ion': 0.0, 'X_et': 0.703291518748336, 'X_lac': 0.828281501978091, 'X_chain_et': 0.703291518748336, 'X_ch': 0.969726987093895, 'X_pr': 0.522947817213011, 'X_ac_lac': 0.8179606081056511, 'X_VFA_deg': 1.0, 'X_li': 0.037453870560478, 'X_su': 0.633061810472086, 'X_aa': 2.111645231582899, 'X_fa': 1.127245003602819, 'X_I': 25.0, 'S_cation': 0.04, 'S_anion': 0.02, 'S_H_ion': 1e-09, 'S_va_ion': 0, 'S_bu_ion': 0.0, 'S_pro_ion': 0.0, 'S_ac_ion': 0, 'S_hco3_ion': 0, 'S_nh3': 0.0, 'S_gas_h2': 0, 'S_gas_ch4': 0, 'S_gas_co2': 0.0, 'S_nh4_ion': 0, 'S_co2': 0}, base_parameters={'R': 0.083145, 'T_base': 298.15, 'P_atm': 1.013, 'T_op': 308.15, 'V_liq': 0.00025, 'V_gas': 0.0001, 'pH_UL_ac': 7, 'pH_LL_ac': 6, 'pH_UL_aa': 5.5, 'pH_LL_aa': 4, 'pH_UL_h2': 6, 'pH_LL_h2': 5, 'pH_UL_pro': 5.5, 'pH_LL_pro': 4, 'pH_UL_bu': 5.5, 'pH_LL_bu': 4, 'pH_UL_va': 5.5, 'pH_LL_va': 4, 'q_in': 0, 'K_W': 1e-14}, constants=['S_H_ion'], reference='Delong_Lab_BETO_Experiment', model_name='e_adm_2'),\n",
              " Experiment(name='B_35_M_9_C_Delong_BETO', time=[0.0, 1.5, 5.7, 11.7, 24.7], variables=['S_ac', 'S_pro', 'S_bu', 'S_va', 'S_cap'], data=array([[0.85333333, 0.        , 0.        , 0.        , 0.        ],\n",
              "        [0.96      , 0.15135135, 0.        , 0.        , 0.        ],\n",
              "        [0.64      , 1.05945946, 0.72727273, 0.20392157, 0.        ],\n",
              "        [1.97333333, 0.52972973, 0.        , 0.10196078, 0.        ],\n",
              "        [3.41333333, 0.90810811, 0.        , 0.20392157, 0.        ]]), initial_concentrations={'S_su': 0, 'S_aa': 0, 'S_fa': 0, 'S_va': 0.0, 'S_bu': 0.0, 'S_et': 0.0, 'S_lac': 0.0, 'S_pro': 0.0, 'S_cap': 0.0, 'TSS': 14.25, 'TDS': 0.75, 'S_ac': 0.8533333333333334, 'X_chain_lac': 0.8076786654627239, 'S_h2': 1e-08, 'S_ch4': 1e-05, 'S_IC': 0.04, 'S_IN': 0.01, 'S_I': 0.02, 'X_ac_et': 0.718812835877748, 'X_Me_ac': 0.013446357478358002, 'X_Me_CO2': 0.010323422595972, 'S_cap_ion': 0.001, 'S_lac_ion': 0.0, 'X_et': 0.708401501553012, 'X_lac': 0.8286750890584591, 'X_chain_et': 0.708401501553012, 'X_ch': 0.929321607425624, 'X_pr': 0.51519479248152, 'X_ac_lac': 0.81808999978746, 'X_VFA_deg': 1.0, 'X_li': 0.037666038752834, 'X_su': 0.6399554980486439, 'X_aa': 2.126018463841827, 'X_fa': 1.138014226082799, 'X_I': 25.0, 'S_cation': 0.04, 'S_anion': 0.02, 'S_H_ion': 1e-09, 'S_va_ion': 0, 'S_bu_ion': 0.0, 'S_pro_ion': 0.0, 'S_ac_ion': 0, 'S_hco3_ion': 0, 'S_nh3': 0.0, 'S_gas_h2': 0, 'S_gas_ch4': 0, 'S_gas_co2': 0.0, 'S_nh4_ion': 0, 'S_co2': 0}, base_parameters={'R': 0.083145, 'T_base': 298.15, 'P_atm': 1.013, 'T_op': 308.15, 'V_liq': 0.00025, 'V_gas': 0.0001, 'pH_UL_ac': 7, 'pH_LL_ac': 6, 'pH_UL_aa': 5.5, 'pH_LL_aa': 4, 'pH_UL_h2': 6, 'pH_LL_h2': 5, 'pH_UL_pro': 5.5, 'pH_LL_pro': 4, 'pH_UL_bu': 5.5, 'pH_LL_bu': 4, 'pH_UL_va': 5.5, 'pH_LL_va': 4, 'q_in': 0, 'K_W': 1e-14}, constants=['S_H_ion'], reference='Delong_Lab_BETO_Experiment', model_name='e_adm_2'),\n",
              " Experiment(name='B_45_F_5_A_Delong_BETO', time=[0.0, 1.7, 4.8, 10.2, 13.7, 20.7, 26.8], variables=['S_ac', 'S_pro', 'S_bu', 'S_va', 'S_cap'], data=array([[0.27366528, 0.12887417, 0.01016378, 0.282533  , 0.36798872],\n",
              "        [0.28271009, 0.18651091, 0.        , 0.07982761, 0.38471073],\n",
              "        [0.29521574, 0.37564805, 0.49093034, 1.27641012, 0.80849272],\n",
              "        [0.54127823, 0.30858521, 0.65946623, 1.32228939, 1.32761251],\n",
              "        [0.46056957, 0.35253628, 0.70261439, 1.44442718, 1.43759324],\n",
              "        [0.34163048, 0.34374606, 0.61797243, 1.20413637, 0.7794442 ],\n",
              "        [0.65978186, 0.43052675, 0.543971  , 1.34128587, 1.25684531]]), initial_concentrations={'S_su': 0, 'S_aa': 0, 'S_fa': 0, 'S_va': 0.28253300094117645, 'S_bu': 0.010163780000000002, 'S_et': 0.0, 'S_lac': 0.0, 'S_pro': 0.12887416821621622, 'S_cap': 0.3679887183448276, 'TSS': 9.75, 'TDS': 5.25, 'S_ac': 0.27366528106666665, 'X_chain_lac': 0.8445320669965729, 'S_h2': 1e-08, 'S_ch4': 1e-05, 'S_IC': 0.04, 'S_IN': 0.01, 'S_I': 0.02, 'X_ac_et': 0.730110127668711, 'X_Me_ac': 0.00619590457975, 'X_Me_CO2': 0.001630380728522, 'S_cap_ion': 0.001, 'S_lac_ion': 0.0, 'X_et': 0.726935205842863, 'X_lac': 0.850225523601721, 'X_chain_et': 0.726935205842863, 'X_ch': 0.7875568701863279, 'X_pr': 0.637934387161687, 'X_ac_lac': 0.847706988822421, 'X_VFA_deg': 1.0, 'X_li': 0.020954598503437, 'X_su': 0.7523952404556911, 'X_aa': 2.018037081118337, 'X_fa': 1.048850418491092, 'X_I': 25.0, 'S_cation': 0.04, 'S_anion': 0.02, 'S_H_ion': 1e-05, 'S_va_ion': 0, 'S_bu_ion': 0.0, 'S_pro_ion': 0.0, 'S_ac_ion': 0, 'S_hco3_ion': 0, 'S_nh3': 0.0, 'S_gas_h2': 0, 'S_gas_ch4': 0, 'S_gas_co2': 0.0, 'S_nh4_ion': 0, 'S_co2': 0}, base_parameters={'R': 0.083145, 'T_base': 298.15, 'P_atm': 1.013, 'T_op': 318.15, 'V_liq': 0.00025, 'V_gas': 0.0001, 'pH_UL_ac': 7, 'pH_LL_ac': 6, 'pH_UL_aa': 5.5, 'pH_LL_aa': 4, 'pH_UL_h2': 6, 'pH_LL_h2': 5, 'pH_UL_pro': 5.5, 'pH_LL_pro': 4, 'pH_UL_bu': 5.5, 'pH_LL_bu': 4, 'pH_UL_va': 5.5, 'pH_LL_va': 4, 'q_in': 0, 'K_W': 1e-14}, constants=['S_H_ion'], reference='Delong_Lab_BETO_Experiment', model_name='e_adm_2'),\n",
              " Experiment(name='B_45_F_7_B_Delong_BETO', time=[0, 1.7, 4.8, 10.2, 10.7, 13.7, 20.7, 26.8], variables=['S_ac', 'S_pro', 'S_bu', 'S_va', 'S_cap'], data=array([[0.        , 0.        , 0.        , 0.        , 0.        ],\n",
              "        [0.74942164, 0.68265764, 0.82062599, 0.        , 0.        ],\n",
              "        [1.13172586, 1.07138044, 0.85720701, 0.1529576 , 0.        ],\n",
              "        [0.55615018, 1.03082858, 0.29525366, 0.        , 0.        ],\n",
              "        [0.        , 0.        , 0.        , 0.09087419, 0.        ],\n",
              "        [0.10205316, 0.57033824, 0.15006083, 0.        , 0.        ],\n",
              "        [0.        , 0.09566669, 0.14247218, 0.        , 0.        ],\n",
              "        [0.        , 0.        , 0.12670542, 0.        , 0.        ]]), initial_concentrations={'S_su': 0, 'S_aa': 0, 'S_fa': 0, 'S_va': 0, 'S_bu': 0, 'S_et': 0.0, 'S_lac': 0.0, 'S_pro': 0, 'S_cap': 0, 'TSS': 9.75, 'TDS': 5.25, 'S_ac': 0, 'X_chain_lac': 0.8061729085651349, 'S_h2': 1e-08, 'S_ch4': 1e-05, 'S_IC': 0.04, 'S_IN': 0.01, 'S_I': 0.02, 'X_ac_et': 0.6920490857376981, 'X_Me_ac': 0.024939383082061003, 'X_Me_CO2': 0.023959820982793, 'S_cap_ion': 0.001, 'S_lac_ion': 0.0, 'X_et': 0.667695876784188, 'X_lac': 0.819465104756387, 'X_chain_et': 0.667695876784188, 'X_ch': 0.997911024275461, 'X_pr': 0.5750040687928, 'X_ac_lac': 0.830526117518645, 'X_VFA_deg': 1.0, 'X_li': 0.038305269735188996, 'X_su': 0.683876515776513, 'X_aa': 2.147941864478105, 'X_fa': 1.024457082730829, 'X_I': 25.0, 'S_cation': 0.04, 'S_anion': 0.02, 'S_H_ion': 1e-07, 'S_va_ion': 0, 'S_bu_ion': 0.0, 'S_pro_ion': 0.0, 'S_ac_ion': 0, 'S_hco3_ion': 0, 'S_nh3': 0.0, 'S_gas_h2': 0, 'S_gas_ch4': 0, 'S_gas_co2': 0.0, 'S_nh4_ion': 0, 'S_co2': 0}, base_parameters={'R': 0.083145, 'T_base': 298.15, 'P_atm': 1.013, 'T_op': 318.15, 'V_liq': 0.00025, 'V_gas': 0.0001, 'pH_UL_ac': 7, 'pH_LL_ac': 6, 'pH_UL_aa': 5.5, 'pH_LL_aa': 4, 'pH_UL_h2': 6, 'pH_LL_h2': 5, 'pH_UL_pro': 5.5, 'pH_LL_pro': 4, 'pH_UL_bu': 5.5, 'pH_LL_bu': 4, 'pH_UL_va': 5.5, 'pH_LL_va': 4, 'q_in': 0, 'K_W': 1e-14}, constants=['S_H_ion'], reference='Delong_Lab_BETO_Experiment', model_name='e_adm_2'),\n",
              " Experiment(name='B_45_F_9_B_Delong_BETO', time=[0.0, 1.7, 4.8, 10.2, 13.7, 20.7, 26.8], variables=['S_ac', 'S_pro', 'S_bu', 'S_va', 'S_cap'], data=array([[0.63894951, 0.        , 0.        , 0.        , 0.        ],\n",
              "        [1.47155183, 0.07613289, 0.61709616, 0.22288398, 0.        ],\n",
              "        [1.680567  , 0.16648771, 0.53273789, 0.20449286, 0.        ],\n",
              "        [1.77493979, 0.23935167, 0.40384602, 0.22475731, 0.        ],\n",
              "        [1.82546651, 0.32938347, 0.23153509, 0.05810712, 0.        ],\n",
              "        [1.81137781, 0.22654321, 0.36083599, 0.32388876, 0.        ],\n",
              "        [1.98856887, 0.23788623, 0.3088512 , 0.25470952, 0.        ]]), initial_concentrations={'S_su': 0, 'S_aa': 0, 'S_fa': 0, 'S_va': 0.0, 'S_bu': 0.0, 'S_et': 0.0, 'S_lac': 0.0, 'S_pro': 0.0, 'S_cap': 0.0, 'TSS': 9.75, 'TDS': 5.25, 'S_ac': 0.6389495072, 'X_chain_lac': 0.8368625136917409, 'S_h2': 1e-08, 'S_ch4': 1e-05, 'S_IC': 0.04, 'S_IN': 0.01, 'S_I': 0.02, 'X_ac_et': 0.72148128072057, 'X_Me_ac': 0.008686002284438, 'X_Me_CO2': 0.0030195405103630004, 'S_cap_ion': 0.001, 'S_lac_ion': 0.0, 'X_et': 0.7160613120493831, 'X_lac': 0.8440326985771179, 'X_chain_et': 0.7160613120493831, 'X_ch': 0.8268801189432871, 'X_pr': 0.633817851617948, 'X_ac_lac': 0.8422824823629289, 'X_VFA_deg': 1.0, 'X_li': 0.023212969637751, 'X_su': 0.741682772706464, 'X_aa': 2.042866302428952, 'X_fa': 1.043052842419665, 'X_I': 25.0, 'S_cation': 0.04, 'S_anion': 0.02, 'S_H_ion': 1e-09, 'S_va_ion': 0, 'S_bu_ion': 0.0, 'S_pro_ion': 0.0, 'S_ac_ion': 0, 'S_hco3_ion': 0, 'S_nh3': 0.0, 'S_gas_h2': 0, 'S_gas_ch4': 0, 'S_gas_co2': 0.0, 'S_nh4_ion': 0, 'S_co2': 0}, base_parameters={'R': 0.083145, 'T_base': 298.15, 'P_atm': 1.013, 'T_op': 318.15, 'V_liq': 0.00025, 'V_gas': 0.0001, 'pH_UL_ac': 7, 'pH_LL_ac': 6, 'pH_UL_aa': 5.5, 'pH_LL_aa': 4, 'pH_UL_h2': 6, 'pH_LL_h2': 5, 'pH_UL_pro': 5.5, 'pH_LL_pro': 4, 'pH_UL_bu': 5.5, 'pH_LL_bu': 4, 'pH_UL_va': 5.5, 'pH_LL_va': 4, 'q_in': 0, 'K_W': 1e-14}, constants=['S_H_ion'], reference='Delong_Lab_BETO_Experiment', model_name='e_adm_2'),\n",
              " Experiment(name='B_45_M_5_A_Delong_BETO', time=[0.0, 1.5, 5.7, 11.7, 24.7], variables=['S_ac', 'S_pro', 'S_bu', 'S_va', 'S_cap'], data=array([[0.32      , 0.        , 0.        , 0.        , 0.        ],\n",
              "        [0.42666667, 0.15135135, 0.18181818, 0.        , 0.        ],\n",
              "        [0.42666667, 0.15135135, 0.        , 0.        , 0.        ],\n",
              "        [0.53333333, 0.22702703, 0.09090909, 0.        , 0.        ],\n",
              "        [0.74666667, 0.        , 0.18181818, 0.        , 0.        ]]), initial_concentrations={'S_su': 0, 'S_aa': 0, 'S_fa': 0, 'S_va': 0.0, 'S_bu': 0.0, 'S_et': 0.0, 'S_lac': 0.0, 'S_pro': 0.0, 'S_cap': 0.0, 'TSS': 14.25, 'TDS': 0.75, 'S_ac': 0.32, 'X_chain_lac': 0.8154146557993041, 'S_h2': 1e-08, 'S_ch4': 1e-05, 'S_IC': 0.04, 'S_IN': 0.01, 'S_I': 0.02, 'X_ac_et': 0.737089498308384, 'X_Me_ac': 0.011617613460972, 'X_Me_CO2': 0.011320328924485, 'S_cap_ion': 0.001, 'S_lac_ion': 0.0, 'X_et': 0.727252929816756, 'X_lac': 0.838748829663991, 'X_chain_et': 0.727252929816756, 'X_ch': 0.798476980259996, 'X_pr': 0.487749858224116, 'X_ac_lac': 0.8252512242909329, 'X_VFA_deg': 1.0, 'X_li': 0.039003287478894, 'X_su': 0.642713194388457, 'X_aa': 2.172568260190169, 'X_fa': 1.16554040937678, 'X_I': 25.0, 'S_cation': 0.04, 'S_anion': 0.02, 'S_H_ion': 1e-05, 'S_va_ion': 0, 'S_bu_ion': 0.0, 'S_pro_ion': 0.0, 'S_ac_ion': 0, 'S_hco3_ion': 0, 'S_nh3': 0.0, 'S_gas_h2': 0, 'S_gas_ch4': 0, 'S_gas_co2': 0.0, 'S_nh4_ion': 0, 'S_co2': 0}, base_parameters={'R': 0.083145, 'T_base': 298.15, 'P_atm': 1.013, 'T_op': 318.15, 'V_liq': 0.00025, 'V_gas': 0.0001, 'pH_UL_ac': 7, 'pH_LL_ac': 6, 'pH_UL_aa': 5.5, 'pH_LL_aa': 4, 'pH_UL_h2': 6, 'pH_LL_h2': 5, 'pH_UL_pro': 5.5, 'pH_LL_pro': 4, 'pH_UL_bu': 5.5, 'pH_LL_bu': 4, 'pH_UL_va': 5.5, 'pH_LL_va': 4, 'q_in': 0, 'K_W': 1e-14}, constants=['S_H_ion'], reference='Delong_Lab_BETO_Experiment', model_name='e_adm_2'),\n",
              " Experiment(name='B_45_M_5_B_Delong_BETO', time=[0, 1.5, 5.7, 11.7, 24.7], variables=['S_ac', 'S_pro', 'S_bu', 'S_va', 'S_cap'], data=array([[0.        , 0.        , 0.        , 0.        , 0.        ],\n",
              "        [0.42666667, 0.45405405, 0.18181818, 0.        , 0.        ],\n",
              "        [0.53333333, 0.3027027 , 0.54545455, 0.        , 0.        ],\n",
              "        [0.26666667, 0.22702703, 0.36363636, 0.20392157, 0.        ],\n",
              "        [0.64      , 0.60540541, 0.54545455, 0.        , 0.        ]]), initial_concentrations={'S_su': 0, 'S_aa': 0, 'S_fa': 0, 'S_va': 0, 'S_bu': 0, 'S_et': 0.0, 'S_lac': 0.0, 'S_pro': 0, 'S_cap': 0, 'TSS': 14.25, 'TDS': 0.75, 'S_ac': 0, 'X_chain_lac': 0.8175017753451019, 'S_h2': 1e-08, 'S_ch4': 1e-05, 'S_IC': 0.04, 'S_IN': 0.01, 'S_I': 0.02, 'X_ac_et': 0.738447475438415, 'X_Me_ac': 0.011891835902333, 'X_Me_CO2': 0.011999405106044, 'S_cap_ion': 0.001, 'S_lac_ion': 0.0, 'X_et': 0.729895119422061, 'X_lac': 0.84139301635348, 'X_chain_et': 0.729895119422061, 'X_ch': 0.791184184039546, 'X_pr': 0.492272331140069, 'X_ac_lac': 0.826054131361456, 'X_VFA_deg': 1.0, 'X_li': 0.039282097638147995, 'X_su': 0.638790047092951, 'X_aa': 2.160215022377717, 'X_fa': 1.171178439360611, 'X_I': 25.0, 'S_cation': 0.04, 'S_anion': 0.02, 'S_H_ion': 1e-05, 'S_va_ion': 0, 'S_bu_ion': 0.0, 'S_pro_ion': 0.0, 'S_ac_ion': 0, 'S_hco3_ion': 0, 'S_nh3': 0.0, 'S_gas_h2': 0, 'S_gas_ch4': 0, 'S_gas_co2': 0.0, 'S_nh4_ion': 0, 'S_co2': 0}, base_parameters={'R': 0.083145, 'T_base': 298.15, 'P_atm': 1.013, 'T_op': 318.15, 'V_liq': 0.00025, 'V_gas': 0.0001, 'pH_UL_ac': 7, 'pH_LL_ac': 6, 'pH_UL_aa': 5.5, 'pH_LL_aa': 4, 'pH_UL_h2': 6, 'pH_LL_h2': 5, 'pH_UL_pro': 5.5, 'pH_LL_pro': 4, 'pH_UL_bu': 5.5, 'pH_LL_bu': 4, 'pH_UL_va': 5.5, 'pH_LL_va': 4, 'q_in': 0, 'K_W': 1e-14}, constants=['S_H_ion'], reference='Delong_Lab_BETO_Experiment', model_name='e_adm_2'),\n",
              " Experiment(name='B_45_M_5_C_Delong_BETO', time=[0.0, 1.5, 5.7, 11.7], variables=['S_ac', 'S_pro', 'S_bu', 'S_va', 'S_cap'], data=array([[0.42666667, 0.        , 0.        , 0.        , 0.        ],\n",
              "        [0.42666667, 0.15135135, 0.18181818, 0.        , 0.        ],\n",
              "        [0.53333333, 0.15135135, 0.        , 0.        , 0.        ],\n",
              "        [0.42666667, 0.        , 0.        , 0.        , 0.        ]]), initial_concentrations={'S_su': 0, 'S_aa': 0, 'S_fa': 0, 'S_va': 0.0, 'S_bu': 0.0, 'S_et': 0.0, 'S_lac': 0.0, 'S_pro': 0.0, 'S_cap': 0.0, 'TSS': 14.25, 'TDS': 0.75, 'S_ac': 0.4266666666666667, 'X_chain_lac': 0.8147174050987729, 'S_h2': 1e-08, 'S_ch4': 1e-05, 'S_IC': 0.04, 'S_IN': 0.01, 'S_I': 0.02, 'X_ac_et': 0.734562141185017, 'X_Me_ac': 0.011721401298531999, 'X_Me_CO2': 0.011660486766989001, 'S_cap_ion': 0.001, 'S_lac_ion': 0.0, 'X_et': 0.724497305409561, 'X_lac': 0.838430709513879, 'X_chain_et': 0.724497305409561, 'X_ch': 0.7997391412620369, 'X_pr': 0.489489042714715, 'X_ac_lac': 0.824782240874229, 'X_VFA_deg': 1.0, 'X_li': 0.039514430652522, 'X_su': 0.643550668810583, 'X_aa': 2.183608374488498, 'X_fa': 1.1592293465151, 'X_I': 25.0, 'S_cation': 0.04, 'S_anion': 0.02, 'S_H_ion': 1e-05, 'S_va_ion': 0, 'S_bu_ion': 0.0, 'S_pro_ion': 0.0, 'S_ac_ion': 0, 'S_hco3_ion': 0, 'S_nh3': 0.0, 'S_gas_h2': 0, 'S_gas_ch4': 0, 'S_gas_co2': 0.0, 'S_nh4_ion': 0, 'S_co2': 0}, base_parameters={'R': 0.083145, 'T_base': 298.15, 'P_atm': 1.013, 'T_op': 318.15, 'V_liq': 0.00025, 'V_gas': 0.0001, 'pH_UL_ac': 7, 'pH_LL_ac': 6, 'pH_UL_aa': 5.5, 'pH_LL_aa': 4, 'pH_UL_h2': 6, 'pH_LL_h2': 5, 'pH_UL_pro': 5.5, 'pH_LL_pro': 4, 'pH_UL_bu': 5.5, 'pH_LL_bu': 4, 'pH_UL_va': 5.5, 'pH_LL_va': 4, 'q_in': 0, 'K_W': 1e-14}, constants=['S_H_ion'], reference='Delong_Lab_BETO_Experiment', model_name='e_adm_2'),\n",
              " Experiment(name='B_45_M_7_A_Delong_BETO', time=[0.0, 1.5, 5.7, 11.7], variables=['S_ac', 'S_pro', 'S_bu', 'S_va', 'S_cap'], data=array([[0.32      , 0.        , 0.        , 0.        , 0.        ],\n",
              "        [0.42666667, 0.15135135, 0.18181818, 0.        , 0.        ],\n",
              "        [1.70666667, 0.60540541, 0.        , 0.        , 0.        ],\n",
              "        [0.64      , 0.45405405, 0.        , 0.        , 0.        ]]), initial_concentrations={'S_su': 0, 'S_aa': 0, 'S_fa': 0, 'S_va': 0.0, 'S_bu': 0.0, 'S_et': 0.0, 'S_lac': 0.0, 'S_pro': 0.0, 'S_cap': 0.0, 'TSS': 14.25, 'TDS': 0.75, 'S_ac': 0.32, 'X_chain_lac': 0.8181200167433369, 'S_h2': 1e-08, 'S_ch4': 1e-05, 'S_IC': 0.04, 'S_IN': 0.01, 'S_I': 0.02, 'X_ac_et': 0.7319000146893879, 'X_Me_ac': 0.012197914304139001, 'X_Me_CO2': 0.010458667030234, 'S_cap_ion': 0.001, 'S_lac_ion': 0.0, 'X_et': 0.723504175821227, 'X_lac': 0.841560887120681, 'X_chain_et': 0.723504175821227, 'X_ch': 0.846779122205945, 'X_pr': 0.506834215798264, 'X_ac_lac': 0.8265158556114991, 'X_VFA_deg': 1.0, 'X_li': 0.039593278554114, 'X_su': 0.646715866088417, 'X_aa': 2.122348301481496, 'X_fa': 1.149967508730024, 'X_I': 25.0, 'S_cation': 0.04, 'S_anion': 0.02, 'S_H_ion': 1e-07, 'S_va_ion': 0, 'S_bu_ion': 0.0, 'S_pro_ion': 0.0, 'S_ac_ion': 0, 'S_hco3_ion': 0, 'S_nh3': 0.0, 'S_gas_h2': 0, 'S_gas_ch4': 0, 'S_gas_co2': 0.0, 'S_nh4_ion': 0, 'S_co2': 0}, base_parameters={'R': 0.083145, 'T_base': 298.15, 'P_atm': 1.013, 'T_op': 318.15, 'V_liq': 0.00025, 'V_gas': 0.0001, 'pH_UL_ac': 7, 'pH_LL_ac': 6, 'pH_UL_aa': 5.5, 'pH_LL_aa': 4, 'pH_UL_h2': 6, 'pH_LL_h2': 5, 'pH_UL_pro': 5.5, 'pH_LL_pro': 4, 'pH_UL_bu': 5.5, 'pH_LL_bu': 4, 'pH_UL_va': 5.5, 'pH_LL_va': 4, 'q_in': 0, 'K_W': 1e-14}, constants=['S_H_ion'], reference='Delong_Lab_BETO_Experiment', model_name='e_adm_2'),\n",
              " Experiment(name='B_45_M_9_A_Delong_BETO', time=[0.0, 1.5, 5.7, 11.7, 24.7], variables=['S_ac', 'S_pro', 'S_bu', 'S_va', 'S_cap'], data=array([[1.06666667, 0.        , 0.        , 0.        , 0.        ],\n",
              "        [0.64      , 0.        , 0.        , 0.        , 0.        ],\n",
              "        [1.28      , 0.3027027 , 0.        , 0.20392157, 0.        ],\n",
              "        [2.24      , 0.3027027 , 0.        , 0.20392157, 0.        ],\n",
              "        [4.8       , 0.45405405, 0.18181818, 0.        , 0.        ]]), initial_concentrations={'S_su': 0, 'S_aa': 0, 'S_fa': 0, 'S_va': 0.0, 'S_bu': 0.0, 'S_et': 0.0, 'S_lac': 0.0, 'S_pro': 0.0, 'S_cap': 0.0, 'TSS': 14.25, 'TDS': 0.75, 'S_ac': 1.0666666666666667, 'X_chain_lac': 0.80531975951231, 'S_h2': 1e-08, 'S_ch4': 1e-05, 'S_IC': 0.04, 'S_IN': 0.01, 'S_I': 0.02, 'X_ac_et': 0.7324822540968929, 'X_Me_ac': 0.01124629252259, 'X_Me_CO2': 0.010934265792958, 'S_cap_ion': 0.001, 'S_lac_ion': 0.0, 'X_et': 0.723107134525732, 'X_lac': 0.8280088424030501, 'X_chain_et': 0.723107134525732, 'X_ch': 0.893959542673482, 'X_pr': 0.512480698900377, 'X_ac_lac': 0.81469487908347, 'X_VFA_deg': 1.0, 'X_li': 0.038369413481084996, 'X_su': 0.638296097073885, 'X_aa': 2.135893565312699, 'X_fa': 1.132100120095731, 'X_I': 25.0, 'S_cation': 0.04, 'S_anion': 0.02, 'S_H_ion': 1e-09, 'S_va_ion': 0, 'S_bu_ion': 0.0, 'S_pro_ion': 0.0, 'S_ac_ion': 0, 'S_hco3_ion': 0, 'S_nh3': 0.0, 'S_gas_h2': 0, 'S_gas_ch4': 0, 'S_gas_co2': 0.0, 'S_nh4_ion': 0, 'S_co2': 0}, base_parameters={'R': 0.083145, 'T_base': 298.15, 'P_atm': 1.013, 'T_op': 318.15, 'V_liq': 0.00025, 'V_gas': 0.0001, 'pH_UL_ac': 7, 'pH_LL_ac': 6, 'pH_UL_aa': 5.5, 'pH_LL_aa': 4, 'pH_UL_h2': 6, 'pH_LL_h2': 5, 'pH_UL_pro': 5.5, 'pH_LL_pro': 4, 'pH_UL_bu': 5.5, 'pH_LL_bu': 4, 'pH_UL_va': 5.5, 'pH_LL_va': 4, 'q_in': 0, 'K_W': 1e-14}, constants=['S_H_ion'], reference='Delong_Lab_BETO_Experiment', model_name='e_adm_2'),\n",
              " Experiment(name='T_55_F_5_A_Delong_BETO', time=[0.0, 0.75, 2.666666667, 5.5625, 8.75, 23.375], variables=['S_ac', 'S_pro', 'S_bu', 'S_va', 'S_cap'], data=array([[0.        , 0.        , 0.        , 0.        , 0.        ],\n",
              "        [0.38810069, 0.        , 0.99779107, 0.        , 0.        ],\n",
              "        [0.10705397, 0.        , 0.        , 0.        , 0.        ],\n",
              "        [0.        , 0.        , 1.10345637, 0.        , 0.        ],\n",
              "        [0.06608161, 0.        , 1.78341729, 0.        , 0.        ],\n",
              "        [0.23561093, 0.        , 1.87149916, 0.        , 0.        ]]), initial_concentrations={'S_su': 0, 'S_aa': 0, 'S_fa': 0, 'S_va': 0.0, 'S_bu': 0.0, 'S_et': 0.0, 'S_lac': 0.0, 'S_pro': 0.0, 'S_cap': 0.0, 'TSS': 9.75, 'TDS': 5.25, 'S_ac': 0.0, 'X_chain_lac': 0.8162735428731229, 'S_h2': 1e-08, 'S_ch4': 1e-05, 'S_IC': 0.04, 'S_IN': 0.01, 'S_I': 0.02, 'X_ac_et': 0.702198722822399, 'X_Me_ac': 0.010006123136113, 'X_Me_CO2': 0.0031978906276809997, 'S_cap_ion': 0.001, 'S_lac_ion': 0.0, 'X_et': 0.697336628546354, 'X_lac': 0.826141717786082, 'X_chain_et': 0.697336628546354, 'X_ch': 0.946889608954873, 'X_pr': 0.608316828703189, 'X_ac_lac': 0.821135637149168, 'X_VFA_deg': 1.0, 'X_li': 0.036024458545095, 'X_su': 0.6995224343987689, 'X_aa': 2.06786894658696, 'X_fa': 1.067750831323833, 'X_I': 25.0, 'S_cation': 0.04, 'S_anion': 0.02, 'S_H_ion': 1e-05, 'S_va_ion': 0, 'S_bu_ion': 0.0, 'S_pro_ion': 0.0, 'S_ac_ion': 0, 'S_hco3_ion': 0, 'S_nh3': 0.0, 'S_gas_h2': 0, 'S_gas_ch4': 0, 'S_gas_co2': 0.0, 'S_nh4_ion': 0, 'S_co2': 0}, base_parameters={'R': 0.083145, 'T_base': 298.15, 'P_atm': 1.013, 'T_op': 328.15, 'V_liq': 0.00025, 'V_gas': 0.0001, 'pH_UL_ac': 7, 'pH_LL_ac': 6, 'pH_UL_aa': 5.5, 'pH_LL_aa': 4, 'pH_UL_h2': 6, 'pH_LL_h2': 5, 'pH_UL_pro': 5.5, 'pH_LL_pro': 4, 'pH_UL_bu': 5.5, 'pH_LL_bu': 4, 'pH_UL_va': 5.5, 'pH_LL_va': 4, 'q_in': 0, 'K_W': 1e-14}, constants=['S_H_ion'], reference='Delong_Lab_BETO_Experiment', model_name='e_adm_2'),\n",
              " Experiment(name='T_55_F_5_B_Delong_BETO', time=[0.0, 0.75, 2.666666667, 5.5625, 8.75, 13.375], variables=['S_ac', 'S_pro', 'S_bu', 'S_va', 'S_cap'], data=array([[0.        , 0.        , 0.4039819 , 0.        , 0.        ],\n",
              "        [0.13860749, 0.        , 0.44544913, 0.        , 0.        ],\n",
              "        [0.27015543, 0.        , 1.20769174, 0.        , 0.        ],\n",
              "        [0.08679619, 0.        , 1.41840154, 0.        , 0.        ],\n",
              "        [0.17656539, 0.        , 1.72033937, 0.        , 0.        ],\n",
              "        [0.09721253, 0.        , 1.64462966, 0.        , 0.        ]]), initial_concentrations={'S_su': 0, 'S_aa': 0, 'S_fa': 0, 'S_va': 0.0, 'S_bu': 0.40398190000000006, 'S_et': 0.0, 'S_lac': 0.0, 'S_pro': 0.0, 'S_cap': 0.0, 'TSS': 9.75, 'TDS': 5.25, 'S_ac': 0.0, 'X_chain_lac': 0.812965701014351, 'S_h2': 1e-08, 'S_ch4': 1e-05, 'S_IC': 0.04, 'S_IN': 0.01, 'S_I': 0.02, 'X_ac_et': 0.7009720958475061, 'X_Me_ac': 0.009747865887627, 'X_Me_CO2': 0.004446037086962, 'S_cap_ion': 0.001, 'S_lac_ion': 0.0, 'X_et': 0.6949762112245481, 'X_lac': 0.8238350328877541, 'X_chain_et': 0.6949762112245481, 'X_ch': 0.9519186879362811, 'X_pr': 0.598550535569219, 'X_ac_lac': 0.8189615856373079, 'X_VFA_deg': 1.0, 'X_li': 0.037609180226335, 'X_su': 0.687009382915891, 'X_aa': 2.094538076951509, 'X_fa': 1.069493395590156, 'X_I': 25.0, 'S_cation': 0.04, 'S_anion': 0.02, 'S_H_ion': 1e-05, 'S_va_ion': 0, 'S_bu_ion': 0.0, 'S_pro_ion': 0.0, 'S_ac_ion': 0, 'S_hco3_ion': 0, 'S_nh3': 0.0, 'S_gas_h2': 0, 'S_gas_ch4': 0, 'S_gas_co2': 0.0, 'S_nh4_ion': 0, 'S_co2': 0}, base_parameters={'R': 0.083145, 'T_base': 298.15, 'P_atm': 1.013, 'T_op': 328.15, 'V_liq': 0.00025, 'V_gas': 0.0001, 'pH_UL_ac': 7, 'pH_LL_ac': 6, 'pH_UL_aa': 5.5, 'pH_LL_aa': 4, 'pH_UL_h2': 6, 'pH_LL_h2': 5, 'pH_UL_pro': 5.5, 'pH_LL_pro': 4, 'pH_UL_bu': 5.5, 'pH_LL_bu': 4, 'pH_UL_va': 5.5, 'pH_LL_va': 4, 'q_in': 0, 'K_W': 1e-14}, constants=['S_H_ion'], reference='Delong_Lab_BETO_Experiment', model_name='e_adm_2'),\n",
              " Experiment(name='T_55_F_5_C_Delong_BETO', time=[0.0, 2.666666667, 5.5625, 8.75, 13.375, 23.375], variables=['S_ac', 'S_pro', 'S_bu', 'S_va', 'S_cap'], data=array([[0.        , 0.        , 0.        , 0.        , 0.        ],\n",
              "        [0.20799174, 0.        , 1.421376  , 0.        , 0.        ],\n",
              "        [0.08684505, 0.        , 1.64283577, 0.        , 0.        ],\n",
              "        [0.34476727, 0.        , 1.75236805, 0.        , 0.        ],\n",
              "        [0.19275755, 0.        , 1.79222066, 0.        , 0.        ],\n",
              "        [0.2021633 , 0.        , 1.70405727, 0.        , 0.        ]]), initial_concentrations={'S_su': 0, 'S_aa': 0, 'S_fa': 0, 'S_va': 0.0, 'S_bu': 0.0, 'S_et': 0.0, 'S_lac': 0.0, 'S_pro': 0.0, 'S_cap': 0.0, 'TSS': 9.75, 'TDS': 5.25, 'S_ac': 0.0, 'X_chain_lac': 0.812940513050481, 'S_h2': 1e-08, 'S_ch4': 1e-05, 'S_IC': 0.04, 'S_IN': 0.01, 'S_I': 0.02, 'X_ac_et': 0.699039048571589, 'X_Me_ac': 0.010315552834693001, 'X_Me_CO2': 0.0033774591681710003, 'S_cap_ion': 0.001, 'S_lac_ion': 0.0, 'X_et': 0.6937909966333521, 'X_lac': 0.824105810468433, 'X_chain_et': 0.6937909966333521, 'X_ch': 0.9524776011736651, 'X_pr': 0.6023350708221951, 'X_ac_lac': 0.8181885649887171, 'X_VFA_deg': 1.0, 'X_li': 0.038804302825245, 'X_su': 0.684176653658594, 'X_aa': 2.086367010721372, 'X_fa': 1.080290418450133, 'X_I': 25.0, 'S_cation': 0.04, 'S_anion': 0.02, 'S_H_ion': 1e-05, 'S_va_ion': 0, 'S_bu_ion': 0.0, 'S_pro_ion': 0.0, 'S_ac_ion': 0, 'S_hco3_ion': 0, 'S_nh3': 0.0, 'S_gas_h2': 0, 'S_gas_ch4': 0, 'S_gas_co2': 0.0, 'S_nh4_ion': 0, 'S_co2': 0}, base_parameters={'R': 0.083145, 'T_base': 298.15, 'P_atm': 1.013, 'T_op': 328.15, 'V_liq': 0.00025, 'V_gas': 0.0001, 'pH_UL_ac': 7, 'pH_LL_ac': 6, 'pH_UL_aa': 5.5, 'pH_LL_aa': 4, 'pH_UL_h2': 6, 'pH_LL_h2': 5, 'pH_UL_pro': 5.5, 'pH_LL_pro': 4, 'pH_UL_bu': 5.5, 'pH_LL_bu': 4, 'pH_UL_va': 5.5, 'pH_LL_va': 4, 'q_in': 0, 'K_W': 1e-14}, constants=['S_H_ion'], reference='Delong_Lab_BETO_Experiment', model_name='e_adm_2'),\n",
              " Experiment(name='T_55_F_7_A_Delong_BETO', time=[0.0, 0.75, 2.666666667, 5.5625, 8.75, 13.375], variables=['S_ac', 'S_pro', 'S_bu', 'S_va', 'S_cap'], data=array([[0.        , 0.        , 0.        , 0.        , 0.        ],\n",
              "        [0.07257748, 0.        , 0.35215066, 0.        , 0.        ],\n",
              "        [1.44652052, 0.        , 1.17552681, 0.        , 0.        ],\n",
              "        [0.94160629, 0.36637028, 1.24416005, 0.        , 0.        ],\n",
              "        [0.10730634, 0.        , 0.        , 0.        , 0.        ],\n",
              "        [0.07046815, 0.        , 0.        , 0.        , 0.        ]]), initial_concentrations={'S_su': 0, 'S_aa': 0, 'S_fa': 0, 'S_va': 0.0, 'S_bu': 0.0, 'S_et': 0.0, 'S_lac': 0.0, 'S_pro': 0.0, 'S_cap': 0.0, 'TSS': 9.75, 'TDS': 5.25, 'S_ac': 0.0, 'X_chain_lac': 0.8178990007202851, 'S_h2': 1e-08, 'S_ch4': 1e-05, 'S_IC': 0.04, 'S_IN': 0.01, 'S_I': 0.02, 'X_ac_et': 0.7426813186208139, 'X_Me_ac': 0.008699774052426, 'X_Me_CO2': 0.010764295332167, 'S_cap_ion': 0.001, 'S_lac_ion': 0.0, 'X_et': 0.7343807244844219, 'X_lac': 0.8391215264591401, 'X_chain_et': 0.7343807244844219, 'X_ch': 0.82921571085512, 'X_pr': 0.5566806837790019, 'X_ac_lac': 0.8261995948566759, 'X_VFA_deg': 1.0, 'X_li': 0.047608480127935, 'X_su': 0.600412543941419, 'X_aa': 2.068514495868455, 'X_fa': 1.183441126417708, 'X_I': 25.0, 'S_cation': 0.04, 'S_anion': 0.02, 'S_H_ion': 1e-07, 'S_va_ion': 0, 'S_bu_ion': 0.0, 'S_pro_ion': 0.0, 'S_ac_ion': 0, 'S_hco3_ion': 0, 'S_nh3': 0.0, 'S_gas_h2': 0, 'S_gas_ch4': 0, 'S_gas_co2': 0.0, 'S_nh4_ion': 0, 'S_co2': 0}, base_parameters={'R': 0.083145, 'T_base': 298.15, 'P_atm': 1.013, 'T_op': 328.15, 'V_liq': 0.00025, 'V_gas': 0.0001, 'pH_UL_ac': 7, 'pH_LL_ac': 6, 'pH_UL_aa': 5.5, 'pH_LL_aa': 4, 'pH_UL_h2': 6, 'pH_LL_h2': 5, 'pH_UL_pro': 5.5, 'pH_LL_pro': 4, 'pH_UL_bu': 5.5, 'pH_LL_bu': 4, 'pH_UL_va': 5.5, 'pH_LL_va': 4, 'q_in': 0, 'K_W': 1e-14}, constants=['S_H_ion'], reference='Delong_Lab_BETO_Experiment', model_name='e_adm_2'),\n",
              " Experiment(name='T_55_F_7_B_Delong_BETO', time=[0.0, 0.75, 2.666666667, 5.5625, 8.75, 13.375, 23.375], variables=['S_ac', 'S_pro', 'S_bu', 'S_va', 'S_cap'], data=array([[0.        , 0.        , 0.        , 0.        , 0.        ],\n",
              "        [0.25749326, 0.        , 0.92903093, 0.        , 0.        ],\n",
              "        [0.76164404, 0.        , 1.12076616, 0.        , 0.        ],\n",
              "        [0.28485285, 0.12098055, 1.00515369, 0.        , 0.        ],\n",
              "        [0.19909964, 0.2600545 , 0.2499752 , 0.        , 0.        ],\n",
              "        [0.09147742, 0.2075366 , 0.        , 0.        , 0.        ],\n",
              "        [0.08723617, 0.        , 0.17696807, 0.        , 0.        ]]), initial_concentrations={'S_su': 0, 'S_aa': 0, 'S_fa': 0, 'S_va': 0.0, 'S_bu': 0.0, 'S_et': 0.0, 'S_lac': 0.0, 'S_pro': 0.0, 'S_cap': 0.0, 'TSS': 9.75, 'TDS': 5.25, 'S_ac': 0.0, 'X_chain_lac': 0.8114979975386539, 'S_h2': 1e-08, 'S_ch4': 1e-05, 'S_IC': 0.04, 'S_IN': 0.01, 'S_I': 0.02, 'X_ac_et': 0.7332842036124649, 'X_Me_ac': 0.008939962715883, 'X_Me_CO2': 0.010202567891954999, 'S_cap_ion': 0.001, 'S_lac_ion': 0.0, 'X_et': 0.725225507757949, 'X_lac': 0.8324476692041891, 'X_chain_et': 0.725225507757949, 'X_ch': 0.847326391380296, 'X_pr': 0.5630054942636871, 'X_ac_lac': 0.8195566933931691, 'X_VFA_deg': 1.0, 'X_li': 0.049056100632405994, 'X_su': 0.598649202858764, 'X_aa': 2.10377194728479, 'X_fa': 1.171810753707835, 'X_I': 25.0, 'S_cation': 0.04, 'S_anion': 0.02, 'S_H_ion': 1e-07, 'S_va_ion': 0, 'S_bu_ion': 0.0, 'S_pro_ion': 0.0, 'S_ac_ion': 0, 'S_hco3_ion': 0, 'S_nh3': 0.0, 'S_gas_h2': 0, 'S_gas_ch4': 0, 'S_gas_co2': 0.0, 'S_nh4_ion': 0, 'S_co2': 0}, base_parameters={'R': 0.083145, 'T_base': 298.15, 'P_atm': 1.013, 'T_op': 328.15, 'V_liq': 0.00025, 'V_gas': 0.0001, 'pH_UL_ac': 7, 'pH_LL_ac': 6, 'pH_UL_aa': 5.5, 'pH_LL_aa': 4, 'pH_UL_h2': 6, 'pH_LL_h2': 5, 'pH_UL_pro': 5.5, 'pH_LL_pro': 4, 'pH_UL_bu': 5.5, 'pH_LL_bu': 4, 'pH_UL_va': 5.5, 'pH_LL_va': 4, 'q_in': 0, 'K_W': 1e-14}, constants=['S_H_ion'], reference='Delong_Lab_BETO_Experiment', model_name='e_adm_2'),\n",
              " Experiment(name='T_55_F_9_A_Delong_BETO', time=[0.0, 0.75, 2.666666667, 5.5625, 8.75, 13.375], variables=['S_ac', 'S_pro', 'S_bu', 'S_va', 'S_cap'], data=array([[0.        , 0.        , 0.        , 0.        , 0.        ],\n",
              "        [0.34554307, 0.        , 0.        , 0.        , 0.        ],\n",
              "        [0.26020041, 0.        , 0.        , 0.        , 0.        ],\n",
              "        [0.49534462, 0.        , 0.        , 0.        , 0.        ],\n",
              "        [0.30919661, 0.        , 0.        , 0.        , 0.        ],\n",
              "        [1.46510023, 0.        , 0.        , 0.        , 0.        ]]), initial_concentrations={'S_su': 0, 'S_aa': 0, 'S_fa': 0, 'S_va': 0.0, 'S_bu': 0.0, 'S_et': 0.0, 'S_lac': 0.0, 'S_pro': 0.0, 'S_cap': 0.0, 'TSS': 9.75, 'TDS': 5.25, 'S_ac': 0.0, 'X_chain_lac': 0.813179494153899, 'S_h2': 1e-08, 'S_ch4': 1e-05, 'S_IC': 0.04, 'S_IN': 0.01, 'S_I': 0.02, 'X_ac_et': 0.727272164300701, 'X_Me_ac': 0.009486728226790999, 'X_Me_CO2': 0.008612208924605999, 'S_cap_ion': 0.001, 'S_lac_ion': 0.0, 'X_et': 0.719528123199008, 'X_lac': 0.832187089808567, 'X_chain_et': 0.719528123199008, 'X_ch': 0.880773921397744, 'X_pr': 0.566397530671889, 'X_ac_lac': 0.820923535255592, 'X_VFA_deg': 1.0, 'X_li': 0.046205820797299, 'X_su': 0.619196186952934, 'X_aa': 2.08229913387259, 'X_fa': 1.154409939239367, 'X_I': 25.0, 'S_cation': 0.04, 'S_anion': 0.02, 'S_H_ion': 1e-09, 'S_va_ion': 0, 'S_bu_ion': 0.0, 'S_pro_ion': 0.0, 'S_ac_ion': 0, 'S_hco3_ion': 0, 'S_nh3': 0.0, 'S_gas_h2': 0, 'S_gas_ch4': 0, 'S_gas_co2': 0.0, 'S_nh4_ion': 0, 'S_co2': 0}, base_parameters={'R': 0.083145, 'T_base': 298.15, 'P_atm': 1.013, 'T_op': 328.15, 'V_liq': 0.00025, 'V_gas': 0.0001, 'pH_UL_ac': 7, 'pH_LL_ac': 6, 'pH_UL_aa': 5.5, 'pH_LL_aa': 4, 'pH_UL_h2': 6, 'pH_LL_h2': 5, 'pH_UL_pro': 5.5, 'pH_LL_pro': 4, 'pH_UL_bu': 5.5, 'pH_LL_bu': 4, 'pH_UL_va': 5.5, 'pH_LL_va': 4, 'q_in': 0, 'K_W': 1e-14}, constants=['S_H_ion'], reference='Delong_Lab_BETO_Experiment', model_name='e_adm_2'),\n",
              " Experiment(name='T_55_F_9_B_Delong_BETO', time=[0.0, 0.75, 2.666666667, 5.5625, 8.75, 13.375, 23.375], variables=['S_ac', 'S_pro', 'S_bu', 'S_va', 'S_cap'], data=array([[0.17225553, 0.        , 0.        , 0.        , 0.        ],\n",
              "        [0.17818279, 0.        , 0.21842264, 0.        , 0.        ],\n",
              "        [0.39292031, 0.        , 0.17820558, 0.        , 0.        ],\n",
              "        [0.88493402, 0.        , 0.17320113, 0.        , 0.        ],\n",
              "        [0.52778983, 0.        , 0.27331663, 0.        , 0.        ],\n",
              "        [0.58332918, 0.        , 0.        , 0.        , 0.        ],\n",
              "        [0.67832684, 0.        , 0.        , 0.        , 0.        ]]), initial_concentrations={'S_su': 0, 'S_aa': 0, 'S_fa': 0, 'S_va': 0.0, 'S_bu': 0.0, 'S_et': 0.0, 'S_lac': 0.0, 'S_pro': 0.0, 'S_cap': 0.0, 'TSS': 9.75, 'TDS': 5.25, 'S_ac': 0.17225553173333333, 'X_chain_lac': 0.8134862819151629, 'S_h2': 1e-08, 'S_ch4': 1e-05, 'S_IC': 0.04, 'S_IN': 0.01, 'S_I': 0.02, 'X_ac_et': 0.6998744360167051, 'X_Me_ac': 0.010375715164137999, 'X_Me_CO2': 0.0031554135999090002, 'S_cap_ion': 0.001, 'S_lac_ion': 0.0, 'X_et': 0.6950336687923531, 'X_lac': 0.8247308790850739, 'X_chain_et': 0.6950336687923531, 'X_ch': 0.96182257840504, 'X_pr': 0.600668252988638, 'X_ac_lac': 0.818327049139516, 'X_VFA_deg': 1.0, 'X_li': 0.038101837595522, 'X_su': 0.686802155053458, 'X_aa': 2.072067262463151, 'X_fa': 1.080520800988973, 'X_I': 25.0, 'S_cation': 0.04, 'S_anion': 0.02, 'S_H_ion': 1e-09, 'S_va_ion': 0, 'S_bu_ion': 0.0, 'S_pro_ion': 0.0, 'S_ac_ion': 0, 'S_hco3_ion': 0, 'S_nh3': 0.0, 'S_gas_h2': 0, 'S_gas_ch4': 0, 'S_gas_co2': 0.0, 'S_nh4_ion': 0, 'S_co2': 0}, base_parameters={'R': 0.083145, 'T_base': 298.15, 'P_atm': 1.013, 'T_op': 328.15, 'V_liq': 0.00025, 'V_gas': 0.0001, 'pH_UL_ac': 7, 'pH_LL_ac': 6, 'pH_UL_aa': 5.5, 'pH_LL_aa': 4, 'pH_UL_h2': 6, 'pH_LL_h2': 5, 'pH_UL_pro': 5.5, 'pH_LL_pro': 4, 'pH_UL_bu': 5.5, 'pH_LL_bu': 4, 'pH_UL_va': 5.5, 'pH_LL_va': 4, 'q_in': 0, 'K_W': 1e-14}, constants=['S_H_ion'], reference='Delong_Lab_BETO_Experiment', model_name='e_adm_2'),\n",
              " Experiment(name='T_55_M_5_A_Delong_BETO', time=[0.0, 3.541666667], variables=['S_ac', 'S_pro', 'S_bu', 'S_va', 'S_cap'], data=array([[0.        , 0.        , 0.        , 0.        , 0.        ],\n",
              "        [0.10559635, 0.        , 0.        , 0.        , 0.        ]]), initial_concentrations={'S_su': 0, 'S_aa': 0, 'S_fa': 0, 'S_va': 0.0, 'S_bu': 0.0, 'S_et': 0.0, 'S_lac': 0.0, 'S_pro': 0.0, 'S_cap': 0.0, 'TSS': 14.25, 'TDS': 0.75, 'S_ac': 0.0, 'X_chain_lac': 0.812307948544245, 'S_h2': 1e-08, 'S_ch4': 1e-05, 'S_IC': 0.04, 'S_IN': 0.01, 'S_I': 0.02, 'X_ac_et': 0.732116991851965, 'X_Me_ac': 0.011446360332508, 'X_Me_CO2': 0.01141267530251, 'S_cap_ion': 0.001, 'S_lac_ion': 0.0, 'X_et': 0.721345267814702, 'X_lac': 0.8355384552045241, 'X_chain_et': 0.721345267814702, 'X_ch': 0.800333856075094, 'X_pr': 0.48934243078662004, 'X_ac_lac': 0.823079672581508, 'X_VFA_deg': 1.0, 'X_li': 0.039210310613404, 'X_su': 0.649139534622596, 'X_aa': 2.193850797773793, 'X_fa': 1.159530430681822, 'X_I': 25.0, 'S_cation': 0.04, 'S_anion': 0.02, 'S_H_ion': 1e-05, 'S_va_ion': 0, 'S_bu_ion': 0.0, 'S_pro_ion': 0.0, 'S_ac_ion': 0, 'S_hco3_ion': 0, 'S_nh3': 0.0, 'S_gas_h2': 0, 'S_gas_ch4': 0, 'S_gas_co2': 0.0, 'S_nh4_ion': 0, 'S_co2': 0}, base_parameters={'R': 0.083145, 'T_base': 298.15, 'P_atm': 1.013, 'T_op': 328.15, 'V_liq': 0.00025, 'V_gas': 0.0001, 'pH_UL_ac': 7, 'pH_LL_ac': 6, 'pH_UL_aa': 5.5, 'pH_LL_aa': 4, 'pH_UL_h2': 6, 'pH_LL_h2': 5, 'pH_UL_pro': 5.5, 'pH_LL_pro': 4, 'pH_UL_bu': 5.5, 'pH_LL_bu': 4, 'pH_UL_va': 5.5, 'pH_LL_va': 4, 'q_in': 0, 'K_W': 1e-14}, constants=['S_H_ion'], reference='Delong_Lab_BETO_Experiment', model_name='e_adm_2'),\n",
              " Experiment(name='T_55_M_5_B_Delong_BETO', time=[0.0, 1.5, 3.541666667, 6.416666667, 10.5, 14.5], variables=['S_ac', 'S_pro', 'S_bu', 'S_va', 'S_cap'], data=array([[0.19838172, 0.        , 0.        , 0.        , 0.        ],\n",
              "        [0.15296761, 0.        , 0.        , 0.        , 0.        ],\n",
              "        [0.27440953, 0.        , 0.23697961, 0.        , 0.        ],\n",
              "        [0.27274419, 0.        , 0.2887301 , 0.        , 0.        ],\n",
              "        [0.14858431, 0.        , 0.        , 0.        , 0.        ],\n",
              "        [0.32951243, 0.19016369, 0.20801232, 0.        , 0.        ]]), initial_concentrations={'S_su': 0, 'S_aa': 0, 'S_fa': 0, 'S_va': 0.0, 'S_bu': 0.0, 'S_et': 0.0, 'S_lac': 0.0, 'S_pro': 0.0, 'S_cap': 0.0, 'TSS': 14.25, 'TDS': 0.75, 'S_ac': 0.19838171733333332, 'X_chain_lac': 0.814471484969916, 'S_h2': 1e-08, 'S_ch4': 1e-05, 'S_IC': 0.04, 'S_IN': 0.01, 'S_I': 0.02, 'X_ac_et': 0.733877243613069, 'X_Me_ac': 0.01176763657998, 'X_Me_CO2': 0.011848444384821001, 'S_cap_ion': 0.001, 'S_lac_ion': 0.0, 'X_et': 0.724039855371345, 'X_lac': 0.8376234020557211, 'X_chain_et': 0.724039855371345, 'X_ch': 0.814154025736612, 'X_pr': 0.491296061470881, 'X_ac_lac': 0.82430887321164, 'X_VFA_deg': 1.0, 'X_li': 0.03913935647454, 'X_su': 0.6463465180085239, 'X_aa': 2.1677679696235748, 'X_fa': 1.159319273128023, 'X_I': 25.0, 'S_cation': 0.04, 'S_anion': 0.02, 'S_H_ion': 1e-05, 'S_va_ion': 0, 'S_bu_ion': 0.0, 'S_pro_ion': 0.0, 'S_ac_ion': 0, 'S_hco3_ion': 0, 'S_nh3': 0.0, 'S_gas_h2': 0, 'S_gas_ch4': 0, 'S_gas_co2': 0.0, 'S_nh4_ion': 0, 'S_co2': 0}, base_parameters={'R': 0.083145, 'T_base': 298.15, 'P_atm': 1.013, 'T_op': 328.15, 'V_liq': 0.00025, 'V_gas': 0.0001, 'pH_UL_ac': 7, 'pH_LL_ac': 6, 'pH_UL_aa': 5.5, 'pH_LL_aa': 4, 'pH_UL_h2': 6, 'pH_LL_h2': 5, 'pH_UL_pro': 5.5, 'pH_LL_pro': 4, 'pH_UL_bu': 5.5, 'pH_LL_bu': 4, 'pH_UL_va': 5.5, 'pH_LL_va': 4, 'q_in': 0, 'K_W': 1e-14}, constants=['S_H_ion'], reference='Delong_Lab_BETO_Experiment', model_name='e_adm_2'),\n",
              " Experiment(name='T_55_M_5_C_Delong_BETO', time=[0.0, 3.541666667, 6.416666667, 10.5, 14.5], variables=['S_ac', 'S_pro', 'S_bu', 'S_va', 'S_cap'], data=array([[0.07001943, 0.        , 0.        , 0.        , 0.        ],\n",
              "        [0.16408602, 0.        , 0.        , 0.        , 0.        ],\n",
              "        [0.27096443, 0.        , 0.        , 0.        , 0.        ],\n",
              "        [0.15026175, 0.        , 0.        , 0.        , 0.        ],\n",
              "        [0.31255499, 0.        , 0.        , 0.        , 0.        ]]), initial_concentrations={'S_su': 0, 'S_aa': 0, 'S_fa': 0, 'S_va': 0.0, 'S_bu': 0.0, 'S_et': 0.0, 'S_lac': 0.0, 'S_pro': 0.0, 'S_cap': 0.0, 'TSS': 14.25, 'TDS': 0.75, 'S_ac': 0.07001943146666667, 'X_chain_lac': 0.8126407456272811, 'S_h2': 1e-08, 'S_ch4': 1e-05, 'S_IC': 0.04, 'S_IN': 0.01, 'S_I': 0.02, 'X_ac_et': 0.733111849390919, 'X_Me_ac': 0.0116596989302, 'X_Me_CO2': 0.011799230281482, 'S_cap_ion': 0.001, 'S_lac_ion': 0.0, 'X_et': 0.7230510207866391, 'X_lac': 0.8358179628069471, 'X_chain_et': 0.7230510207866391, 'X_ch': 0.808551064059019, 'X_pr': 0.493717115198143, 'X_ac_lac': 0.822701574231562, 'X_VFA_deg': 1.0, 'X_li': 0.038743793945752, 'X_su': 0.645060501853647, 'X_aa': 2.180031209100976, 'X_fa': 1.160063213000789, 'X_I': 25.0, 'S_cation': 0.04, 'S_anion': 0.02, 'S_H_ion': 1e-05, 'S_va_ion': 0, 'S_bu_ion': 0.0, 'S_pro_ion': 0.0, 'S_ac_ion': 0, 'S_hco3_ion': 0, 'S_nh3': 0.0, 'S_gas_h2': 0, 'S_gas_ch4': 0, 'S_gas_co2': 0.0, 'S_nh4_ion': 0, 'S_co2': 0}, base_parameters={'R': 0.083145, 'T_base': 298.15, 'P_atm': 1.013, 'T_op': 328.15, 'V_liq': 0.00025, 'V_gas': 0.0001, 'pH_UL_ac': 7, 'pH_LL_ac': 6, 'pH_UL_aa': 5.5, 'pH_LL_aa': 4, 'pH_UL_h2': 6, 'pH_LL_h2': 5, 'pH_UL_pro': 5.5, 'pH_LL_pro': 4, 'pH_UL_bu': 5.5, 'pH_LL_bu': 4, 'pH_UL_va': 5.5, 'pH_LL_va': 4, 'q_in': 0, 'K_W': 1e-14}, constants=['S_H_ion'], reference='Delong_Lab_BETO_Experiment', model_name='e_adm_2'),\n",
              " Experiment(name='T_55_M_7_A_Delong_BETO', time=[0.0, 1.5, 14.5], variables=['S_ac', 'S_pro', 'S_bu', 'S_va', 'S_cap'], data=array([[0.28432441, 0.        , 0.        , 0.        , 0.        ],\n",
              "        [0.56922183, 0.16163095, 0.        , 0.        , 0.        ],\n",
              "        [0.        , 0.        , 0.        , 0.        , 0.        ]]), initial_concentrations={'S_su': 0, 'S_aa': 0, 'S_fa': 0, 'S_va': 0.0, 'S_bu': 0.0, 'S_et': 0.0, 'S_lac': 0.0, 'S_pro': 0.0, 'S_cap': 0.0, 'TSS': 14.25, 'TDS': 0.75, 'S_ac': 0.28432440853333335, 'X_chain_lac': 0.8198858412793699, 'S_h2': 1e-08, 'S_ch4': 1e-05, 'S_IC': 0.04, 'S_IN': 0.01, 'S_I': 0.02, 'X_ac_et': 0.755739148474121, 'X_Me_ac': 0.010006898265092, 'X_Me_CO2': 0.013943134082347, 'S_cap_ion': 0.001, 'S_lac_ion': 0.0, 'X_et': 0.746596503828096, 'X_lac': 0.846981945966533, 'X_chain_et': 0.746596503828096, 'X_ch': 0.727151782640332, 'X_pr': 0.501763660645713, 'X_ac_lac': 0.829028485925395, 'X_VFA_deg': 1.0, 'X_li': 0.044460784561001006, 'X_su': 0.6022523560665001, 'X_aa': 2.1592767793299212, 'X_fa': 1.1963161751074771, 'X_I': 25.0, 'S_cation': 0.04, 'S_anion': 0.02, 'S_H_ion': 1e-07, 'S_va_ion': 0, 'S_bu_ion': 0.0, 'S_pro_ion': 0.0, 'S_ac_ion': 0, 'S_hco3_ion': 0, 'S_nh3': 0.0, 'S_gas_h2': 0, 'S_gas_ch4': 0, 'S_gas_co2': 0.0, 'S_nh4_ion': 0, 'S_co2': 0}, base_parameters={'R': 0.083145, 'T_base': 298.15, 'P_atm': 1.013, 'T_op': 328.15, 'V_liq': 0.00025, 'V_gas': 0.0001, 'pH_UL_ac': 7, 'pH_LL_ac': 6, 'pH_UL_aa': 5.5, 'pH_LL_aa': 4, 'pH_UL_h2': 6, 'pH_LL_h2': 5, 'pH_UL_pro': 5.5, 'pH_LL_pro': 4, 'pH_UL_bu': 5.5, 'pH_LL_bu': 4, 'pH_UL_va': 5.5, 'pH_LL_va': 4, 'q_in': 0, 'K_W': 1e-14}, constants=['S_H_ion'], reference='Delong_Lab_BETO_Experiment', model_name='e_adm_2'),\n",
              " Experiment(name='T_55_M_7_B_Delong_BETO', time=[0.0, 1.5, 3.541666667, 10.5, 14.5], variables=['S_ac', 'S_pro', 'S_bu', 'S_va', 'S_cap'], data=array([[0.12536209, 0.        , 0.        , 0.        , 0.        ],\n",
              "        [0.45070357, 0.        , 0.        , 0.        , 0.        ],\n",
              "        [0.09750318, 0.        , 0.        , 0.        , 0.        ],\n",
              "        [0.        , 0.        , 0.        , 0.        , 0.        ],\n",
              "        [0.08639868, 0.        , 0.        , 0.        , 0.        ]]), initial_concentrations={'S_su': 0, 'S_aa': 0, 'S_fa': 0, 'S_va': 0.0, 'S_bu': 0.0, 'S_et': 0.0, 'S_lac': 0.0, 'S_pro': 0.0, 'S_cap': 0.0, 'TSS': 14.25, 'TDS': 0.75, 'S_ac': 0.12536209493333333, 'X_chain_lac': 0.818228363063636, 'S_h2': 1e-08, 'S_ch4': 1e-05, 'S_IC': 0.04, 'S_IN': 0.01, 'S_I': 0.02, 'X_ac_et': 0.758041379258728, 'X_Me_ac': 0.009732398294132999, 'X_Me_CO2': 0.013942803745773, 'S_cap_ion': 0.001, 'S_lac_ion': 0.0, 'X_et': 0.7475345328775119, 'X_lac': 0.84440124004792, 'X_chain_et': 0.7475345328775119, 'X_ch': 0.724907596751589, 'X_pr': 0.48913310599456095, 'X_ac_lac': 0.828735209444853, 'X_VFA_deg': 1.0, 'X_li': 0.043279189356847, 'X_su': 0.607128509414701, 'X_aa': 2.1625744060012817, 'X_fa': 1.2048267328709499, 'X_I': 25.0, 'S_cation': 0.04, 'S_anion': 0.02, 'S_H_ion': 1e-07, 'S_va_ion': 0, 'S_bu_ion': 0.0, 'S_pro_ion': 0.0, 'S_ac_ion': 0, 'S_hco3_ion': 0, 'S_nh3': 0.0, 'S_gas_h2': 0, 'S_gas_ch4': 0, 'S_gas_co2': 0.0, 'S_nh4_ion': 0, 'S_co2': 0}, base_parameters={'R': 0.083145, 'T_base': 298.15, 'P_atm': 1.013, 'T_op': 328.15, 'V_liq': 0.00025, 'V_gas': 0.0001, 'pH_UL_ac': 7, 'pH_LL_ac': 6, 'pH_UL_aa': 5.5, 'pH_LL_aa': 4, 'pH_UL_h2': 6, 'pH_LL_h2': 5, 'pH_UL_pro': 5.5, 'pH_LL_pro': 4, 'pH_UL_bu': 5.5, 'pH_LL_bu': 4, 'pH_UL_va': 5.5, 'pH_LL_va': 4, 'q_in': 0, 'K_W': 1e-14}, constants=['S_H_ion'], reference='Delong_Lab_BETO_Experiment', model_name='e_adm_2'),\n",
              " Experiment(name='T_55_M_7_C_Delong_BETO', time=[0, 1.5, 6.416666667], variables=['S_ac', 'S_pro', 'S_bu', 'S_va', 'S_cap'], data=array([[0.        , 0.        , 0.        , 0.        , 0.        ],\n",
              "        [1.11975268, 0.        , 0.        , 0.        , 0.        ],\n",
              "        [0.0890523 , 0.        , 0.        , 0.        , 0.        ]]), initial_concentrations={'S_su': 0, 'S_aa': 0, 'S_fa': 0, 'S_va': 0, 'S_bu': 0, 'S_et': 0.0, 'S_lac': 0.0, 'S_pro': 0, 'S_cap': 0, 'TSS': 14.25, 'TDS': 0.75, 'S_ac': 0, 'X_chain_lac': 0.822654058656304, 'S_h2': 1e-08, 'S_ch4': 1e-05, 'S_IC': 0.04, 'S_IN': 0.01, 'S_I': 0.02, 'X_ac_et': 0.7552688244968541, 'X_Me_ac': 0.010683430360223999, 'X_Me_CO2': 0.014007976917008, 'S_cap_ion': 0.001, 'S_lac_ion': 0.0, 'X_et': 0.746492021586945, 'X_lac': 0.849124098341417, 'X_chain_et': 0.746492021586945, 'X_ch': 0.749398229368667, 'X_pr': 0.499393436480714, 'X_ac_lac': 0.831430861566213, 'X_VFA_deg': 1.0, 'X_li': 0.044075730067653, 'X_su': 0.609123420133919, 'X_aa': 2.125521136525053, 'X_fa': 1.1963347539120759, 'X_I': 25.0, 'S_cation': 0.04, 'S_anion': 0.02, 'S_H_ion': 1e-07, 'S_va_ion': 0, 'S_bu_ion': 0.0, 'S_pro_ion': 0.0, 'S_ac_ion': 0, 'S_hco3_ion': 0, 'S_nh3': 0.0, 'S_gas_h2': 0, 'S_gas_ch4': 0, 'S_gas_co2': 0.0, 'S_nh4_ion': 0, 'S_co2': 0}, base_parameters={'R': 0.083145, 'T_base': 298.15, 'P_atm': 1.013, 'T_op': 328.15, 'V_liq': 0.00025, 'V_gas': 0.0001, 'pH_UL_ac': 7, 'pH_LL_ac': 6, 'pH_UL_aa': 5.5, 'pH_LL_aa': 4, 'pH_UL_h2': 6, 'pH_LL_h2': 5, 'pH_UL_pro': 5.5, 'pH_LL_pro': 4, 'pH_UL_bu': 5.5, 'pH_LL_bu': 4, 'pH_UL_va': 5.5, 'pH_LL_va': 4, 'q_in': 0, 'K_W': 1e-14}, constants=['S_H_ion'], reference='Delong_Lab_BETO_Experiment', model_name='e_adm_2'),\n",
              " Experiment(name='T_55_M_9_B_Delong_BETO', time=[0.0, 1.5, 3.541666667, 6.416666667, 10.5, 14.5], variables=['S_ac', 'S_pro', 'S_bu', 'S_va', 'S_cap'], data=array([[0.09899644, 0.        , 0.        , 0.        , 0.        ],\n",
              "        [0.17399684, 0.        , 0.        , 0.        , 0.        ],\n",
              "        [0.21476998, 0.        , 0.        , 0.        , 0.        ],\n",
              "        [0.50842164, 0.        , 0.        , 0.        , 0.        ],\n",
              "        [0.44746828, 0.        , 0.32030443, 0.        , 0.        ],\n",
              "        [0.84408423, 0.        , 0.        , 0.        , 0.        ]]), initial_concentrations={'S_su': 0, 'S_aa': 0, 'S_fa': 0, 'S_va': 0.0, 'S_bu': 0.0, 'S_et': 0.0, 'S_lac': 0.0, 'S_pro': 0.0, 'S_cap': 0.0, 'TSS': 14.25, 'TDS': 0.75, 'S_ac': 0.0989964416, 'X_chain_lac': 0.8155307227306601, 'S_h2': 1e-08, 'S_ch4': 1e-05, 'S_IC': 0.04, 'S_IN': 0.01, 'S_I': 0.02, 'X_ac_et': 0.7301376738287451, 'X_Me_ac': 0.012166200462968, 'X_Me_CO2': 0.010748169877804999, 'S_cap_ion': 0.001, 'S_lac_ion': 0.0, 'X_et': 0.722251917902052, 'X_lac': 0.838389250274053, 'X_chain_et': 0.722251917902052, 'X_ch': 0.8300636538870949, 'X_pr': 0.5105267751468421, 'X_ac_lac': 0.823416478657353, 'X_VFA_deg': 1.0, 'X_li': 0.03961701378193899, 'X_su': 0.650319492957439, 'X_aa': 2.149682288992501, 'X_fa': 1.144898443598492, 'X_I': 25.0, 'S_cation': 0.04, 'S_anion': 0.02, 'S_H_ion': 1e-09, 'S_va_ion': 0, 'S_bu_ion': 0.0, 'S_pro_ion': 0.0, 'S_ac_ion': 0, 'S_hco3_ion': 0, 'S_nh3': 0.0, 'S_gas_h2': 0, 'S_gas_ch4': 0, 'S_gas_co2': 0.0, 'S_nh4_ion': 0, 'S_co2': 0}, base_parameters={'R': 0.083145, 'T_base': 298.15, 'P_atm': 1.013, 'T_op': 328.15, 'V_liq': 0.00025, 'V_gas': 0.0001, 'pH_UL_ac': 7, 'pH_LL_ac': 6, 'pH_UL_aa': 5.5, 'pH_LL_aa': 4, 'pH_UL_h2': 6, 'pH_LL_h2': 5, 'pH_UL_pro': 5.5, 'pH_LL_pro': 4, 'pH_UL_bu': 5.5, 'pH_LL_bu': 4, 'pH_UL_va': 5.5, 'pH_LL_va': 4, 'q_in': 0, 'K_W': 1e-14}, constants=['S_H_ion'], reference='Delong_Lab_BETO_Experiment', model_name='e_adm_2'),\n",
              " Experiment(name='T_55_M_9_C_Delong_BETO', time=[0.0, 1.5, 3.541666667, 6.416666667, 10.5, 14.5], variables=['S_ac', 'S_pro', 'S_bu', 'S_va', 'S_cap'], data=array([[0.21703891, 0.        , 0.        , 0.        , 0.        ],\n",
              "        [0.27143772, 0.        , 0.        , 0.        , 0.        ],\n",
              "        [0.52843012, 0.        , 0.        , 0.        , 0.        ],\n",
              "        [0.95555596, 0.        , 0.        , 0.        , 0.        ],\n",
              "        [0.7643989 , 0.        , 0.        , 0.        , 0.        ],\n",
              "        [0.86994316, 0.        , 0.        , 0.        , 0.        ]]), initial_concentrations={'S_su': 0, 'S_aa': 0, 'S_fa': 0, 'S_va': 0.0, 'S_bu': 0.0, 'S_et': 0.0, 'S_lac': 0.0, 'S_pro': 0.0, 'S_cap': 0.0, 'TSS': 14.25, 'TDS': 0.75, 'S_ac': 0.21703890879999999, 'X_chain_lac': 0.818351247416455, 'S_h2': 1e-08, 'S_ch4': 1e-05, 'S_IC': 0.04, 'S_IN': 0.01, 'S_I': 0.02, 'X_ac_et': 0.734551145758915, 'X_Me_ac': 0.011796698995641, 'X_Me_CO2': 0.011069209077183, 'S_cap_ion': 0.001, 'S_lac_ion': 0.0, 'X_et': 0.72648993404326, 'X_lac': 0.842827487354395, 'X_chain_et': 0.72648993404326, 'X_ch': 0.794379273123445, 'X_pr': 0.502965514363526, 'X_ac_lac': 0.8264124591321099, 'X_VFA_deg': 1.0, 'X_li': 0.040400074206988004, 'X_su': 0.6409598442658759, 'X_aa': 2.164792303387931, 'X_fa': 1.158514874831011, 'X_I': 25.0, 'S_cation': 0.04, 'S_anion': 0.02, 'S_H_ion': 1e-09, 'S_va_ion': 0, 'S_bu_ion': 0.0, 'S_pro_ion': 0.0, 'S_ac_ion': 0, 'S_hco3_ion': 0, 'S_nh3': 0.0, 'S_gas_h2': 0, 'S_gas_ch4': 0, 'S_gas_co2': 0.0, 'S_nh4_ion': 0, 'S_co2': 0}, base_parameters={'R': 0.083145, 'T_base': 298.15, 'P_atm': 1.013, 'T_op': 328.15, 'V_liq': 0.00025, 'V_gas': 0.0001, 'pH_UL_ac': 7, 'pH_LL_ac': 6, 'pH_UL_aa': 5.5, 'pH_LL_aa': 4, 'pH_UL_h2': 6, 'pH_LL_h2': 5, 'pH_UL_pro': 5.5, 'pH_LL_pro': 4, 'pH_UL_bu': 5.5, 'pH_LL_bu': 4, 'pH_UL_va': 5.5, 'pH_LL_va': 4, 'q_in': 0, 'K_W': 1e-14}, constants=['S_H_ion'], reference='Delong_Lab_BETO_Experiment', model_name='e_adm_2')]"
            ]
          },
          "execution_count": 43,
          "metadata": {},
          "output_type": "execute_result"
        }
      ],
      "source": [
        "exp"
      ]
    },
    {
      "cell_type": "code",
      "execution_count": 42,
      "metadata": {},
      "outputs": [
        {
          "ename": "ValueError",
          "evalue": "9 is not in list",
          "output_type": "error",
          "traceback": [
            "\u001b[0;31m---------------------------------------------------------------------------\u001b[0m",
            "\u001b[0;31mValueError\u001b[0m                                Traceback (most recent call last)",
            "Cell \u001b[0;32mIn [42], line 1\u001b[0m\n\u001b[0;32m----> 1\u001b[0m optimize\u001b[38;5;241m.\u001b[39mvalidate_model(model\u001b[38;5;241m=\u001b[39mmodel,data\u001b[38;5;241m=\u001b[39mexp,plot\u001b[38;5;241m=\u001b[39m\u001b[38;5;28;01mTrue\u001b[39;00m,show_extra_states\u001b[38;5;241m=\u001b[39m[\u001b[38;5;124m\"\u001b[39m\u001b[38;5;124mS_H_ion\u001b[39m\u001b[38;5;124m\"\u001b[39m])\n",
            "File \u001b[0;32m~/Desktop/Academics/Projects/ADToolbox/adtoolbox/optimize.py:388\u001b[0m, in \u001b[0;36mvalidate_model\u001b[0;34m(model, data, plot, show_extra_states, ode_solver)\u001b[0m\n\u001b[1;32m    386\u001b[0m model\u001b[38;5;241m.\u001b[39mcontrol_state\u001b[38;5;241m=\u001b[39m{k:data[\u001b[38;5;241m0\u001b[39m]\u001b[38;5;241m.\u001b[39minitial_concentrations[k] \u001b[38;5;28;01mfor\u001b[39;00m k \u001b[38;5;129;01min\u001b[39;00m data[\u001b[38;5;241m0\u001b[39m]\u001b[38;5;241m.\u001b[39mconstants}\n\u001b[1;32m    387\u001b[0m model\u001b[38;5;241m.\u001b[39mupdate_parameters(base_parameters\u001b[38;5;241m=\u001b[39mdata[\u001b[38;5;241m0\u001b[39m]\u001b[38;5;241m.\u001b[39mbase_parameters)\n\u001b[0;32m--> 388\u001b[0m \u001b[43mmodel\u001b[49m\u001b[38;5;241;43m.\u001b[39;49m\u001b[43mupdate_parameters\u001b[49m\u001b[43m(\u001b[49m\u001b[43minitial_conditions\u001b[49m\u001b[38;5;241;43m=\u001b[39;49m\u001b[43mic\u001b[49m\u001b[43m)\u001b[49m\n\u001b[1;32m    389\u001b[0m all_time_points\u001b[38;5;241m=\u001b[39mnp\u001b[38;5;241m.\u001b[39marray(\u001b[38;5;28msorted\u001b[39m(\u001b[38;5;28mlist\u001b[39m(\u001b[38;5;28mset\u001b[39m(\u001b[38;5;28msum\u001b[39m([exp\u001b[38;5;241m.\u001b[39mtime \u001b[38;5;28;01mfor\u001b[39;00m exp \u001b[38;5;129;01min\u001b[39;00m data],start\u001b[38;5;241m=\u001b[39m[])))))\n\u001b[1;32m    390\u001b[0m solution\u001b[38;5;241m=\u001b[39mmodel\u001b[38;5;241m.\u001b[39msolve_model(all_time_points,method\u001b[38;5;241m=\u001b[39mode_solver)\n",
            "File \u001b[0;32m~/Desktop/Academics/Projects/ADToolbox/adtoolbox/adm.py:132\u001b[0m, in \u001b[0;36mModel.update_parameters\u001b[0;34m(self, model_parameters, base_parameters, initial_conditions, inlet_conditions)\u001b[0m\n\u001b[1;32m    130\u001b[0m \u001b[38;5;28;01mif\u001b[39;00m initial_conditions \u001b[38;5;129;01mis\u001b[39;00m \u001b[38;5;129;01mnot\u001b[39;00m \u001b[38;5;28;01mNone\u001b[39;00m:\n\u001b[1;32m    131\u001b[0m     \u001b[38;5;28;01mfor\u001b[39;00m k,v \u001b[38;5;129;01min\u001b[39;00m initial_conditions\u001b[38;5;241m.\u001b[39mitems():\n\u001b[0;32m--> 132\u001b[0m         \u001b[38;5;28mself\u001b[39m\u001b[38;5;241m.\u001b[39minitial_conditions[\u001b[38;5;28;43mself\u001b[39;49m\u001b[38;5;241;43m.\u001b[39;49m\u001b[43mspecies\u001b[49m\u001b[38;5;241;43m.\u001b[39;49m\u001b[43mindex\u001b[49m\u001b[43m(\u001b[49m\u001b[43mk\u001b[49m\u001b[43m)\u001b[49m]\u001b[38;5;241m=\u001b[39mv\n\u001b[1;32m    133\u001b[0m \u001b[38;5;28;01mif\u001b[39;00m inlet_conditions \u001b[38;5;129;01mis\u001b[39;00m \u001b[38;5;129;01mnot\u001b[39;00m \u001b[38;5;28;01mNone\u001b[39;00m:\n\u001b[1;32m    134\u001b[0m     \u001b[38;5;28;01mfor\u001b[39;00m k,v \u001b[38;5;129;01min\u001b[39;00m inlet_conditions\u001b[38;5;241m.\u001b[39mitems():\n",
            "\u001b[0;31mValueError\u001b[0m: 9 is not in list"
          ]
        }
      ],
      "source": [
        "optimize.validate_model(model=model,data=,plot=True,show_extra_states=[\"S_H_ion\"])"
      ]
    },
    {
      "cell_type": "code",
      "execution_count": 44,
      "metadata": {},
      "outputs": [],
      "source": [
        "tunables={\n",
        "          \"f_pro_su\": (0.2,0.45), \n",
        "          \"f_et_su\": (0.01,0.3), \n",
        "          \"f_lac_su\": (0.1,0.3), \n",
        "          \"K_pH_ac\":(0.001,0.1),\n",
        "          \"Y_su\": (0.01,0.3), \n",
        "          \"K_S_su\": (1,10),\n",
        "          \"K_S_ac\": (1,10),\n",
        "          \"K_S_pro\": (1,10),\n",
        "          \"K_I_h2_ox\": (1e-8,1000),\n",
        "          \"K_I_h2_c4\": (1e-8,10),\n",
        "          \"K_I_h2_pro\": (1e-8,100),\n",
        "          \"K_I_h2_fa\":(1e-8,10),\n",
        "          \"f_co2_ch4\":(-1,-0.000001),\n",
        "          \"K_S_IN\": (1e-5,10),\n",
        "          \"f_pro_aa\": (0.1,0.7),\n",
        "          \"f_et_aa\": (0.0001,0.2),\n",
        "          \"f_lac_aa\": (0.01,0.3),\n",
        "          \"Y_ac_et\": (0.01,0.2),  \n",
        "          \"f_et_ac\": (-0.3,-0.15),\n",
        "          \"f_bu_ac\": (0.6,1), \n",
        "          \"Y_ac_lac\": (0.1,0.4), \n",
        "          \"f_lac_ac\": (-0.3,-0.01),\n",
        "          \"f_h2_ac\": (0.1,0.2),\n",
        "          \"Y_ac_et_ox\":(0.1,0.3), \n",
        "          \"Y_pro_lac_ox\": (0.01,0.3), \n",
        "          \"Y_pro_et\": (0.01,0.3),  \n",
        "          \"f_et_pro\": (-1,-0.15), \n",
        "          \"f_va_pro\": (0.8,1), \n",
        "          \"Y_pro_lac\": (0.01,0.3),\n",
        "          \"f_lac_pro\": (-0.5,-0.15),\n",
        "          \"f_h2_pro\": (0.01,0.2), \n",
        "          \"Y_chain_et_pro\": (0.01,0.3),  \n",
        "          \"Y_chain_lac_pro\": (0.01,0.3),  \n",
        "          \"Y_bu_et\": (0.01,0.3),  \n",
        "          \"f_et_bu\": (-1,-0.1), \n",
        "          \"f_cap_bu\": (0.6,1),\n",
        "          \"Y_bu_lac\": (0.1,0.8), \n",
        "          \"f_lac_bu\": (-1,-0.1), \n",
        "          \"f_h2_bu\": (0.01,0.2), \n",
        "          \"Y_va\": (0.1,0.3), \n",
        "          \"Y_cap\": (0.2,0.6),\n",
        "          \"Y_h2_ac\": (0.1,0.3),\n",
        "          \"Y_h2_CO2\": (0.1,0.3), \n",
        "          \"f_ac_h2\": (-1,-0.5),\n",
        "          \"Y_Me_ac\": (0.1,0.3), \n",
        "          \"Y_Me_CO2\": (0.1,0.3), \n",
        "          \"Y_Me_h2\": (0.1,0.3), \n",
        "          \"Y_aa\": (0.01,0.3),\n",
        "          \"Y_fa\": (0.01,0.3),\n",
        "          \"Y_ac\": (0.01,0.5), \n",
        "          \"k_dis_TSS\": (0.01,0.5), \n",
        "          \"k_dis_TDS\": (0.1,10), \n",
        "          \"k_hyd_ch\": (0.01,15), \n",
        "          \"k_hyd_pr\": (0.01,15), \n",
        "          \"k_hyd_li\": (0.11,15), \n",
        "          \"k_m_su\": (1,50), \n",
        "          \"K_S_su\": (1,40), \n",
        "          \"k_m_aa\": (1,35), \n",
        "          \"K_S_aa\": (0.1,40), \n",
        "          \"k_m_fa\": (0.1,30), \n",
        "          \"K_S_fa\": (0.1,20), \n",
        "          \"k_m_bu\": (0.5,20), \n",
        "          \"K_S_bu\": (0.05,50), \n",
        "          \"k_m_va\": (0.1,2),  \n",
        "          \"K_S_va\": (0.01,20),\n",
        "          \"k_m_cap\": (0.01,5),\n",
        "          \"K_S_cap\": (0.01,50),\n",
        "          \"k_m_pro\": (1,40), \n",
        "          \"K_S_pro\": (0.01,20),\n",
        "          \"k_m_et\": (1,50),\n",
        "          \"K_S_et\": (1,150), \n",
        "          \"k_m_lac\": (0.1,30), \n",
        "          \"K_S_lac\": (0.01,100),\n",
        "          \"k_m_ac\": (10,50), \n",
        "          \"K_S_ac\": (0.01,15),  \n",
        "          \"k_m_h2_Me_ac\": (1,100), \n",
        "          \"K_S_h2_Me_ac\": (1e-06,1e-02),\n",
        "          \"K_S_ac_Me\": (0.001,20),\n",
        "          \"k_m_h2_Me_CO2\": (0.1,50), \n",
        "          \"K_S_h2_Me_CO2\": (1e-06,1e-02),\n",
        "          \"K_S_CO2_Me\": (0.01,5),  \n",
        "          \"f_pro_fa\": (0.2,0.6),\n",
        "          \"f_et_fa\": (0,0.1),\n",
        "          \"f_lac_fa\":(0,0.1),\n",
        "          \"k_L_a\":(10,100),\n",
        "          \"K_S_ac_lac\":(0.01,50),\n",
        "          \"K_S_ac_et\":(0.01,10),\n",
        "          \"K_S_pro_et\":(0.01,0.6),\n",
        "          \"K_S_bu_et\":(0.01,0.6),\n",
        "          \"K_S_bu_lac\":(0.01,0.6),\n",
        "          \"K_S_pro_lac\": (0.01,0.6),\n",
        "          'f_ac_h2':(-0.2,-0.01),\n",
        "          \"k_m_bu_deg\":(0.1,10),\n",
        "          \"Y_bu\":(0.01,10),\n",
        "          \"K_pH_aa\":(0.0000001,10),\n",
        "          \"nn_aa\":(0.1,10),\n",
        "          'K_pH_ac':(0.0000001,10),\n",
        "          'n_ac':(0.1,10),\n",
        "          'K_pH_pro':(0.000001,10),\n",
        "          'n_pro':(0.1,10),\n",
        "          \"K_pH_bu\":(0.0000001,10),\n",
        "          'n_bu':(0.1,50),    \n",
        "          \"K_pH_va\":(0.0000001,10),\n",
        "          'n_va':(0.1,10),    \n",
        "          \"K_pH_cap\":(0.000001,10),\n",
        "          'n_cap':(0.1,10),                 \n",
        " }"
      ]
    },
    {
      "cell_type": "code",
      "execution_count": 45,
      "metadata": {},
      "outputs": [],
      "source": [
        "model.time_limit=100\n",
        "optimizer = optimize.NNSurrogateTuner(\n",
        "    base_model=model,\n",
        "    train_data=exp[6:],\n",
        "    tuneables=tunables,\n",
        "    initial_points=5,)"
      ]
    },
    {
      "cell_type": "code",
      "execution_count": 46,
      "metadata": {},
      "outputs": [
        {
          "name": "stdout",
          "output_type": "stream",
          "text": [
            "Could not solve model, setting C to a very large value\n",
            "Could not solve model, setting C to a very large value\n",
            "Could not solve model, setting C to a very large value\n",
            "Could not solve model, setting C to a very large value\n",
            "Could not solve model, setting C to a very large value\n",
            "Could not solve model, setting C to a very large value\n"
          ]
        },
        {
          "name": "stderr",
          "output_type": "stream",
          "text": [
            "/Users/parsaghadermarzi/Desktop/Academics/Projects/ADToolbox/adtoolbox/adm.py:1720: RuntimeWarning:\n",
            "\n",
            "overflow encountered in double_scalars\n",
            "\n",
            "/Users/parsaghadermarzi/Desktop/Academics/Projects/ADToolbox/adtoolbox/adm.py:1758: RuntimeWarning:\n",
            "\n",
            "invalid value encountered in matmul\n",
            "\n",
            "/Users/parsaghadermarzi/Desktop/Academics/Projects/ADToolbox/adtoolbox/adm.py:1714: RuntimeWarning:\n",
            "\n",
            "overflow encountered in double_scalars\n",
            "\n",
            "/Users/parsaghadermarzi/Desktop/Academics/Projects/ADToolbox/adtoolbox/adm.py:1723: RuntimeWarning:\n",
            "\n",
            "overflow encountered in double_scalars\n",
            "\n",
            "/Users/parsaghadermarzi/Desktop/Academics/Projects/ADToolbox/adtoolbox/adm.py:1726: RuntimeWarning:\n",
            "\n",
            "overflow encountered in double_scalars\n",
            "\n"
          ]
        },
        {
          "name": "stdout",
          "output_type": "stream",
          "text": [
            "Could not solve model, setting C to a very large value\n",
            "Training Loss: 569451.25\n",
            "Step 1/100 completed.Current cost:576.0881329514324 Best cost: 576.0881329514324\n",
            "Training Loss: 481446.71875\n",
            "Step 2/100 completed.Current cost:576.0881329514324 Best cost: 576.0881329514324\n",
            "Training Loss: 411280.84375\n",
            "Local optima reached: Perturbing the best solution and continuing.\n",
            "Step 3/100 completed.Current cost:590.9393730963704 Best cost: 576.0881329514324\n",
            "Training Loss: 354667.6875\n",
            "Step 4/100 completed.Current cost:576.0881329514324 Best cost: 576.0881329514324\n",
            "Training Loss: 304608.65625\n",
            "Step 5/100 completed.Current cost:576.0881329514324 Best cost: 576.0881329514324\n",
            "Training Loss: 261153.046875\n",
            "Local optima reached: Perturbing the best solution and continuing.\n",
            "Step 6/100 completed.Current cost:588.3878128564796 Best cost: 576.0881329514324\n",
            "Training Loss: 223827.203125\n",
            "Step 7/100 completed.Current cost:576.0881329514324 Best cost: 576.0881329514324\n",
            "Training Loss: 190018.453125\n",
            "Step 8/100 completed.Current cost:576.0881329514324 Best cost: 576.0881329514324\n",
            "Training Loss: 160094.921875\n",
            "Local optima reached: Perturbing the best solution and continuing.\n",
            "Step 9/100 completed.Current cost:648.8451030337228 Best cost: 576.0881329514324\n",
            "Training Loss: 136761.984375\n",
            "Step 10/100 completed.Current cost:576.0881329514324 Best cost: 576.0881329514324\n",
            "Training Loss: 112921.5\n",
            "Step 11/100 completed.Current cost:576.0881329514324 Best cost: 576.0881329514324\n",
            "Training Loss: 92042.984375\n",
            "Local optima reached: Perturbing the best solution and continuing.\n"
          ]
        },
        {
          "name": "stderr",
          "output_type": "stream",
          "text": [
            "/Users/parsaghadermarzi/Desktop/Academics/Projects/ADToolbox/adtoolbox/adm.py:1717: RuntimeWarning:\n",
            "\n",
            "overflow encountered in double_scalars\n",
            "\n",
            "/Users/parsaghadermarzi/Desktop/Academics/Projects/ADToolbox/adtoolbox/adm.py:1729: RuntimeWarning:\n",
            "\n",
            "overflow encountered in double_scalars\n",
            "\n"
          ]
        },
        {
          "name": "stdout",
          "output_type": "stream",
          "text": [
            "Could not solve model, setting C to a very large value\n",
            "Could not solve model, setting C to a very large value\n",
            "Could not solve model, setting C to a very large value\n",
            "Could not solve model, setting C to a very large value\n",
            "Could not solve model, setting C to a very large value\n",
            "Step 12/100 completed.Current cost:1.6999999998506293e+22 Best cost: 576.0881329514324\n",
            "Training Loss: 93189.65625\n",
            "Step 13/100 completed.Current cost:576.0881329514324 Best cost: 576.0881329514324\n",
            "Training Loss: 75162.7578125\n",
            "Step 14/100 completed.Current cost:576.0881329514324 Best cost: 576.0881329514324\n",
            "Training Loss: 59890.2265625\n",
            "Local optima reached: Perturbing the best solution and continuing.\n",
            "Step 15/100 completed.Current cost:559.3816598650619 Best cost: 559.3816598650619\n",
            "Training Loss: 47101.5390625\n"
          ]
        },
        {
          "ename": "KeyboardInterrupt",
          "evalue": "",
          "output_type": "error",
          "traceback": [
            "\u001b[0;31m---------------------------------------------------------------------------\u001b[0m",
            "\u001b[0;31mKeyboardInterrupt\u001b[0m                         Traceback (most recent call last)",
            "Cell \u001b[0;32mIn [46], line 1\u001b[0m\n\u001b[0;32m----> 1\u001b[0m optimizer\u001b[38;5;241m.\u001b[39moptimize(perturbation_method\u001b[38;5;241m=\u001b[39m\u001b[38;5;124m\"\u001b[39m\u001b[38;5;124mestimate_gradient_directions\u001b[39m\u001b[38;5;124m\"\u001b[39m,ode_method\u001b[38;5;241m=\u001b[39m\u001b[38;5;124m\"\u001b[39m\u001b[38;5;124mBDF\u001b[39m\u001b[38;5;124m\"\u001b[39m)\n",
            "File \u001b[0;32m~/Desktop/Academics/Projects/ADToolbox/adtoolbox/optimize.py:323\u001b[0m, in \u001b[0;36mNNSurrogateTuner.optimize\u001b[0;34m(self, perturbation_method, ode_method, **kwargs)\u001b[0m\n\u001b[1;32m    321\u001b[0m new_params[new_params\u001b[38;5;241m>\u001b[39m\u001b[38;5;28mself\u001b[39m\u001b[38;5;241m.\u001b[39m_param_space[:,\u001b[38;5;241m1\u001b[39m]]\u001b[38;5;241m=\u001b[39m\u001b[38;5;28mself\u001b[39m\u001b[38;5;241m.\u001b[39m_param_space[:,\u001b[38;5;241m1\u001b[39m][new_params\u001b[38;5;241m>\u001b[39m\u001b[38;5;28mself\u001b[39m\u001b[38;5;241m.\u001b[39m_param_space[:,\u001b[38;5;241m1\u001b[39m]]\n\u001b[1;32m    322\u001b[0m \u001b[38;5;66;03m## make sure not in the local optima\u001b[39;00m\n\u001b[0;32m--> 323\u001b[0m new_cost\u001b[38;5;241m=\u001b[39m\u001b[38;5;28;43mself\u001b[39;49m\u001b[38;5;241;43m.\u001b[39;49m\u001b[43m_cost\u001b[49m\u001b[43m(\u001b[49m\u001b[38;5;28;43mdict\u001b[39;49m\u001b[43m(\u001b[49m\u001b[38;5;28;43mzip\u001b[39;49m\u001b[43m(\u001b[49m\u001b[38;5;28;43mself\u001b[39;49m\u001b[38;5;241;43m.\u001b[39;49m\u001b[43mtunables\u001b[49m\u001b[38;5;241;43m.\u001b[39;49m\u001b[43mkeys\u001b[49m\u001b[43m(\u001b[49m\u001b[43m)\u001b[49m\u001b[43m,\u001b[49m\u001b[43mnew_params\u001b[49m\u001b[43m)\u001b[49m\u001b[43m)\u001b[49m\u001b[43m,\u001b[49m\u001b[43mode_method\u001b[49m\u001b[38;5;241;43m=\u001b[39;49m\u001b[43mode_method\u001b[49m\u001b[43m)\u001b[49m\n\u001b[1;32m    324\u001b[0m \u001b[38;5;28mself\u001b[39m\u001b[38;5;241m.\u001b[39m_aquired[\u001b[38;5;124m\"\u001b[39m\u001b[38;5;124mparameters\u001b[39m\u001b[38;5;124m\"\u001b[39m]\u001b[38;5;241m=\u001b[39mnp\u001b[38;5;241m.\u001b[39mvstack((\u001b[38;5;28mself\u001b[39m\u001b[38;5;241m.\u001b[39m_aquired[\u001b[38;5;124m\"\u001b[39m\u001b[38;5;124mparameters\u001b[39m\u001b[38;5;124m\"\u001b[39m],new_params))\n\u001b[1;32m    325\u001b[0m \u001b[38;5;28mself\u001b[39m\u001b[38;5;241m.\u001b[39m_aquired[\u001b[38;5;124m\"\u001b[39m\u001b[38;5;124mcost\u001b[39m\u001b[38;5;124m\"\u001b[39m]\u001b[38;5;241m.\u001b[39mappend(new_cost)\n",
            "File \u001b[0;32m~/Desktop/Academics/Projects/ADToolbox/adtoolbox/optimize.py:252\u001b[0m, in \u001b[0;36mNNSurrogateTuner._cost\u001b[0;34m(self, parameters, ode_method)\u001b[0m\n\u001b[1;32m    249\u001b[0m     _model\u001b[38;5;241m.\u001b[39mbase_parameters\u001b[38;5;241m=\u001b[39mexperiment\u001b[38;5;241m.\u001b[39mbase_parameters\n\u001b[1;32m    250\u001b[0m     _model\u001b[38;5;241m.\u001b[39mcontrol_state\u001b[38;5;241m=\u001b[39m{k:experiment\u001b[38;5;241m.\u001b[39minitial_concentrations[k] \u001b[38;5;28;01mfor\u001b[39;00m k \u001b[38;5;129;01min\u001b[39;00m experiment\u001b[38;5;241m.\u001b[39mconstants}\n\u001b[0;32m--> 252\u001b[0m     solution\u001b[38;5;241m=\u001b[39m\u001b[43m_model\u001b[49m\u001b[38;5;241;43m.\u001b[39;49m\u001b[43msolve_model\u001b[49m\u001b[43m(\u001b[49m\u001b[43mnp\u001b[49m\u001b[38;5;241;43m.\u001b[39;49m\u001b[43marray\u001b[49m\u001b[43m(\u001b[49m\u001b[43mexperiment\u001b[49m\u001b[38;5;241;43m.\u001b[39;49m\u001b[43mtime\u001b[49m\u001b[43m)\u001b[49m\u001b[43m,\u001b[49m\u001b[43mmethod\u001b[49m\u001b[38;5;241;43m=\u001b[39;49m\u001b[43mode_method\u001b[49m\u001b[43m)\u001b[49m\u001b[38;5;241m.\u001b[39my[[_model\u001b[38;5;241m.\u001b[39mspecies\u001b[38;5;241m.\u001b[39mindex(i) \u001b[38;5;28;01mfor\u001b[39;00m i \u001b[38;5;129;01min\u001b[39;00m experiment\u001b[38;5;241m.\u001b[39mvariables],:]\n\u001b[1;32m    253\u001b[0m     res\u001b[38;5;241m+\u001b[39m\u001b[38;5;241m=\u001b[39mnp\u001b[38;5;241m.\u001b[39msum(np\u001b[38;5;241m.\u001b[39msquare(solution\u001b[38;5;241m.\u001b[39mT\u001b[38;5;241m-\u001b[39mexperiment\u001b[38;5;241m.\u001b[39mdata))\n\u001b[1;32m    255\u001b[0m \u001b[38;5;28;01mreturn\u001b[39;00m res\n",
            "File \u001b[0;32m~/Desktop/Academics/Projects/ADToolbox/adtoolbox/adm.py:178\u001b[0m, in \u001b[0;36mModel.solve_model\u001b[0;34m(self, t_eval, method)\u001b[0m\n\u001b[1;32m    176\u001b[0m \u001b[38;5;28;01mtry\u001b[39;00m:\n\u001b[1;32m    177\u001b[0m     \u001b[38;5;28mself\u001b[39m\u001b[38;5;241m.\u001b[39m_be_time\u001b[38;5;241m=\u001b[39mtime\u001b[38;5;241m.\u001b[39mtime()\n\u001b[0;32m--> 178\u001b[0m     c \u001b[38;5;241m=\u001b[39m \u001b[43mscipy\u001b[49m\u001b[38;5;241;43m.\u001b[39;49m\u001b[43mintegrate\u001b[49m\u001b[38;5;241;43m.\u001b[39;49m\u001b[43msolve_ivp\u001b[49m\u001b[43m(\u001b[49m\u001b[38;5;28;43mself\u001b[39;49m\u001b[38;5;241;43m.\u001b[39;49m\u001b[43mode_system\u001b[49m\u001b[43m,\u001b[49m\u001b[43m \u001b[49m\u001b[43m(\u001b[49m\u001b[38;5;241;43m0\u001b[39;49m\u001b[43m,\u001b[49m\u001b[38;5;28;43mself\u001b[39;49m\u001b[38;5;241;43m.\u001b[39;49m\u001b[43msim_time\u001b[49m\u001b[43m)\u001b[49m\u001b[43m,\u001b[49m\u001b[43m \u001b[49m\u001b[43my0\u001b[49m\u001b[43m,\u001b[49m\u001b[43m \u001b[49m\u001b[43mt_eval\u001b[49m\u001b[38;5;241;43m=\u001b[39;49m\u001b[43mt_eval\u001b[49m\u001b[43m,\u001b[49m\u001b[43m \u001b[49m\u001b[43mmethod\u001b[49m\u001b[38;5;241;43m=\u001b[39;49m\u001b[43mmethod\u001b[49m\u001b[43m,\u001b[49m\u001b[43m \u001b[49m\u001b[43margs\u001b[49m\u001b[38;5;241;43m=\u001b[39;49m\u001b[43m[\u001b[49m\u001b[38;5;28;43mself\u001b[39;49m\u001b[43m]\u001b[49m\u001b[43m,\u001b[49m\u001b[43mrtol\u001b[49m\u001b[38;5;241;43m=\u001b[39;49m\u001b[38;5;241;43m1e-6\u001b[39;49m\u001b[43m)\u001b[49m\n\u001b[1;32m    179\u001b[0m     \u001b[38;5;28;01mif\u001b[39;00m \u001b[38;5;129;01mnot\u001b[39;00m c\u001b[38;5;241m.\u001b[39msuccess:\n\u001b[1;32m    180\u001b[0m         \u001b[38;5;28;01mraise\u001b[39;00m \u001b[38;5;167;01mException\u001b[39;00m\n",
            "File \u001b[0;32m~/.pyenv/versions/miniforge3-4.10.3-10/envs/ADTInstall/lib/python3.10/site-packages/scipy/integrate/_ivp/ivp.py:580\u001b[0m, in \u001b[0;36msolve_ivp\u001b[0;34m(fun, t_span, y0, method, t_eval, dense_output, events, vectorized, args, **options)\u001b[0m\n\u001b[1;32m    578\u001b[0m status \u001b[38;5;241m=\u001b[39m \u001b[38;5;28;01mNone\u001b[39;00m\n\u001b[1;32m    579\u001b[0m \u001b[38;5;28;01mwhile\u001b[39;00m status \u001b[38;5;129;01mis\u001b[39;00m \u001b[38;5;28;01mNone\u001b[39;00m:\n\u001b[0;32m--> 580\u001b[0m     message \u001b[38;5;241m=\u001b[39m \u001b[43msolver\u001b[49m\u001b[38;5;241;43m.\u001b[39;49m\u001b[43mstep\u001b[49m\u001b[43m(\u001b[49m\u001b[43m)\u001b[49m\n\u001b[1;32m    582\u001b[0m     \u001b[38;5;28;01mif\u001b[39;00m solver\u001b[38;5;241m.\u001b[39mstatus \u001b[38;5;241m==\u001b[39m \u001b[38;5;124m'\u001b[39m\u001b[38;5;124mfinished\u001b[39m\u001b[38;5;124m'\u001b[39m:\n\u001b[1;32m    583\u001b[0m         status \u001b[38;5;241m=\u001b[39m \u001b[38;5;241m0\u001b[39m\n",
            "File \u001b[0;32m~/.pyenv/versions/miniforge3-4.10.3-10/envs/ADTInstall/lib/python3.10/site-packages/scipy/integrate/_ivp/base.py:181\u001b[0m, in \u001b[0;36mOdeSolver.step\u001b[0;34m(self)\u001b[0m\n\u001b[1;32m    179\u001b[0m \u001b[38;5;28;01melse\u001b[39;00m:\n\u001b[1;32m    180\u001b[0m     t \u001b[38;5;241m=\u001b[39m \u001b[38;5;28mself\u001b[39m\u001b[38;5;241m.\u001b[39mt\n\u001b[0;32m--> 181\u001b[0m     success, message \u001b[38;5;241m=\u001b[39m \u001b[38;5;28;43mself\u001b[39;49m\u001b[38;5;241;43m.\u001b[39;49m\u001b[43m_step_impl\u001b[49m\u001b[43m(\u001b[49m\u001b[43m)\u001b[49m\n\u001b[1;32m    183\u001b[0m     \u001b[38;5;28;01mif\u001b[39;00m \u001b[38;5;129;01mnot\u001b[39;00m success:\n\u001b[1;32m    184\u001b[0m         \u001b[38;5;28mself\u001b[39m\u001b[38;5;241m.\u001b[39mstatus \u001b[38;5;241m=\u001b[39m \u001b[38;5;124m'\u001b[39m\u001b[38;5;124mfailed\u001b[39m\u001b[38;5;124m'\u001b[39m\n",
            "File \u001b[0;32m~/.pyenv/versions/miniforge3-4.10.3-10/envs/ADTInstall/lib/python3.10/site-packages/scipy/integrate/_ivp/bdf.py:357\u001b[0m, in \u001b[0;36mBDF._step_impl\u001b[0;34m(self)\u001b[0m\n\u001b[1;32m    354\u001b[0m \u001b[38;5;28;01mif\u001b[39;00m LU \u001b[38;5;129;01mis\u001b[39;00m \u001b[38;5;28;01mNone\u001b[39;00m:\n\u001b[1;32m    355\u001b[0m     LU \u001b[38;5;241m=\u001b[39m \u001b[38;5;28mself\u001b[39m\u001b[38;5;241m.\u001b[39mlu(\u001b[38;5;28mself\u001b[39m\u001b[38;5;241m.\u001b[39mI \u001b[38;5;241m-\u001b[39m c \u001b[38;5;241m*\u001b[39m J)\n\u001b[0;32m--> 357\u001b[0m converged, n_iter, y_new, d \u001b[38;5;241m=\u001b[39m \u001b[43msolve_bdf_system\u001b[49m\u001b[43m(\u001b[49m\n\u001b[1;32m    358\u001b[0m \u001b[43m    \u001b[49m\u001b[38;5;28;43mself\u001b[39;49m\u001b[38;5;241;43m.\u001b[39;49m\u001b[43mfun\u001b[49m\u001b[43m,\u001b[49m\u001b[43m \u001b[49m\u001b[43mt_new\u001b[49m\u001b[43m,\u001b[49m\u001b[43m \u001b[49m\u001b[43my_predict\u001b[49m\u001b[43m,\u001b[49m\u001b[43m \u001b[49m\u001b[43mc\u001b[49m\u001b[43m,\u001b[49m\u001b[43m \u001b[49m\u001b[43mpsi\u001b[49m\u001b[43m,\u001b[49m\u001b[43m \u001b[49m\u001b[43mLU\u001b[49m\u001b[43m,\u001b[49m\u001b[43m \u001b[49m\u001b[38;5;28;43mself\u001b[39;49m\u001b[38;5;241;43m.\u001b[39;49m\u001b[43msolve_lu\u001b[49m\u001b[43m,\u001b[49m\n\u001b[1;32m    359\u001b[0m \u001b[43m    \u001b[49m\u001b[43mscale\u001b[49m\u001b[43m,\u001b[49m\u001b[43m \u001b[49m\u001b[38;5;28;43mself\u001b[39;49m\u001b[38;5;241;43m.\u001b[39;49m\u001b[43mnewton_tol\u001b[49m\u001b[43m)\u001b[49m\n\u001b[1;32m    361\u001b[0m \u001b[38;5;28;01mif\u001b[39;00m \u001b[38;5;129;01mnot\u001b[39;00m converged:\n\u001b[1;32m    362\u001b[0m     \u001b[38;5;28;01mif\u001b[39;00m current_jac:\n",
            "File \u001b[0;32m~/.pyenv/versions/miniforge3-4.10.3-10/envs/ADTInstall/lib/python3.10/site-packages/scipy/integrate/_ivp/bdf.py:47\u001b[0m, in \u001b[0;36msolve_bdf_system\u001b[0;34m(fun, t_new, y_predict, c, psi, LU, solve_lu, scale, tol)\u001b[0m\n\u001b[1;32m     44\u001b[0m \u001b[38;5;28;01mif\u001b[39;00m \u001b[38;5;129;01mnot\u001b[39;00m np\u001b[38;5;241m.\u001b[39mall(np\u001b[38;5;241m.\u001b[39misfinite(f)):\n\u001b[1;32m     45\u001b[0m     \u001b[38;5;28;01mbreak\u001b[39;00m\n\u001b[0;32m---> 47\u001b[0m dy \u001b[38;5;241m=\u001b[39m \u001b[43msolve_lu\u001b[49m\u001b[43m(\u001b[49m\u001b[43mLU\u001b[49m\u001b[43m,\u001b[49m\u001b[43m \u001b[49m\u001b[43mc\u001b[49m\u001b[43m \u001b[49m\u001b[38;5;241;43m*\u001b[39;49m\u001b[43m \u001b[49m\u001b[43mf\u001b[49m\u001b[43m \u001b[49m\u001b[38;5;241;43m-\u001b[39;49m\u001b[43m \u001b[49m\u001b[43mpsi\u001b[49m\u001b[43m \u001b[49m\u001b[38;5;241;43m-\u001b[39;49m\u001b[43m \u001b[49m\u001b[43md\u001b[49m\u001b[43m)\u001b[49m\n\u001b[1;32m     48\u001b[0m dy_norm \u001b[38;5;241m=\u001b[39m norm(dy \u001b[38;5;241m/\u001b[39m scale)\n\u001b[1;32m     50\u001b[0m \u001b[38;5;28;01mif\u001b[39;00m dy_norm_old \u001b[38;5;129;01mis\u001b[39;00m \u001b[38;5;28;01mNone\u001b[39;00m:\n",
            "File \u001b[0;32m~/.pyenv/versions/miniforge3-4.10.3-10/envs/ADTInstall/lib/python3.10/site-packages/scipy/integrate/_ivp/bdf.py:225\u001b[0m, in \u001b[0;36mBDF.__init__.<locals>.solve_lu\u001b[0;34m(LU, b)\u001b[0m\n\u001b[1;32m    224\u001b[0m \u001b[38;5;28;01mdef\u001b[39;00m \u001b[38;5;21msolve_lu\u001b[39m(LU, b):\n\u001b[0;32m--> 225\u001b[0m     \u001b[38;5;28;01mreturn\u001b[39;00m \u001b[43mlu_solve\u001b[49m\u001b[43m(\u001b[49m\u001b[43mLU\u001b[49m\u001b[43m,\u001b[49m\u001b[43m \u001b[49m\u001b[43mb\u001b[49m\u001b[43m,\u001b[49m\u001b[43m \u001b[49m\u001b[43moverwrite_b\u001b[49m\u001b[38;5;241;43m=\u001b[39;49m\u001b[38;5;28;43;01mTrue\u001b[39;49;00m\u001b[43m)\u001b[49m\n",
            "File \u001b[0;32m~/.pyenv/versions/miniforge3-4.10.3-10/envs/ADTInstall/lib/python3.10/site-packages/scipy/linalg/_decomp_lu.py:135\u001b[0m, in \u001b[0;36mlu_solve\u001b[0;34m(lu_and_piv, b, trans, overwrite_b, check_finite)\u001b[0m\n\u001b[1;32m    133\u001b[0m (lu, piv) \u001b[38;5;241m=\u001b[39m lu_and_piv\n\u001b[1;32m    134\u001b[0m \u001b[38;5;28;01mif\u001b[39;00m check_finite:\n\u001b[0;32m--> 135\u001b[0m     b1 \u001b[38;5;241m=\u001b[39m \u001b[43masarray_chkfinite\u001b[49m\u001b[43m(\u001b[49m\u001b[43mb\u001b[49m\u001b[43m)\u001b[49m\n\u001b[1;32m    136\u001b[0m \u001b[38;5;28;01melse\u001b[39;00m:\n\u001b[1;32m    137\u001b[0m     b1 \u001b[38;5;241m=\u001b[39m asarray(b)\n",
            "File \u001b[0;32m~/.pyenv/versions/miniforge3-4.10.3-10/envs/ADTInstall/lib/python3.10/site-packages/numpy/lib/function_base.py:602\u001b[0m, in \u001b[0;36masarray_chkfinite\u001b[0;34m(a, dtype, order)\u001b[0m\n\u001b[1;32m    539\u001b[0m \u001b[38;5;124;03m\"\"\"Convert the input to an array, checking for NaNs or Infs.\u001b[39;00m\n\u001b[1;32m    540\u001b[0m \n\u001b[1;32m    541\u001b[0m \u001b[38;5;124;03mParameters\u001b[39;00m\n\u001b[0;32m   (...)\u001b[0m\n\u001b[1;32m    599\u001b[0m \n\u001b[1;32m    600\u001b[0m \u001b[38;5;124;03m\"\"\"\u001b[39;00m\n\u001b[1;32m    601\u001b[0m a \u001b[38;5;241m=\u001b[39m asarray(a, dtype\u001b[38;5;241m=\u001b[39mdtype, order\u001b[38;5;241m=\u001b[39morder)\n\u001b[0;32m--> 602\u001b[0m \u001b[38;5;28;01mif\u001b[39;00m a\u001b[38;5;241m.\u001b[39mdtype\u001b[38;5;241m.\u001b[39mchar \u001b[38;5;129;01min\u001b[39;00m typecodes[\u001b[38;5;124m'\u001b[39m\u001b[38;5;124mAllFloat\u001b[39m\u001b[38;5;124m'\u001b[39m] \u001b[38;5;129;01mand\u001b[39;00m \u001b[38;5;129;01mnot\u001b[39;00m \u001b[43mnp\u001b[49m\u001b[38;5;241;43m.\u001b[39;49m\u001b[43misfinite\u001b[49m\u001b[43m(\u001b[49m\u001b[43ma\u001b[49m\u001b[43m)\u001b[49m\u001b[38;5;241;43m.\u001b[39;49m\u001b[43mall\u001b[49m\u001b[43m(\u001b[49m\u001b[43m)\u001b[49m:\n\u001b[1;32m    603\u001b[0m     \u001b[38;5;28;01mraise\u001b[39;00m \u001b[38;5;167;01mValueError\u001b[39;00m(\n\u001b[1;32m    604\u001b[0m         \u001b[38;5;124m\"\u001b[39m\u001b[38;5;124marray must not contain infs or NaNs\u001b[39m\u001b[38;5;124m\"\u001b[39m)\n\u001b[1;32m    605\u001b[0m \u001b[38;5;28;01mreturn\u001b[39;00m a\n",
            "\u001b[0;31mKeyboardInterrupt\u001b[0m: "
          ]
        }
      ],
      "source": [
        "optimizer.optimize(perturbation_method=\"estimate_gradient_directions\",ode_method=\"BDF\")"
      ]
    },
    {
      "cell_type": "code",
      "execution_count": null,
      "metadata": {},
      "outputs": [],
      "source": [
        "import pickle"
      ]
    },
    {
      "cell_type": "code",
      "execution_count": null,
      "metadata": {},
      "outputs": [],
      "source": [
        "with open(\"./history.pkl\",\"rb\") as f:\n",
        "    params=pickle.load(f)"
      ]
    },
    {
      "cell_type": "code",
      "execution_count": null,
      "metadata": {},
      "outputs": [],
      "source": [
        "min_index=params[\"cost\"].index(min(params[\"cost\"]))\n",
        "model.update_parameters(model_parameters=dict(zip(tunables.keys(),params[\"parameters\"][min_index])))"
      ]
    },
    {
      "cell_type": "code",
      "execution_count": null,
      "metadata": {},
      "outputs": [
        {
          "data": {
            "image/svg+xml": [
              "<svg class=\"main-svg\" xmlns=\"http://www.w3.org/2000/svg\" xmlns:xlink=\"http://www.w3.org/1999/xlink\" width=\"700\" height=\"500\" style=\"\" viewBox=\"0 0 700 500\"><rect x=\"0\" y=\"0\" width=\"700\" height=\"500\" style=\"fill: rgb(255, 255, 255); fill-opacity: 1;\"/><defs id=\"defs-2e6da5\"><g class=\"clips\"><clipPath id=\"clip2e6da5xyplot\" class=\"plotclip\"><rect width=\"455\" height=\"320\"/></clipPath><clipPath class=\"axesclip\" id=\"clip2e6da5x\"><rect x=\"80\" y=\"0\" width=\"455\" height=\"500\"/></clipPath><clipPath class=\"axesclip\" id=\"clip2e6da5y\"><rect x=\"0\" y=\"100\" width=\"700\" height=\"320\"/></clipPath><clipPath class=\"axesclip\" id=\"clip2e6da5xy\"><rect x=\"80\" y=\"100\" width=\"455\" height=\"320\"/></clipPath></g><g class=\"gradients\"/><g class=\"patterns\"/></defs><g class=\"bglayer\"><rect class=\"bg\" x=\"80\" y=\"100\" width=\"455\" height=\"320\" style=\"fill: rgb(229, 236, 246); fill-opacity: 1; stroke-width: 0;\"/></g><g class=\"layer-below\"><g class=\"imagelayer\"/><g class=\"shapelayer\"/></g><g class=\"cartesianlayer\"><g class=\"subplot xy\"><g class=\"layer-subplot\"><g class=\"shapelayer\"/><g class=\"imagelayer\"/></g><g class=\"minor-gridlayer\"><g class=\"x\"/><g class=\"y\"/></g><g class=\"gridlayer\"><g class=\"x\"><path class=\"xgrid crisp\" transform=\"translate(181.5,0)\" d=\"M0,100v320\" style=\"stroke: rgb(255, 255, 255); stroke-opacity: 1; stroke-width: 1px;\"/><path class=\"xgrid crisp\" transform=\"translate(256.5,0)\" d=\"M0,100v320\" style=\"stroke: rgb(255, 255, 255); stroke-opacity: 1; stroke-width: 1px;\"/><path class=\"xgrid crisp\" transform=\"translate(331.5,0)\" d=\"M0,100v320\" style=\"stroke: rgb(255, 255, 255); stroke-opacity: 1; stroke-width: 1px;\"/><path class=\"xgrid crisp\" transform=\"translate(406.5,0)\" d=\"M0,100v320\" style=\"stroke: rgb(255, 255, 255); stroke-opacity: 1; stroke-width: 1px;\"/><path class=\"xgrid crisp\" transform=\"translate(481.5,0)\" d=\"M0,100v320\" style=\"stroke: rgb(255, 255, 255); stroke-opacity: 1; stroke-width: 1px;\"/></g><g class=\"y\"><path class=\"ygrid crisp\" transform=\"translate(0,347.91999999999996)\" d=\"M80,0h455\" style=\"stroke: rgb(255, 255, 255); stroke-opacity: 1; stroke-width: 1px;\"/><path class=\"ygrid crisp\" transform=\"translate(0,295.59000000000003)\" d=\"M80,0h455\" style=\"stroke: rgb(255, 255, 255); stroke-opacity: 1; stroke-width: 1px;\"/><path class=\"ygrid crisp\" transform=\"translate(0,243.25)\" d=\"M80,0h455\" style=\"stroke: rgb(255, 255, 255); stroke-opacity: 1; stroke-width: 1px;\"/><path class=\"ygrid crisp\" transform=\"translate(0,190.92000000000002)\" d=\"M80,0h455\" style=\"stroke: rgb(255, 255, 255); stroke-opacity: 1; stroke-width: 1px;\"/><path class=\"ygrid crisp\" transform=\"translate(0,138.59)\" d=\"M80,0h455\" style=\"stroke: rgb(255, 255, 255); stroke-opacity: 1; stroke-width: 1px;\"/></g></g><g class=\"zerolinelayer\"><path class=\"xzl zl crisp\" transform=\"translate(106.5,0)\" d=\"M0,100v320\" style=\"stroke: rgb(255, 255, 255); stroke-opacity: 1; stroke-width: 2px;\"/><path class=\"yzl zl crisp\" transform=\"translate(0,400.25)\" d=\"M80,0h455\" style=\"stroke: rgb(255, 255, 255); stroke-opacity: 1; stroke-width: 2px;\"/></g><path class=\"xlines-below\"/><path class=\"ylines-below\"/><g class=\"overlines-below\"/><g class=\"xaxislayer-below\"/><g class=\"yaxislayer-below\"/><g class=\"overaxes-below\"/><g class=\"plot\" transform=\"translate(80,100)\" clip-path=\"url(#clip2e6da5xyplot)\"><g class=\"scatterlayer mlayer\"><g class=\"trace scatter traceb44b33\" style=\"stroke-miterlimit: 2; opacity: 1;\"><g class=\"fills\"/><g class=\"errorbars\"/><g class=\"lines\"><path class=\"js-line\" d=\"M26.5,268.05L52,190.92L98.5,202.5L187,188.98L232,183.43L428.5,161.72\" style=\"vector-effect: non-scaling-stroke; fill: none; stroke: rgb(99, 110, 250); stroke-opacity: 1; stroke-width: 2px; opacity: 1;\"/></g><g class=\"points\"/><g class=\"text\"/></g><g class=\"trace scatter tracebcc4e8\" style=\"stroke-miterlimit: 2; opacity: 1;\"><g class=\"fills\"/><g class=\"errorbars\"/><g class=\"lines\"><path class=\"js-line\" d=\"M26.5,270.92L52,257.49L98.5,216.54L187,187.97L232,185.93L428.5,181.81\" style=\"vector-effect: non-scaling-stroke; fill: none; stroke: rgb(239, 85, 59); stroke-opacity: 1; stroke-width: 2px; opacity: 1;\"/></g><g class=\"points\"/><g class=\"text\"/></g><g class=\"trace scatter trace3a1c70\" style=\"stroke-miterlimit: 2; opacity: 1;\"><g class=\"fills\"/><g class=\"errorbars\"/><g class=\"lines\"><path class=\"js-line\" d=\"M26.5,285.34L52,216.16L98.5,99.05L187,89.52L232,98.39L428.5,144.72\" style=\"vector-effect: non-scaling-stroke; fill: none; stroke: rgb(0, 204, 150); stroke-opacity: 1; stroke-width: 2px; opacity: 1;\"/></g><g class=\"points\"/><g class=\"text\"/></g><g class=\"trace scatter trace8aa25b\" style=\"stroke-miterlimit: 2; opacity: 1;\"><g class=\"fills\"/><g class=\"errorbars\"/><g class=\"lines\"><path class=\"js-line\" d=\"M26.5,288.31L52,266.28L98.5,279.79L187,299.47L232,299.93L428.5,300.06\" style=\"vector-effect: non-scaling-stroke; fill: none; stroke: rgb(171, 99, 250); stroke-opacity: 1; stroke-width: 2px; opacity: 1;\"/></g><g class=\"points\"/><g class=\"text\"/></g><g class=\"trace scatter trace828709\" style=\"stroke-miterlimit: 2; opacity: 1;\"><g class=\"fills\"/><g class=\"errorbars\"/><g class=\"lines\"><path class=\"js-line\" d=\"M26.5,300.25L52,298.9L98.5,299.83L337,300.24L428.5,300.24\" style=\"vector-effect: non-scaling-stroke; fill: none; stroke: rgb(255, 161, 90); stroke-opacity: 1; stroke-width: 2px; opacity: 1;\"/></g><g class=\"points\"/><g class=\"text\"/></g><g class=\"trace scatter tracef2c17a\" style=\"stroke-miterlimit: 2; opacity: 1;\"><g class=\"fills\"/><g class=\"errorbars\"><g class=\"errorbar\"><path class=\"yerror\" d=\"M22.5,267.01h8m-4,0V272.6m-4,0h8\" style=\"vector-effect: non-scaling-stroke; stroke-width: 2px; stroke: rgb(99, 110, 250); stroke-opacity: 1;\"/></g><g class=\"errorbar\"><path class=\"yerror\" d=\"M48,269.17h8m-4,0V276.82m-4,0h8\" style=\"vector-effect: non-scaling-stroke; stroke-width: 2px; stroke: rgb(99, 110, 250); stroke-opacity: 1;\"/></g><g class=\"errorbar\"><path class=\"yerror\" d=\"M94.5,215.06h8m-4,0V250.29m-4,0h8\" style=\"vector-effect: non-scaling-stroke; stroke-width: 2px; stroke: rgb(99, 110, 250); stroke-opacity: 1;\"/></g><g class=\"errorbar\"><path class=\"yerror\" d=\"M183,139.61h8m-4,0V196.16m-4,0h8\" style=\"vector-effect: non-scaling-stroke; stroke-width: 2px; stroke: rgb(99, 110, 250); stroke-opacity: 1;\"/></g><g class=\"errorbar\"><path class=\"yerror\" d=\"M228,173.09h8m-4,0V216m-4,0h8\" style=\"vector-effect: non-scaling-stroke; stroke-width: 2px; stroke: rgb(99, 110, 250); stroke-opacity: 1;\"/></g><g class=\"errorbar\"><path class=\"yerror\" d=\"M333,152.84h8m-4,0V166.9m-4,0h8\" style=\"vector-effect: non-scaling-stroke; stroke-width: 2px; stroke: rgb(99, 110, 250); stroke-opacity: 1;\"/></g><g class=\"errorbar\"><path class=\"yerror\" d=\"M424.5,145.91h8m-4,0V185.97m-4,0h8\" style=\"vector-effect: non-scaling-stroke; stroke-width: 2px; stroke: rgb(99, 110, 250); stroke-opacity: 1;\"/></g></g><g class=\"lines\"/><g class=\"points\"><path class=\"point\" transform=\"translate(26.5,269.8)\" d=\"M3,0A3,3 0 1,1 0,-3A3,3 0 0,1 3,0Z\" style=\"opacity: 1; stroke-width: 0px; fill: rgb(99, 110, 250); fill-opacity: 1;\"/><path class=\"point\" transform=\"translate(52,272.99)\" d=\"M3,0A3,3 0 1,1 0,-3A3,3 0 0,1 3,0Z\" style=\"opacity: 1; stroke-width: 0px; fill: rgb(99, 110, 250); fill-opacity: 1;\"/><path class=\"point\" transform=\"translate(98.5,232.67)\" d=\"M3,0A3,3 0 1,1 0,-3A3,3 0 0,1 3,0Z\" style=\"opacity: 1; stroke-width: 0px; fill: rgb(99, 110, 250); fill-opacity: 1;\"/><path class=\"point\" transform=\"translate(187,167.88)\" d=\"M3,0A3,3 0 1,1 0,-3A3,3 0 0,1 3,0Z\" style=\"opacity: 1; stroke-width: 0px; fill: rgb(99, 110, 250); fill-opacity: 1;\"/><path class=\"point\" transform=\"translate(232,194.54)\" d=\"M3,0A3,3 0 1,1 0,-3A3,3 0 0,1 3,0Z\" style=\"opacity: 1; stroke-width: 0px; fill: rgb(99, 110, 250); fill-opacity: 1;\"/><path class=\"point\" transform=\"translate(337,159.87)\" d=\"M3,0A3,3 0 1,1 0,-3A3,3 0 0,1 3,0Z\" style=\"opacity: 1; stroke-width: 0px; fill: rgb(99, 110, 250); fill-opacity: 1;\"/><path class=\"point\" transform=\"translate(428.5,165.94)\" d=\"M3,0A3,3 0 1,1 0,-3A3,3 0 0,1 3,0Z\" style=\"opacity: 1; stroke-width: 0px; fill: rgb(99, 110, 250); fill-opacity: 1;\"/></g><g class=\"text\"/></g><g class=\"trace scatter tracefe3bfb\" style=\"stroke-miterlimit: 2; opacity: 1;\"><g class=\"fills\"/><g class=\"errorbars\"><g class=\"errorbar\"><path class=\"yerror\" d=\"M22.5,277.77h8m-4,0V291.57m-4,0h8\" style=\"vector-effect: non-scaling-stroke; stroke-width: 2px; stroke: rgb(239, 85, 59); stroke-opacity: 1;\"/></g><g class=\"errorbar\"><path class=\"yerror\" d=\"M48,270.64h8m-4,0V274.24m-4,0h8\" style=\"vector-effect: non-scaling-stroke; stroke-width: 2px; stroke: rgb(239, 85, 59); stroke-opacity: 1;\"/></g><g class=\"errorbar\"><path class=\"yerror\" d=\"M94.5,259.7h8m-4,0V266.12m-4,0h8\" style=\"vector-effect: non-scaling-stroke; stroke-width: 2px; stroke: rgb(239, 85, 59); stroke-opacity: 1;\"/></g><g class=\"errorbar\"><path class=\"yerror\" d=\"M183,239.17h8m-4,0V249.17m-4,0h8\" style=\"vector-effect: non-scaling-stroke; stroke-width: 2px; stroke: rgb(239, 85, 59); stroke-opacity: 1;\"/></g><g class=\"errorbar\"><path class=\"yerror\" d=\"M228,242.5h8m-4,0V253.13m-4,0h8\" style=\"vector-effect: non-scaling-stroke; stroke-width: 2px; stroke: rgb(239, 85, 59); stroke-opacity: 1;\"/></g><g class=\"errorbar\"><path class=\"yerror\" d=\"M333,236.88h8m-4,0V246.76m-4,0h8\" style=\"vector-effect: non-scaling-stroke; stroke-width: 2px; stroke: rgb(239, 85, 59); stroke-opacity: 1;\"/></g><g class=\"errorbar\"><path class=\"yerror\" d=\"M424.5,232.6h8m-4,0V244.61m-4,0h8\" style=\"vector-effect: non-scaling-stroke; stroke-width: 2px; stroke: rgb(239, 85, 59); stroke-opacity: 1;\"/></g></g><g class=\"lines\"/><g class=\"points\"><path class=\"point\" transform=\"translate(26.5,284.67)\" d=\"M3,0A3,3 0 1,1 0,-3A3,3 0 0,1 3,0Z\" style=\"opacity: 1; stroke-width: 0px; fill: rgb(239, 85, 59); fill-opacity: 1;\"/><path class=\"point\" transform=\"translate(52,272.44)\" d=\"M3,0A3,3 0 1,1 0,-3A3,3 0 0,1 3,0Z\" style=\"opacity: 1; stroke-width: 0px; fill: rgb(239, 85, 59); fill-opacity: 1;\"/><path class=\"point\" transform=\"translate(98.5,262.91)\" d=\"M3,0A3,3 0 1,1 0,-3A3,3 0 0,1 3,0Z\" style=\"opacity: 1; stroke-width: 0px; fill: rgb(239, 85, 59); fill-opacity: 1;\"/><path class=\"point\" transform=\"translate(187,244.17)\" d=\"M3,0A3,3 0 1,1 0,-3A3,3 0 0,1 3,0Z\" style=\"opacity: 1; stroke-width: 0px; fill: rgb(239, 85, 59); fill-opacity: 1;\"/><path class=\"point\" transform=\"translate(232,247.81)\" d=\"M3,0A3,3 0 1,1 0,-3A3,3 0 0,1 3,0Z\" style=\"opacity: 1; stroke-width: 0px; fill: rgb(239, 85, 59); fill-opacity: 1;\"/><path class=\"point\" transform=\"translate(337,241.82)\" d=\"M3,0A3,3 0 1,1 0,-3A3,3 0 0,1 3,0Z\" style=\"opacity: 1; stroke-width: 0px; fill: rgb(239, 85, 59); fill-opacity: 1;\"/><path class=\"point\" transform=\"translate(428.5,238.61)\" d=\"M3,0A3,3 0 1,1 0,-3A3,3 0 0,1 3,0Z\" style=\"opacity: 1; stroke-width: 0px; fill: rgb(239, 85, 59); fill-opacity: 1;\"/></g><g class=\"text\"/></g><g class=\"trace scatter tracef16706\" style=\"stroke-miterlimit: 2; opacity: 1;\"><g class=\"fills\"/><g class=\"errorbars\"><g class=\"errorbar\"><path class=\"yerror\" d=\"M22.5,290.31h8m-4,0V300.25m-4,0h8\" style=\"vector-effect: non-scaling-stroke; stroke-width: 2px; stroke: rgb(0, 204, 150); stroke-opacity: 1;\"/></g><g class=\"errorbar\"><path class=\"yerror\" d=\"M48,86.22h8m-4,0V123.58m-4,0h8\" style=\"vector-effect: non-scaling-stroke; stroke-width: 2px; stroke: rgb(0, 204, 150); stroke-opacity: 1;\"/></g><g class=\"errorbar\"><path class=\"yerror\" d=\"M94.5,73.57h8m-4,0V121.19m-4,0h8\" style=\"vector-effect: non-scaling-stroke; stroke-width: 2px; stroke: rgb(0, 204, 150); stroke-opacity: 1;\"/></g><g class=\"errorbar\"><path class=\"yerror\" d=\"M183,34.6h8m-4,0V109.65m-4,0h8\" style=\"vector-effect: non-scaling-stroke; stroke-width: 2px; stroke: rgb(0, 204, 150); stroke-opacity: 1;\"/></g><g class=\"errorbar\"><path class=\"yerror\" d=\"M228,42.69h8m-4,0V125.2m-4,0h8\" style=\"vector-effect: non-scaling-stroke; stroke-width: 2px; stroke: rgb(0, 204, 150); stroke-opacity: 1;\"/></g><g class=\"errorbar\"><path class=\"yerror\" d=\"M333,53.61h8m-4,0V122.77m-4,0h8\" style=\"vector-effect: non-scaling-stroke; stroke-width: 2px; stroke: rgb(0, 204, 150); stroke-opacity: 1;\"/></g><g class=\"errorbar\"><path class=\"yerror\" d=\"M424.5,16h8m-4,0V114.15m-4,0h8\" style=\"vector-effect: non-scaling-stroke; stroke-width: 2px; stroke: rgb(0, 204, 150); stroke-opacity: 1;\"/></g></g><g class=\"lines\"/><g class=\"points\"><path class=\"point\" transform=\"translate(26.5,295.28)\" d=\"M3,0A3,3 0 1,1 0,-3A3,3 0 0,1 3,0Z\" style=\"opacity: 1; stroke-width: 0px; fill: rgb(0, 204, 150); fill-opacity: 1;\"/><path class=\"point\" transform=\"translate(52,104.9)\" d=\"M3,0A3,3 0 1,1 0,-3A3,3 0 0,1 3,0Z\" style=\"opacity: 1; stroke-width: 0px; fill: rgb(0, 204, 150); fill-opacity: 1;\"/><path class=\"point\" transform=\"translate(98.5,97.38)\" d=\"M3,0A3,3 0 1,1 0,-3A3,3 0 0,1 3,0Z\" style=\"opacity: 1; stroke-width: 0px; fill: rgb(0, 204, 150); fill-opacity: 1;\"/><path class=\"point\" transform=\"translate(187,72.12)\" d=\"M3,0A3,3 0 1,1 0,-3A3,3 0 0,1 3,0Z\" style=\"opacity: 1; stroke-width: 0px; fill: rgb(0, 204, 150); fill-opacity: 1;\"/><path class=\"point\" transform=\"translate(232,83.95)\" d=\"M3,0A3,3 0 1,1 0,-3A3,3 0 0,1 3,0Z\" style=\"opacity: 1; stroke-width: 0px; fill: rgb(0, 204, 150); fill-opacity: 1;\"/><path class=\"point\" transform=\"translate(337,88.19)\" d=\"M3,0A3,3 0 1,1 0,-3A3,3 0 0,1 3,0Z\" style=\"opacity: 1; stroke-width: 0px; fill: rgb(0, 204, 150); fill-opacity: 1;\"/><path class=\"point\" transform=\"translate(428.5,65.07)\" d=\"M3,0A3,3 0 1,1 0,-3A3,3 0 0,1 3,0Z\" style=\"opacity: 1; stroke-width: 0px; fill: rgb(0, 204, 150); fill-opacity: 1;\"/></g><g class=\"text\"/></g><g class=\"trace scatter trace4a120a\" style=\"stroke-miterlimit: 2; opacity: 1;\"><g class=\"fills\"/><g class=\"errorbars\"><g class=\"errorbar\"><path class=\"yerror\" d=\"M22.5,292.29h8m-4,0V300.25m-4,0h8\" style=\"vector-effect: non-scaling-stroke; stroke-width: 2px; stroke: rgb(171, 99, 250); stroke-opacity: 1;\"/></g><g class=\"errorbar\"><path class=\"yerror\" d=\"M48,296.57h8m-4,0V300.07m-4,0h8\" style=\"vector-effect: non-scaling-stroke; stroke-width: 2px; stroke: rgb(171, 99, 250); stroke-opacity: 1;\"/></g><g class=\"errorbar\"><path class=\"yerror\" d=\"M94.5,284.05h8m-4,0V291.69m-4,0h8\" style=\"vector-effect: non-scaling-stroke; stroke-width: 2px; stroke: rgb(171, 99, 250); stroke-opacity: 1;\"/></g><g class=\"errorbar\"><path class=\"yerror\" d=\"M183,273.72h8m-4,0V277.37m-4,0h8\" style=\"vector-effect: non-scaling-stroke; stroke-width: 2px; stroke: rgb(171, 99, 250); stroke-opacity: 1;\"/></g><g class=\"errorbar\"><path class=\"yerror\" d=\"M228,268.77h8m-4,0V277.9m-4,0h8\" style=\"vector-effect: non-scaling-stroke; stroke-width: 2px; stroke: rgb(171, 99, 250); stroke-opacity: 1;\"/></g><g class=\"errorbar\"><path class=\"yerror\" d=\"M333,263.15h8m-4,0V281.38m-4,0h8\" style=\"vector-effect: non-scaling-stroke; stroke-width: 2px; stroke: rgb(171, 99, 250); stroke-opacity: 1;\"/></g><g class=\"errorbar\"><path class=\"yerror\" d=\"M424.5,262.23h8m-4,0V275.34m-4,0h8\" style=\"vector-effect: non-scaling-stroke; stroke-width: 2px; stroke: rgb(171, 99, 250); stroke-opacity: 1;\"/></g></g><g class=\"lines\"/><g class=\"points\"><path class=\"point\" transform=\"translate(26.5,296.27)\" d=\"M3,0A3,3 0 1,1 0,-3A3,3 0 0,1 3,0Z\" style=\"opacity: 1; stroke-width: 0px; fill: rgb(171, 99, 250); fill-opacity: 1;\"/><path class=\"point\" transform=\"translate(52,298.32)\" d=\"M3,0A3,3 0 1,1 0,-3A3,3 0 0,1 3,0Z\" style=\"opacity: 1; stroke-width: 0px; fill: rgb(171, 99, 250); fill-opacity: 1;\"/><path class=\"point\" transform=\"translate(98.5,287.87)\" d=\"M3,0A3,3 0 1,1 0,-3A3,3 0 0,1 3,0Z\" style=\"opacity: 1; stroke-width: 0px; fill: rgb(171, 99, 250); fill-opacity: 1;\"/><path class=\"point\" transform=\"translate(187,275.55)\" d=\"M3,0A3,3 0 1,1 0,-3A3,3 0 0,1 3,0Z\" style=\"opacity: 1; stroke-width: 0px; fill: rgb(171, 99, 250); fill-opacity: 1;\"/><path class=\"point\" transform=\"translate(232,273.33)\" d=\"M3,0A3,3 0 1,1 0,-3A3,3 0 0,1 3,0Z\" style=\"opacity: 1; stroke-width: 0px; fill: rgb(171, 99, 250); fill-opacity: 1;\"/><path class=\"point\" transform=\"translate(337,272.27)\" d=\"M3,0A3,3 0 1,1 0,-3A3,3 0 0,1 3,0Z\" style=\"opacity: 1; stroke-width: 0px; fill: rgb(171, 99, 250); fill-opacity: 1;\"/><path class=\"point\" transform=\"translate(428.5,268.78)\" d=\"M3,0A3,3 0 1,1 0,-3A3,3 0 0,1 3,0Z\" style=\"opacity: 1; stroke-width: 0px; fill: rgb(171, 99, 250); fill-opacity: 1;\"/></g><g class=\"text\"/></g><g class=\"trace scatter trace33de8a\" style=\"stroke-miterlimit: 2; opacity: 1;\"><g class=\"fills\"/><g class=\"errorbars\"><g class=\"errorbar\"><path class=\"yerror\" d=\"M22.5,300.25h8m-4,0V300.25m-4,0h8\" style=\"vector-effect: non-scaling-stroke; stroke-width: 2px; stroke: rgb(255, 161, 90); stroke-opacity: 1;\"/></g><g class=\"errorbar\"><path class=\"yerror\" d=\"M48,300.25h8m-4,0V300.25m-4,0h8\" style=\"vector-effect: non-scaling-stroke; stroke-width: 2px; stroke: rgb(255, 161, 90); stroke-opacity: 1;\"/></g><g class=\"errorbar\"><path class=\"yerror\" d=\"M94.5,264.69h8m-4,0V300.25m-4,0h8\" style=\"vector-effect: non-scaling-stroke; stroke-width: 2px; stroke: rgb(255, 161, 90); stroke-opacity: 1;\"/></g><g class=\"errorbar\"><path class=\"yerror\" d=\"M183,228.51h8m-4,0V262.36m-4,0h8\" style=\"vector-effect: non-scaling-stroke; stroke-width: 2px; stroke: rgb(255, 161, 90); stroke-opacity: 1;\"/></g><g class=\"errorbar\"><path class=\"yerror\" d=\"M228,262.17h8m-4,0V287.91m-4,0h8\" style=\"vector-effect: non-scaling-stroke; stroke-width: 2px; stroke: rgb(255, 161, 90); stroke-opacity: 1;\"/></g><g class=\"errorbar\"><path class=\"yerror\" d=\"M333,242.42h8m-4,0V257.86m-4,0h8\" style=\"vector-effect: non-scaling-stroke; stroke-width: 2px; stroke: rgb(255, 161, 90); stroke-opacity: 1;\"/></g><g class=\"errorbar\"><path class=\"yerror\" d=\"M424.5,241.59h8m-4,0V283.72m-4,0h8\" style=\"vector-effect: non-scaling-stroke; stroke-width: 2px; stroke: rgb(255, 161, 90); stroke-opacity: 1;\"/></g></g><g class=\"lines\"/><g class=\"points\"><path class=\"point\" transform=\"translate(26.5,300.25)\" d=\"M3,0A3,3 0 1,1 0,-3A3,3 0 0,1 3,0Z\" style=\"opacity: 1; stroke-width: 0px; fill: rgb(255, 161, 90); fill-opacity: 1;\"/><path class=\"point\" transform=\"translate(52,300.25)\" d=\"M3,0A3,3 0 1,1 0,-3A3,3 0 0,1 3,0Z\" style=\"opacity: 1; stroke-width: 0px; fill: rgb(255, 161, 90); fill-opacity: 1;\"/><path class=\"point\" transform=\"translate(98.5,282.47)\" d=\"M3,0A3,3 0 1,1 0,-3A3,3 0 0,1 3,0Z\" style=\"opacity: 1; stroke-width: 0px; fill: rgb(255, 161, 90); fill-opacity: 1;\"/><path class=\"point\" transform=\"translate(187,245.44)\" d=\"M3,0A3,3 0 1,1 0,-3A3,3 0 0,1 3,0Z\" style=\"opacity: 1; stroke-width: 0px; fill: rgb(255, 161, 90); fill-opacity: 1;\"/><path class=\"point\" transform=\"translate(232,275.04)\" d=\"M3,0A3,3 0 1,1 0,-3A3,3 0 0,1 3,0Z\" style=\"opacity: 1; stroke-width: 0px; fill: rgb(255, 161, 90); fill-opacity: 1;\"/><path class=\"point\" transform=\"translate(337,250.14)\" d=\"M3,0A3,3 0 1,1 0,-3A3,3 0 0,1 3,0Z\" style=\"opacity: 1; stroke-width: 0px; fill: rgb(255, 161, 90); fill-opacity: 1;\"/><path class=\"point\" transform=\"translate(428.5,262.66)\" d=\"M3,0A3,3 0 1,1 0,-3A3,3 0 0,1 3,0Z\" style=\"opacity: 1; stroke-width: 0px; fill: rgb(255, 161, 90); fill-opacity: 1;\"/></g><g class=\"text\"/></g></g></g><g class=\"overplot\"/><path class=\"xlines-above crisp\" d=\"M0,0\" style=\"fill: none;\"/><path class=\"ylines-above crisp\" d=\"M0,0\" style=\"fill: none;\"/><g class=\"overlines-above\"/><g class=\"xaxislayer-above\"><g class=\"xtick\"><text text-anchor=\"middle\" x=\"0\" y=\"433\" transform=\"translate(106.5,0)\" style=\"font-family: 'Open Sans', verdana, arial, sans-serif; font-size: 12px; fill: rgb(42, 63, 95); fill-opacity: 1; white-space: pre; opacity: 1;\">0</text></g><g class=\"xtick\"><text text-anchor=\"middle\" x=\"0\" y=\"433\" style=\"font-family: 'Open Sans', verdana, arial, sans-serif; font-size: 12px; fill: rgb(42, 63, 95); fill-opacity: 1; white-space: pre; opacity: 1;\" transform=\"translate(181.5,0)\">5</text></g><g class=\"xtick\"><text text-anchor=\"middle\" x=\"0\" y=\"433\" style=\"font-family: 'Open Sans', verdana, arial, sans-serif; font-size: 12px; fill: rgb(42, 63, 95); fill-opacity: 1; white-space: pre; opacity: 1;\" transform=\"translate(256.5,0)\">10</text></g><g class=\"xtick\"><text text-anchor=\"middle\" x=\"0\" y=\"433\" style=\"font-family: 'Open Sans', verdana, arial, sans-serif; font-size: 12px; fill: rgb(42, 63, 95); fill-opacity: 1; white-space: pre; opacity: 1;\" transform=\"translate(331.5,0)\">15</text></g><g class=\"xtick\"><text text-anchor=\"middle\" x=\"0\" y=\"433\" style=\"font-family: 'Open Sans', verdana, arial, sans-serif; font-size: 12px; fill: rgb(42, 63, 95); fill-opacity: 1; white-space: pre; opacity: 1;\" transform=\"translate(406.5,0)\">20</text></g><g class=\"xtick\"><text text-anchor=\"middle\" x=\"0\" y=\"433\" style=\"font-family: 'Open Sans', verdana, arial, sans-serif; font-size: 12px; fill: rgb(42, 63, 95); fill-opacity: 1; white-space: pre; opacity: 1;\" transform=\"translate(481.5,0)\">25</text></g></g><g class=\"yaxislayer-above\"><g class=\"ytick\"><text text-anchor=\"end\" x=\"79\" y=\"4.199999999999999\" transform=\"translate(0,400.25)\" style=\"font-family: 'Open Sans', verdana, arial, sans-serif; font-size: 12px; fill: rgb(42, 63, 95); fill-opacity: 1; white-space: pre; opacity: 1;\">0</text></g><g class=\"ytick\"><text text-anchor=\"end\" x=\"79\" y=\"4.199999999999999\" style=\"font-family: 'Open Sans', verdana, arial, sans-serif; font-size: 12px; fill: rgb(42, 63, 95); fill-opacity: 1; white-space: pre; opacity: 1;\" transform=\"translate(0,347.91999999999996)\">0.5</text></g><g class=\"ytick\"><text text-anchor=\"end\" x=\"79\" y=\"4.199999999999999\" style=\"font-family: 'Open Sans', verdana, arial, sans-serif; font-size: 12px; fill: rgb(42, 63, 95); fill-opacity: 1; white-space: pre; opacity: 1;\" transform=\"translate(0,295.59000000000003)\">1</text></g><g class=\"ytick\"><text text-anchor=\"end\" x=\"79\" y=\"4.199999999999999\" style=\"font-family: 'Open Sans', verdana, arial, sans-serif; font-size: 12px; fill: rgb(42, 63, 95); fill-opacity: 1; white-space: pre; opacity: 1;\" transform=\"translate(0,243.25)\">1.5</text></g><g class=\"ytick\"><text text-anchor=\"end\" x=\"79\" y=\"4.199999999999999\" style=\"font-family: 'Open Sans', verdana, arial, sans-serif; font-size: 12px; fill: rgb(42, 63, 95); fill-opacity: 1; white-space: pre; opacity: 1;\" transform=\"translate(0,190.92000000000002)\">2</text></g><g class=\"ytick\"><text text-anchor=\"end\" x=\"79\" y=\"4.199999999999999\" style=\"font-family: 'Open Sans', verdana, arial, sans-serif; font-size: 12px; fill: rgb(42, 63, 95); fill-opacity: 1; white-space: pre; opacity: 1;\" transform=\"translate(0,138.59)\">2.5</text></g></g><g class=\"overaxes-above\"/></g></g><g class=\"polarlayer\"/><g class=\"smithlayer\"/><g class=\"ternarylayer\"/><g class=\"geolayer\"/><g class=\"funnelarealayer\"/><g class=\"pielayer\"/><g class=\"iciclelayer\"/><g class=\"treemaplayer\"/><g class=\"sunburstlayer\"/><g class=\"glimages\"/><defs id=\"topdefs-2e6da5\"><g class=\"clips\"/><clipPath id=\"legend2e6da5\"><rect width=\"144\" height=\"200\" x=\"0\" y=\"0\"/></clipPath></defs><g class=\"layer-above\"><g class=\"imagelayer\"/><g class=\"shapelayer\"/></g><g class=\"infolayer\"><g class=\"legend\" pointer-events=\"all\" transform=\"translate(544.1,100)\"><rect class=\"bg\" shape-rendering=\"crispEdges\" width=\"144\" height=\"200\" x=\"0\" y=\"0\" style=\"stroke: rgb(68, 68, 68); stroke-opacity: 1; fill: rgb(255, 255, 255); fill-opacity: 1; stroke-width: 0px;\"/><g class=\"scrollbox\" transform=\"\" clip-path=\"url(#legend2e6da5)\"><g class=\"groups\"><g class=\"traces\" transform=\"translate(0,14.5)\" style=\"opacity: 1;\"><text class=\"legendtext\" text-anchor=\"start\" x=\"40\" y=\"4.680000000000001\" style=\"font-family: 'Open Sans', verdana, arial, sans-serif; font-size: 12px; fill: rgb(42, 63, 95); fill-opacity: 1; white-space: pre;\">S_ac</text><g class=\"layers\" style=\"opacity: 1;\"><g class=\"legendfill\"/><g class=\"legendlines\"><path class=\"js-line\" d=\"M5,0h30\" style=\"fill: none; stroke: rgb(99, 110, 250); stroke-opacity: 1; stroke-width: 2px;\"/></g><g class=\"legendsymbols\"><g class=\"legendpoints\"/></g></g><rect class=\"legendtoggle\" x=\"0\" y=\"-9.5\" width=\"138.15625\" height=\"19\" style=\"fill: rgb(0, 0, 0); fill-opacity: 0;\"/></g><g class=\"traces\" transform=\"translate(0,33.5)\" style=\"opacity: 1;\"><text class=\"legendtext\" text-anchor=\"start\" x=\"40\" y=\"4.680000000000001\" style=\"font-family: 'Open Sans', verdana, arial, sans-serif; font-size: 12px; fill: rgb(42, 63, 95); fill-opacity: 1; white-space: pre;\">S_pro</text><g class=\"layers\" style=\"opacity: 1;\"><g class=\"legendfill\"/><g class=\"legendlines\"><path class=\"js-line\" d=\"M5,0h30\" style=\"fill: none; stroke: rgb(239, 85, 59); stroke-opacity: 1; stroke-width: 2px;\"/></g><g class=\"legendsymbols\"><g class=\"legendpoints\"/></g></g><rect class=\"legendtoggle\" x=\"0\" y=\"-9.5\" width=\"138.15625\" height=\"19\" style=\"fill: rgb(0, 0, 0); fill-opacity: 0;\"/></g><g class=\"traces\" transform=\"translate(0,52.5)\" style=\"opacity: 1;\"><text class=\"legendtext\" text-anchor=\"start\" x=\"40\" y=\"4.680000000000001\" style=\"font-family: 'Open Sans', verdana, arial, sans-serif; font-size: 12px; fill: rgb(42, 63, 95); fill-opacity: 1; white-space: pre;\">S_bu</text><g class=\"layers\" style=\"opacity: 1;\"><g class=\"legendfill\"/><g class=\"legendlines\"><path class=\"js-line\" d=\"M5,0h30\" style=\"fill: none; stroke: rgb(0, 204, 150); stroke-opacity: 1; stroke-width: 2px;\"/></g><g class=\"legendsymbols\"><g class=\"legendpoints\"/></g></g><rect class=\"legendtoggle\" x=\"0\" y=\"-9.5\" width=\"138.15625\" height=\"19\" style=\"fill: rgb(0, 0, 0); fill-opacity: 0;\"/></g><g class=\"traces\" transform=\"translate(0,71.5)\" style=\"opacity: 1;\"><text class=\"legendtext\" text-anchor=\"start\" x=\"40\" y=\"4.680000000000001\" style=\"font-family: 'Open Sans', verdana, arial, sans-serif; font-size: 12px; fill: rgb(42, 63, 95); fill-opacity: 1; white-space: pre;\">S_va</text><g class=\"layers\" style=\"opacity: 1;\"><g class=\"legendfill\"/><g class=\"legendlines\"><path class=\"js-line\" d=\"M5,0h30\" style=\"fill: none; stroke: rgb(171, 99, 250); stroke-opacity: 1; stroke-width: 2px;\"/></g><g class=\"legendsymbols\"><g class=\"legendpoints\"/></g></g><rect class=\"legendtoggle\" x=\"0\" y=\"-9.5\" width=\"138.15625\" height=\"19\" style=\"fill: rgb(0, 0, 0); fill-opacity: 0;\"/></g><g class=\"traces\" transform=\"translate(0,90.5)\" style=\"opacity: 1;\"><text class=\"legendtext\" text-anchor=\"start\" x=\"40\" y=\"4.680000000000001\" style=\"font-family: 'Open Sans', verdana, arial, sans-serif; font-size: 12px; fill: rgb(42, 63, 95); fill-opacity: 1; white-space: pre;\">S_cap</text><g class=\"layers\" style=\"opacity: 1;\"><g class=\"legendfill\"/><g class=\"legendlines\"><path class=\"js-line\" d=\"M5,0h30\" style=\"fill: none; stroke: rgb(255, 161, 90); stroke-opacity: 1; stroke-width: 2px;\"/></g><g class=\"legendsymbols\"><g class=\"legendpoints\"/></g></g><rect class=\"legendtoggle\" x=\"0\" y=\"-9.5\" width=\"138.15625\" height=\"19\" style=\"fill: rgb(0, 0, 0); fill-opacity: 0;\"/></g><g class=\"traces\" transform=\"translate(0,109.5)\" style=\"opacity: 1;\"><text class=\"legendtext\" text-anchor=\"start\" x=\"40\" y=\"4.680000000000001\" style=\"font-family: 'Open Sans', verdana, arial, sans-serif; font-size: 12px; fill: rgb(42, 63, 95); fill-opacity: 1; white-space: pre;\">S_ac Observed</text><g class=\"layers\" style=\"opacity: 1;\"><g class=\"legendfill\"/><g class=\"legendlines\"/><g class=\"legendsymbols\"><g class=\"legendpoints\"><path class=\"scatterpts\" transform=\"translate(20,0)\" d=\"M3,0A3,3 0 1,1 0,-3A3,3 0 0,1 3,0Z\" style=\"opacity: 1; stroke-width: 0px; fill: rgb(99, 110, 250); fill-opacity: 1;\"/></g></g></g><rect class=\"legendtoggle\" x=\"0\" y=\"-9.5\" width=\"138.15625\" height=\"19\" style=\"fill: rgb(0, 0, 0); fill-opacity: 0;\"/></g><g class=\"traces\" transform=\"translate(0,128.5)\" style=\"opacity: 1;\"><text class=\"legendtext\" text-anchor=\"start\" x=\"40\" y=\"4.680000000000001\" style=\"font-family: 'Open Sans', verdana, arial, sans-serif; font-size: 12px; fill: rgb(42, 63, 95); fill-opacity: 1; white-space: pre;\">S_pro Observed</text><g class=\"layers\" style=\"opacity: 1;\"><g class=\"legendfill\"/><g class=\"legendlines\"/><g class=\"legendsymbols\"><g class=\"legendpoints\"><path class=\"scatterpts\" transform=\"translate(20,0)\" d=\"M3,0A3,3 0 1,1 0,-3A3,3 0 0,1 3,0Z\" style=\"opacity: 1; stroke-width: 0px; fill: rgb(239, 85, 59); fill-opacity: 1;\"/></g></g></g><rect class=\"legendtoggle\" x=\"0\" y=\"-9.5\" width=\"138.15625\" height=\"19\" style=\"fill: rgb(0, 0, 0); fill-opacity: 0;\"/></g><g class=\"traces\" transform=\"translate(0,147.5)\" style=\"opacity: 1;\"><text class=\"legendtext\" text-anchor=\"start\" x=\"40\" y=\"4.680000000000001\" style=\"font-family: 'Open Sans', verdana, arial, sans-serif; font-size: 12px; fill: rgb(42, 63, 95); fill-opacity: 1; white-space: pre;\">S_bu Observed</text><g class=\"layers\" style=\"opacity: 1;\"><g class=\"legendfill\"/><g class=\"legendlines\"/><g class=\"legendsymbols\"><g class=\"legendpoints\"><path class=\"scatterpts\" transform=\"translate(20,0)\" d=\"M3,0A3,3 0 1,1 0,-3A3,3 0 0,1 3,0Z\" style=\"opacity: 1; stroke-width: 0px; fill: rgb(0, 204, 150); fill-opacity: 1;\"/></g></g></g><rect class=\"legendtoggle\" x=\"0\" y=\"-9.5\" width=\"138.15625\" height=\"19\" style=\"fill: rgb(0, 0, 0); fill-opacity: 0;\"/></g><g class=\"traces\" transform=\"translate(0,166.5)\" style=\"opacity: 1;\"><text class=\"legendtext\" text-anchor=\"start\" x=\"40\" y=\"4.680000000000001\" style=\"font-family: 'Open Sans', verdana, arial, sans-serif; font-size: 12px; fill: rgb(42, 63, 95); fill-opacity: 1; white-space: pre;\">S_va Observed</text><g class=\"layers\" style=\"opacity: 1;\"><g class=\"legendfill\"/><g class=\"legendlines\"/><g class=\"legendsymbols\"><g class=\"legendpoints\"><path class=\"scatterpts\" transform=\"translate(20,0)\" d=\"M3,0A3,3 0 1,1 0,-3A3,3 0 0,1 3,0Z\" style=\"opacity: 1; stroke-width: 0px; fill: rgb(171, 99, 250); fill-opacity: 1;\"/></g></g></g><rect class=\"legendtoggle\" x=\"0\" y=\"-9.5\" width=\"138.15625\" height=\"19\" style=\"fill: rgb(0, 0, 0); fill-opacity: 0;\"/></g><g class=\"traces\" transform=\"translate(0,185.5)\" style=\"opacity: 1;\"><text class=\"legendtext\" text-anchor=\"start\" x=\"40\" y=\"4.680000000000001\" style=\"font-family: 'Open Sans', verdana, arial, sans-serif; font-size: 12px; fill: rgb(42, 63, 95); fill-opacity: 1; white-space: pre;\">S_cap Observed</text><g class=\"layers\" style=\"opacity: 1;\"><g class=\"legendfill\"/><g class=\"legendlines\"/><g class=\"legendsymbols\"><g class=\"legendpoints\"><path class=\"scatterpts\" transform=\"translate(20,0)\" d=\"M3,0A3,3 0 1,1 0,-3A3,3 0 0,1 3,0Z\" style=\"opacity: 1; stroke-width: 0px; fill: rgb(255, 161, 90); fill-opacity: 1;\"/></g></g></g><rect class=\"legendtoggle\" x=\"0\" y=\"-9.5\" width=\"138.15625\" height=\"19\" style=\"fill: rgb(0, 0, 0); fill-opacity: 0;\"/></g></g></g><rect class=\"scrollbar\" rx=\"20\" ry=\"3\" width=\"0\" height=\"0\" x=\"0\" y=\"0\" style=\"fill: rgb(128, 139, 164); fill-opacity: 1;\"/></g><g class=\"g-gtitle\"/><g class=\"g-xtitle\"/><g class=\"g-ytitle\"/></g></svg>"
            ]
          },
          "metadata": {},
          "output_type": "display_data"
        },
        {
          "data": {
            "text/plain": [
              "({'model':           S_ac     S_pro      S_bu      S_va     S_cap\n",
              "  0.0   0.307648  0.280261  0.142472  0.114110  0.000000\n",
              "  1.7   1.044527  0.408528  0.803383  0.324552  0.012908\n",
              "  4.8   0.933922  0.799776  1.922303  0.195459  0.004044\n",
              "  10.7  1.063109  1.072778  2.013428  0.007434  0.000162\n",
              "  13.7  1.116155  1.092212  1.928606  0.003060  0.000096\n",
              "  20.7  1.229080  1.116163  1.695658  0.001984  0.000071\n",
              "  26.8  1.323522  1.131630  1.485957  0.001835  0.000066},\n",
              " Figure({\n",
              "     'data': [{'line': {'color': '#636EFA'},\n",
              "               'mode': 'lines',\n",
              "               'name': 'S_ac',\n",
              "               'type': 'scatter',\n",
              "               'x': array([ 0. ,  1.7,  4.8, 10.7, 13.7, 20.7, 26.8]),\n",
              "               'y': array([0.30764788, 1.04452742, 0.93392231, 1.06310939, 1.11615481, 1.22907987,\n",
              "                           1.32352243])},\n",
              "              {'line': {'color': '#EF553B'},\n",
              "               'mode': 'lines',\n",
              "               'name': 'S_pro',\n",
              "               'type': 'scatter',\n",
              "               'x': array([ 0. ,  1.7,  4.8, 10.7, 13.7, 20.7, 26.8]),\n",
              "               'y': array([0.28026119, 0.40852816, 0.79977588, 1.07277784, 1.09221243, 1.11616278,\n",
              "                           1.13162985])},\n",
              "              {'line': {'color': '#00CC96'},\n",
              "               'mode': 'lines',\n",
              "               'name': 'S_bu',\n",
              "               'type': 'scatter',\n",
              "               'x': array([ 0. ,  1.7,  4.8, 10.7, 13.7, 20.7, 26.8]),\n",
              "               'y': array([0.14247218, 0.80338302, 1.922303  , 2.01342789, 1.9286062 , 1.69565751,\n",
              "                           1.48595667])},\n",
              "              {'line': {'color': '#AB63FA'},\n",
              "               'mode': 'lines',\n",
              "               'name': 'S_va',\n",
              "               'type': 'scatter',\n",
              "               'x': array([ 0. ,  1.7,  4.8, 10.7, 13.7, 20.7, 26.8]),\n",
              "               'y': array([0.11410961, 0.32455201, 0.195459  , 0.00743387, 0.00306044, 0.00198439,\n",
              "                           0.00183463])},\n",
              "              {'line': {'color': '#FFA15A'},\n",
              "               'mode': 'lines',\n",
              "               'name': 'S_cap',\n",
              "               'type': 'scatter',\n",
              "               'x': array([ 0. ,  1.7,  4.8, 10.7, 13.7, 20.7, 26.8]),\n",
              "               'y': array([0.00000000e+00, 1.29077926e-02, 4.04441077e-03, 1.62019966e-04,\n",
              "                           9.64962632e-05, 7.14362557e-05, 6.63743049e-05])},\n",
              "              {'error_y': {'array': [0.026717833742116396, 0.0365398873951327,\n",
              "                                     0.1683013393841051, 0.27018328747430514,\n",
              "                                     0.20497435202011904, 0.06719301318008875,\n",
              "                                     0.19139717147471294],\n",
              "                           'color': '#636EFA',\n",
              "                           'type': 'data',\n",
              "                           'visible': True},\n",
              "               'marker': {'color': '#636EFA'},\n",
              "               'mode': 'markers',\n",
              "               'name': 'S_ac Observed',\n",
              "               'type': 'scatter',\n",
              "               'x': [0.0, 1.7, 4.8, 10.7, 13.7, 20.7, 26.8],\n",
              "               'y': [0.29089621546666666, 0.26042600604444444, 0.6456755168,\n",
              "                     1.2646695296, 1.0099548885333334, 1.3412311587555557,\n",
              "                     1.2832400010666667]},\n",
              "              {'error_y': {'array': [0.06590162371662928, 0.017212249730353617,\n",
              "                                     0.030662606154143644, 0.047803931373940095,\n",
              "                                     0.05075972096795777, 0.04720383105002051,\n",
              "                                     0.05735503365502063],\n",
              "                           'color': '#EF553B',\n",
              "                           'type': 'data',\n",
              "                           'visible': True},\n",
              "               'marker': {'color': '#EF553B'},\n",
              "               'mode': 'markers',\n",
              "               'name': 'S_pro Observed',\n",
              "               'type': 'scatter',\n",
              "               'x': [0.0, 1.7, 4.8, 10.7, 13.7, 20.7, 26.8],\n",
              "               'y': [0.14885143618018018, 0.26569226738738744, 0.3567523225945946,\n",
              "                     0.5358067896936937, 0.5009932232792793, 0.5582866446846847,\n",
              "                     0.5889500248648649]},\n",
              "              {'error_y': {'array': [0.04749072606060607, 0.17846079705772266,\n",
              "                                     0.22747053331755973, 0.3585259891135768,\n",
              "                                     0.39414228595637646, 0.33035247712749966,\n",
              "                                     0.4688776768436887],\n",
              "                           'color': '#00CC96',\n",
              "                           'type': 'data',\n",
              "                           'visible': True},\n",
              "               'marker': {'color': '#00CC96'},\n",
              "               'mode': 'markers',\n",
              "               'name': 'S_bu Observed',\n",
              "               'type': 'scatter',\n",
              "               'x': [0.0, 1.7, 4.8, 10.7, 13.7, 20.7, 26.8],\n",
              "               'y': [0.047490726060606066, 1.8664484169696969, 1.9382781842424246,\n",
              "                     2.1796198890909095, 2.0666459096969696, 2.026097427878788,\n",
              "                     2.246937703636364]},\n",
              "              {'error_y': {'array': [0.038036535163398694, 0.016740756791528883,\n",
              "                                     0.03645899695591707, 0.017464556192618316,\n",
              "                                     0.043593033345323745, 0.08708827265662322,\n",
              "                                     0.06262189788669621],\n",
              "                           'color': '#AB63FA',\n",
              "                           'type': 'data',\n",
              "                           'visible': True},\n",
              "               'marker': {'color': '#AB63FA'},\n",
              "               'mode': 'markers',\n",
              "               'name': 'S_va Observed',\n",
              "               'type': 'scatter',\n",
              "               'x': [0.0, 1.7, 4.8, 10.7, 13.7, 20.7, 26.8],\n",
              "               'y': [0.03803653516339869, 0.01845799477124183, 0.11828733850980393,\n",
              "                     0.23602826305882352, 0.25717614645751635, 0.26734522839215685,\n",
              "                     0.3006560402614379]},\n",
              "              {'error_y': {'array': [0.0, 0.0, 0.1698961427126437,\n",
              "                                     0.16171993566042733, 0.12294244965134878,\n",
              "                                     0.07375483730243201, 0.2012565737216273],\n",
              "                           'color': '#FFA15A',\n",
              "                           'type': 'data',\n",
              "                           'visible': True},\n",
              "               'marker': {'color': '#FFA15A'},\n",
              "               'mode': 'markers',\n",
              "               'name': 'S_cap Observed',\n",
              "               'type': 'scatter',\n",
              "               'x': [0.0, 1.7, 4.8, 10.7, 13.7, 20.7, 26.8],\n",
              "               'y': [0.0, 0.0, 0.16989614271264367, 0.5236881265287356,\n",
              "                     0.24086197406896556, 0.4787562813793104, 0.3591822705287357]}],\n",
              "     'layout': {'template': '...'}\n",
              " }))"
            ]
          },
          "execution_count": 138,
          "metadata": {},
          "output_type": "execute_result"
        }
      ],
      "source": [
        "optimize.validate_model(model=model,data=exp,plot=True)"
      ]
    }
  ],
  "metadata": {
    "colab": {
      "provenance": []
    },
    "kernelspec": {
      "display_name": "Python 3",
      "name": "python3"
    },
    "language_info": {
      "codemirror_mode": {
        "name": "ipython",
        "version": 3
      },
      "file_extension": ".py",
      "mimetype": "text/x-python",
      "name": "python",
      "nbconvert_exporter": "python",
      "pygments_lexer": "ipython3",
      "version": "3.10.6"
    }
  },
  "nbformat": 4,
  "nbformat_minor": 0
}
